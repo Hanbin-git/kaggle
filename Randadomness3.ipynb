{
  "metadata": {
    "kernelspec": {
      "language": "python",
      "display_name": "Python 3",
      "name": "python3"
    },
    "language_info": {
      "name": "python",
      "version": "3.10.12",
      "mimetype": "text/x-python",
      "codemirror_mode": {
        "name": "ipython",
        "version": 3
      },
      "pygments_lexer": "ipython3",
      "nbconvert_exporter": "python",
      "file_extension": ".py"
    },
    "kaggle": {
      "accelerator": "none",
      "dataSources": [
        {
          "sourceId": 87793,
          "databundleVersionId": 12276181,
          "isSourceIdPinned": false,
          "sourceType": "competition"
        },
        {
          "sourceId": 10855324,
          "sourceType": "datasetVersion",
          "datasetId": 6742586
        },
        {
          "sourceId": 11118830,
          "sourceType": "datasetVersion",
          "datasetId": 6933267
        },
        {
          "sourceId": 11830543,
          "sourceType": "datasetVersion",
          "datasetId": 7432215
        },
        {
          "sourceId": 11830789,
          "sourceType": "datasetVersion",
          "datasetId": 7432367
        },
        {
          "sourceId": 11831460,
          "sourceType": "datasetVersion",
          "datasetId": 7432831
        },
        {
          "sourceId": 11831882,
          "sourceType": "datasetVersion",
          "datasetId": 7433107
        },
        {
          "sourceId": 11833356,
          "sourceType": "datasetVersion",
          "datasetId": 7434181
        },
        {
          "sourceId": 224830487,
          "sourceType": "kernelVersion"
        }
      ],
      "dockerImageVersionId": 30919,
      "isInternetEnabled": false,
      "language": "python",
      "sourceType": "notebook",
      "isGpuEnabled": false
    },
    "colab": {
      "name": "Randadomness",
      "provenance": [],
      "include_colab_link": true
    }
  },
  "nbformat_minor": 0,
  "nbformat": 4,
  "cells": [
    {
      "cell_type": "markdown",
      "metadata": {
        "id": "view-in-github",
        "colab_type": "text"
      },
      "source": [
        "<a href=\"https://colab.research.google.com/github/Hanbin-git/kaggle/blob/main/Randadomness3.ipynb\" target=\"_parent\"><img src=\"https://colab.research.google.com/assets/colab-badge.svg\" alt=\"Open In Colab\"/></a>"
      ]
    },
    {
      "source": [
        "# IMPORTANT: SOME KAGGLE DATA SOURCES ARE PRIVATE\n",
        "# RUN THIS CELL IN ORDER TO IMPORT YOUR KAGGLE DATA SOURCES.\n",
        "import kagglehub\n",
        "kagglehub.login()\n"
      ],
      "metadata": {
        "id": "YUJENbEKZlve"
      },
      "cell_type": "code",
      "outputs": [],
      "execution_count": null
    },
    {
      "source": [
        "# IMPORTANT: RUN THIS CELL IN ORDER TO IMPORT YOUR KAGGLE DATA SOURCES,\n",
        "# THEN FEEL FREE TO DELETE THIS CELL.\n",
        "# NOTE: THIS NOTEBOOK ENVIRONMENT DIFFERS FROM KAGGLE'S PYTHON\n",
        "# ENVIRONMENT SO THERE MAY BE MISSING LIBRARIES USED BY YOUR\n",
        "# NOTEBOOK.\n",
        "\n",
        "stanford_rna_3d_folding_path = kagglehub.competition_download('stanford-rna-3d-folding')\n",
        "metric_usalign_path = kagglehub.dataset_download('metric/usalign')\n",
        "geraseva_protenix_checkpoints_path = kagglehub.dataset_download('geraseva/protenix-checkpoints')\n",
        "biniroun_protenix_packages_path = kagglehub.dataset_download('biniroun/protenix-packages')\n",
        "biniroun_linux_biowheels_310_path = kagglehub.dataset_download('biniroun/linux-biowheels-310')\n",
        "biniroun_linux_mlwhl_311_path = kagglehub.dataset_download('biniroun/linux-mlwhl-311')\n",
        "biniroun_protenix_main_path = kagglehub.dataset_download('biniroun/protenix-main')\n",
        "biniroun_rdkit_cp310_path = kagglehub.dataset_download('biniroun/rdkit-cp310')\n",
        "metric_ribonanza_tm_score_path = kagglehub.notebook_output_download('metric/ribonanza-tm-score')\n",
        "\n",
        "print('Data source import complete.')\n"
      ],
      "metadata": {
        "id": "RF3Ql1hiZlvf"
      },
      "cell_type": "code",
      "outputs": [],
      "execution_count": null
    },
    {
      "cell_type": "code",
      "source": [
        "flag = 1\n",
        "if flag == 1:\n",
        "    !pip install --no-index --find-links=/kaggle/input/linux-biowheels-310 biopython numpy\n",
        "    !pip install --no-index --find-links=/kaggle/input/linux-mlwhl-311 ml-collections contextlib2\n",
        "    !pip install --no-index --find-links=/kaggle/input/linux-biowheels-310 biopython\n",
        "    !pip install --no-index --find-links=/kaggle/input/rdkit-cp310 rdkit\n",
        "    !pip install --no-index --find-links=/kaggle/input/linux-mlwhl-311 biopython ml-collections contextlib2 rdkit\n",
        "    !pip install --no-index --find-links=/kaggle/input/linux-mlwhl-311 biotite\n",
        "    !pip install --no-index --find-links=/kaggle/input/linux-mlwhl-311 biopython ml-collections contextlib2 rdkit biotite\n"
      ],
      "metadata": {
        "trusted": true,
        "execution": {
          "iopub.status.busy": "2025-05-18T12:13:34.13682Z",
          "iopub.execute_input": "2025-05-18T12:13:34.137268Z",
          "iopub.status.idle": "2025-05-18T12:14:20.142501Z",
          "shell.execute_reply.started": "2025-05-18T12:13:34.137223Z",
          "shell.execute_reply": "2025-05-18T12:14:20.141Z"
        },
        "id": "IfMn66kZZlvg",
        "outputId": "81f32a69-49b2-40fb-b753-2b8ceed967d2"
      },
      "outputs": [
        {
          "name": "stdout",
          "text": "Looking in links: /kaggle/input/linux-biowheels-310\nProcessing /kaggle/input/linux-biowheels-310/biopython-1.81-cp310-cp310-manylinux_2_17_x86_64.manylinux2014_x86_64.whl\nRequirement already satisfied: numpy in /usr/local/lib/python3.10/dist-packages (1.26.4)\nRequirement already satisfied: mkl_fft in /usr/local/lib/python3.10/dist-packages (from numpy) (1.3.8)\nRequirement already satisfied: mkl_random in /usr/local/lib/python3.10/dist-packages (from numpy) (1.2.4)\nRequirement already satisfied: mkl_umath in /usr/local/lib/python3.10/dist-packages (from numpy) (0.1.1)\nRequirement already satisfied: mkl in /usr/local/lib/python3.10/dist-packages (from numpy) (2025.0.1)\nRequirement already satisfied: tbb4py in /usr/local/lib/python3.10/dist-packages (from numpy) (2022.0.0)\nRequirement already satisfied: mkl-service in /usr/local/lib/python3.10/dist-packages (from numpy) (2.4.1)\nRequirement already satisfied: intel-openmp>=2024 in /usr/local/lib/python3.10/dist-packages (from mkl->numpy) (2024.2.0)\nRequirement already satisfied: tbb==2022.* in /usr/local/lib/python3.10/dist-packages (from mkl->numpy) (2022.0.0)\nRequirement already satisfied: tcmlib==1.* in /usr/local/lib/python3.10/dist-packages (from tbb==2022.*->mkl->numpy) (1.2.0)\nRequirement already satisfied: intel-cmplr-lib-rt in /usr/local/lib/python3.10/dist-packages (from mkl_umath->numpy) (2024.2.0)\nRequirement already satisfied: intel-cmplr-lib-ur==2024.2.0 in /usr/local/lib/python3.10/dist-packages (from intel-openmp>=2024->mkl->numpy) (2024.2.0)\nInstalling collected packages: biopython\nSuccessfully installed biopython-1.81\nLooking in links: /kaggle/input/linux-mlwhl-311\nProcessing /kaggle/input/linux-mlwhl-311/ml_collections-0.1.0-py3-none-any.whl\nProcessing /kaggle/input/linux-mlwhl-311/contextlib2-21.6.0-py2.py3-none-any.whl\nRequirement already satisfied: absl-py in /usr/local/lib/python3.10/dist-packages (from ml-collections) (1.4.0)\nRequirement already satisfied: PyYAML in /usr/local/lib/python3.10/dist-packages (from ml-collections) (6.0.2)\nRequirement already satisfied: six in /usr/local/lib/python3.10/dist-packages (from ml-collections) (1.17.0)\nInstalling collected packages: contextlib2, ml-collections\nSuccessfully installed contextlib2-21.6.0 ml-collections-0.1.0\nLooking in links: /kaggle/input/linux-biowheels-310\nRequirement already satisfied: biopython in /usr/local/lib/python3.10/dist-packages (1.81)\nRequirement already satisfied: numpy in /usr/local/lib/python3.10/dist-packages (from biopython) (1.26.4)\nRequirement already satisfied: mkl_fft in /usr/local/lib/python3.10/dist-packages (from numpy->biopython) (1.3.8)\nRequirement already satisfied: mkl_random in /usr/local/lib/python3.10/dist-packages (from numpy->biopython) (1.2.4)\nRequirement already satisfied: mkl_umath in /usr/local/lib/python3.10/dist-packages (from numpy->biopython) (0.1.1)\nRequirement already satisfied: mkl in /usr/local/lib/python3.10/dist-packages (from numpy->biopython) (2025.0.1)\nRequirement already satisfied: tbb4py in /usr/local/lib/python3.10/dist-packages (from numpy->biopython) (2022.0.0)\nRequirement already satisfied: mkl-service in /usr/local/lib/python3.10/dist-packages (from numpy->biopython) (2.4.1)\nRequirement already satisfied: intel-openmp>=2024 in /usr/local/lib/python3.10/dist-packages (from mkl->numpy->biopython) (2024.2.0)\nRequirement already satisfied: tbb==2022.* in /usr/local/lib/python3.10/dist-packages (from mkl->numpy->biopython) (2022.0.0)\nRequirement already satisfied: tcmlib==1.* in /usr/local/lib/python3.10/dist-packages (from tbb==2022.*->mkl->numpy->biopython) (1.2.0)\nRequirement already satisfied: intel-cmplr-lib-rt in /usr/local/lib/python3.10/dist-packages (from mkl_umath->numpy->biopython) (2024.2.0)\nRequirement already satisfied: intel-cmplr-lib-ur==2024.2.0 in /usr/local/lib/python3.10/dist-packages (from intel-openmp>=2024->mkl->numpy->biopython) (2024.2.0)\nLooking in links: /kaggle/input/rdkit-cp310\nProcessing /kaggle/input/rdkit-cp310/rdkit-2024.3.1-cp310-cp310-manylinux_2_17_x86_64.manylinux2014_x86_64.whl\nRequirement already satisfied: numpy in /usr/local/lib/python3.10/dist-packages (from rdkit) (1.26.4)\nRequirement already satisfied: Pillow in /usr/local/lib/python3.10/dist-packages (from rdkit) (11.0.0)\nRequirement already satisfied: mkl_fft in /usr/local/lib/python3.10/dist-packages (from numpy->rdkit) (1.3.8)\nRequirement already satisfied: mkl_random in /usr/local/lib/python3.10/dist-packages (from numpy->rdkit) (1.2.4)\nRequirement already satisfied: mkl_umath in /usr/local/lib/python3.10/dist-packages (from numpy->rdkit) (0.1.1)\nRequirement already satisfied: mkl in /usr/local/lib/python3.10/dist-packages (from numpy->rdkit) (2025.0.1)\nRequirement already satisfied: tbb4py in /usr/local/lib/python3.10/dist-packages (from numpy->rdkit) (2022.0.0)\nRequirement already satisfied: mkl-service in /usr/local/lib/python3.10/dist-packages (from numpy->rdkit) (2.4.1)\nRequirement already satisfied: intel-openmp>=2024 in /usr/local/lib/python3.10/dist-packages (from mkl->numpy->rdkit) (2024.2.0)\nRequirement already satisfied: tbb==2022.* in /usr/local/lib/python3.10/dist-packages (from mkl->numpy->rdkit) (2022.0.0)\nRequirement already satisfied: tcmlib==1.* in /usr/local/lib/python3.10/dist-packages (from tbb==2022.*->mkl->numpy->rdkit) (1.2.0)\nRequirement already satisfied: intel-cmplr-lib-rt in /usr/local/lib/python3.10/dist-packages (from mkl_umath->numpy->rdkit) (2024.2.0)\nRequirement already satisfied: intel-cmplr-lib-ur==2024.2.0 in /usr/local/lib/python3.10/dist-packages (from intel-openmp>=2024->mkl->numpy->rdkit) (2024.2.0)\nInstalling collected packages: rdkit\nSuccessfully installed rdkit-2024.3.1\nLooking in links: /kaggle/input/linux-mlwhl-311\nRequirement already satisfied: biopython in /usr/local/lib/python3.10/dist-packages (1.81)\nRequirement already satisfied: ml-collections in /usr/local/lib/python3.10/dist-packages (0.1.0)\nRequirement already satisfied: contextlib2 in /usr/local/lib/python3.10/dist-packages (21.6.0)\nRequirement already satisfied: rdkit in /usr/local/lib/python3.10/dist-packages (2024.3.1)\nRequirement already satisfied: numpy in /usr/local/lib/python3.10/dist-packages (from biopython) (1.26.4)\nRequirement already satisfied: absl-py in /usr/local/lib/python3.10/dist-packages (from ml-collections) (1.4.0)\nRequirement already satisfied: PyYAML in /usr/local/lib/python3.10/dist-packages (from ml-collections) (6.0.2)\nRequirement already satisfied: six in /usr/local/lib/python3.10/dist-packages (from ml-collections) (1.17.0)\nRequirement already satisfied: Pillow in /usr/local/lib/python3.10/dist-packages (from rdkit) (11.0.0)\nRequirement already satisfied: mkl_fft in /usr/local/lib/python3.10/dist-packages (from numpy->biopython) (1.3.8)\nRequirement already satisfied: mkl_random in /usr/local/lib/python3.10/dist-packages (from numpy->biopython) (1.2.4)\nRequirement already satisfied: mkl_umath in /usr/local/lib/python3.10/dist-packages (from numpy->biopython) (0.1.1)\nRequirement already satisfied: mkl in /usr/local/lib/python3.10/dist-packages (from numpy->biopython) (2025.0.1)\nRequirement already satisfied: tbb4py in /usr/local/lib/python3.10/dist-packages (from numpy->biopython) (2022.0.0)\nRequirement already satisfied: mkl-service in /usr/local/lib/python3.10/dist-packages (from numpy->biopython) (2.4.1)\nRequirement already satisfied: intel-openmp>=2024 in /usr/local/lib/python3.10/dist-packages (from mkl->numpy->biopython) (2024.2.0)\nRequirement already satisfied: tbb==2022.* in /usr/local/lib/python3.10/dist-packages (from mkl->numpy->biopython) (2022.0.0)\nRequirement already satisfied: tcmlib==1.* in /usr/local/lib/python3.10/dist-packages (from tbb==2022.*->mkl->numpy->biopython) (1.2.0)\nRequirement already satisfied: intel-cmplr-lib-rt in /usr/local/lib/python3.10/dist-packages (from mkl_umath->numpy->biopython) (2024.2.0)\nRequirement already satisfied: intel-cmplr-lib-ur==2024.2.0 in /usr/local/lib/python3.10/dist-packages (from intel-openmp>=2024->mkl->numpy->biopython) (2024.2.0)\nLooking in links: /kaggle/input/linux-mlwhl-311\nProcessing /kaggle/input/linux-mlwhl-311/biotite-0.40.0-cp310-cp310-manylinux_2_17_x86_64.manylinux2014_x86_64.whl\nRequirement already satisfied: requests>=2.12 in /usr/local/lib/python3.10/dist-packages (from biotite) (2.32.3)\nRequirement already satisfied: numpy<=2.0,>=1.14.5 in /usr/local/lib/python3.10/dist-packages (from biotite) (1.26.4)\nRequirement already satisfied: msgpack>=0.5.6 in /usr/local/lib/python3.10/dist-packages (from biotite) (1.1.0)\nRequirement already satisfied: networkx>=2.0 in /usr/local/lib/python3.10/dist-packages (from biotite) (3.4.2)\nRequirement already satisfied: mkl_fft in /usr/local/lib/python3.10/dist-packages (from numpy<=2.0,>=1.14.5->biotite) (1.3.8)\nRequirement already satisfied: mkl_random in /usr/local/lib/python3.10/dist-packages (from numpy<=2.0,>=1.14.5->biotite) (1.2.4)\nRequirement already satisfied: mkl_umath in /usr/local/lib/python3.10/dist-packages (from numpy<=2.0,>=1.14.5->biotite) (0.1.1)\nRequirement already satisfied: mkl in /usr/local/lib/python3.10/dist-packages (from numpy<=2.0,>=1.14.5->biotite) (2025.0.1)\nRequirement already satisfied: tbb4py in /usr/local/lib/python3.10/dist-packages (from numpy<=2.0,>=1.14.5->biotite) (2022.0.0)\nRequirement already satisfied: mkl-service in /usr/local/lib/python3.10/dist-packages (from numpy<=2.0,>=1.14.5->biotite) (2.4.1)\nRequirement already satisfied: charset-normalizer<4,>=2 in /usr/local/lib/python3.10/dist-packages (from requests>=2.12->biotite) (3.4.1)\nRequirement already satisfied: idna<4,>=2.5 in /usr/local/lib/python3.10/dist-packages (from requests>=2.12->biotite) (3.10)\nRequirement already satisfied: urllib3<3,>=1.21.1 in /usr/local/lib/python3.10/dist-packages (from requests>=2.12->biotite) (2.3.0)\nRequirement already satisfied: certifi>=2017.4.17 in /usr/local/lib/python3.10/dist-packages (from requests>=2.12->biotite) (2025.1.31)\nRequirement already satisfied: intel-openmp>=2024 in /usr/local/lib/python3.10/dist-packages (from mkl->numpy<=2.0,>=1.14.5->biotite) (2024.2.0)\nRequirement already satisfied: tbb==2022.* in /usr/local/lib/python3.10/dist-packages (from mkl->numpy<=2.0,>=1.14.5->biotite) (2022.0.0)\nRequirement already satisfied: tcmlib==1.* in /usr/local/lib/python3.10/dist-packages (from tbb==2022.*->mkl->numpy<=2.0,>=1.14.5->biotite) (1.2.0)\nRequirement already satisfied: intel-cmplr-lib-rt in /usr/local/lib/python3.10/dist-packages (from mkl_umath->numpy<=2.0,>=1.14.5->biotite) (2024.2.0)\nRequirement already satisfied: intel-cmplr-lib-ur==2024.2.0 in /usr/local/lib/python3.10/dist-packages (from intel-openmp>=2024->mkl->numpy<=2.0,>=1.14.5->biotite) (2024.2.0)\nInstalling collected packages: biotite\nSuccessfully installed biotite-0.40.0\nLooking in links: /kaggle/input/linux-mlwhl-311\nRequirement already satisfied: biopython in /usr/local/lib/python3.10/dist-packages (1.81)\nRequirement already satisfied: ml-collections in /usr/local/lib/python3.10/dist-packages (0.1.0)\nRequirement already satisfied: contextlib2 in /usr/local/lib/python3.10/dist-packages (21.6.0)\nRequirement already satisfied: rdkit in /usr/local/lib/python3.10/dist-packages (2024.3.1)\nRequirement already satisfied: biotite in /usr/local/lib/python3.10/dist-packages (0.40.0)\nRequirement already satisfied: numpy in /usr/local/lib/python3.10/dist-packages (from biopython) (1.26.4)\nRequirement already satisfied: absl-py in /usr/local/lib/python3.10/dist-packages (from ml-collections) (1.4.0)\nRequirement already satisfied: PyYAML in /usr/local/lib/python3.10/dist-packages (from ml-collections) (6.0.2)\nRequirement already satisfied: six in /usr/local/lib/python3.10/dist-packages (from ml-collections) (1.17.0)\nRequirement already satisfied: Pillow in /usr/local/lib/python3.10/dist-packages (from rdkit) (11.0.0)\nRequirement already satisfied: requests>=2.12 in /usr/local/lib/python3.10/dist-packages (from biotite) (2.32.3)\nRequirement already satisfied: msgpack>=0.5.6 in /usr/local/lib/python3.10/dist-packages (from biotite) (1.1.0)\nRequirement already satisfied: networkx>=2.0 in /usr/local/lib/python3.10/dist-packages (from biotite) (3.4.2)\nRequirement already satisfied: mkl_fft in /usr/local/lib/python3.10/dist-packages (from numpy->biopython) (1.3.8)\nRequirement already satisfied: mkl_random in /usr/local/lib/python3.10/dist-packages (from numpy->biopython) (1.2.4)\nRequirement already satisfied: mkl_umath in /usr/local/lib/python3.10/dist-packages (from numpy->biopython) (0.1.1)\nRequirement already satisfied: mkl in /usr/local/lib/python3.10/dist-packages (from numpy->biopython) (2025.0.1)\nRequirement already satisfied: tbb4py in /usr/local/lib/python3.10/dist-packages (from numpy->biopython) (2022.0.0)\nRequirement already satisfied: mkl-service in /usr/local/lib/python3.10/dist-packages (from numpy->biopython) (2.4.1)\nRequirement already satisfied: charset-normalizer<4,>=2 in /usr/local/lib/python3.10/dist-packages (from requests>=2.12->biotite) (3.4.1)\nRequirement already satisfied: idna<4,>=2.5 in /usr/local/lib/python3.10/dist-packages (from requests>=2.12->biotite) (3.10)\nRequirement already satisfied: urllib3<3,>=1.21.1 in /usr/local/lib/python3.10/dist-packages (from requests>=2.12->biotite) (2.3.0)\nRequirement already satisfied: certifi>=2017.4.17 in /usr/local/lib/python3.10/dist-packages (from requests>=2.12->biotite) (2025.1.31)\nRequirement already satisfied: intel-openmp>=2024 in /usr/local/lib/python3.10/dist-packages (from mkl->numpy->biopython) (2024.2.0)\nRequirement already satisfied: tbb==2022.* in /usr/local/lib/python3.10/dist-packages (from mkl->numpy->biopython) (2022.0.0)\nRequirement already satisfied: tcmlib==1.* in /usr/local/lib/python3.10/dist-packages (from tbb==2022.*->mkl->numpy->biopython) (1.2.0)\nRequirement already satisfied: intel-cmplr-lib-rt in /usr/local/lib/python3.10/dist-packages (from mkl_umath->numpy->biopython) (2024.2.0)\nRequirement already satisfied: intel-cmplr-lib-ur==2024.2.0 in /usr/local/lib/python3.10/dist-packages (from intel-openmp>=2024->mkl->numpy->biopython) (2024.2.0)\n",
          "output_type": "stream"
        }
      ],
      "execution_count": null
    },
    {
      "cell_type": "code",
      "source": [
        "# 📌 기본 세팅\n",
        "import os, sys, numpy as np, pandas as pd, torch, warnings\n",
        "from tqdm import tqdm\n",
        "warnings.filterwarnings(\"ignore\")\n",
        "\n",
        "# 📌 GPU 설정\n",
        "device = torch.device(\"cuda\" if torch.cuda.is_available() else \"cpu\")\n",
        "print(f\"📌 Using device: {device}\")\n",
        "\n",
        "# 📌 USAlign 설정\n",
        "os.system(\"cp /kaggle/input/usalign/USalign /kaggle/working/\")\n",
        "os.system(\"chmod u+x /kaggle/working/USalign\")\n",
        "\n",
        "# 📌 Protenix 코드 등록\n",
        "sys.path.append(\"/kaggle/input/protenix-main\")\n",
        "sys.path.append(\"/kaggle/input/protenix-packages\")\n",
        "\n",
        "# 📌 데이터 로딩 및 병합 (v2 우선)\n",
        "seq_v1 = pd.read_csv(\"/kaggle/input/stanford-rna-3d-folding/train_sequences.csv\")\n",
        "seq_v2 = pd.read_csv(\"/kaggle/input/stanford-rna-3d-folding/train_sequences.v2.csv\")\n",
        "label_v1 = pd.read_csv(\"/kaggle/input/stanford-rna-3d-folding/train_labels.csv\")\n",
        "label_v2 = pd.read_csv(\"/kaggle/input/stanford-rna-3d-folding/train_labels.v2.csv\")\n",
        "\n",
        "seq_v1 = seq_v1[~seq_v1[\"target_id\"].isin(seq_v2[\"target_id\"])]\n",
        "label_v1 = label_v1[~label_v1[\"ID\"].str.extract(r\"^(.+)_\\d+$\")[0].isin(label_v2[\"ID\"].str.extract(r\"^(.+)_\\d+$\")[0])]\n",
        "\n",
        "merged_seq = pd.concat([seq_v2, seq_v1], ignore_index=True)\n",
        "merged_label = pd.concat([label_v2, label_v1], ignore_index=True)\n",
        "\n",
        "# 📌 입력 생성\n",
        "inputs = []\n",
        "for _, row in merged_seq.iterrows():\n",
        "    tid = row[\"target_id\"]\n",
        "    seq = row[\"sequence\"]\n",
        "    lbl = merged_label[merged_label[\"ID\"].str.startswith(tid + \"_\")].copy()\n",
        "    lbl.sort_values(\"resid\", inplace=True)\n",
        "    if len(lbl) != len(seq):\n",
        "        continue\n",
        "    coords = lbl[[\"x_1\", \"y_1\", \"z_1\"]].values.astype(np.float32)\n",
        "    inputs.append({\n",
        "        \"name\": tid,\n",
        "        \"sequences\": [{\n",
        "            \"rnaSequence\": {\"sequence\": seq, \"count\": 1},\n",
        "            \"coordinates\": coords.tolist()\n",
        "        }]\n",
        "    })\n",
        "print(f\"✅ 학습 가능한 시퀀스 수: {len(inputs)}\")\n",
        "\n",
        "# 📌 데이터셋 클래스 정의\n",
        "from protenix.data.infer_data_pipeline import InferenceDataset\n",
        "class TrainDataset(InferenceDataset):\n",
        "    def __init__(self, data_list, use_msa=False):\n",
        "        self.inputs = data_list\n",
        "        self.use_msa = use_msa\n",
        "        self.dump_dir = \"output\"\n",
        "\n",
        "dataset = TrainDataset(inputs)\n",
        "\n",
        "# 📌 모델 구성\n",
        "from runner.inference import update_inference_configs, InferenceRunner\n",
        "from configs.configs_base import configs as configs_base\n",
        "from configs.configs_data import data_configs\n",
        "from configs.configs_inference import inference_configs\n",
        "from protenix.config.config import parse_configs\n",
        "\n",
        "configs_base[\"model\"][\"N_cycle\"] = 10\n",
        "configs_base[\"model\"][\"use_ds4sci\"] = False  # ✅ CUTLASS 오류 방지\n",
        "configs_base[\"sample_diffusion\"][\"N_sample\"] = 5\n",
        "configs_base[\"sample_diffusion\"][\"N_step\"] = 200\n",
        "inference_configs[\"load_checkpoint_path\"] = \"/kaggle/input/protenix-checkpoints/model_v0.2.0.pt\"\n",
        "\n",
        "configs = {**configs_base, **{\"data\": data_configs}, **inference_configs}\n",
        "configs = parse_configs(configs=configs, fill_required_with_null=True)\n",
        "runner = InferenceRunner(configs)\n",
        "torch.cuda.empty_cache()\n",
        "\n",
        "# 📌 테스트셋 로딩\n",
        "test_df = pd.read_csv(\"/kaggle/input/stanford-rna-3d-folding/test_sequences.csv\")\n",
        "\n",
        "class TestDataset(InferenceDataset):\n",
        "    def __init__(self, seq_list, id_list):\n",
        "        self.use_msa = False\n",
        "        self.dump_dir = \"output\"\n",
        "        self.inputs = [{\n",
        "            \"sequences\": [{\"rnaSequence\": {\"sequence\": seq, \"count\": 1}}],\n",
        "            \"name\": i\n",
        "        } for i, seq in zip(id_list, seq_list)]\n",
        "\n",
        "test_dataset = TestDataset(test_df[\"sequence\"], test_df[\"target_id\"])\n",
        "\n",
        "# 📌 예측 및 제출 파일 생성\n",
        "with open(\"submission.csv\", \"w\") as f:\n",
        "    for i in tqdm(range(len(test_dataset))):\n",
        "        try:\n",
        "            data, atom_array, err_msg = test_dataset[i]\n",
        "            if err_msg:\n",
        "                raise Exception(err_msg)\n",
        "\n",
        "            runner.update_model_configs(update_inference_configs(configs, data[\"N_token\"].item()))\n",
        "            out = runner.predict(data)\n",
        "\n",
        "            if \"coordinate\" not in out:\n",
        "                raise Exception(\"❗ 'coordinate' key missing\")\n",
        "\n",
        "            coords = out[\"coordinate\"][:, data[\"input_feature_dict\"][\"atom_to_tokatom_idx\"] == 12]\n",
        "\n",
        "            result = []\n",
        "            for j, res in enumerate(data[\"sequences\"][0][\"rnaSequence\"][\"sequence\"]):\n",
        "                row = {\n",
        "                    \"ID\": f\"{data['sample_name']}_{j+1}\",\n",
        "                    \"resname\": res,\n",
        "                    \"resid\": j + 1,\n",
        "                }\n",
        "                for k in range(5):\n",
        "                    if k < coords.shape[0]:\n",
        "                        row.update({\n",
        "                            f\"x_{k+1}\": coords[k, j, 0],\n",
        "                            f\"y_{k+1}\": coords[k, j, 1],\n",
        "                            f\"z_{k+1}\": coords[k, j, 2],\n",
        "                        })\n",
        "                    else:\n",
        "                        row.update({f\"x_{k+1}\": 0.0, f\"y_{k+1}\": 0.0, f\"z_{k+1}\": 0.0})\n",
        "                result.append(row)\n",
        "\n",
        "            pd.DataFrame(result).to_csv(f, index=False, header=(i == 0))\n",
        "\n",
        "        except Exception as e:\n",
        "            print(f\"❌ Error at index {i}: {e}\")\n",
        "            continue\n",
        "\n",
        "print(\"✅ submission.csv 생성 완료 🎉\")\n"
      ],
      "metadata": {
        "trusted": true,
        "execution": {
          "iopub.status.busy": "2025-05-18T12:14:20.144444Z",
          "iopub.execute_input": "2025-05-18T12:14:20.144805Z",
          "iopub.status.idle": "2025-05-18T13:40:50.350177Z",
          "shell.execute_reply.started": "2025-05-18T12:14:20.14477Z",
          "shell.execute_reply": "2025-05-18T13:40:50.348195Z"
        },
        "id": "oru9Hb_YZlvi",
        "outputId": "a275f09a-4ec6-421a-df09-2dfa1981b205"
      },
      "outputs": [
        {
          "name": "stdout",
          "text": "📌 Using device: cpu\n✅ 학습 가능한 시퀀스 수: 5379\nTry to find the ccd cache data in the code directory for inference.\n",
          "output_type": "stream"
        },
        {
          "traceback": [
            "\u001b[0;31m---------------------------------------------------------------------------\u001b[0m",
            "\u001b[0;31mAssertionError\u001b[0m                            Traceback (most recent call last)",
            "\u001b[0;32m<ipython-input-2-77d5db54791c>\u001b[0m in \u001b[0;36m<cell line: 74>\u001b[0;34m()\u001b[0m\n\u001b[1;32m     72\u001b[0m \u001b[0mconfigs\u001b[0m \u001b[0;34m=\u001b[0m \u001b[0;34m{\u001b[0m\u001b[0;34m**\u001b[0m\u001b[0mconfigs_base\u001b[0m\u001b[0;34m,\u001b[0m \u001b[0;34m**\u001b[0m\u001b[0;34m{\u001b[0m\u001b[0;34m\"data\"\u001b[0m\u001b[0;34m:\u001b[0m \u001b[0mdata_configs\u001b[0m\u001b[0;34m}\u001b[0m\u001b[0;34m,\u001b[0m \u001b[0;34m**\u001b[0m\u001b[0minference_configs\u001b[0m\u001b[0;34m}\u001b[0m\u001b[0;34m\u001b[0m\u001b[0;34m\u001b[0m\u001b[0m\n\u001b[1;32m     73\u001b[0m \u001b[0mconfigs\u001b[0m \u001b[0;34m=\u001b[0m \u001b[0mparse_configs\u001b[0m\u001b[0;34m(\u001b[0m\u001b[0mconfigs\u001b[0m\u001b[0;34m=\u001b[0m\u001b[0mconfigs\u001b[0m\u001b[0;34m,\u001b[0m \u001b[0mfill_required_with_null\u001b[0m\u001b[0;34m=\u001b[0m\u001b[0;32mTrue\u001b[0m\u001b[0;34m)\u001b[0m\u001b[0;34m\u001b[0m\u001b[0;34m\u001b[0m\u001b[0m\n\u001b[0;32m---> 74\u001b[0;31m \u001b[0mrunner\u001b[0m \u001b[0;34m=\u001b[0m \u001b[0mInferenceRunner\u001b[0m\u001b[0;34m(\u001b[0m\u001b[0mconfigs\u001b[0m\u001b[0;34m)\u001b[0m\u001b[0;34m\u001b[0m\u001b[0;34m\u001b[0m\u001b[0m\n\u001b[0m\u001b[1;32m     75\u001b[0m \u001b[0mtorch\u001b[0m\u001b[0;34m.\u001b[0m\u001b[0mcuda\u001b[0m\u001b[0;34m.\u001b[0m\u001b[0mempty_cache\u001b[0m\u001b[0;34m(\u001b[0m\u001b[0;34m)\u001b[0m\u001b[0;34m\u001b[0m\u001b[0;34m\u001b[0m\u001b[0m\n\u001b[1;32m     76\u001b[0m \u001b[0;34m\u001b[0m\u001b[0m\n",
            "\u001b[0;32m/kaggle/input/protenix-main/runner/inference.py\u001b[0m in \u001b[0;36m__init__\u001b[0;34m(self, configs)\u001b[0m\n\u001b[1;32m     43\u001b[0m     \u001b[0;32mdef\u001b[0m \u001b[0m__init__\u001b[0m\u001b[0;34m(\u001b[0m\u001b[0mself\u001b[0m\u001b[0;34m,\u001b[0m \u001b[0mconfigs\u001b[0m\u001b[0;34m:\u001b[0m \u001b[0mAny\u001b[0m\u001b[0;34m)\u001b[0m \u001b[0;34m->\u001b[0m \u001b[0;32mNone\u001b[0m\u001b[0;34m:\u001b[0m\u001b[0;34m\u001b[0m\u001b[0;34m\u001b[0m\u001b[0m\n\u001b[1;32m     44\u001b[0m         \u001b[0mself\u001b[0m\u001b[0;34m.\u001b[0m\u001b[0mconfigs\u001b[0m \u001b[0;34m=\u001b[0m \u001b[0mconfigs\u001b[0m\u001b[0;34m\u001b[0m\u001b[0;34m\u001b[0m\u001b[0m\n\u001b[0;32m---> 45\u001b[0;31m         \u001b[0mself\u001b[0m\u001b[0;34m.\u001b[0m\u001b[0minit_env\u001b[0m\u001b[0;34m(\u001b[0m\u001b[0;34m)\u001b[0m\u001b[0;34m\u001b[0m\u001b[0;34m\u001b[0m\u001b[0m\n\u001b[0m\u001b[1;32m     46\u001b[0m         \u001b[0mself\u001b[0m\u001b[0;34m.\u001b[0m\u001b[0minit_basics\u001b[0m\u001b[0;34m(\u001b[0m\u001b[0;34m)\u001b[0m\u001b[0;34m\u001b[0m\u001b[0;34m\u001b[0m\u001b[0m\n\u001b[1;32m     47\u001b[0m         \u001b[0mself\u001b[0m\u001b[0;34m.\u001b[0m\u001b[0minit_model\u001b[0m\u001b[0;34m(\u001b[0m\u001b[0;34m)\u001b[0m\u001b[0;34m\u001b[0m\u001b[0;34m\u001b[0m\u001b[0m\n",
            "\u001b[0;32m/kaggle/input/protenix-main/runner/inference.py\u001b[0m in \u001b[0;36minit_env\u001b[0;34m(self)\u001b[0m\n\u001b[1;32m     75\u001b[0m             \u001b[0mself\u001b[0m\u001b[0;34m.\u001b[0m\u001b[0mprint\u001b[0m\u001b[0;34m(\u001b[0m\u001b[0;34mf\"env: {env}\"\u001b[0m\u001b[0;34m)\u001b[0m\u001b[0;34m\u001b[0m\u001b[0;34m\u001b[0m\u001b[0m\n\u001b[1;32m     76\u001b[0m             assert (\n\u001b[0;32m---> 77\u001b[0;31m                 \u001b[0menv\u001b[0m \u001b[0;32mis\u001b[0m \u001b[0;32mnot\u001b[0m \u001b[0;32mNone\u001b[0m\u001b[0;34m\u001b[0m\u001b[0;34m\u001b[0m\u001b[0m\n\u001b[0m\u001b[1;32m     78\u001b[0m             ), \"if use ds4sci, set `CUTLASS_PATH` env as https://www.deepspeed.ai/tutorials/ds4sci_evoformerattention/\"\n\u001b[1;32m     79\u001b[0m             \u001b[0;32mif\u001b[0m \u001b[0menv\u001b[0m \u001b[0;32mis\u001b[0m \u001b[0;32mnot\u001b[0m \u001b[0;32mNone\u001b[0m\u001b[0;34m:\u001b[0m\u001b[0;34m\u001b[0m\u001b[0;34m\u001b[0m\u001b[0m\n",
            "\u001b[0;31mAssertionError\u001b[0m: if use ds4sci, set `CUTLASS_PATH` env as https://www.deepspeed.ai/tutorials/ds4sci_evoformerattention/"
          ],
          "ename": "AssertionError",
          "evalue": "if use ds4sci, set `CUTLASS_PATH` env as https://www.deepspeed.ai/tutorials/ds4sci_evoformerattention/",
          "output_type": "error"
        }
      ],
      "execution_count": null
    }
  ]
}