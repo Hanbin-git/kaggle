{
  "metadata": {
    "kernelspec": {
      "language": "python",
      "display_name": "Python 3",
      "name": "python3"
    },
    "language_info": {
      "name": "python",
      "version": "3.11.11",
      "mimetype": "text/x-python",
      "codemirror_mode": {
        "name": "ipython",
        "version": 3
      },
      "pygments_lexer": "ipython3",
      "nbconvert_exporter": "python",
      "file_extension": ".py"
    },
    "kaggle": {
      "accelerator": "none",
      "dataSources": [
        {
          "sourceId": 87793,
          "databundleVersionId": 12024591,
          "isSourceIdPinned": false,
          "sourceType": "competition"
        },
        {
          "sourceId": 11740963,
          "sourceType": "datasetVersion",
          "datasetId": 7370491
        },
        {
          "sourceId": 11741261,
          "sourceType": "datasetVersion",
          "datasetId": 7370645
        },
        {
          "sourceId": 11741853,
          "sourceType": "datasetVersion",
          "datasetId": 7370944
        },
        {
          "sourceId": 11741945,
          "sourceType": "datasetVersion",
          "datasetId": 7370995
        },
        {
          "sourceId": 142566306,
          "sourceType": "kernelVersion"
        },
        {
          "sourceId": 231852865,
          "sourceType": "kernelVersion"
        }
      ],
      "dockerImageVersionId": 31012,
      "isInternetEnabled": true,
      "language": "python",
      "sourceType": "notebook",
      "isGpuEnabled": false
    },
    "colab": {
      "name": "notebook5b0ac32689",
      "provenance": [],
      "include_colab_link": true
    }
  },
  "nbformat_minor": 0,
  "nbformat": 4,
  "cells": [
    {
      "cell_type": "markdown",
      "metadata": {
        "id": "view-in-github",
        "colab_type": "text"
      },
      "source": [
        "<a href=\"https://colab.research.google.com/github/Hanbin-git/kaggle/blob/main/notebook5b0ac32689.ipynb\" target=\"_parent\"><img src=\"https://colab.research.google.com/assets/colab-badge.svg\" alt=\"Open In Colab\"/></a>"
      ]
    },
    {
      "source": [
        "# IMPORTANT: SOME KAGGLE DATA SOURCES ARE PRIVATE\n",
        "# RUN THIS CELL IN ORDER TO IMPORT YOUR KAGGLE DATA SOURCES.\n",
        "import kagglehub\n",
        "kagglehub.login()\n"
      ],
      "metadata": {
        "id": "tFHp0ZI3gcFv"
      },
      "cell_type": "code",
      "outputs": [],
      "execution_count": null
    },
    {
      "source": [
        "# IMPORTANT: RUN THIS CELL IN ORDER TO IMPORT YOUR KAGGLE DATA SOURCES,\n",
        "# THEN FEEL FREE TO DELETE THIS CELL.\n",
        "# NOTE: THIS NOTEBOOK ENVIRONMENT DIFFERS FROM KAGGLE'S PYTHON\n",
        "# ENVIRONMENT SO THERE MAY BE MISSING LIBRARIES USED BY YOUR\n",
        "# NOTEBOOK.\n",
        "\n",
        "stanford_rna_3d_folding_path = kagglehub.competition_download('stanford-rna-3d-folding')\n",
        "biniroun_my_protenix_checkpoint_path = kagglehub.dataset_download('biniroun/my-protenix-checkpoint')\n",
        "biniroun_componetns_path = kagglehub.dataset_download('biniroun/componetns')\n",
        "biniroun_components_path = kagglehub.dataset_download('biniroun/components')\n",
        "biniroun_componetns20250509_path = kagglehub.dataset_download('biniroun/componetns20250509')\n",
        "iafoss_rna_starter_0_186_lb_path = kagglehub.notebook_output_download('iafoss/rna-starter-0-186-lb')\n",
        "ishgirwan_protenix_inference_path = kagglehub.notebook_output_download('ishgirwan/protenix-inference')\n",
        "\n",
        "print('Data source import complete.')\n"
      ],
      "metadata": {
        "id": "UvYK1dD3gcF4"
      },
      "cell_type": "code",
      "outputs": [],
      "execution_count": null
    },
    {
      "cell_type": "code",
      "source": [
        "# This Python 3 environment comes with many helpful analytics libraries installed\n",
        "# It is defined by the kaggle/python Docker image: https://github.com/kaggle/docker-python\n",
        "# For example, here's several helpful packages to load\n",
        "\n",
        "import numpy as np # linear algebra\n",
        "import pandas as pd # data processing, CSV file I/O (e.g. pd.read_csv)\n",
        "\n",
        "# Input data files are available in the read-only \"../input/\" directory\n",
        "# For example, running this (by clicking run or pressing Shift+Enter) will list all files under the input directory\n",
        "\n",
        "import os\n",
        "for dirname, _, filenames in os.walk('/kaggle/input'):\n",
        "    for filename in filenames:\n",
        "        print(os.path.join(dirname, filename))\n",
        "\n",
        "# You can write up to 20GB to the current directory (/kaggle/working/) that gets preserved as output when you create a version using \"Save & Run All\"\n",
        "# You can also write temporary files to /kaggle/temp/, but they won't be saved outside of the current session"
      ],
      "metadata": {
        "_uuid": "8f2839f25d086af736a60e9eeb907d3b93b6e0e5",
        "_cell_guid": "b1076dfc-b9ad-4769-8c92-a6c4dae69d19",
        "trusted": true,
        "execution": {
          "iopub.status.busy": "2025-05-09T04:55:36.530501Z",
          "iopub.execute_input": "2025-05-09T04:55:36.531046Z",
          "iopub.status.idle": "2025-05-09T04:55:36.587833Z",
          "shell.execute_reply.started": "2025-05-09T04:55:36.531009Z",
          "shell.execute_reply": "2025-05-09T04:55:36.586757Z"
        },
        "id": "FoQty7uigcF6",
        "outputId": "37f15aea-38e6-4460-ef70-685d3930ce0b"
      },
      "outputs": [
        {
          "name": "stdout",
          "text": "/kaggle/input/protenix-inference/__results__.html\n/kaggle/input/protenix-inference/__huggingface_repos__.json\n/kaggle/input/protenix-inference/submission.csv\n/kaggle/input/protenix-inference/__notebook__.ipynb\n/kaggle/input/protenix-inference/__output__.json\n/kaggle/input/protenix-inference/custom.css\n/kaggle/input/protenix-inference/output/R1107/seed_42/predictions/R1107_seed_42_sample_2.cif\n/kaggle/input/protenix-inference/output/R1107/seed_42/predictions/R1107_seed_42_summary_confidence_sample_3.json\n/kaggle/input/protenix-inference/output/R1107/seed_42/predictions/R1107_seed_42_summary_confidence_sample_0.json\n/kaggle/input/protenix-inference/output/R1107/seed_42/predictions/R1107_seed_42_sample_4.cif\n/kaggle/input/protenix-inference/output/R1107/seed_42/predictions/R1107_seed_42_summary_confidence_sample_1.json\n/kaggle/input/protenix-inference/output/R1107/seed_42/predictions/R1107_seed_42_sample_1.cif\n/kaggle/input/protenix-inference/output/R1107/seed_42/predictions/R1107_seed_42_summary_confidence_sample_4.json\n/kaggle/input/protenix-inference/output/R1107/seed_42/predictions/R1107_seed_42_sample_3.cif\n/kaggle/input/protenix-inference/output/R1107/seed_42/predictions/R1107_seed_42_summary_confidence_sample_2.json\n/kaggle/input/protenix-inference/output/R1107/seed_42/predictions/R1107_seed_42_sample_0.cif\n/kaggle/input/protenix-inference/output/R1108/seed_42/predictions/R1108_seed_42_sample_0.cif\n/kaggle/input/protenix-inference/output/R1108/seed_42/predictions/R1108_seed_42_summary_confidence_sample_2.json\n/kaggle/input/protenix-inference/output/R1108/seed_42/predictions/R1108_seed_42_sample_4.cif\n/kaggle/input/protenix-inference/output/R1108/seed_42/predictions/R1108_seed_42_sample_2.cif\n/kaggle/input/protenix-inference/output/R1108/seed_42/predictions/R1108_seed_42_summary_confidence_sample_3.json\n/kaggle/input/protenix-inference/output/R1108/seed_42/predictions/R1108_seed_42_summary_confidence_sample_4.json\n/kaggle/input/protenix-inference/output/R1108/seed_42/predictions/R1108_seed_42_summary_confidence_sample_0.json\n/kaggle/input/protenix-inference/output/R1108/seed_42/predictions/R1108_seed_42_sample_1.cif\n/kaggle/input/protenix-inference/output/R1108/seed_42/predictions/R1108_seed_42_sample_3.cif\n/kaggle/input/protenix-inference/output/R1108/seed_42/predictions/R1108_seed_42_summary_confidence_sample_1.json\n/kaggle/input/protenix-inference/output/R1117v2/seed_42/predictions/R1117v2_seed_42_sample_4.cif\n/kaggle/input/protenix-inference/output/R1117v2/seed_42/predictions/R1117v2_seed_42_summary_confidence_sample_2.json\n/kaggle/input/protenix-inference/output/R1117v2/seed_42/predictions/R1117v2_seed_42_sample_0.cif\n/kaggle/input/protenix-inference/output/R1117v2/seed_42/predictions/R1117v2_seed_42_summary_confidence_sample_0.json\n/kaggle/input/protenix-inference/output/R1117v2/seed_42/predictions/R1117v2_seed_42_summary_confidence_sample_1.json\n/kaggle/input/protenix-inference/output/R1117v2/seed_42/predictions/R1117v2_seed_42_summary_confidence_sample_4.json\n/kaggle/input/protenix-inference/output/R1117v2/seed_42/predictions/R1117v2_seed_42_sample_1.cif\n/kaggle/input/protenix-inference/output/R1117v2/seed_42/predictions/R1117v2_seed_42_sample_3.cif\n/kaggle/input/protenix-inference/output/R1117v2/seed_42/predictions/R1117v2_seed_42_summary_confidence_sample_3.json\n/kaggle/input/protenix-inference/output/R1117v2/seed_42/predictions/R1117v2_seed_42_sample_2.cif\n/kaggle/input/protenix-inference/output/R1156/seed_42/predictions/R1156_seed_42_summary_confidence_sample_1.json\n/kaggle/input/protenix-inference/output/R1156/seed_42/predictions/R1156_seed_42_sample_0.cif\n/kaggle/input/protenix-inference/output/R1156/seed_42/predictions/R1156_seed_42_sample_1.cif\n/kaggle/input/protenix-inference/output/R1156/seed_42/predictions/R1156_seed_42_sample_2.cif\n/kaggle/input/protenix-inference/output/R1156/seed_42/predictions/R1156_seed_42_sample_3.cif\n/kaggle/input/protenix-inference/output/R1156/seed_42/predictions/R1156_seed_42_summary_confidence_sample_4.json\n/kaggle/input/protenix-inference/output/R1156/seed_42/predictions/R1156_seed_42_summary_confidence_sample_2.json\n/kaggle/input/protenix-inference/output/R1156/seed_42/predictions/R1156_seed_42_sample_4.cif\n/kaggle/input/protenix-inference/output/R1156/seed_42/predictions/R1156_seed_42_summary_confidence_sample_3.json\n/kaggle/input/protenix-inference/output/R1156/seed_42/predictions/R1156_seed_42_summary_confidence_sample_0.json\n/kaggle/input/protenix-inference/output/R1136/seed_42/predictions/R1136_seed_42_summary_confidence_sample_3.json\n/kaggle/input/protenix-inference/output/R1136/seed_42/predictions/R1136_seed_42_sample_4.cif\n/kaggle/input/protenix-inference/output/R1136/seed_42/predictions/R1136_seed_42_sample_2.cif\n/kaggle/input/protenix-inference/output/R1136/seed_42/predictions/R1136_seed_42_summary_confidence_sample_4.json\n/kaggle/input/protenix-inference/output/R1136/seed_42/predictions/R1136_seed_42_sample_1.cif\n/kaggle/input/protenix-inference/output/R1136/seed_42/predictions/R1136_seed_42_sample_3.cif\n/kaggle/input/protenix-inference/output/R1136/seed_42/predictions/R1136_seed_42_summary_confidence_sample_0.json\n/kaggle/input/protenix-inference/output/R1136/seed_42/predictions/R1136_seed_42_summary_confidence_sample_1.json\n/kaggle/input/protenix-inference/output/R1136/seed_42/predictions/R1136_seed_42_sample_0.cif\n/kaggle/input/protenix-inference/output/R1136/seed_42/predictions/R1136_seed_42_summary_confidence_sample_2.json\n/kaggle/input/protenix-inference/output/R1126/seed_42/predictions/R1126_seed_42_sample_2.cif\n/kaggle/input/protenix-inference/output/R1126/seed_42/predictions/R1126_seed_42_summary_confidence_sample_3.json\n/kaggle/input/protenix-inference/output/R1126/seed_42/predictions/R1126_seed_42_summary_confidence_sample_0.json\n/kaggle/input/protenix-inference/output/R1126/seed_42/predictions/R1126_seed_42_summary_confidence_sample_4.json\n/kaggle/input/protenix-inference/output/R1126/seed_42/predictions/R1126_seed_42_sample_3.cif\n/kaggle/input/protenix-inference/output/R1126/seed_42/predictions/R1126_seed_42_summary_confidence_sample_1.json\n/kaggle/input/protenix-inference/output/R1126/seed_42/predictions/R1126_seed_42_sample_1.cif\n/kaggle/input/protenix-inference/output/R1126/seed_42/predictions/R1126_seed_42_sample_0.cif\n/kaggle/input/protenix-inference/output/R1126/seed_42/predictions/R1126_seed_42_summary_confidence_sample_2.json\n/kaggle/input/protenix-inference/output/R1126/seed_42/predictions/R1126_seed_42_sample_4.cif\n/kaggle/input/protenix-inference/output/R1116/seed_42/predictions/R1116_seed_42_sample_1.cif\n/kaggle/input/protenix-inference/output/R1116/seed_42/predictions/R1116_seed_42_sample_4.cif\n/kaggle/input/protenix-inference/output/R1116/seed_42/predictions/R1116_seed_42_sample_0.cif\n/kaggle/input/protenix-inference/output/R1116/seed_42/predictions/R1116_seed_42_summary_confidence_sample_1.json\n/kaggle/input/protenix-inference/output/R1116/seed_42/predictions/R1116_seed_42_sample_3.cif\n/kaggle/input/protenix-inference/output/R1116/seed_42/predictions/R1116_seed_42_sample_2.cif\n/kaggle/input/protenix-inference/output/R1116/seed_42/predictions/R1116_seed_42_summary_confidence_sample_3.json\n/kaggle/input/protenix-inference/output/R1116/seed_42/predictions/R1116_seed_42_summary_confidence_sample_4.json\n/kaggle/input/protenix-inference/output/R1116/seed_42/predictions/R1116_seed_42_summary_confidence_sample_0.json\n/kaggle/input/protenix-inference/output/R1116/seed_42/predictions/R1116_seed_42_summary_confidence_sample_2.json\n/kaggle/input/protenix-inference/output/R1138/seed_42/predictions/R1138_seed_42_sample_0.cif\n/kaggle/input/protenix-inference/output/R1138/seed_42/predictions/R1138_seed_42_sample_1.cif\n/kaggle/input/protenix-inference/output/R1138/seed_42/predictions/R1138_seed_42_summary_confidence_sample_4.json\n/kaggle/input/protenix-inference/output/R1138/seed_42/predictions/R1138_seed_42_sample_2.cif\n/kaggle/input/protenix-inference/output/R1138/seed_42/predictions/R1138_seed_42_sample_4.cif\n/kaggle/input/protenix-inference/output/R1138/seed_42/predictions/R1138_seed_42_summary_confidence_sample_0.json\n/kaggle/input/protenix-inference/output/R1138/seed_42/predictions/R1138_seed_42_summary_confidence_sample_1.json\n/kaggle/input/protenix-inference/output/R1138/seed_42/predictions/R1138_seed_42_summary_confidence_sample_3.json\n/kaggle/input/protenix-inference/output/R1138/seed_42/predictions/R1138_seed_42_sample_3.cif\n/kaggle/input/protenix-inference/output/R1138/seed_42/predictions/R1138_seed_42_summary_confidence_sample_2.json\n/kaggle/input/protenix-inference/output/R1128/seed_42/predictions/R1128_seed_42_sample_0.cif\n/kaggle/input/protenix-inference/output/R1128/seed_42/predictions/R1128_seed_42_sample_3.cif\n/kaggle/input/protenix-inference/output/R1128/seed_42/predictions/R1128_seed_42_summary_confidence_sample_4.json\n/kaggle/input/protenix-inference/output/R1128/seed_42/predictions/R1128_seed_42_summary_confidence_sample_2.json\n/kaggle/input/protenix-inference/output/R1128/seed_42/predictions/R1128_seed_42_summary_confidence_sample_1.json\n/kaggle/input/protenix-inference/output/R1128/seed_42/predictions/R1128_seed_42_summary_confidence_sample_0.json\n/kaggle/input/protenix-inference/output/R1128/seed_42/predictions/R1128_seed_42_sample_4.cif\n/kaggle/input/protenix-inference/output/R1128/seed_42/predictions/R1128_seed_42_summary_confidence_sample_3.json\n/kaggle/input/protenix-inference/output/R1128/seed_42/predictions/R1128_seed_42_sample_1.cif\n/kaggle/input/protenix-inference/output/R1128/seed_42/predictions/R1128_seed_42_sample_2.cif\n/kaggle/input/protenix-inference/output/R1190/seed_42/predictions/R1190_seed_42_summary_confidence_sample_2.json\n/kaggle/input/protenix-inference/output/R1190/seed_42/predictions/R1190_seed_42_sample_2.cif\n/kaggle/input/protenix-inference/output/R1190/seed_42/predictions/R1190_seed_42_summary_confidence_sample_1.json\n/kaggle/input/protenix-inference/output/R1190/seed_42/predictions/R1190_seed_42_summary_confidence_sample_4.json\n/kaggle/input/protenix-inference/output/R1190/seed_42/predictions/R1190_seed_42_sample_1.cif\n/kaggle/input/protenix-inference/output/R1190/seed_42/predictions/R1190_seed_42_sample_3.cif\n/kaggle/input/protenix-inference/output/R1190/seed_42/predictions/R1190_seed_42_summary_confidence_sample_3.json\n/kaggle/input/protenix-inference/output/R1190/seed_42/predictions/R1190_seed_42_summary_confidence_sample_0.json\n/kaggle/input/protenix-inference/output/R1190/seed_42/predictions/R1190_seed_42_sample_4.cif\n/kaggle/input/protenix-inference/output/R1190/seed_42/predictions/R1190_seed_42_sample_0.cif\n/kaggle/input/protenix-inference/output/R1149/seed_42/predictions/R1149_seed_42_sample_1.cif\n/kaggle/input/protenix-inference/output/R1149/seed_42/predictions/R1149_seed_42_summary_confidence_sample_2.json\n/kaggle/input/protenix-inference/output/R1149/seed_42/predictions/R1149_seed_42_summary_confidence_sample_3.json\n/kaggle/input/protenix-inference/output/R1149/seed_42/predictions/R1149_seed_42_sample_2.cif\n/kaggle/input/protenix-inference/output/R1149/seed_42/predictions/R1149_seed_42_summary_confidence_sample_1.json\n/kaggle/input/protenix-inference/output/R1149/seed_42/predictions/R1149_seed_42_sample_0.cif\n/kaggle/input/protenix-inference/output/R1149/seed_42/predictions/R1149_seed_42_summary_confidence_sample_0.json\n/kaggle/input/protenix-inference/output/R1149/seed_42/predictions/R1149_seed_42_summary_confidence_sample_4.json\n/kaggle/input/protenix-inference/output/R1149/seed_42/predictions/R1149_seed_42_sample_4.cif\n/kaggle/input/protenix-inference/output/R1149/seed_42/predictions/R1149_seed_42_sample_3.cif\n/kaggle/input/protenix-inference/output/R1189/seed_42/predictions/R1189_seed_42_sample_3.cif\n/kaggle/input/protenix-inference/output/R1189/seed_42/predictions/R1189_seed_42_summary_confidence_sample_0.json\n/kaggle/input/protenix-inference/output/R1189/seed_42/predictions/R1189_seed_42_summary_confidence_sample_3.json\n/kaggle/input/protenix-inference/output/R1189/seed_42/predictions/R1189_seed_42_sample_4.cif\n/kaggle/input/protenix-inference/output/R1189/seed_42/predictions/R1189_seed_42_summary_confidence_sample_1.json\n/kaggle/input/protenix-inference/output/R1189/seed_42/predictions/R1189_seed_42_summary_confidence_sample_4.json\n/kaggle/input/protenix-inference/output/R1189/seed_42/predictions/R1189_seed_42_sample_2.cif\n/kaggle/input/protenix-inference/output/R1189/seed_42/predictions/R1189_seed_42_sample_1.cif\n/kaggle/input/protenix-inference/output/R1189/seed_42/predictions/R1189_seed_42_summary_confidence_sample_2.json\n/kaggle/input/protenix-inference/output/R1189/seed_42/predictions/R1189_seed_42_sample_0.cif\n/kaggle/input/protenix-inference/input/R1189_input.json\n/kaggle/input/protenix-inference/input/R1136_input.json\n/kaggle/input/protenix-inference/input/R1117v2_input.json\n/kaggle/input/protenix-inference/input/R1138_input.json\n/kaggle/input/protenix-inference/input/R1190_input.json\n/kaggle/input/protenix-inference/input/R1126_input.json\n/kaggle/input/protenix-inference/input/R1149_input.json\n/kaggle/input/protenix-inference/input/R1108_input.json\n/kaggle/input/protenix-inference/input/R1107_input.json\n/kaggle/input/protenix-inference/input/R1156_input.json\n/kaggle/input/protenix-inference/input/R1116_input.json\n/kaggle/input/protenix-inference/input/R1128_input.json\n/kaggle/input/stanford-rna-3d-folding/sample_submission.csv\n/kaggle/input/stanford-rna-3d-folding/validation_sequences.csv\n/kaggle/input/stanford-rna-3d-folding/test_sequences.csv\n/kaggle/input/stanford-rna-3d-folding/train_labels.v2.csv\n/kaggle/input/stanford-rna-3d-folding/validation_labels.csv\n/kaggle/input/stanford-rna-3d-folding/train_labels.csv\n/kaggle/input/stanford-rna-3d-folding/train_sequences.csv\n/kaggle/input/stanford-rna-3d-folding/train_sequences.v2.csv\n/kaggle/input/stanford-rna-3d-folding/MSA/R1108.MSA.fasta\n/kaggle/input/stanford-rna-3d-folding/MSA/8EVR_EC.MSA.fasta\n/kaggle/input/stanford-rna-3d-folding/MSA/1ZDI_S.MSA.fasta\n/kaggle/input/stanford-rna-3d-folding/MSA/5FJ1_H.MSA.fasta\n/kaggle/input/stanford-rna-3d-folding/MSA/2NBY_A.MSA.fasta\n/kaggle/input/stanford-rna-3d-folding/MSA/3DEG_J.MSA.fasta\n/kaggle/input/stanford-rna-3d-folding/MSA/2M21_A.MSA.fasta\n/kaggle/input/stanford-rna-3d-folding/MSA/8U3M_A.MSA.fasta\n/kaggle/input/stanford-rna-3d-folding/MSA/2OM7_F.MSA.fasta\n/kaggle/input/stanford-rna-3d-folding/MSA/1ZC8_G.MSA.fasta\n/kaggle/input/stanford-rna-3d-folding/MSA/6WW6_C.MSA.fasta\n/kaggle/input/stanford-rna-3d-folding/MSA/1FJE_A.MSA.fasta\n/kaggle/input/stanford-rna-3d-folding/MSA/2R1G_E.MSA.fasta\n/kaggle/input/stanford-rna-3d-folding/MSA/2K5Z_A.MSA.fasta\n/kaggle/input/stanford-rna-3d-folding/MSA/8T29_R.MSA.fasta\n/kaggle/input/stanford-rna-3d-folding/MSA/7NK4_D.MSA.fasta\n/kaggle/input/stanford-rna-3d-folding/MSA/6AWD_A.MSA.fasta\n/kaggle/input/stanford-rna-3d-folding/MSA/2M8K_A.MSA.fasta\n/kaggle/input/stanford-rna-3d-folding/MSA/6WW6_F.MSA.fasta\n/kaggle/input/stanford-rna-3d-folding/MSA/3JD5_A.MSA.fasta\n/kaggle/input/stanford-rna-3d-folding/MSA/2LP9_A.MSA.fasta\n/kaggle/input/stanford-rna-3d-folding/MSA/6WB0_C.MSA.fasta\n/kaggle/input/stanford-rna-3d-folding/MSA/7M57_ii.MSA.fasta\n/kaggle/input/stanford-rna-3d-folding/MSA/6CYT_N.MSA.fasta\n/kaggle/input/stanford-rna-3d-folding/MSA/2L2J_A.MSA.fasta\n/kaggle/input/stanford-rna-3d-folding/MSA/7ZAP_B.MSA.fasta\n/kaggle/input/stanford-rna-3d-folding/MSA/1NYB_B.MSA.fasta\n/kaggle/input/stanford-rna-3d-folding/MSA/2O33_A.MSA.fasta\n/kaggle/input/stanford-rna-3d-folding/MSA/5A18_A.MSA.fasta\n/kaggle/input/stanford-rna-3d-folding/MSA/2DU5_D.MSA.fasta\n/kaggle/input/stanford-rna-3d-folding/MSA/2K66_A.MSA.fasta\n/kaggle/input/stanford-rna-3d-folding/MSA/2LKR_A.MSA.fasta\n/kaggle/input/stanford-rna-3d-folding/MSA/4V4N_A1.MSA.fasta\n/kaggle/input/stanford-rna-3d-folding/MSA/8BTZ_A.MSA.fasta\n/kaggle/input/stanford-rna-3d-folding/MSA/6U79_A.MSA.fasta\n/kaggle/input/stanford-rna-3d-folding/MSA/1BZ2_A.MSA.fasta\n/kaggle/input/stanford-rna-3d-folding/MSA/1K4A_A.MSA.fasta\n/kaggle/input/stanford-rna-3d-folding/MSA/2RPT_A.MSA.fasta\n/kaggle/input/stanford-rna-3d-folding/MSA/7SHX_A.MSA.fasta\n/kaggle/input/stanford-rna-3d-folding/MSA/2N4L_A.MSA.fasta\n/kaggle/input/stanford-rna-3d-folding/MSA/4V6X_A7.MSA.fasta\n/kaggle/input/stanford-rna-3d-folding/MSA/2KRL_A.MSA.fasta\n/kaggle/input/stanford-rna-3d-folding/MSA/5Y36_B.MSA.fasta\n/kaggle/input/stanford-rna-3d-folding/MSA/6XRZ_A.MSA.fasta\n/kaggle/input/stanford-rna-3d-folding/MSA/8K8B_A.MSA.fasta\n/kaggle/input/stanford-rna-3d-folding/MSA/7DLZ_Y.MSA.fasta\n/kaggle/input/stanford-rna-3d-folding/MSA/1XWP_A.MSA.fasta\n/kaggle/input/stanford-rna-3d-folding/MSA/1FQZ_A.MSA.fasta\n/kaggle/input/stanford-rna-3d-folding/MSA/2L6I_A.MSA.fasta\n/kaggle/input/stanford-rna-3d-folding/MSA/3A2K_C.MSA.fasta\n/kaggle/input/stanford-rna-3d-folding/MSA/4V5G_BB.MSA.fasta\n/kaggle/input/stanford-rna-3d-folding/MSA/2KUW_A.MSA.fasta\n/kaggle/input/stanford-rna-3d-folding/MSA/2IHX_B.MSA.fasta\n/kaggle/input/stanford-rna-3d-folding/MSA/7UGA_A.MSA.fasta\n/kaggle/input/stanford-rna-3d-folding/MSA/2MTJ_A.MSA.fasta\n/kaggle/input/stanford-rna-3d-folding/MSA/2K4C_A.MSA.fasta\n/kaggle/input/stanford-rna-3d-folding/MSA/6SY6_D.MSA.fasta\n/kaggle/input/stanford-rna-3d-folding/MSA/5XBL_B.MSA.fasta\n/kaggle/input/stanford-rna-3d-folding/MSA/2MHI_A.MSA.fasta\n/kaggle/input/stanford-rna-3d-folding/MSA/1YSH_F.MSA.fasta\n/kaggle/input/stanford-rna-3d-folding/MSA/2OM7_J.MSA.fasta\n/kaggle/input/stanford-rna-3d-folding/MSA/8QO5_A.MSA.fasta\n/kaggle/input/stanford-rna-3d-folding/MSA/9EOW_A.MSA.fasta\n/kaggle/input/stanford-rna-3d-folding/MSA/1MT4_A.MSA.fasta\n/kaggle/input/stanford-rna-3d-folding/MSA/6DU5_B.MSA.fasta\n/kaggle/input/stanford-rna-3d-folding/MSA/4OQ9_3.MSA.fasta\n/kaggle/input/stanford-rna-3d-folding/MSA/2K95_A.MSA.fasta\n/kaggle/input/stanford-rna-3d-folding/MSA/6BZ7_QW.MSA.fasta\n/kaggle/input/stanford-rna-3d-folding/MSA/2KUR_A.MSA.fasta\n/kaggle/input/stanford-rna-3d-folding/MSA/7ORM_H.MSA.fasta\n/kaggle/input/stanford-rna-3d-folding/MSA/2GIO_A.MSA.fasta\n/kaggle/input/stanford-rna-3d-folding/MSA/9ENF_C.MSA.fasta\n/kaggle/input/stanford-rna-3d-folding/MSA/6XWW_A.MSA.fasta\n/kaggle/input/stanford-rna-3d-folding/MSA/2NOQ_B.MSA.fasta\n/kaggle/input/stanford-rna-3d-folding/MSA/1TXS_A.MSA.fasta\n/kaggle/input/stanford-rna-3d-folding/MSA/2OJ8_A.MSA.fasta\n/kaggle/input/stanford-rna-3d-folding/MSA/2ESE_B.MSA.fasta\n/kaggle/input/stanford-rna-3d-folding/MSA/1YMO_A.MSA.fasta\n/kaggle/input/stanford-rna-3d-folding/MSA/7M2T_ss.MSA.fasta\n/kaggle/input/stanford-rna-3d-folding/MSA/8T3F_EC.MSA.fasta\n/kaggle/input/stanford-rna-3d-folding/MSA/1SZY_A.MSA.fasta\n/kaggle/input/stanford-rna-3d-folding/MSA/1HS1_A.MSA.fasta\n/kaggle/input/stanford-rna-3d-folding/MSA/2MQT_A.MSA.fasta\n/kaggle/input/stanford-rna-3d-folding/MSA/1BVJ_A.MSA.fasta\n/kaggle/input/stanford-rna-3d-folding/MSA/9CF3_W.MSA.fasta\n/kaggle/input/stanford-rna-3d-folding/MSA/6NOA_A.MSA.fasta\n/kaggle/input/stanford-rna-3d-folding/MSA/1AQO_A.MSA.fasta\n/kaggle/input/stanford-rna-3d-folding/MSA/8UYJ_A.MSA.fasta\n/kaggle/input/stanford-rna-3d-folding/MSA/4V9B_CD.MSA.fasta\n/kaggle/input/stanford-rna-3d-folding/MSA/6WLK_A.MSA.fasta\n/kaggle/input/stanford-rna-3d-folding/MSA/2FEY_A.MSA.fasta\n/kaggle/input/stanford-rna-3d-folding/MSA/2R93_R.MSA.fasta\n/kaggle/input/stanford-rna-3d-folding/MSA/4V5Z_BU.MSA.fasta\n/kaggle/input/stanford-rna-3d-folding/MSA/17RA_A.MSA.fasta\n/kaggle/input/stanford-rna-3d-folding/MSA/8OPT_D.MSA.fasta\n/kaggle/input/stanford-rna-3d-folding/MSA/5KH8_A.MSA.fasta\n/kaggle/input/stanford-rna-3d-folding/MSA/8T2O_R.MSA.fasta\n/kaggle/input/stanford-rna-3d-folding/MSA/7A01_e2.MSA.fasta\n/kaggle/input/stanford-rna-3d-folding/MSA/8QO4_A.MSA.fasta\n/kaggle/input/stanford-rna-3d-folding/MSA/8PM4_B.MSA.fasta\n/kaggle/input/stanford-rna-3d-folding/MSA/3EP2_C.MSA.fasta\n/kaggle/input/stanford-rna-3d-folding/MSA/3IZ4_A.MSA.fasta\n/kaggle/input/stanford-rna-3d-folding/MSA/6ZVK_e2.MSA.fasta\n/kaggle/input/stanford-rna-3d-folding/MSA/7S36_R.MSA.fasta\n/kaggle/input/stanford-rna-3d-folding/MSA/2NCI_A.MSA.fasta\n/kaggle/input/stanford-rna-3d-folding/MSA/2ADT_A.MSA.fasta\n/kaggle/input/stanford-rna-3d-folding/MSA/1MME_D.MSA.fasta\n/kaggle/input/stanford-rna-3d-folding/MSA/7URM_v.MSA.fasta\n/kaggle/input/stanford-rna-3d-folding/MSA/5FMZ_V.MSA.fasta\n/kaggle/input/stanford-rna-3d-folding/MSA/6ZVK_h2.MSA.fasta\n/kaggle/input/stanford-rna-3d-folding/MSA/2MFF_B.MSA.fasta\n/kaggle/input/stanford-rna-3d-folding/MSA/8T2Y_tA.MSA.fasta\n/kaggle/input/stanford-rna-3d-folding/MSA/3JQ4_B.MSA.fasta\n/kaggle/input/stanford-rna-3d-folding/MSA/1YLG_A.MSA.fasta\n/kaggle/input/stanford-rna-3d-folding/MSA/8GAP_B.MSA.fasta\n/kaggle/input/stanford-rna-3d-folding/MSA/6AHU_A.MSA.fasta\n/kaggle/input/stanford-rna-3d-folding/MSA/6IV6_G.MSA.fasta\n/kaggle/input/stanford-rna-3d-folding/MSA/1FFK_9.MSA.fasta\n/kaggle/input/stanford-rna-3d-folding/MSA/1R2W_C.MSA.fasta\n/kaggle/input/stanford-rna-3d-folding/MSA/6NM9_G.MSA.fasta\n/kaggle/input/stanford-rna-3d-folding/MSA/3UZS_C.MSA.fasta\n/kaggle/input/stanford-rna-3d-folding/MSA/2MFG_D.MSA.fasta\n/kaggle/input/stanford-rna-3d-folding/MSA/1JO7_A.MSA.fasta\n/kaggle/input/stanford-rna-3d-folding/MSA/1ZC8_Z.MSA.fasta\n/kaggle/input/stanford-rna-3d-folding/MSA/2N8V_X.MSA.fasta\n/kaggle/input/stanford-rna-3d-folding/MSA/7S4U_B.MSA.fasta\n/kaggle/input/stanford-rna-3d-folding/MSA/2R1G_X.MSA.fasta\n/kaggle/input/stanford-rna-3d-folding/MSA/1QZC_B.MSA.fasta\n/kaggle/input/stanford-rna-3d-folding/MSA/2BQ5_S.MSA.fasta\n/kaggle/input/stanford-rna-3d-folding/MSA/3AKZ_H.MSA.fasta\n/kaggle/input/stanford-rna-3d-folding/MSA/7WB1_D.MSA.fasta\n/kaggle/input/stanford-rna-3d-folding/MSA/4YVJ_C.MSA.fasta\n/kaggle/input/stanford-rna-3d-folding/MSA/8H6E_5A.MSA.fasta\n/kaggle/input/stanford-rna-3d-folding/MSA/8YGJ_B.MSA.fasta\n/kaggle/input/stanford-rna-3d-folding/MSA/1Q75_A.MSA.fasta\n/kaggle/input/stanford-rna-3d-folding/MSA/7LYS_B.MSA.fasta\n/kaggle/input/stanford-rna-3d-folding/MSA/8UYP_A.MSA.fasta\n/kaggle/input/stanford-rna-3d-folding/MSA/1F9L_A.MSA.fasta\n/kaggle/input/stanford-rna-3d-folding/MSA/1QFQ_A.MSA.fasta\n/kaggle/input/stanford-rna-3d-folding/MSA/6C4H_x.MSA.fasta\n/kaggle/input/stanford-rna-3d-folding/MSA/1A60_A.MSA.fasta\n/kaggle/input/stanford-rna-3d-folding/MSA/8DC2_B.MSA.fasta\n/kaggle/input/stanford-rna-3d-folding/MSA/8XCA_B.MSA.fasta\n/kaggle/input/stanford-rna-3d-folding/MSA/1ATO_A.MSA.fasta\n/kaggle/input/stanford-rna-3d-folding/MSA/2ZJQ_X.MSA.fasta\n/kaggle/input/stanford-rna-3d-folding/MSA/4DR5_W.MSA.fasta\n/kaggle/input/stanford-rna-3d-folding/MSA/7ELE_G.MSA.fasta\n/kaggle/input/stanford-rna-3d-folding/MSA/2OM3_R.MSA.fasta\n/kaggle/input/stanford-rna-3d-folding/MSA/5V93_a.MSA.fasta\n/kaggle/input/stanford-rna-3d-folding/MSA/1FOQ_A.MSA.fasta\n/kaggle/input/stanford-rna-3d-folding/MSA/1YSH_B.MSA.fasta\n/kaggle/input/stanford-rna-3d-folding/MSA/8T2A_R.MSA.fasta\n/kaggle/input/stanford-rna-3d-folding/MSA/1TLR_A.MSA.fasta\n/kaggle/input/stanford-rna-3d-folding/MSA/1F6Z_A.MSA.fasta\n/kaggle/input/stanford-rna-3d-folding/MSA/2FDT_A.MSA.fasta\n/kaggle/input/stanford-rna-3d-folding/MSA/1BAU_B.MSA.fasta\n/kaggle/input/stanford-rna-3d-folding/MSA/1ATW_A.MSA.fasta\n/kaggle/input/stanford-rna-3d-folding/MSA/4TZP_C.MSA.fasta\n/kaggle/input/stanford-rna-3d-folding/MSA/6MXQ_A.MSA.fasta\n/kaggle/input/stanford-rna-3d-folding/MSA/1S34_A.MSA.fasta\n/kaggle/input/stanford-rna-3d-folding/MSA/6EVJ_V.MSA.fasta\n/kaggle/input/stanford-rna-3d-folding/MSA/2M12_A.MSA.fasta\n/kaggle/input/stanford-rna-3d-folding/MSA/4V7E_Ab.MSA.fasta\n/kaggle/input/stanford-rna-3d-folding/MSA/1M5L_A.MSA.fasta\n/kaggle/input/stanford-rna-3d-folding/MSA/2DET_C.MSA.fasta\n/kaggle/input/stanford-rna-3d-folding/MSA/2J28_8.MSA.fasta\n/kaggle/input/stanford-rna-3d-folding/MSA/7ORJ_H.MSA.fasta\n/kaggle/input/stanford-rna-3d-folding/MSA/2M57_A.MSA.fasta\n/kaggle/input/stanford-rna-3d-folding/MSA/7ZRS_6.MSA.fasta\n/kaggle/input/stanford-rna-3d-folding/MSA/6AH3_T.MSA.fasta\n/kaggle/input/stanford-rna-3d-folding/MSA/7B9V_5.MSA.fasta\n/kaggle/input/stanford-rna-3d-folding/MSA/2LBL_A.MSA.fasta\n/kaggle/input/stanford-rna-3d-folding/MSA/4V6U_A0.MSA.fasta\n/kaggle/input/stanford-rna-3d-folding/MSA/2L3E_A.MSA.fasta\n/kaggle/input/stanford-rna-3d-folding/MSA/1KKA_A.MSA.fasta\n/kaggle/input/stanford-rna-3d-folding/MSA/6FHI_V.MSA.fasta\n/kaggle/input/stanford-rna-3d-folding/MSA/8JTJ_B.MSA.fasta\n/kaggle/input/stanford-rna-3d-folding/MSA/6OSI_RB.MSA.fasta\n/kaggle/input/stanford-rna-3d-folding/MSA/2J28_A.MSA.fasta\n/kaggle/input/stanford-rna-3d-folding/MSA/2RVO_A.MSA.fasta\n/kaggle/input/stanford-rna-3d-folding/MSA/5MC6_m.MSA.fasta\n/kaggle/input/stanford-rna-3d-folding/MSA/2A9L_A.MSA.fasta\n/kaggle/input/stanford-rna-3d-folding/MSA/4ZT9_D.MSA.fasta\n/kaggle/input/stanford-rna-3d-folding/MSA/6KUT_V.MSA.fasta\n/kaggle/input/stanford-rna-3d-folding/MSA/1R7W_A.MSA.fasta\n/kaggle/input/stanford-rna-3d-folding/MSA/2MI0_A.MSA.fasta\n/kaggle/input/stanford-rna-3d-folding/MSA/2LUN_A.MSA.fasta\n/kaggle/input/stanford-rna-3d-folding/MSA/2R1G_B.MSA.fasta\n/kaggle/input/stanford-rna-3d-folding/MSA/1E4P_A.MSA.fasta\n/kaggle/input/stanford-rna-3d-folding/MSA/7B9V_2.MSA.fasta\n/kaggle/input/stanford-rna-3d-folding/MSA/5MC6_n.MSA.fasta\n/kaggle/input/stanford-rna-3d-folding/MSA/8P0G_V.MSA.fasta\n/kaggle/input/stanford-rna-3d-folding/MSA/R1156.MSA.fasta\n/kaggle/input/stanford-rna-3d-folding/MSA/1EBQ_A.MSA.fasta\n/kaggle/input/stanford-rna-3d-folding/MSA/7LHD_A.MSA.fasta\n/kaggle/input/stanford-rna-3d-folding/MSA/1X18_B.MSA.fasta\n/kaggle/input/stanford-rna-3d-folding/MSA/4V5Z_BA.MSA.fasta\n/kaggle/input/stanford-rna-3d-folding/MSA/6OJ2_QY.MSA.fasta\n/kaggle/input/stanford-rna-3d-folding/MSA/2NC0_A.MSA.fasta\n/kaggle/input/stanford-rna-3d-folding/MSA/7KUD_A.MSA.fasta\n/kaggle/input/stanford-rna-3d-folding/MSA/7JRS_B.MSA.fasta\n/kaggle/input/stanford-rna-3d-folding/MSA/7MSF_S.MSA.fasta\n/kaggle/input/stanford-rna-3d-folding/MSA/8KAI_I.MSA.fasta\n/kaggle/input/stanford-rna-3d-folding/MSA/2JPP_C.MSA.fasta\n/kaggle/input/stanford-rna-3d-folding/MSA/8C9C_A.MSA.fasta\n/kaggle/input/stanford-rna-3d-folding/MSA/3PHP_A.MSA.fasta\n/kaggle/input/stanford-rna-3d-folding/MSA/8KAM_A.MSA.fasta\n/kaggle/input/stanford-rna-3d-folding/MSA/1RNG_A.MSA.fasta\n/kaggle/input/stanford-rna-3d-folding/MSA/1IK1_A.MSA.fasta\n/kaggle/input/stanford-rna-3d-folding/MSA/2IXY_A.MSA.fasta\n/kaggle/input/stanford-rna-3d-folding/MSA/7LMB_B.MSA.fasta\n/kaggle/input/stanford-rna-3d-folding/MSA/2NR0_E.MSA.fasta\n/kaggle/input/stanford-rna-3d-folding/MSA/1R4H_A.MSA.fasta\n/kaggle/input/stanford-rna-3d-folding/MSA/1P6V_D.MSA.fasta\n/kaggle/input/stanford-rna-3d-folding/MSA/2OM7_G.MSA.fasta\n/kaggle/input/stanford-rna-3d-folding/MSA/1P6V_B.MSA.fasta\n/kaggle/input/stanford-rna-3d-folding/MSA/3A3A_A.MSA.fasta\n/kaggle/input/stanford-rna-3d-folding/MSA/2KE6_A.MSA.fasta\n/kaggle/input/stanford-rna-3d-folding/MSA/6WD9_2.MSA.fasta\n/kaggle/input/stanford-rna-3d-folding/MSA/8URY_d.MSA.fasta\n/kaggle/input/stanford-rna-3d-folding/MSA/2QH3_A.MSA.fasta\n/kaggle/input/stanford-rna-3d-folding/MSA/2NOQ_A.MSA.fasta\n/kaggle/input/stanford-rna-3d-folding/MSA/2LBS_A.MSA.fasta\n/kaggle/input/stanford-rna-3d-folding/MSA/1IBM_Y.MSA.fasta\n/kaggle/input/stanford-rna-3d-folding/MSA/4V4N_B1.MSA.fasta\n/kaggle/input/stanford-rna-3d-folding/MSA/7VTN_B.MSA.fasta\n/kaggle/input/stanford-rna-3d-folding/MSA/1ZN1_B.MSA.fasta\n/kaggle/input/stanford-rna-3d-folding/MSA/2MNC_A.MSA.fasta\n/kaggle/input/stanford-rna-3d-folding/MSA/8UYL_A.MSA.fasta\n/kaggle/input/stanford-rna-3d-folding/MSA/8E79_R.MSA.fasta\n/kaggle/input/stanford-rna-3d-folding/MSA/2EVY_A.MSA.fasta\n/kaggle/input/stanford-rna-3d-folding/MSA/2XXA_F.MSA.fasta\n/kaggle/input/stanford-rna-3d-folding/MSA/1K5I_A.MSA.fasta\n/kaggle/input/stanford-rna-3d-folding/MSA/4V65_BB.MSA.fasta\n/kaggle/input/stanford-rna-3d-folding/MSA/7SAM_A.MSA.fasta\n/kaggle/input/stanford-rna-3d-folding/MSA/8H69_5.MSA.fasta\n/kaggle/input/stanford-rna-3d-folding/MSA/7ZPQ_6.MSA.fasta\n/kaggle/input/stanford-rna-3d-folding/MSA/7PTL_B.MSA.fasta\n/kaggle/input/stanford-rna-3d-folding/MSA/2L3C_B.MSA.fasta\n/kaggle/input/stanford-rna-3d-folding/MSA/4V6W_A8.MSA.fasta\n/kaggle/input/stanford-rna-3d-folding/MSA/7D8C_B.MSA.fasta\n/kaggle/input/stanford-rna-3d-folding/MSA/2N7X_A.MSA.fasta\n/kaggle/input/stanford-rna-3d-folding/MSA/4ILM_M.MSA.fasta\n/kaggle/input/stanford-rna-3d-folding/MSA/8WT7_F.MSA.fasta\n/kaggle/input/stanford-rna-3d-folding/MSA/3HAY_E.MSA.fasta\n/kaggle/input/stanford-rna-3d-folding/MSA/8IEW_B.MSA.fasta\n/kaggle/input/stanford-rna-3d-folding/MSA/6S0X_B.MSA.fasta\n/kaggle/input/stanford-rna-3d-folding/MSA/1XWU_A.MSA.fasta\n/kaggle/input/stanford-rna-3d-folding/MSA/1WZ2_D.MSA.fasta\n/kaggle/input/stanford-rna-3d-folding/MSA/2RPK_A.MSA.fasta\n/kaggle/input/stanford-rna-3d-folding/MSA/8KI7_E.MSA.fasta\n/kaggle/input/stanford-rna-3d-folding/MSA/1RHT_A.MSA.fasta\n/kaggle/input/stanford-rna-3d-folding/MSA/1PJY_A.MSA.fasta\n/kaggle/input/stanford-rna-3d-folding/MSA/1YSH_A.MSA.fasta\n/kaggle/input/stanford-rna-3d-folding/MSA/8Z8N_D.MSA.fasta\n/kaggle/input/stanford-rna-3d-folding/MSA/3DKN_D.MSA.fasta\n/kaggle/input/stanford-rna-3d-folding/MSA/1HS8_A.MSA.fasta\n/kaggle/input/stanford-rna-3d-folding/MSA/8QO3_A.MSA.fasta\n/kaggle/input/stanford-rna-3d-folding/MSA/2TPK_A.MSA.fasta\n/kaggle/input/stanford-rna-3d-folding/MSA/8EWG_B.MSA.fasta\n/kaggle/input/stanford-rna-3d-folding/MSA/4WC3_B.MSA.fasta\n/kaggle/input/stanford-rna-3d-folding/MSA/8T3E_EC.MSA.fasta\n/kaggle/input/stanford-rna-3d-folding/MSA/2KPV_A.MSA.fasta\n/kaggle/input/stanford-rna-3d-folding/MSA/6N7R_R.MSA.fasta\n/kaggle/input/stanford-rna-3d-folding/MSA/6O3M_XV.MSA.fasta\n/kaggle/input/stanford-rna-3d-folding/MSA/8CLR_A.MSA.fasta\n/kaggle/input/stanford-rna-3d-folding/MSA/3IZZ_E.MSA.fasta\n/kaggle/input/stanford-rna-3d-folding/MSA/3CW1_v.MSA.fasta\n/kaggle/input/stanford-rna-3d-folding/MSA/8BU8_A.MSA.fasta\n/kaggle/input/stanford-rna-3d-folding/MSA/2MFC_B.MSA.fasta\n/kaggle/input/stanford-rna-3d-folding/MSA/7S3H_R.MSA.fasta\n/kaggle/input/stanford-rna-3d-folding/MSA/4V6D_AV.MSA.fasta\n/kaggle/input/stanford-rna-3d-folding/MSA/5MC6_BR.MSA.fasta\n/kaggle/input/stanford-rna-3d-folding/MSA/2BJ2_A.MSA.fasta\n/kaggle/input/stanford-rna-3d-folding/MSA/5V6X_C.MSA.fasta\n/kaggle/input/stanford-rna-3d-folding/MSA/7ORI_H.MSA.fasta\n/kaggle/input/stanford-rna-3d-folding/MSA/2N3O_B.MSA.fasta\n/kaggle/input/stanford-rna-3d-folding/MSA/3W1K_F.MSA.fasta\n/kaggle/input/stanford-rna-3d-folding/MSA/9FO8_A.MSA.fasta\n/kaggle/input/stanford-rna-3d-folding/MSA/4V5Z_BL.MSA.fasta\n/kaggle/input/stanford-rna-3d-folding/MSA/4V65_A1.MSA.fasta\n/kaggle/input/stanford-rna-3d-folding/MSA/2KUU_A.MSA.fasta\n/kaggle/input/stanford-rna-3d-folding/MSA/1N8X_A.MSA.fasta\n/kaggle/input/stanford-rna-3d-folding/MSA/1B36_A.MSA.fasta\n/kaggle/input/stanford-rna-3d-folding/MSA/3WFR_D.MSA.fasta\n/kaggle/input/stanford-rna-3d-folding/MSA/7S4V_B.MSA.fasta\n/kaggle/input/stanford-rna-3d-folding/MSA/6SDW_B.MSA.fasta\n/kaggle/input/stanford-rna-3d-folding/MSA/1HS2_A.MSA.fasta\n/kaggle/input/stanford-rna-3d-folding/MSA/8BWT_A.MSA.fasta\n/kaggle/input/stanford-rna-3d-folding/MSA/6WLT_A.MSA.fasta\n/kaggle/input/stanford-rna-3d-folding/MSA/2GVO_A.MSA.fasta\n/kaggle/input/stanford-rna-3d-folding/MSA/7LYG_A.MSA.fasta\n/kaggle/input/stanford-rna-3d-folding/MSA/7UMC_A.MSA.fasta\n/kaggle/input/stanford-rna-3d-folding/MSA/8FCS_A.MSA.fasta\n/kaggle/input/stanford-rna-3d-folding/MSA/8URY_A.MSA.fasta\n/kaggle/input/stanford-rna-3d-folding/MSA/1I4C_A.MSA.fasta\n/kaggle/input/stanford-rna-3d-folding/MSA/3LWQ_D.MSA.fasta\n/kaggle/input/stanford-rna-3d-folding/MSA/1AUD_B.MSA.fasta\n/kaggle/input/stanford-rna-3d-folding/MSA/1I3X_A.MSA.fasta\n/kaggle/input/stanford-rna-3d-folding/MSA/6UFM_A.MSA.fasta\n/kaggle/input/stanford-rna-3d-folding/MSA/8WT6_F.MSA.fasta\n/kaggle/input/stanford-rna-3d-folding/MSA/R1138.MSA.fasta\n/kaggle/input/stanford-rna-3d-folding/MSA/7SLP_R.MSA.fasta\n/kaggle/input/stanford-rna-3d-folding/MSA/1P5N_A.MSA.fasta\n/kaggle/input/stanford-rna-3d-folding/MSA/7EXY_A.MSA.fasta\n/kaggle/input/stanford-rna-3d-folding/MSA/5KK5_B.MSA.fasta\n/kaggle/input/stanford-rna-3d-folding/MSA/1EXY_A.MSA.fasta\n/kaggle/input/stanford-rna-3d-folding/MSA/9CF1_W.MSA.fasta\n/kaggle/input/stanford-rna-3d-folding/MSA/1P5P_A.MSA.fasta\n/kaggle/input/stanford-rna-3d-folding/MSA/1KIS_A.MSA.fasta\n/kaggle/input/stanford-rna-3d-folding/MSA/5V17_A.MSA.fasta\n/kaggle/input/stanford-rna-3d-folding/MSA/2JSE_A.MSA.fasta\n/kaggle/input/stanford-rna-3d-folding/MSA/2IL9_A.MSA.fasta\n/kaggle/input/stanford-rna-3d-folding/MSA/4V6X_B2.MSA.fasta\n/kaggle/input/stanford-rna-3d-folding/MSA/7XW2_C.MSA.fasta\n/kaggle/input/stanford-rna-3d-folding/MSA/2LAC_A.MSA.fasta\n/kaggle/input/stanford-rna-3d-folding/MSA/8CTI_C.MSA.fasta\n/kaggle/input/stanford-rna-3d-folding/MSA/5GAP_V.MSA.fasta\n/kaggle/input/stanford-rna-3d-folding/MSA/2DU6_D.MSA.fasta\n/kaggle/input/stanford-rna-3d-folding/MSA/8JTR_B.MSA.fasta\n/kaggle/input/stanford-rna-3d-folding/MSA/7UME_A.MSA.fasta\n/kaggle/input/stanford-rna-3d-folding/MSA/6ZVK_d2.MSA.fasta\n/kaggle/input/stanford-rna-3d-folding/MSA/4BY9_A.MSA.fasta\n/kaggle/input/stanford-rna-3d-folding/MSA/7QGG_v.MSA.fasta\n/kaggle/input/stanford-rna-3d-folding/MSA/2L1F_B.MSA.fasta\n/kaggle/input/stanford-rna-3d-folding/MSA/4V6W_A7.MSA.fasta\n/kaggle/input/stanford-rna-3d-folding/MSA/1D0U_A.MSA.fasta\n/kaggle/input/stanford-rna-3d-folding/MSA/7RGU_H.MSA.fasta\n/kaggle/input/stanford-rna-3d-folding/MSA/8SFO_B.MSA.fasta\n/kaggle/input/stanford-rna-3d-folding/MSA/8OPS_C.MSA.fasta\n/kaggle/input/stanford-rna-3d-folding/MSA/6BZ7_XY.MSA.fasta\n/kaggle/input/stanford-rna-3d-folding/MSA/8CI5_C.MSA.fasta\n/kaggle/input/stanford-rna-3d-folding/MSA/6QX3_D.MSA.fasta\n/kaggle/input/stanford-rna-3d-folding/MSA/1VOP_A.MSA.fasta\n/kaggle/input/stanford-rna-3d-folding/MSA/2R1G_C.MSA.fasta\n/kaggle/input/stanford-rna-3d-folding/MSA/1ETF_A.MSA.fasta\n/kaggle/input/stanford-rna-3d-folding/MSA/7YOJ_B.MSA.fasta\n/kaggle/input/stanford-rna-3d-folding/MSA/8J72_C.MSA.fasta\n/kaggle/input/stanford-rna-3d-folding/MSA/3TUP_T.MSA.fasta\n/kaggle/input/stanford-rna-3d-folding/MSA/1F6X_A.MSA.fasta\n/kaggle/input/stanford-rna-3d-folding/MSA/6OF6_XW.MSA.fasta\n/kaggle/input/stanford-rna-3d-folding/MSA/4V4N_B2.MSA.fasta\n/kaggle/input/stanford-rna-3d-folding/MSA/3PGW_N.MSA.fasta\n/kaggle/input/stanford-rna-3d-folding/MSA/4V99_FX.MSA.fasta\n/kaggle/input/stanford-rna-3d-folding/MSA/2AHT_A.MSA.fasta\n/kaggle/input/stanford-rna-3d-folding/MSA/9G8O_S2.MSA.fasta\n/kaggle/input/stanford-rna-3d-folding/MSA/2IZN_S.MSA.fasta\n/kaggle/input/stanford-rna-3d-folding/MSA/2Y95_A.MSA.fasta\n/kaggle/input/stanford-rna-3d-folding/MSA/2N6W_A.MSA.fasta\n/kaggle/input/stanford-rna-3d-folding/MSA/4X4S_B.MSA.fasta\n/kaggle/input/stanford-rna-3d-folding/MSA/1QWB_A.MSA.fasta\n/kaggle/input/stanford-rna-3d-folding/MSA/6W3M_A.MSA.fasta\n/kaggle/input/stanford-rna-3d-folding/MSA/1L1W_A.MSA.fasta\n/kaggle/input/stanford-rna-3d-folding/MSA/2W2H_S.MSA.fasta\n/kaggle/input/stanford-rna-3d-folding/MSA/2AGN_A.MSA.fasta\n/kaggle/input/stanford-rna-3d-folding/MSA/6FLQ_R.MSA.fasta\n/kaggle/input/stanford-rna-3d-folding/MSA/2BS0_S.MSA.fasta\n/kaggle/input/stanford-rna-3d-folding/MSA/2M23_A.MSA.fasta\n/kaggle/input/stanford-rna-3d-folding/MSA/1X18_A.MSA.fasta\n/kaggle/input/stanford-rna-3d-folding/MSA/8G1S_R.MSA.fasta\n/kaggle/input/stanford-rna-3d-folding/MSA/4V4V_AA.MSA.fasta\n/kaggle/input/stanford-rna-3d-folding/MSA/2LDL_A.MSA.fasta\n/kaggle/input/stanford-rna-3d-folding/MSA/5N5C_A.MSA.fasta\n/kaggle/input/stanford-rna-3d-folding/MSA/5V16_A.MSA.fasta\n/kaggle/input/stanford-rna-3d-folding/MSA/5OA3_1.MSA.fasta\n/kaggle/input/stanford-rna-3d-folding/MSA/1ZIG_A.MSA.fasta\n/kaggle/input/stanford-rna-3d-folding/MSA/8UBE_I.MSA.fasta\n/kaggle/input/stanford-rna-3d-folding/MSA/1HLX_A.MSA.fasta\n/kaggle/input/stanford-rna-3d-folding/MSA/5ZEY_B.MSA.fasta\n/kaggle/input/stanford-rna-3d-folding/MSA/1ZIF_A.MSA.fasta\n/kaggle/input/stanford-rna-3d-folding/MSA/1JUR_A.MSA.fasta\n/kaggle/input/stanford-rna-3d-folding/MSA/5AMQ_C.MSA.fasta\n/kaggle/input/stanford-rna-3d-folding/MSA/1LS2_B.MSA.fasta\n/kaggle/input/stanford-rna-3d-folding/MSA/8DVS_B.MSA.fasta\n/kaggle/input/stanford-rna-3d-folding/MSA/2G1W_A.MSA.fasta\n/kaggle/input/stanford-rna-3d-folding/MSA/7UMD_A.MSA.fasta\n/kaggle/input/stanford-rna-3d-folding/MSA/8OKD_X.MSA.fasta\n/kaggle/input/stanford-rna-3d-folding/MSA/7A01_K3.MSA.fasta\n/kaggle/input/stanford-rna-3d-folding/MSA/8UPT_A.MSA.fasta\n/kaggle/input/stanford-rna-3d-folding/MSA/1K6H_A.MSA.fasta\n/kaggle/input/stanford-rna-3d-folding/MSA/1E7K_D.MSA.fasta\n/kaggle/input/stanford-rna-3d-folding/MSA/1QZB_B.MSA.fasta\n/kaggle/input/stanford-rna-3d-folding/MSA/2MEQ_A.MSA.fasta\n/kaggle/input/stanford-rna-3d-folding/MSA/5Z3G_B.MSA.fasta\n/kaggle/input/stanford-rna-3d-folding/MSA/1T4L_A.MSA.fasta\n/kaggle/input/stanford-rna-3d-folding/MSA/1K4B_A.MSA.fasta\n/kaggle/input/stanford-rna-3d-folding/MSA/2M22_A.MSA.fasta\n/kaggle/input/stanford-rna-3d-folding/MSA/3J3V_A.MSA.fasta\n/kaggle/input/stanford-rna-3d-folding/MSA/2MS1_B.MSA.fasta\n/kaggle/input/stanford-rna-3d-folding/MSA/8H6E_4A.MSA.fasta\n/kaggle/input/stanford-rna-3d-folding/MSA/2GV4_A.MSA.fasta\n/kaggle/input/stanford-rna-3d-folding/MSA/2L1F_A.MSA.fasta\n/kaggle/input/stanford-rna-3d-folding/MSA/1G70_A.MSA.fasta\n/kaggle/input/stanford-rna-3d-folding/MSA/9DTT_B.MSA.fasta\n/kaggle/input/stanford-rna-3d-folding/MSA/1ANR_A.MSA.fasta\n/kaggle/input/stanford-rna-3d-folding/MSA/2JWV_A.MSA.fasta\n/kaggle/input/stanford-rna-3d-folding/MSA/8HUD_B.MSA.fasta\n/kaggle/input/stanford-rna-3d-folding/MSA/1X18_D.MSA.fasta\n/kaggle/input/stanford-rna-3d-folding/MSA/6QX9_1.MSA.fasta\n/kaggle/input/stanford-rna-3d-folding/MSA/6QWL_W.MSA.fasta\n/kaggle/input/stanford-rna-3d-folding/MSA/3AMU_B.MSA.fasta\n/kaggle/input/stanford-rna-3d-folding/MSA/1LC6_A.MSA.fasta\n/kaggle/input/stanford-rna-3d-folding/MSA/2LI4_A.MSA.fasta\n/kaggle/input/stanford-rna-3d-folding/MSA/4V5G_BA.MSA.fasta\n/kaggle/input/stanford-rna-3d-folding/MSA/8G1I_B.MSA.fasta\n/kaggle/input/stanford-rna-3d-folding/MSA/1Y1Y_P.MSA.fasta\n/kaggle/input/stanford-rna-3d-folding/MSA/3J3W_A.MSA.fasta\n/kaggle/input/stanford-rna-3d-folding/MSA/6K0B_U.MSA.fasta\n/kaggle/input/stanford-rna-3d-folding/MSA/1JOX_A.MSA.fasta\n/kaggle/input/stanford-rna-3d-folding/MSA/1KAJ_A.MSA.fasta\n/kaggle/input/stanford-rna-3d-folding/MSA/6LTP_H.MSA.fasta\n/kaggle/input/stanford-rna-3d-folding/MSA/7UO1_C.MSA.fasta\n/kaggle/input/stanford-rna-3d-folding/MSA/2R1G_A.MSA.fasta\n/kaggle/input/stanford-rna-3d-folding/MSA/2OM7_I.MSA.fasta\n/kaggle/input/stanford-rna-3d-folding/MSA/1RY1_E.MSA.fasta\n/kaggle/input/stanford-rna-3d-folding/MSA/2KRP_A.MSA.fasta\n/kaggle/input/stanford-rna-3d-folding/MSA/8WUS_B.MSA.fasta\n/kaggle/input/stanford-rna-3d-folding/MSA/6FT6_2.MSA.fasta\n/kaggle/input/stanford-rna-3d-folding/MSA/2IZ8_S.MSA.fasta\n/kaggle/input/stanford-rna-3d-folding/MSA/5V93_B.MSA.fasta\n/kaggle/input/stanford-rna-3d-folding/MSA/2JR4_A.MSA.fasta\n/kaggle/input/stanford-rna-3d-folding/MSA/8Z90_D.MSA.fasta\n/kaggle/input/stanford-rna-3d-folding/MSA/4V4W_B9.MSA.fasta\n/kaggle/input/stanford-rna-3d-folding/MSA/6ZVK_K3.MSA.fasta\n/kaggle/input/stanford-rna-3d-folding/MSA/1ZBH_E.MSA.fasta\n/kaggle/input/stanford-rna-3d-folding/MSA/2RLU_A.MSA.fasta\n/kaggle/input/stanford-rna-3d-folding/MSA/4YVK_C.MSA.fasta\n/kaggle/input/stanford-rna-3d-folding/MSA/8JHP_A.MSA.fasta\n/kaggle/input/stanford-rna-3d-folding/MSA/1YNE_A.MSA.fasta\n/kaggle/input/stanford-rna-3d-folding/MSA/1HVU_I.MSA.fasta\n/kaggle/input/stanford-rna-3d-folding/MSA/8OPP_D.MSA.fasta\n/kaggle/input/stanford-rna-3d-folding/MSA/1TBK_A.MSA.fasta\n/kaggle/input/stanford-rna-3d-folding/MSA/4V8J_AV.MSA.fasta\n/kaggle/input/stanford-rna-3d-folding/MSA/5UF3_A.MSA.fasta\n/kaggle/input/stanford-rna-3d-folding/MSA/1UUU_A.MSA.fasta\n/kaggle/input/stanford-rna-3d-folding/MSA/2AGN_C.MSA.fasta\n/kaggle/input/stanford-rna-3d-folding/MSA/7LVA_A.MSA.fasta\n/kaggle/input/stanford-rna-3d-folding/MSA/3DEG_G.MSA.fasta\n/kaggle/input/stanford-rna-3d-folding/MSA/1NC0_A.MSA.fasta\n/kaggle/input/stanford-rna-3d-folding/MSA/2LHP_A.MSA.fasta\n/kaggle/input/stanford-rna-3d-folding/MSA/6S0X_a.MSA.fasta\n/kaggle/input/stanford-rna-3d-folding/MSA/7KUB_A.MSA.fasta\n/kaggle/input/stanford-rna-3d-folding/MSA/6HYK_A.MSA.fasta\n/kaggle/input/stanford-rna-3d-folding/MSA/4V7E_Ae.MSA.fasta\n/kaggle/input/stanford-rna-3d-folding/MSA/7XSN_N.MSA.fasta\n/kaggle/input/stanford-rna-3d-folding/MSA/3WFR_B.MSA.fasta\n/kaggle/input/stanford-rna-3d-folding/MSA/2B6G_B.MSA.fasta\n/kaggle/input/stanford-rna-3d-folding/MSA/1D6K_B.MSA.fasta\n/kaggle/input/stanford-rna-3d-folding/MSA/1HMH_E.MSA.fasta\n/kaggle/input/stanford-rna-3d-folding/MSA/9ENE_D.MSA.fasta\n/kaggle/input/stanford-rna-3d-folding/MSA/4V4N_A3.MSA.fasta\n/kaggle/input/stanford-rna-3d-folding/MSA/6W5C_B.MSA.fasta\n/kaggle/input/stanford-rna-3d-folding/MSA/6WW6_E.MSA.fasta\n/kaggle/input/stanford-rna-3d-folding/MSA/2IL9_M.MSA.fasta\n/kaggle/input/stanford-rna-3d-folding/MSA/1QZC_C.MSA.fasta\n/kaggle/input/stanford-rna-3d-folding/MSA/6O0Y_B.MSA.fasta\n/kaggle/input/stanford-rna-3d-folding/MSA/4C4Q_N.MSA.fasta\n/kaggle/input/stanford-rna-3d-folding/MSA/2MFE_D.MSA.fasta\n/kaggle/input/stanford-rna-3d-folding/MSA/6XZR_IN1.MSA.fasta\n/kaggle/input/stanford-rna-3d-folding/MSA/1MNX_A.MSA.fasta\n/kaggle/input/stanford-rna-3d-folding/MSA/2MF0_G.MSA.fasta\n/kaggle/input/stanford-rna-3d-folding/MSA/8SFJ_B.MSA.fasta\n/kaggle/input/stanford-rna-3d-folding/MSA/1SCL_A.MSA.fasta\n/kaggle/input/stanford-rna-3d-folding/MSA/2L5Z_A.MSA.fasta\n/kaggle/input/stanford-rna-3d-folding/MSA/8SCF_A.MSA.fasta\n/kaggle/input/stanford-rna-3d-folding/MSA/5MSF_S.MSA.fasta\n/kaggle/input/stanford-rna-3d-folding/MSA/2KOC_A.MSA.fasta\n/kaggle/input/stanford-rna-3d-folding/MSA/6VAR_A.MSA.fasta\n/kaggle/input/stanford-rna-3d-folding/MSA/4QIL_C.MSA.fasta\n/kaggle/input/stanford-rna-3d-folding/MSA/2ZJQ_Y.MSA.fasta\n/kaggle/input/stanford-rna-3d-folding/MSA/7RYG_B.MSA.fasta\n/kaggle/input/stanford-rna-3d-folding/MSA/2NR0_G.MSA.fasta\n/kaggle/input/stanford-rna-3d-folding/MSA/4V6W_A5.MSA.fasta\n/kaggle/input/stanford-rna-3d-folding/MSA/4V6W_BC.MSA.fasta\n/kaggle/input/stanford-rna-3d-folding/MSA/1ULL_A.MSA.fasta\n/kaggle/input/stanford-rna-3d-folding/MSA/2M4W_A.MSA.fasta\n/kaggle/input/stanford-rna-3d-folding/MSA/5MS0_R.MSA.fasta\n/kaggle/input/stanford-rna-3d-folding/MSA/1XSG_A.MSA.fasta\n/kaggle/input/stanford-rna-3d-folding/MSA/4WSA_V.MSA.fasta\n/kaggle/input/stanford-rna-3d-folding/MSA/R1126.MSA.fasta\n/kaggle/input/stanford-rna-3d-folding/MSA/7PTQ_C.MSA.fasta\n/kaggle/input/stanford-rna-3d-folding/MSA/6AEB_E.MSA.fasta\n/kaggle/input/stanford-rna-3d-folding/MSA/6RFL_U.MSA.fasta\n/kaggle/input/stanford-rna-3d-folding/MSA/2MI0_B.MSA.fasta\n/kaggle/input/stanford-rna-3d-folding/MSA/5MC6_BS.MSA.fasta\n/kaggle/input/stanford-rna-3d-folding/MSA/2F87_A.MSA.fasta\n/kaggle/input/stanford-rna-3d-folding/MSA/6AWC_A.MSA.fasta\n/kaggle/input/stanford-rna-3d-folding/MSA/2GRW_A.MSA.fasta\n/kaggle/input/stanford-rna-3d-folding/MSA/5V6X_D.MSA.fasta\n/kaggle/input/stanford-rna-3d-folding/MSA/8TOC_R.MSA.fasta\n/kaggle/input/stanford-rna-3d-folding/MSA/2KD8_A.MSA.fasta\n/kaggle/input/stanford-rna-3d-folding/MSA/4V7E_Aa.MSA.fasta\n/kaggle/input/stanford-rna-3d-folding/MSA/8T2P_A.MSA.fasta\n/kaggle/input/stanford-rna-3d-folding/MSA/2JYM_A.MSA.fasta\n/kaggle/input/stanford-rna-3d-folding/MSA/9ENC_D.MSA.fasta\n/kaggle/input/stanford-rna-3d-folding/MSA/2N2P_A.MSA.fasta\n/kaggle/input/stanford-rna-3d-folding/MSA/1BGZ_A.MSA.fasta\n/kaggle/input/stanford-rna-3d-folding/MSA/4A4U_A.MSA.fasta\n/kaggle/input/stanford-rna-3d-folding/MSA/8Z85_D.MSA.fasta\n/kaggle/input/stanford-rna-3d-folding/MSA/2OM7_A.MSA.fasta\n/kaggle/input/stanford-rna-3d-folding/MSA/8WT8_F.MSA.fasta\n/kaggle/input/stanford-rna-3d-folding/MSA/8C8X_B.MSA.fasta\n/kaggle/input/stanford-rna-3d-folding/MSA/6WLS_A.MSA.fasta\n/kaggle/input/stanford-rna-3d-folding/MSA/1EIY_C.MSA.fasta\n/kaggle/input/stanford-rna-3d-folding/MSA/1T28_A.MSA.fasta\n/kaggle/input/stanford-rna-3d-folding/MSA/7RQ5_A.MSA.fasta\n/kaggle/input/stanford-rna-3d-folding/MSA/7JRT_B.MSA.fasta\n/kaggle/input/stanford-rna-3d-folding/MSA/2A64_A.MSA.fasta\n/kaggle/input/stanford-rna-3d-folding/MSA/1ZC8_H.MSA.fasta\n/kaggle/input/stanford-rna-3d-folding/MSA/1YSV_A.MSA.fasta\n/kaggle/input/stanford-rna-3d-folding/MSA/2LBJ_A.MSA.fasta\n/kaggle/input/stanford-rna-3d-folding/MSA/1F84_A.MSA.fasta\n/kaggle/input/stanford-rna-3d-folding/MSA/8WT8_E.MSA.fasta\n/kaggle/input/stanford-rna-3d-folding/MSA/8WT7_E.MSA.fasta\n/kaggle/input/stanford-rna-3d-folding/MSA/1EKZ_B.MSA.fasta\n/kaggle/input/stanford-rna-3d-folding/MSA/2M5U_A.MSA.fasta\n/kaggle/input/stanford-rna-3d-folding/MSA/2D19_A.MSA.fasta\n/kaggle/input/stanford-rna-3d-folding/MSA/1HWQ_A.MSA.fasta\n/kaggle/input/stanford-rna-3d-folding/MSA/5GAP_U.MSA.fasta\n/kaggle/input/stanford-rna-3d-folding/MSA/7PTS_A.MSA.fasta\n/kaggle/input/stanford-rna-3d-folding/MSA/4TUA_XY.MSA.fasta\n/kaggle/input/stanford-rna-3d-folding/MSA/1A4T_A.MSA.fasta\n/kaggle/input/stanford-rna-3d-folding/MSA/4YVI_C.MSA.fasta\n/kaggle/input/stanford-rna-3d-folding/MSA/1IDV_A.MSA.fasta\n/kaggle/input/stanford-rna-3d-folding/MSA/6W64_B.MSA.fasta\n/kaggle/input/stanford-rna-3d-folding/MSA/1LDZ_A.MSA.fasta\n/kaggle/input/stanford-rna-3d-folding/MSA/1ESH_A.MSA.fasta\n/kaggle/input/stanford-rna-3d-folding/MSA/8YE6_C.MSA.fasta\n/kaggle/input/stanford-rna-3d-folding/MSA/4ILL_C.MSA.fasta\n/kaggle/input/stanford-rna-3d-folding/MSA/7UO0_C.MSA.fasta\n/kaggle/input/stanford-rna-3d-folding/MSA/8T2Y_tP.MSA.fasta\n/kaggle/input/stanford-rna-3d-folding/MSA/8T2P_B.MSA.fasta\n/kaggle/input/stanford-rna-3d-folding/MSA/2RO2_A.MSA.fasta\n/kaggle/input/stanford-rna-3d-folding/MSA/1A1T_B.MSA.fasta\n/kaggle/input/stanford-rna-3d-folding/MSA/4V5Z_BK.MSA.fasta\n/kaggle/input/stanford-rna-3d-folding/MSA/7D1A_A.MSA.fasta\n/kaggle/input/stanford-rna-3d-folding/MSA/8T2B_R.MSA.fasta\n/kaggle/input/stanford-rna-3d-folding/MSA/2KPD_A.MSA.fasta\n/kaggle/input/stanford-rna-3d-folding/MSA/2F4X_B.MSA.fasta\n/kaggle/input/stanford-rna-3d-folding/MSA/4V5Z_BH.MSA.fasta\n/kaggle/input/stanford-rna-3d-folding/MSA/1BIV_A.MSA.fasta\n/kaggle/input/stanford-rna-3d-folding/MSA/4V5Z_AF.MSA.fasta\n/kaggle/input/stanford-rna-3d-folding/MSA/7M57_cc.MSA.fasta\n/kaggle/input/stanford-rna-3d-folding/MSA/3WFQ_C.MSA.fasta\n/kaggle/input/stanford-rna-3d-folding/MSA/2PN9_A.MSA.fasta\n/kaggle/input/stanford-rna-3d-folding/MSA/1ZC8_F.MSA.fasta\n/kaggle/input/stanford-rna-3d-folding/MSA/3WQZ_C.MSA.fasta\n/kaggle/input/stanford-rna-3d-folding/MSA/5ELS_I.MSA.fasta\n/kaggle/input/stanford-rna-3d-folding/MSA/4V7E_Ac.MSA.fasta\n/kaggle/input/stanford-rna-3d-folding/MSA/6DTI_X.MSA.fasta\n/kaggle/input/stanford-rna-3d-folding/MSA/6ZVK_E1.MSA.fasta\n/kaggle/input/stanford-rna-3d-folding/MSA/8SFH_B.MSA.fasta\n/kaggle/input/stanford-rna-3d-folding/MSA/8EVQ_EC.MSA.fasta\n/kaggle/input/stanford-rna-3d-folding/MSA/6Y0C_IN1.MSA.fasta\n/kaggle/input/stanford-rna-3d-folding/MSA/2OM7_C.MSA.fasta\n/kaggle/input/stanford-rna-3d-folding/MSA/6XZD_IN1.MSA.fasta\n/kaggle/input/stanford-rna-3d-folding/MSA/5WQ1_A.MSA.fasta\n/kaggle/input/stanford-rna-3d-folding/MSA/2KMJ_A.MSA.fasta\n/kaggle/input/stanford-rna-3d-folding/MSA/8FZT_B.MSA.fasta\n/kaggle/input/stanford-rna-3d-folding/MSA/4V5Z_BQ.MSA.fasta\n/kaggle/input/stanford-rna-3d-folding/MSA/2N0R_A.MSA.fasta\n/kaggle/input/stanford-rna-3d-folding/MSA/1NA2_A.MSA.fasta\n/kaggle/input/stanford-rna-3d-folding/MSA/1OSW_A.MSA.fasta\n/kaggle/input/stanford-rna-3d-folding/MSA/6PK9_A.MSA.fasta\n/kaggle/input/stanford-rna-3d-folding/MSA/6POM_B.MSA.fasta\n/kaggle/input/stanford-rna-3d-folding/MSA/1CQ5_A.MSA.fasta\n/kaggle/input/stanford-rna-3d-folding/MSA/3DEG_K.MSA.fasta\n/kaggle/input/stanford-rna-3d-folding/MSA/6MCE_A.MSA.fasta\n/kaggle/input/stanford-rna-3d-folding/MSA/7S38_R.MSA.fasta\n/kaggle/input/stanford-rna-3d-folding/MSA/484D_B.MSA.fasta\n/kaggle/input/stanford-rna-3d-folding/MSA/2LU0_A.MSA.fasta\n/kaggle/input/stanford-rna-3d-folding/MSA/6V5B_D.MSA.fasta\n/kaggle/input/stanford-rna-3d-folding/MSA/2J37_A.MSA.fasta\n/kaggle/input/stanford-rna-3d-folding/MSA/8Z1G_T.MSA.fasta\n/kaggle/input/stanford-rna-3d-folding/MSA/2KZL_A.MSA.fasta\n/kaggle/input/stanford-rna-3d-folding/MSA/4WJ3_Q.MSA.fasta\n/kaggle/input/stanford-rna-3d-folding/MSA/6WLM_A.MSA.fasta\n/kaggle/input/stanford-rna-3d-folding/MSA/2NC1_A.MSA.fasta\n/kaggle/input/stanford-rna-3d-folding/MSA/R1190.MSA.fasta\n/kaggle/input/stanford-rna-3d-folding/MSA/1JZC_A.MSA.fasta\n/kaggle/input/stanford-rna-3d-folding/MSA/1JTW_A.MSA.fasta\n/kaggle/input/stanford-rna-3d-folding/MSA/8XPP_B.MSA.fasta\n/kaggle/input/stanford-rna-3d-folding/MSA/2GO5_A.MSA.fasta\n/kaggle/input/stanford-rna-3d-folding/MSA/2DER_D.MSA.fasta\n/kaggle/input/stanford-rna-3d-folding/MSA/2HNS_A.MSA.fasta\n/kaggle/input/stanford-rna-3d-folding/MSA/1Z31_A.MSA.fasta\n/kaggle/input/stanford-rna-3d-folding/MSA/7OZS_3.MSA.fasta\n/kaggle/input/stanford-rna-3d-folding/MSA/2LPA_A.MSA.fasta\n/kaggle/input/stanford-rna-3d-folding/MSA/2N6S_A.MSA.fasta\n/kaggle/input/stanford-rna-3d-folding/MSA/3EP2_B.MSA.fasta\n/kaggle/input/stanford-rna-3d-folding/MSA/1ZC5_A.MSA.fasta\n/kaggle/input/stanford-rna-3d-folding/MSA/7U2A_C.MSA.fasta\n/kaggle/input/stanford-rna-3d-folding/MSA/3IYR_A.MSA.fasta\n/kaggle/input/stanford-rna-3d-folding/MSA/1ZC8_J.MSA.fasta\n/kaggle/input/stanford-rna-3d-folding/MSA/1KPD_A.MSA.fasta\n/kaggle/input/stanford-rna-3d-folding/MSA/3IZD_A.MSA.fasta\n/kaggle/input/stanford-rna-3d-folding/MSA/1E95_A.MSA.fasta\n/kaggle/input/stanford-rna-3d-folding/MSA/8QO2_A.MSA.fasta\n/kaggle/input/stanford-rna-3d-folding/MSA/6GBM_A.MSA.fasta\n/kaggle/input/stanford-rna-3d-folding/MSA/2DU4_C.MSA.fasta\n/kaggle/input/stanford-rna-3d-folding/MSA/6WB1_C.MSA.fasta\n/kaggle/input/stanford-rna-3d-folding/MSA/2JTP_A.MSA.fasta\n/kaggle/input/stanford-rna-3d-folding/MSA/1ESY_A.MSA.fasta\n/kaggle/input/stanford-rna-3d-folding/MSA/5ZAL_C.MSA.fasta\n/kaggle/input/stanford-rna-3d-folding/MSA/2IZ8_R.MSA.fasta\n/kaggle/input/stanford-rna-3d-folding/MSA/R1116.MSA.fasta\n/kaggle/input/stanford-rna-3d-folding/MSA/2LA5_A.MSA.fasta\n/kaggle/input/stanford-rna-3d-folding/MSA/8CQ1_A.MSA.fasta\n/kaggle/input/stanford-rna-3d-folding/MSA/6OPE_XY.MSA.fasta\n/kaggle/input/stanford-rna-3d-folding/MSA/4TZV_B.MSA.fasta\n/kaggle/input/stanford-rna-3d-folding/MSA/5LSN_A.MSA.fasta\n/kaggle/input/stanford-rna-3d-folding/MSA/4V6U_B1.MSA.fasta\n/kaggle/input/stanford-rna-3d-folding/MSA/5EPI_H.MSA.fasta\n/kaggle/input/stanford-rna-3d-folding/MSA/2LV0_A.MSA.fasta\n/kaggle/input/stanford-rna-3d-folding/MSA/8DK7_C.MSA.fasta\n/kaggle/input/stanford-rna-3d-folding/MSA/2LJJ_A.MSA.fasta\n/kaggle/input/stanford-rna-3d-folding/MSA/2NR0_H.MSA.fasta\n/kaggle/input/stanford-rna-3d-folding/MSA/2BQ5_R.MSA.fasta\n/kaggle/input/stanford-rna-3d-folding/MSA/4X0A_B.MSA.fasta\n/kaggle/input/stanford-rna-3d-folding/MSA/4X4P_B.MSA.fasta\n/kaggle/input/stanford-rna-3d-folding/MSA/1F5U_B.MSA.fasta\n/kaggle/input/stanford-rna-3d-folding/MSA/3EQ3_E.MSA.fasta\n/kaggle/input/stanford-rna-3d-folding/MSA/4Z7L_F.MSA.fasta\n/kaggle/input/stanford-rna-3d-folding/MSA/1Z30_A.MSA.fasta\n/kaggle/input/stanford-rna-3d-folding/MSA/4V5Z_AH.MSA.fasta\n/kaggle/input/stanford-rna-3d-folding/MSA/4WZJ_VV.MSA.fasta\n/kaggle/input/stanford-rna-3d-folding/MSA/2LQZ_A.MSA.fasta\n/kaggle/input/stanford-rna-3d-folding/MSA/6IFO_D.MSA.fasta\n/kaggle/input/stanford-rna-3d-folding/MSA/7M5O_B.MSA.fasta\n/kaggle/input/stanford-rna-3d-folding/MSA/2QH4_A.MSA.fasta\n/kaggle/input/stanford-rna-3d-folding/MSA/1ATV_A.MSA.fasta\n/kaggle/input/stanford-rna-3d-folding/MSA/6K4S_A.MSA.fasta\n/kaggle/input/stanford-rna-3d-folding/MSA/1MFK_A.MSA.fasta\n/kaggle/input/stanford-rna-3d-folding/MSA/6RR7_D.MSA.fasta\n/kaggle/input/stanford-rna-3d-folding/MSA/6AGB_A.MSA.fasta\n/kaggle/input/stanford-rna-3d-folding/MSA/6HYU_D.MSA.fasta\n/kaggle/input/stanford-rna-3d-folding/MSA/6WPI_C.MSA.fasta\n/kaggle/input/stanford-rna-3d-folding/MSA/R1117v2.MSA.fasta\n/kaggle/input/stanford-rna-3d-folding/MSA/2IXZ_A.MSA.fasta\n/kaggle/input/stanford-rna-3d-folding/MSA/2GO5_9.MSA.fasta\n/kaggle/input/stanford-rna-3d-folding/MSA/3WC1_Q.MSA.fasta\n/kaggle/input/stanford-rna-3d-folding/MSA/2N3Q_A.MSA.fasta\n/kaggle/input/stanford-rna-3d-folding/MSA/3DKN_E.MSA.fasta\n/kaggle/input/stanford-rna-3d-folding/MSA/1RNK_A.MSA.fasta\n/kaggle/input/stanford-rna-3d-folding/MSA/3J8G_B.MSA.fasta\n/kaggle/input/stanford-rna-3d-folding/MSA/2HUA_A.MSA.fasta\n/kaggle/input/stanford-rna-3d-folding/MSA/1ZC8_I.MSA.fasta\n/kaggle/input/stanford-rna-3d-folding/MSA/8OST_C.MSA.fasta\n/kaggle/input/stanford-rna-3d-folding/MSA/6VZC_A.MSA.fasta\n/kaggle/input/stanford-rna-3d-folding/MSA/1FHK_A.MSA.fasta\n/kaggle/input/stanford-rna-3d-folding/MSA/7ZRZ_ZN1.MSA.fasta\n/kaggle/input/stanford-rna-3d-folding/MSA/4V4G_CA.MSA.fasta\n/kaggle/input/stanford-rna-3d-folding/MSA/7QDU_Q.MSA.fasta\n/kaggle/input/stanford-rna-3d-folding/MSA/7LJY_B.MSA.fasta\n/kaggle/input/stanford-rna-3d-folding/MSA/7KUC_A.MSA.fasta\n/kaggle/input/stanford-rna-3d-folding/MSA/7LYT_B.MSA.fasta\n/kaggle/input/stanford-rna-3d-folding/MSA/1L1C_C.MSA.fasta\n/kaggle/input/stanford-rna-3d-folding/MSA/5O7H_A.MSA.fasta\n/kaggle/input/stanford-rna-3d-folding/MSA/8UO6_B.MSA.fasta\n/kaggle/input/stanford-rna-3d-folding/MSA/8EXY_R.MSA.fasta\n/kaggle/input/stanford-rna-3d-folding/MSA/8KAG_A.MSA.fasta\n/kaggle/input/stanford-rna-3d-folding/MSA/7VW3_B.MSA.fasta\n/kaggle/input/stanford-rna-3d-folding/MSA/3JB9_C.MSA.fasta\n/kaggle/input/stanford-rna-3d-folding/MSA/3J8G_A.MSA.fasta\n/kaggle/input/stanford-rna-3d-folding/MSA/1R2P_A.MSA.fasta\n/kaggle/input/stanford-rna-3d-folding/MSA/2MFD_A.MSA.fasta\n/kaggle/input/stanford-rna-3d-folding/MSA/8SFN_B.MSA.fasta\n/kaggle/input/stanford-rna-3d-folding/MSA/2U2A_A.MSA.fasta\n/kaggle/input/stanford-rna-3d-folding/MSA/R1128.MSA.fasta\n/kaggle/input/stanford-rna-3d-folding/MSA/2LDT_A.MSA.fasta\n/kaggle/input/stanford-rna-3d-folding/MSA/3EQ4_A.MSA.fasta\n/kaggle/input/stanford-rna-3d-folding/MSA/6ORD_QY.MSA.fasta\n/kaggle/input/stanford-rna-3d-folding/MSA/3J6B_e.MSA.fasta\n/kaggle/input/stanford-rna-3d-folding/MSA/2BS0_R.MSA.fasta\n/kaggle/input/stanford-rna-3d-folding/MSA/6UES_A.MSA.fasta\n/kaggle/input/stanford-rna-3d-folding/MSA/1MFY_A.MSA.fasta\n/kaggle/input/stanford-rna-3d-folding/MSA/8AW3_1.MSA.fasta\n/kaggle/input/stanford-rna-3d-folding/MSA/6W62_B.MSA.fasta\n/kaggle/input/stanford-rna-3d-folding/MSA/6WD2_1.MSA.fasta\n/kaggle/input/stanford-rna-3d-folding/MSA/3J3V_B.MSA.fasta\n/kaggle/input/stanford-rna-3d-folding/MSA/3NDB_M.MSA.fasta\n/kaggle/input/stanford-rna-3d-folding/MSA/1A9N_Q.MSA.fasta\n/kaggle/input/stanford-rna-3d-folding/MSA/1KIS_B.MSA.fasta\n/kaggle/input/stanford-rna-3d-folding/MSA/1XSH_A.MSA.fasta\n/kaggle/input/stanford-rna-3d-folding/MSA/6AHU_T.MSA.fasta\n/kaggle/input/stanford-rna-3d-folding/MSA/8TVZ_C.MSA.fasta\n/kaggle/input/stanford-rna-3d-folding/MSA/2LK3_A.MSA.fasta\n/kaggle/input/stanford-rna-3d-folding/MSA/1AFX_A.MSA.fasta\n/kaggle/input/stanford-rna-3d-folding/MSA/4KJI_D.MSA.fasta\n/kaggle/input/stanford-rna-3d-folding/MSA/4V7E_Ad.MSA.fasta\n/kaggle/input/stanford-rna-3d-folding/MSA/1SLO_A.MSA.fasta\n/kaggle/input/stanford-rna-3d-folding/MSA/1KP7_A.MSA.fasta\n/kaggle/input/stanford-rna-3d-folding/MSA/2BJ2_B.MSA.fasta\n/kaggle/input/stanford-rna-3d-folding/MSA/1MFJ_A.MSA.fasta\n/kaggle/input/stanford-rna-3d-folding/MSA/4A4T_A.MSA.fasta\n/kaggle/input/stanford-rna-3d-folding/MSA/8WT6_E.MSA.fasta\n/kaggle/input/stanford-rna-3d-folding/MSA/5KMZ_A.MSA.fasta\n/kaggle/input/stanford-rna-3d-folding/MSA/2B2E_S.MSA.fasta\n/kaggle/input/stanford-rna-3d-folding/MSA/1QC8_A.MSA.fasta\n/kaggle/input/stanford-rna-3d-folding/MSA/8Z1F_T.MSA.fasta\n/kaggle/input/stanford-rna-3d-folding/MSA/8SA6_A.MSA.fasta\n/kaggle/input/stanford-rna-3d-folding/MSA/1QWA_A.MSA.fasta\n/kaggle/input/stanford-rna-3d-folding/MSA/5XJ2_G.MSA.fasta\n/kaggle/input/stanford-rna-3d-folding/MSA/7X34_3.MSA.fasta\n/kaggle/input/stanford-rna-3d-folding/MSA/2MXJ_A.MSA.fasta\n/kaggle/input/stanford-rna-3d-folding/MSA/7K4L_A.MSA.fasta\n/kaggle/input/stanford-rna-3d-folding/MSA/8E29_B.MSA.fasta\n/kaggle/input/stanford-rna-3d-folding/MSA/2DR2_B.MSA.fasta\n/kaggle/input/stanford-rna-3d-folding/MSA/6XWJ_A.MSA.fasta\n/kaggle/input/stanford-rna-3d-folding/MSA/5UZT_A.MSA.fasta\n/kaggle/input/stanford-rna-3d-folding/MSA/1HS4_A.MSA.fasta\n/kaggle/input/stanford-rna-3d-folding/MSA/4A4S_A.MSA.fasta\n/kaggle/input/stanford-rna-3d-folding/MSA/1EUQ_B.MSA.fasta\n/kaggle/input/stanford-rna-3d-folding/MSA/1A51_A.MSA.fasta\n/kaggle/input/stanford-rna-3d-folding/MSA/3DEG_I.MSA.fasta\n/kaggle/input/stanford-rna-3d-folding/MSA/2GIP_A.MSA.fasta\n/kaggle/input/stanford-rna-3d-folding/MSA/2B2E_R.MSA.fasta\n/kaggle/input/stanford-rna-3d-folding/MSA/5ZAM_C.MSA.fasta\n/kaggle/input/stanford-rna-3d-folding/MSA/2NBX_A.MSA.fasta\n/kaggle/input/stanford-rna-3d-folding/MSA/1EBR_A.MSA.fasta\n/kaggle/input/stanford-rna-3d-folding/MSA/6OJ2_QW.MSA.fasta\n/kaggle/input/stanford-rna-3d-folding/MSA/2MXL_A.MSA.fasta\n/kaggle/input/stanford-rna-3d-folding/MSA/7UVT_A.MSA.fasta\n/kaggle/input/stanford-rna-3d-folding/MSA/1TJZ_A.MSA.fasta\n/kaggle/input/stanford-rna-3d-folding/MSA/4X0B_B.MSA.fasta\n/kaggle/input/stanford-rna-3d-folding/MSA/1S9S_A.MSA.fasta\n/kaggle/input/stanford-rna-3d-folding/MSA/3EP2_D.MSA.fasta\n/kaggle/input/stanford-rna-3d-folding/MSA/6MJ0_B.MSA.fasta\n/kaggle/input/stanford-rna-3d-folding/MSA/4P8Z_A.MSA.fasta\n/kaggle/input/stanford-rna-3d-folding/MSA/2N7M_X.MSA.fasta\n/kaggle/input/stanford-rna-3d-folding/MSA/2N6T_A.MSA.fasta\n/kaggle/input/stanford-rna-3d-folding/MSA/2EUY_A.MSA.fasta\n/kaggle/input/stanford-rna-3d-folding/MSA/1QZA_B.MSA.fasta\n/kaggle/input/stanford-rna-3d-folding/MSA/8SFL_B.MSA.fasta\n/kaggle/input/stanford-rna-3d-folding/MSA/8D4A_B.MSA.fasta\n/kaggle/input/stanford-rna-3d-folding/MSA/1U63_D.MSA.fasta\n/kaggle/input/stanford-rna-3d-folding/MSA/1K2G_A.MSA.fasta\n/kaggle/input/stanford-rna-3d-folding/MSA/8UAU_R.MSA.fasta\n/kaggle/input/stanford-rna-3d-folding/MSA/8D49_B.MSA.fasta\n/kaggle/input/stanford-rna-3d-folding/MSA/6Z6B_UUU.MSA.fasta\n/kaggle/input/stanford-rna-3d-folding/MSA/1RFR_A.MSA.fasta\n/kaggle/input/stanford-rna-3d-folding/MSA/6K3Z_A.MSA.fasta\n/kaggle/input/stanford-rna-3d-folding/MSA/8SFI_B.MSA.fasta\n/kaggle/input/stanford-rna-3d-folding/MSA/1FYO_A.MSA.fasta\n/kaggle/input/stanford-rna-3d-folding/MSA/3EQ3_Y.MSA.fasta\n/kaggle/input/stanford-rna-3d-folding/MSA/7V59_C.MSA.fasta\n/kaggle/input/stanford-rna-3d-folding/MSA/R1189.MSA.fasta\n/kaggle/input/stanford-rna-3d-folding/MSA/1OQ0_A.MSA.fasta\n/kaggle/input/stanford-rna-3d-folding/MSA/4KR6_D.MSA.fasta\n/kaggle/input/stanford-rna-3d-folding/MSA/2KPC_A.MSA.fasta\n/kaggle/input/stanford-rna-3d-folding/MSA/2N2O_A.MSA.fasta\n/kaggle/input/stanford-rna-3d-folding/MSA/8XCC_B.MSA.fasta\n/kaggle/input/stanford-rna-3d-folding/MSA/1OW9_A.MSA.fasta\n/kaggle/input/stanford-rna-3d-folding/MSA/2LC8_A.MSA.fasta\n/kaggle/input/stanford-rna-3d-folding/MSA/6S0Z_B.MSA.fasta\n/kaggle/input/stanford-rna-3d-folding/MSA/2N6X_A.MSA.fasta\n/kaggle/input/stanford-rna-3d-folding/MSA/2QH2_A.MSA.fasta\n/kaggle/input/stanford-rna-3d-folding/MSA/4V5Z_BC.MSA.fasta\n/kaggle/input/stanford-rna-3d-folding/MSA/2JXV_A.MSA.fasta\n/kaggle/input/stanford-rna-3d-folding/MSA/28SP_A.MSA.fasta\n/kaggle/input/stanford-rna-3d-folding/MSA/1WKS_A.MSA.fasta\n/kaggle/input/stanford-rna-3d-folding/MSA/1ZIH_A.MSA.fasta\n/kaggle/input/stanford-rna-3d-folding/MSA/4V5Z_BM.MSA.fasta\n/kaggle/input/stanford-rna-3d-folding/MSA/2NR0_F.MSA.fasta\n/kaggle/input/stanford-rna-3d-folding/MSA/2LUB_A.MSA.fasta\n/kaggle/input/stanford-rna-3d-folding/MSA/4V5F_CA.MSA.fasta\n/kaggle/input/stanford-rna-3d-folding/MSA/6NDK_XY.MSA.fasta\n/kaggle/input/stanford-rna-3d-folding/MSA/2NBZ_A.MSA.fasta\n/kaggle/input/stanford-rna-3d-folding/MSA/2KHY_A.MSA.fasta\n/kaggle/input/stanford-rna-3d-folding/MSA/8IDF_B.MSA.fasta\n/kaggle/input/stanford-rna-3d-folding/MSA/7LMA_B.MSA.fasta\n/kaggle/input/stanford-rna-3d-folding/MSA/2N1Q_A.MSA.fasta\n/kaggle/input/stanford-rna-3d-folding/MSA/1IKD_A.MSA.fasta\n/kaggle/input/stanford-rna-3d-folding/MSA/8I0P_F.MSA.fasta\n/kaggle/input/stanford-rna-3d-folding/MSA/6O0Z_B.MSA.fasta\n/kaggle/input/stanford-rna-3d-folding/MSA/2FY1_B.MSA.fasta\n/kaggle/input/stanford-rna-3d-folding/MSA/4V4V_B0.MSA.fasta\n/kaggle/input/stanford-rna-3d-folding/MSA/9FO9_A.MSA.fasta\n/kaggle/input/stanford-rna-3d-folding/MSA/4V5Z_BP.MSA.fasta\n/kaggle/input/stanford-rna-3d-folding/MSA/3DKN_F.MSA.fasta\n/kaggle/input/stanford-rna-3d-folding/MSA/7UR5_y.MSA.fasta\n/kaggle/input/stanford-rna-3d-folding/MSA/2HGH_B.MSA.fasta\n/kaggle/input/stanford-rna-3d-folding/MSA/6WLO_A.MSA.fasta\n/kaggle/input/stanford-rna-3d-folding/MSA/6C66_J.MSA.fasta\n/kaggle/input/stanford-rna-3d-folding/MSA/5IEM_A.MSA.fasta\n/kaggle/input/stanford-rna-3d-folding/MSA/1P5M_A.MSA.fasta\n/kaggle/input/stanford-rna-3d-folding/MSA/1K6G_A.MSA.fasta\n/kaggle/input/stanford-rna-3d-folding/MSA/7DD4_A.MSA.fasta\n/kaggle/input/stanford-rna-3d-folding/MSA/1N34_A.MSA.fasta\n/kaggle/input/stanford-rna-3d-folding/MSA/1JTJ_A.MSA.fasta\n/kaggle/input/stanford-rna-3d-folding/MSA/1I46_A.MSA.fasta\n/kaggle/input/stanford-rna-3d-folding/MSA/1F85_A.MSA.fasta\n/kaggle/input/stanford-rna-3d-folding/MSA/7NQ4_C.MSA.fasta\n/kaggle/input/stanford-rna-3d-folding/MSA/6BZ8_XY.MSA.fasta\n/kaggle/input/stanford-rna-3d-folding/MSA/9G7C_A.MSA.fasta\n/kaggle/input/stanford-rna-3d-folding/MSA/2OM7_H.MSA.fasta\n/kaggle/input/stanford-rna-3d-folding/MSA/1KKS_A.MSA.fasta\n/kaggle/input/stanford-rna-3d-folding/MSA/6KUV_V.MSA.fasta\n/kaggle/input/stanford-rna-3d-folding/MSA/2IY3_B.MSA.fasta\n/kaggle/input/stanford-rna-3d-folding/MSA/4V6X_A5.MSA.fasta\n/kaggle/input/stanford-rna-3d-folding/MSA/2L3J_B.MSA.fasta\n/kaggle/input/stanford-rna-3d-folding/MSA/6WLN_A.MSA.fasta\n/kaggle/input/stanford-rna-3d-folding/MSA/R1107.MSA.fasta\n/kaggle/input/stanford-rna-3d-folding/MSA/6ZDU_C.MSA.fasta\n/kaggle/input/stanford-rna-3d-folding/MSA/2OB7_D.MSA.fasta\n/kaggle/input/stanford-rna-3d-folding/MSA/3WC2_Q.MSA.fasta\n/kaggle/input/stanford-rna-3d-folding/MSA/2LBK_A.MSA.fasta\n/kaggle/input/stanford-rna-3d-folding/MSA/6K0A_X.MSA.fasta\n/kaggle/input/stanford-rna-3d-folding/MSA/6QW6_5.MSA.fasta\n/kaggle/input/stanford-rna-3d-folding/MSA/2KUV_A.MSA.fasta\n/kaggle/input/stanford-rna-3d-folding/MSA/3DEG_E.MSA.fasta\n/kaggle/input/stanford-rna-3d-folding/MSA/2AKE_B.MSA.fasta\n/kaggle/input/stanford-rna-3d-folding/MSA/1M82_A.MSA.fasta\n/kaggle/input/stanford-rna-3d-folding/MSA/2RN1_B.MSA.fasta\n/kaggle/input/stanford-rna-3d-folding/MSA/4V6W_B2.MSA.fasta\n/kaggle/input/stanford-rna-3d-folding/MSA/4V8J_CW.MSA.fasta\n/kaggle/input/stanford-rna-3d-folding/MSA/7YR7_A.MSA.fasta\n/kaggle/input/stanford-rna-3d-folding/MSA/8KDA_O.MSA.fasta\n/kaggle/input/stanford-rna-3d-folding/MSA/4V6X_A8.MSA.fasta\n/kaggle/input/stanford-rna-3d-folding/MSA/2X7N_A.MSA.fasta\n/kaggle/input/stanford-rna-3d-folding/MSA/8VCI_A.MSA.fasta\n/kaggle/input/stanford-rna-3d-folding/MSA/4D5N_X.MSA.fasta\n/kaggle/input/stanford-rna-3d-folding/MSA/1Z2J_A.MSA.fasta\n/kaggle/input/stanford-rna-3d-folding/MSA/1HS3_A.MSA.fasta\n/kaggle/input/stanford-rna-3d-folding/MSA/2PCW_A.MSA.fasta\n/kaggle/input/stanford-rna-3d-folding/MSA/2NOQ_E.MSA.fasta\n/kaggle/input/stanford-rna-3d-folding/MSA/7OBQ_1.MSA.fasta\n/kaggle/input/stanford-rna-3d-folding/MSA/2GV3_A.MSA.fasta\n/kaggle/input/stanford-rna-3d-folding/MSA/2R1G_F.MSA.fasta\n/kaggle/input/stanford-rna-3d-folding/MSA/4V6X_BC.MSA.fasta\n/kaggle/input/stanford-rna-3d-folding/MSA/1ROQ_A.MSA.fasta\n/kaggle/input/stanford-rna-3d-folding/MSA/8BD5_B.MSA.fasta\n/kaggle/input/stanford-rna-3d-folding/MSA/1ZDK_S.MSA.fasta\n/kaggle/input/stanford-rna-3d-folding/MSA/8UYS_A.MSA.fasta\n/kaggle/input/stanford-rna-3d-folding/MSA/1XHP_A.MSA.fasta\n/kaggle/input/stanford-rna-3d-folding/MSA/2D1B_B.MSA.fasta\n/kaggle/input/stanford-rna-3d-folding/MSA/1N66_A.MSA.fasta\n/kaggle/input/stanford-rna-3d-folding/MSA/8C98_A.MSA.fasta\n/kaggle/input/stanford-rna-3d-folding/MSA/2HEM_A.MSA.fasta\n/kaggle/input/stanford-rna-3d-folding/MSA/8OMR_C.MSA.fasta\n/kaggle/input/stanford-rna-3d-folding/MSA/7V06_A.MSA.fasta\n/kaggle/input/stanford-rna-3d-folding/MSA/1JWC_A.MSA.fasta\n/kaggle/input/stanford-rna-3d-folding/MSA/4TUC_QY.MSA.fasta\n/kaggle/input/stanford-rna-3d-folding/MSA/2KVN_A.MSA.fasta\n/kaggle/input/stanford-rna-3d-folding/MSA/3WC2_P.MSA.fasta\n/kaggle/input/stanford-rna-3d-folding/MSA/8P0B_V.MSA.fasta\n/kaggle/input/stanford-rna-3d-folding/MSA/2IZM_S.MSA.fasta\n/kaggle/input/stanford-rna-3d-folding/MSA/5KQE_A.MSA.fasta\n/kaggle/input/stanford-rna-3d-folding/MSA/R1149.MSA.fasta\n/kaggle/input/stanford-rna-3d-folding/MSA/3PIP_Y.MSA.fasta\n/kaggle/input/stanford-rna-3d-folding/MSA/1R7Z_A.MSA.fasta\n/kaggle/input/stanford-rna-3d-folding/MSA/R1136.MSA.fasta\n/kaggle/input/stanford-rna-3d-folding/MSA/1K9W_A.MSA.fasta\n/kaggle/input/stanford-rna-3d-folding/MSA/2F88_A.MSA.fasta\n/kaggle/input/stanford-rna-3d-folding/MSA/6AAX_D.MSA.fasta\n/kaggle/input/stanford-rna-3d-folding/MSA/8SCH_A.MSA.fasta\n/kaggle/input/my-protenix-checkpoint/model_v0.2.0.pt\n/kaggle/input/componetns/components.v20240608.cif.rdkit_mol.pkl\n/kaggle/input/componetns/components.v20240608.cif\n/kaggle/input/rna-starter-0-186-lb/__results__.html\n/kaggle/input/rna-starter-0-186-lb/example0_0.pth\n/kaggle/input/rna-starter-0-186-lb/__notebook__.ipynb\n/kaggle/input/rna-starter-0-186-lb/__output__.json\n/kaggle/input/rna-starter-0-186-lb/custom.css\n",
          "output_type": "stream"
        }
      ],
      "execution_count": null
    },
    {
      "cell_type": "code",
      "source": [
        "!rm -rf /af3-dev/release_data\n",
        "!mkdir -p /af3-dev\n",
        "!ln -s /kaggle/input/my-protenix-checkpoint /af3-dev/release_data\n",
        "!ls /af3-dev/release_data\n"
      ],
      "metadata": {
        "trusted": true,
        "execution": {
          "iopub.status.busy": "2025-05-09T04:55:49.618457Z",
          "iopub.execute_input": "2025-05-09T04:55:49.619049Z",
          "iopub.status.idle": "2025-05-09T04:55:50.445154Z",
          "shell.execute_reply.started": "2025-05-09T04:55:49.619021Z",
          "shell.execute_reply": "2025-05-09T04:55:50.443901Z"
        },
        "id": "vtbgmcn8gcF7",
        "outputId": "becd98c8-7e05-4f58-bfa4-ba1e6f6fc8cd"
      },
      "outputs": [
        {
          "name": "stdout",
          "text": "model_v0.2.0.pt\n",
          "output_type": "stream"
        }
      ],
      "execution_count": null
    },
    {
      "cell_type": "code",
      "source": [
        "!ls /af3-dev/release_data"
      ],
      "metadata": {
        "trusted": true,
        "execution": {
          "iopub.status.busy": "2025-05-09T04:55:52.290121Z",
          "iopub.execute_input": "2025-05-09T04:55:52.290442Z",
          "iopub.status.idle": "2025-05-09T04:55:52.497Z",
          "shell.execute_reply.started": "2025-05-09T04:55:52.290416Z",
          "shell.execute_reply": "2025-05-09T04:55:52.495743Z"
        },
        "id": "cN3USyjzgcF8",
        "outputId": "707fc275-c59c-4c2b-d427-c42988b58984"
      },
      "outputs": [
        {
          "name": "stdout",
          "text": "model_v0.2.0.pt\n",
          "output_type": "stream"
        }
      ],
      "execution_count": null
    },
    {
      "cell_type": "code",
      "source": [
        "MODEL_TYPE = 'protenix'\n",
        "VALIDATION = True\n",
        "\n",
        "if MODEL_TYPE == 'protenix' and VALIDATION:\n",
        "    !pip install --no-deps protenix -q\n",
        "    !pip install biopython==1.80 ml-collections biotite==1.0.1 rdkit -q\n",
        "\n",
        "# ❌ ln -s 제거 (불필요함)\n",
        "# ✅ 대신 아래처럼 모델 경로만 정확히 지정\n",
        "from configs.configs_inference import inference_configs\n",
        "inference_configs['load_checkpoint_path'] = '/kaggle/input/my-protenix-checkpoint/model_v0.2.0.pt'\n"
      ],
      "metadata": {
        "trusted": true,
        "execution": {
          "iopub.status.busy": "2025-05-09T04:55:54.177432Z",
          "iopub.execute_input": "2025-05-09T04:55:54.178356Z",
          "iopub.status.idle": "2025-05-09T04:55:59.788684Z",
          "shell.execute_reply.started": "2025-05-09T04:55:54.178318Z",
          "shell.execute_reply": "2025-05-09T04:55:59.78761Z"
        },
        "id": "djx-b0b-gcF9"
      },
      "outputs": [],
      "execution_count": null
    },
    {
      "cell_type": "code",
      "source": [
        "# 필수 모듈\n",
        "import os, sys, time, re, warnings\n",
        "import pandas as pd\n",
        "import numpy as np\n",
        "import torch\n",
        "from tqdm import tqdm\n",
        "from Bio.PDB import PDBParser\n",
        "import matplotlib.pyplot as plt\n",
        "\n",
        "# CIF 파일 경로 환경 변수 설정\n",
        "import os\n",
        "os.environ[\"PROTENIX_CCD_PATH\"] = \"/kaggle/input/components/components.v20240608.cif\"\n",
        "\n",
        "# 경로 추가\n",
        "RHONET_DIR = '/kaggle/input/data-for-demo-for-rhofold-plus-with-kaggle-msa/RhoFold-main'\n",
        "sys.path.append(RHONET_DIR)\n",
        "\n",
        "# USalign binary 경로\n",
        "USALIGN = '/kaggle/input/usalign/USalign'\n"
      ],
      "metadata": {
        "trusted": true,
        "execution": {
          "iopub.status.busy": "2025-05-09T04:56:03.298006Z",
          "iopub.execute_input": "2025-05-09T04:56:03.298798Z",
          "iopub.status.idle": "2025-05-09T04:56:03.305791Z",
          "shell.execute_reply.started": "2025-05-09T04:56:03.298759Z",
          "shell.execute_reply": "2025-05-09T04:56:03.304857Z"
        },
        "id": "t8QOKHYvgcF-"
      },
      "outputs": [],
      "execution_count": null
    },
    {
      "cell_type": "code",
      "source": [
        "def write_xyz_to_pdb(df, pdb_file, xyz_id=1):\n",
        "    def write_line(serial, name, res, chain, resnum, x, y, z):\n",
        "        return f'ATOM  {serial:>5d}  {name:<5s} {res:<3s} {chain}{resnum:>4d}    {x:8.3f}{y:8.3f}{z:8.3f}  1.00  0.00           C\\n'\n",
        "\n",
        "    with open(pdb_file, 'w') as f:\n",
        "        for _, row in df.iterrows():\n",
        "            if all(abs(row[f'{axis}_{xyz_id}']) < 1e5 for axis in 'xyz'):\n",
        "                f.write(write_line(int(row['resid']), \"C1'\", row['resname'], 'A', int(row['resid']),\n",
        "                                   row[f'x_{xyz_id}'], row[f'y_{xyz_id}'], row[f'z_{xyz_id}']))\n",
        "\n",
        "def call_usalign(predict_df, truth_df):\n",
        "    write_xyz_to_pdb(predict_df, 'pred.pdb', xyz_id=1)\n",
        "    write_xyz_to_pdb(truth_df, 'true.pdb', xyz_id=1)\n",
        "    out = os.popen(f\"{USALIGN} pred.pdb true.pdb -atom \\\" C1'\\\" -m -\").read()\n",
        "    try:\n",
        "        tm_score = float(re.findall(r'TM-score=\\s+([\\d.]+)', out)[1])\n",
        "        return tm_score\n",
        "    except:\n",
        "        return None\n",
        "\n",
        "def parse_output_to_df(output, seq, target_id):\n",
        "    result = []\n",
        "    for i, base in enumerate(seq):\n",
        "        entry = {\n",
        "            \"ID\": f\"{target_id}_{i+1}\", \"resname\": base, \"resid\": i+1\n",
        "        }\n",
        "        for j in range(output.shape[0]):\n",
        "            entry.update({\n",
        "                f'x_{j+1}': output[j, i, 0].item(),\n",
        "                f'y_{j+1}': output[j, i, 1].item(),\n",
        "                f'z_{j+1}': output[j, i, 2].item(),\n",
        "            })\n",
        "        result.append(entry)\n",
        "    return pd.DataFrame(result)\n"
      ],
      "metadata": {
        "trusted": true,
        "execution": {
          "iopub.status.busy": "2025-05-09T04:56:06.082552Z",
          "iopub.execute_input": "2025-05-09T04:56:06.082844Z",
          "iopub.status.idle": "2025-05-09T04:56:06.096848Z",
          "shell.execute_reply.started": "2025-05-09T04:56:06.082824Z",
          "shell.execute_reply": "2025-05-09T04:56:06.095887Z"
        },
        "id": "6IiIV69zgcF_"
      },
      "outputs": [],
      "execution_count": null
    },
    {
      "cell_type": "code",
      "source": [
        "from configs.configs_base import configs as configs_base\n",
        "from configs.configs_data import data_configs\n",
        "from protenix.config.config import parse_configs\n",
        "from runner.inference import InferenceRunner, update_inference_configs\n",
        "from protenix.data.infer_data_pipeline import InferenceDataset\n",
        "\n",
        "# 설정 통합\n",
        "configs_base[\"use_deepspeed_evo_attention\"] = False\n",
        "configs_base[\"model\"][\"N_cycle\"] = 10\n",
        "configs_base[\"sample_diffusion\"][\"N_sample\"] = 1\n",
        "configs_base[\"sample_diffusion\"][\"N_step\"] = 200\n",
        "\n",
        "from configs.configs_inference import inference_configs  # 이미 지정됨\n",
        "configs = {**configs_base, **{\"data\": data_configs}, **inference_configs}\n",
        "configs = parse_configs(configs=configs, fill_required_with_null=True)\n",
        "runner = InferenceRunner(configs)\n",
        "\n",
        "# 데이터 로드\n",
        "label_df = pd.read_csv(\"/kaggle/input/stanford-rna-3d-folding/train_labels.csv\")\n",
        "label_df['target_id'] = label_df['ID'].apply(lambda x: '_'.join(x.split('_')[:-1]))\n",
        "seq_df = pd.read_csv(\"/kaggle/input/stanford-rna-3d-folding/train_sequences.csv\")\n",
        "seq_df['tm_score'] = np.nan\n"
      ],
      "metadata": {
        "trusted": true,
        "execution": {
          "iopub.status.busy": "2025-05-09T04:56:08.506539Z",
          "iopub.execute_input": "2025-05-09T04:56:08.506866Z",
          "iopub.status.idle": "2025-05-09T04:56:19.864056Z",
          "shell.execute_reply.started": "2025-05-09T04:56:08.506841Z",
          "shell.execute_reply": "2025-05-09T04:56:19.863407Z"
        },
        "id": "rwWYiOcVgcF_",
        "outputId": "3800cdd6-0dea-4544-b370-1e96c95cbd86"
      },
      "outputs": [
        {
          "name": "stdout",
          "text": "train scheduler 16.0\ninference scheduler 16.0\nDiffusion Module has 16.0\n",
          "output_type": "stream"
        }
      ],
      "execution_count": null
    },
    {
      "cell_type": "code",
      "source": [
        "class DictDataset(InferenceDataset):\n",
        "    def __init__(self, seq_list, id_list):\n",
        "        self.inputs = [{\n",
        "            \"sequences\": [{\"rnaSequence\": {\"sequence\": seq, \"count\": 1}}],\n",
        "            \"name\": tid\n",
        "        } for seq, tid in zip(seq_list, id_list)]\n",
        "\n",
        "dataset = DictDataset(seq_df['sequence'], seq_df['target_id'])\n",
        "\n",
        "\n",
        "warnings.filterwarnings(\"ignore\")\n",
        "start_time = time.time()\n",
        "\n",
        "for i in tqdm(range(len(dataset))):\n",
        "    seq = seq_df.loc[i, 'sequence']\n",
        "    if len(seq) > 300:\n",
        "        continue\n",
        "    target_id = '_'.join(seq_df.loc[i, 'target_id'].split('_')[:-1])\n",
        "    truth_df = label_df[label_df['target_id'] == target_id].reset_index(drop=True)\n",
        "    if len(truth_df) < 3: continue\n",
        "\n",
        "    data, atom_array, error = dataset[i]\n",
        "    if error: continue\n",
        "    new_cfg = update_inference_configs(configs, data[\"N_token\"].item())\n",
        "    runner.update_model_configs(new_cfg)\n",
        "\n",
        "    try:\n",
        "        pred = runner.predict(data)\n",
        "        coords = pred['coordinate'][:, data['input_feature_dict']['atom_to_tokatom_idx'] == 12]\n",
        "        pred_df = parse_output_to_df(coords[:1], seq, target_id)\n",
        "        tm_score = call_usalign(pred_df, truth_df)\n",
        "        seq_df.loc[i, 'tm_score'] = tm_score\n",
        "    except:\n",
        "        continue\n",
        "\n",
        "    if time.time() - start_time > (12 * 3600 - 600):\n",
        "        break\n",
        "\n",
        "# 저장\n",
        "seq_df.to_csv(\"tm_scores.csv\", index=False)\n"
      ],
      "metadata": {
        "trusted": true,
        "execution": {
          "iopub.status.busy": "2025-05-09T04:56:28.033407Z",
          "iopub.execute_input": "2025-05-09T04:56:28.033729Z",
          "iopub.status.idle": "2025-05-09T04:56:36.87287Z",
          "shell.execute_reply.started": "2025-05-09T04:56:28.033703Z",
          "shell.execute_reply": "2025-05-09T04:56:36.871878Z"
        },
        "id": "I5mHGLXwgcGA",
        "outputId": "23413b5c-a788-461f-a5ce-4b682940443c"
      },
      "outputs": [
        {
          "name": "stderr",
          "text": "100%|██████████| 844/844 [00:08<00:00, 96.78it/s] \n",
          "output_type": "stream"
        }
      ],
      "execution_count": null
    },
    {
      "cell_type": "code",
      "source": [
        "class DictDataset(InferenceDataset):\n",
        "    def __init__(self, seq_list: list, id_list: list = None, use_msa: bool = False):\n",
        "        self.use_msa = use_msa\n",
        "        if isinstance(id_list, type(None)):\n",
        "            self.inputs = [{\n",
        "                \"sequences\": [{\"rnaSequence\": {\"sequence\": seq, \"count\": 1}}],\n",
        "                \"name\": \"query\"\n",
        "            } for seq in seq_list]\n",
        "        else:\n",
        "            self.inputs = [{\n",
        "                \"sequences\": [{\"rnaSequence\": {\"sequence\": seq, \"count\": 1}}],\n",
        "                \"name\": i\n",
        "            } for seq, i in zip(seq_list, id_list)]\n"
      ],
      "metadata": {
        "trusted": true,
        "execution": {
          "iopub.status.busy": "2025-05-09T04:56:39.184892Z",
          "iopub.execute_input": "2025-05-09T04:56:39.185258Z",
          "iopub.status.idle": "2025-05-09T04:56:39.191556Z",
          "shell.execute_reply.started": "2025-05-09T04:56:39.185231Z",
          "shell.execute_reply": "2025-05-09T04:56:39.190551Z"
        },
        "id": "i8KHP_KogcGB"
      },
      "outputs": [],
      "execution_count": null
    },
    {
      "cell_type": "code",
      "source": [
        "def get_truth_df(target_id):\n",
        "    truth_df = LABEL_DF[LABEL_DF['target_id'] == target_id]\n",
        "    return truth_df.reset_index(drop=True)\n",
        "\n",
        "import warnings\n",
        "warnings.filterwarnings(\"ignore\")\n",
        "\n",
        "# 1. 데이터 불러오기\n",
        "seq_df = pd.read_csv(\"/kaggle/input/stanford-rna-3d-folding/train_sequences.csv\")\n",
        "label_df = pd.read_csv(\"/kaggle/input/stanford-rna-3d-folding/train_labels.csv\")\n",
        "label_df[\"target_id\"] = label_df[\"ID\"].apply(lambda x: \"_\".join(x.split(\"_\")[:-1]))\n",
        "\n",
        "# 2. get_truth_df() 함수에서 참조할 전역 변수 설정\n",
        "LABEL_DF = label_df\n",
        "\n",
        "# 3. DictDataset 구성\n",
        "dataset = DictDataset(seq_list=seq_df[\"sequence\"], id_list=seq_df[\"target_id\"], use_msa=False)\n",
        "\n",
        "\n",
        "# 4. 추론 실행\n",
        "seq_df[\"protenix_tm_score\"] = None\n",
        "for i, seq in tqdm(enumerate(seq_df[\"sequence\"]), total=len(seq_df)):\n",
        "    if seq_df.loc[i, \"protenix_tm_score\"] is not None:\n",
        "        continue\n",
        "    if len(seq) > 300:\n",
        "        continue\n",
        "\n",
        "    target_id = seq_df.loc[i, \"target_id\"]\n",
        "    truth_df = get_truth_df(target_id)\n",
        "    if sum(~np.isnan(truth_df.x_1)) < 3:\n",
        "        continue\n",
        "\n",
        "    data, atom_array, err = dataset[i]\n",
        "    if err != \"\":\n",
        "        continue\n",
        "\n",
        "    new_cfg = update_inference_configs(configs, data[\"N_token\"].item())\n",
        "    runner.update_model_configs(new_cfg)\n",
        "\n",
        "    try:\n",
        "        prediction = runner.predict(data)\n",
        "        coords = prediction[\"coordinate\"][:, data[\"input_feature_dict\"][\"atom_to_tokatom_idx\"] == 12]\n",
        "        result_df = parse_output_to_df(coords[:1], seq, target_id)[0]\n",
        "        tm_score, _ = call_usalign(result_df, truth_df, verbose=0)\n",
        "        seq_df.loc[i, \"protenix_tm_score\"] = tm_score\n",
        "    except Exception as e:\n",
        "        print(f\"❌ 실패: {target_id} → {e}\")\n",
        "        continue\n",
        "\n",
        "    if (time.time() - time0) > (12 * 3600 - 360):\n",
        "        print(\"⏳ 시간 초과. 중단합니다.\")\n",
        "        break\n",
        "\n",
        "# 5. 결과 저장\n",
        "seq_df.to_csv(\"tm_scores.csv\", index=False)\n",
        "print(\"✅ 평균 TM-score:\", seq_df[\"protenix_tm_score\"].mean())\n",
        "seq_df[\"protenix_tm_score\"].hist()\n"
      ],
      "metadata": {
        "trusted": true,
        "execution": {
          "iopub.status.busy": "2025-05-09T04:56:41.561233Z",
          "iopub.execute_input": "2025-05-09T04:56:41.561553Z",
          "iopub.status.idle": "2025-05-09T04:56:52.654633Z",
          "shell.execute_reply.started": "2025-05-09T04:56:41.561529Z",
          "shell.execute_reply": "2025-05-09T04:56:52.653786Z"
        },
        "id": "O_mkXPnVgcGB",
        "outputId": "d16018d1-550f-45b4-8af2-2572f0090aa6"
      },
      "outputs": [
        {
          "name": "stderr",
          "text": "100%|██████████| 844/844 [00:10<00:00, 80.33it/s] \n",
          "output_type": "stream"
        },
        {
          "name": "stdout",
          "text": "✅ 평균 TM-score: nan\n",
          "output_type": "stream"
        },
        {
          "execution_count": 48,
          "output_type": "execute_result",
          "data": {
            "text/plain": "<Axes: >"
          },
          "metadata": {}
        },
        {
          "output_type": "display_data",
          "data": {
            "text/plain": "<Figure size 640x480 with 1 Axes>",
            "image/png": "[encoded data removed]"
          },
          "metadata": {}
        }
      ],
      "execution_count": null
    },
    {
      "cell_type": "code",
      "source": [
        "import protenix.data.ccd as ccd\n",
        "\n",
        "ccd.COMPONENTS_FILE = \"/kaggle/input/components/components.v20240608.cif\"\n",
        "ccd.RDKIT_MOL_FILE = \"/kaggle/input/components/components.v20240608.cif.rdkit_mol.pkl\"\n"
      ],
      "metadata": {
        "trusted": true,
        "execution": {
          "iopub.status.busy": "2025-05-09T05:20:11.62027Z",
          "iopub.execute_input": "2025-05-09T05:20:11.621089Z",
          "iopub.status.idle": "2025-05-09T05:20:11.626079Z",
          "shell.execute_reply.started": "2025-05-09T05:20:11.621057Z",
          "shell.execute_reply": "2025-05-09T05:20:11.624982Z"
        },
        "id": "X44yQmjcgcGC"
      },
      "outputs": [],
      "execution_count": null
    },
    {
      "cell_type": "code",
      "source": [
        "dataset = DictDataset(seq_list=seq_df[\"sequence\"], id_list=seq_df[\"target_id\"], use_msa=False)\n"
      ],
      "metadata": {
        "trusted": true,
        "execution": {
          "iopub.status.busy": "2025-05-09T05:23:00.455463Z",
          "iopub.execute_input": "2025-05-09T05:23:00.456409Z",
          "iopub.status.idle": "2025-05-09T05:23:00.463065Z",
          "shell.execute_reply.started": "2025-05-09T05:23:00.456378Z",
          "shell.execute_reply": "2025-05-09T05:23:00.462071Z"
        },
        "id": "Ahckt00EgcGC"
      },
      "outputs": [],
      "execution_count": null
    },
    {
      "cell_type": "code",
      "source": [
        "test_idx = 0\n",
        "test_seq = seq_df.loc[test_idx, \"sequence\"]\n",
        "test_id = seq_df.loc[test_idx, \"target_id\"]\n",
        "truth_df = get_truth_df(test_id)\n",
        "\n",
        "data, atom_array, err = dataset[test_idx]\n",
        "print(\"⚠️ Error 메시지:\", err)\n",
        "\n",
        "if \"N_token\" in data:\n",
        "    new_cfg = update_inference_configs(configs, data[\"N_token\"].item())\n",
        "    runner.update_model_configs(new_cfg)\n",
        "\n",
        "    prediction = runner.predict(data)\n",
        "    coords = prediction[\"coordinate\"][:, data[\"input_feature_dict\"][\"atom_to_tokatom_idx\"] == 12]\n",
        "\n",
        "    result_df = parse_output_to_df(coords[:1], test_seq, test_id)[0]\n",
        "    tm_score, _ = call_usalign(result_df, truth_df, verbose=1)\n",
        "    print(\"✅ 단일 TM-score:\", tm_score)\n",
        "else:\n",
        "    print(\"❌ N_token 없음 → 추론 불가\")\n"
      ],
      "metadata": {
        "trusted": true,
        "execution": {
          "iopub.status.busy": "2025-05-09T05:24:33.207986Z",
          "iopub.execute_input": "2025-05-09T05:24:33.208375Z",
          "iopub.status.idle": "2025-05-09T05:24:33.240113Z",
          "shell.execute_reply.started": "2025-05-09T05:24:33.20835Z",
          "shell.execute_reply": "2025-05-09T05:24:33.23901Z"
        },
        "id": "0mavCLcIgcGD",
        "outputId": "10ec7ab5-af7f-4c5c-e211-6c61a5fe35f1"
      },
      "outputs": [
        {
          "name": "stdout",
          "text": "⚠️ Error 메시지: CCD components file /usr/local/lib/python3.11/dist-packages/release_data/ccd_cache/components.v20240608.cif.rdkit_mol.pkl not found, please download it to your DATA_ROOT_DIR before running.See https://github.com/bytedance/Protenix:\nTraceback (most recent call last):\n  File \"/usr/local/lib/python3.11/dist-packages/protenix/data/infer_data_pipeline.py\", line 211, in __getitem__\n    data, atom_array, _ = self.process_one(\n                          ^^^^^^^^^^^^^^^^^\n  File \"/usr/local/lib/python3.11/dist-packages/protenix/data/infer_data_pipeline.py\", line 101, in process_one\n    sample2feat = SampleDictToFeatures(\n                  ^^^^^^^^^^^^^^^^^^^^^\n  File \"/usr/local/lib/python3.11/dist-packages/protenix/data/json_to_feature.py\", line 34, in __init__\n    self.input_dict = add_entity_atom_array(single_sample_dict)\n                      ^^^^^^^^^^^^^^^^^^^^^^^^^^^^^^^^^^^^^^^^^\n  File \"/usr/local/lib/python3.11/dist-packages/protenix/data/json_parser.py\", line 609, in add_entity_atom_array\n    atom_info = build_polymer(entity_info)\n                ^^^^^^^^^^^^^^^^^^^^^^^^^^\n  File \"/usr/local/lib/python3.11/dist-packages/protenix/data/json_parser.py\", line 364, in build_polymer\n    chain_array = add_reference_features(chain_array)\n                  ^^^^^^^^^^^^^^^^^^^^^^^^^^^^^^^^^^^\n  File \"/usr/local/lib/python3.11/dist-packages/protenix/data/json_parser.py\", line 107, in add_reference_features\n    ref_info = ccd.get_ccd_ref_info(res_name)\n               ^^^^^^^^^^^^^^^^^^^^^^^^^^^^^^\n  File \"/usr/local/lib/python3.11/dist-packages/protenix/data/ccd.py\", line 243, in get_ccd_ref_info\n    mol = get_component_rdkit_mol(ccd_code)\n          ^^^^^^^^^^^^^^^^^^^^^^^^^^^^^^^^^\n  File \"/usr/local/lib/python3.11/dist-packages/protenix/data/ccd.py\", line 212, in get_component_rdkit_mol\n    raise FileNotFoundError(\nFileNotFoundError: CCD components file /usr/local/lib/python3.11/dist-packages/release_data/ccd_cache/components.v20240608.cif.rdkit_mol.pkl not found, please download it to your DATA_ROOT_DIR before running.See https://github.com/bytedance/Protenix\n\n❌ N_token 없음 → 추론 불가\n",
          "output_type": "stream"
        }
      ],
      "execution_count": null
    }
  ]
}