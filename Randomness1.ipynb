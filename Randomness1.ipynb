{
  "metadata": {
    "kernelspec": {
      "language": "python",
      "display_name": "Python 3",
      "name": "python3"
    },
    "language_info": {
      "name": "python",
      "version": "3.10.12",
      "mimetype": "text/x-python",
      "codemirror_mode": {
        "name": "ipython",
        "version": 3
      },
      "pygments_lexer": "ipython3",
      "nbconvert_exporter": "python",
      "file_extension": ".py"
    },
    "kaggle": {
      "accelerator": "none",
      "dataSources": [
        {
          "sourceId": 87793,
          "databundleVersionId": 12276181,
          "isSourceIdPinned": false,
          "sourceType": "competition"
        },
        {
          "sourceId": 10855324,
          "sourceType": "datasetVersion",
          "datasetId": 6742586
        },
        {
          "sourceId": 11118830,
          "sourceType": "datasetVersion",
          "datasetId": 6933267
        },
        {
          "sourceId": 11830543,
          "sourceType": "datasetVersion",
          "datasetId": 7432215
        },
        {
          "sourceId": 11830789,
          "sourceType": "datasetVersion",
          "datasetId": 7432367
        },
        {
          "sourceId": 11831460,
          "sourceType": "datasetVersion",
          "datasetId": 7432831
        },
        {
          "sourceId": 224830487,
          "sourceType": "kernelVersion"
        }
      ],
      "dockerImageVersionId": 30919,
      "isInternetEnabled": false,
      "language": "python",
      "sourceType": "notebook",
      "isGpuEnabled": false
    },
    "colab": {
      "name": "Randomness",
      "provenance": [],
      "include_colab_link": true
    }
  },
  "nbformat_minor": 0,
  "nbformat": 4,
  "cells": [
    {
      "cell_type": "markdown",
      "metadata": {
        "id": "view-in-github",
        "colab_type": "text"
      },
      "source": [
        "<a href=\"https://colab.research.google.com/github/Hanbin-git/kaggle/blob/main/Randomness1.ipynb\" target=\"_parent\"><img src=\"https://colab.research.google.com/assets/colab-badge.svg\" alt=\"Open In Colab\"/></a>"
      ]
    },
    {
      "source": [
        "# IMPORTANT: SOME KAGGLE DATA SOURCES ARE PRIVATE\n",
        "# RUN THIS CELL IN ORDER TO IMPORT YOUR KAGGLE DATA SOURCES.\n",
        "import kagglehub\n",
        "kagglehub.login()\n"
      ],
      "metadata": {
        "id": "fjPE2m-qkVY6"
      },
      "cell_type": "code",
      "outputs": [],
      "execution_count": null
    },
    {
      "source": [
        "# IMPORTANT: RUN THIS CELL IN ORDER TO IMPORT YOUR KAGGLE DATA SOURCES,\n",
        "# THEN FEEL FREE TO DELETE THIS CELL.\n",
        "# NOTE: THIS NOTEBOOK ENVIRONMENT DIFFERS FROM KAGGLE'S PYTHON\n",
        "# ENVIRONMENT SO THERE MAY BE MISSING LIBRARIES USED BY YOUR\n",
        "# NOTEBOOK.\n",
        "\n",
        "stanford_rna_3d_folding_path = kagglehub.competition_download('stanford-rna-3d-folding')\n",
        "metric_usalign_path = kagglehub.dataset_download('metric/usalign')\n",
        "geraseva_protenix_checkpoints_path = kagglehub.dataset_download('geraseva/protenix-checkpoints')\n",
        "biniroun_protenix_packages_path = kagglehub.dataset_download('biniroun/protenix-packages')\n",
        "biniroun_linux_biowheels_310_path = kagglehub.dataset_download('biniroun/linux-biowheels-310')\n",
        "biniroun_linux_mlwhl_311_path = kagglehub.dataset_download('biniroun/linux-mlwhl-311')\n",
        "metric_ribonanza_tm_score_path = kagglehub.notebook_output_download('metric/ribonanza-tm-score')\n",
        "\n",
        "print('Data source import complete.')\n"
      ],
      "metadata": {
        "id": "jyiJTU01kVY9"
      },
      "cell_type": "code",
      "outputs": [],
      "execution_count": null
    },
    {
      "cell_type": "code",
      "source": [
        "!pip install --no-index --find-links=/kaggle/input/linux-biowheels-310 biopython numpy\n"
      ],
      "metadata": {
        "trusted": true,
        "execution": {
          "iopub.status.busy": "2025-05-16T03:41:56.088386Z",
          "iopub.execute_input": "2025-05-16T03:41:56.088656Z",
          "iopub.status.idle": "2025-05-16T03:42:00.555722Z",
          "shell.execute_reply.started": "2025-05-16T03:41:56.088635Z",
          "shell.execute_reply": "2025-05-16T03:42:00.554849Z"
        },
        "id": "CqJxCiFQkVY-",
        "outputId": "ec27abfd-9ed3-4657-a509-9ea4c8b5a93f"
      },
      "outputs": [
        {
          "name": "stdout",
          "text": "Looking in links: /kaggle/input/linux-biowheels-310\nProcessing /kaggle/input/linux-biowheels-310/biopython-1.81-cp310-cp310-manylinux_2_17_x86_64.manylinux2014_x86_64.whl\nRequirement already satisfied: numpy in /usr/local/lib/python3.10/dist-packages (1.26.4)\nRequirement already satisfied: mkl_fft in /usr/local/lib/python3.10/dist-packages (from numpy) (1.3.8)\nRequirement already satisfied: mkl_random in /usr/local/lib/python3.10/dist-packages (from numpy) (1.2.4)\nRequirement already satisfied: mkl_umath in /usr/local/lib/python3.10/dist-packages (from numpy) (0.1.1)\nRequirement already satisfied: mkl in /usr/local/lib/python3.10/dist-packages (from numpy) (2025.0.1)\nRequirement already satisfied: tbb4py in /usr/local/lib/python3.10/dist-packages (from numpy) (2022.0.0)\nRequirement already satisfied: mkl-service in /usr/local/lib/python3.10/dist-packages (from numpy) (2.4.1)\nRequirement already satisfied: intel-openmp>=2024 in /usr/local/lib/python3.10/dist-packages (from mkl->numpy) (2024.2.0)\nRequirement already satisfied: tbb==2022.* in /usr/local/lib/python3.10/dist-packages (from mkl->numpy) (2022.0.0)\nRequirement already satisfied: tcmlib==1.* in /usr/local/lib/python3.10/dist-packages (from tbb==2022.*->mkl->numpy) (1.2.0)\nRequirement already satisfied: intel-cmplr-lib-rt in /usr/local/lib/python3.10/dist-packages (from mkl_umath->numpy) (2024.2.0)\nRequirement already satisfied: intel-cmplr-lib-ur==2024.2.0 in /usr/local/lib/python3.10/dist-packages (from intel-openmp>=2024->mkl->numpy) (2024.2.0)\nInstalling collected packages: biopython\nSuccessfully installed biopython-1.81\n",
          "output_type": "stream"
        }
      ],
      "execution_count": null
    },
    {
      "cell_type": "code",
      "source": [
        "!pip install --no-index --find-links=/kaggle/input/linux-mlwhl-311 ml-collections contextlib2\n"
      ],
      "metadata": {
        "trusted": true,
        "execution": {
          "iopub.status.busy": "2025-05-16T05:07:07.969654Z",
          "iopub.execute_input": "2025-05-16T05:07:07.970004Z",
          "iopub.status.idle": "2025-05-16T05:07:13.459066Z",
          "shell.execute_reply.started": "2025-05-16T05:07:07.969976Z",
          "shell.execute_reply": "2025-05-16T05:07:13.457681Z"
        },
        "id": "UZqwS5N6kVY_",
        "outputId": "0bc1a7ec-629d-4ce7-d695-181703a7287c"
      },
      "outputs": [
        {
          "name": "stdout",
          "text": "Looking in links: /kaggle/input/linux-mlwhl-311\nProcessing /kaggle/input/linux-mlwhl-311/ml_collections-0.1.0-py3-none-any.whl\nProcessing /kaggle/input/linux-mlwhl-311/contextlib2-21.6.0-py2.py3-none-any.whl\nRequirement already satisfied: absl-py in /usr/local/lib/python3.10/dist-packages (from ml-collections) (1.4.0)\nRequirement already satisfied: PyYAML in /usr/local/lib/python3.10/dist-packages (from ml-collections) (6.0.2)\nRequirement already satisfied: six in /usr/local/lib/python3.10/dist-packages (from ml-collections) (1.17.0)\nInstalling collected packages: contextlib2, ml-collections\nSuccessfully installed contextlib2-21.6.0 ml-collections-0.1.0\n",
          "output_type": "stream"
        }
      ],
      "execution_count": null
    },
    {
      "cell_type": "code",
      "source": [
        "!python train_model.py --config configs/train_config.yaml --output_dir ./outputs/\n",
        "\n"
      ],
      "metadata": {
        "trusted": true,
        "execution": {
          "iopub.status.busy": "2025-05-16T05:15:45.395294Z",
          "iopub.execute_input": "2025-05-16T05:15:45.395685Z",
          "iopub.status.idle": "2025-05-16T05:15:45.651519Z",
          "shell.execute_reply.started": "2025-05-16T05:15:45.395654Z",
          "shell.execute_reply": "2025-05-16T05:15:45.650043Z"
        },
        "id": "yLvxb68zkVY_",
        "outputId": "b63d319d-8680-47b4-94f1-a9bd1e18c2e0"
      },
      "outputs": [
        {
          "name": "stdout",
          "text": "python3: can't open file '/kaggle/input/protenix-checkpoints/train_model.py': [Errno 2] No such file or directory\n",
          "output_type": "stream"
        }
      ],
      "execution_count": null
    }
  ]
}