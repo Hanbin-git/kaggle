{
  "nbformat": 4,
  "nbformat_minor": 0,
  "metadata": {
    "colab": {
      "provenance": [],
      "machine_shape": "hm",
      "gpuType": "A100",
      "mount_file_id": "14iiy2W6xhoVBK07pWXW0K-p2Sqt4z_U7",
      "authorship_tag": "ABX9TyOA7yDkVKwO+cUvVPbK5Wyt",
      "include_colab_link": true
    },
    "kernelspec": {
      "name": "python3",
      "display_name": "Python 3"
    },
    "language_info": {
      "name": "python"
    },
    "accelerator": "GPU"
  },
  "cells": [
    {
      "cell_type": "markdown",
      "metadata": {
        "id": "view-in-github",
        "colab_type": "text"
      },
      "source": [
        "<a href=\"https://colab.research.google.com/github/Hanbin-git/kaggle/blob/main/test2.ipynb\" target=\"_parent\"><img src=\"https://colab.research.google.com/assets/colab-badge.svg\" alt=\"Open In Colab\"/></a>"
      ]
    },
    {
      "cell_type": "code",
      "source": [
        "!pip install timm\n",
        "!pip install scikit-learn\n"
      ],
      "metadata": {
        "colab": {
          "base_uri": "https://localhost:8080/"
        },
        "id": "H8Oev3TaNELl",
        "outputId": "c77f37cf-9eba-4e7a-8abb-a81213f9440e"
      },
      "execution_count": 1,
      "outputs": [
        {
          "output_type": "stream",
          "name": "stdout",
          "text": [
            "Requirement already satisfied: timm in /usr/local/lib/python3.11/dist-packages (1.0.15)\n",
            "Requirement already satisfied: torch in /usr/local/lib/python3.11/dist-packages (from timm) (2.6.0+cu124)\n",
            "Requirement already satisfied: torchvision in /usr/local/lib/python3.11/dist-packages (from timm) (0.21.0+cu124)\n",
            "Requirement already satisfied: pyyaml in /usr/local/lib/python3.11/dist-packages (from timm) (6.0.2)\n",
            "Requirement already satisfied: huggingface_hub in /usr/local/lib/python3.11/dist-packages (from timm) (0.31.4)\n",
            "Requirement already satisfied: safetensors in /usr/local/lib/python3.11/dist-packages (from timm) (0.5.3)\n",
            "Requirement already satisfied: filelock in /usr/local/lib/python3.11/dist-packages (from huggingface_hub->timm) (3.18.0)\n",
            "Requirement already satisfied: fsspec>=2023.5.0 in /usr/local/lib/python3.11/dist-packages (from huggingface_hub->timm) (2025.3.2)\n",
            "Requirement already satisfied: packaging>=20.9 in /usr/local/lib/python3.11/dist-packages (from huggingface_hub->timm) (24.2)\n",
            "Requirement already satisfied: requests in /usr/local/lib/python3.11/dist-packages (from huggingface_hub->timm) (2.32.3)\n",
            "Requirement already satisfied: tqdm>=4.42.1 in /usr/local/lib/python3.11/dist-packages (from huggingface_hub->timm) (4.67.1)\n",
            "Requirement already satisfied: typing-extensions>=3.7.4.3 in /usr/local/lib/python3.11/dist-packages (from huggingface_hub->timm) (4.13.2)\n",
            "Requirement already satisfied: networkx in /usr/local/lib/python3.11/dist-packages (from torch->timm) (3.4.2)\n",
            "Requirement already satisfied: jinja2 in /usr/local/lib/python3.11/dist-packages (from torch->timm) (3.1.6)\n",
            "Requirement already satisfied: nvidia-cuda-nvrtc-cu12==12.4.127 in /usr/local/lib/python3.11/dist-packages (from torch->timm) (12.4.127)\n",
            "Requirement already satisfied: nvidia-cuda-runtime-cu12==12.4.127 in /usr/local/lib/python3.11/dist-packages (from torch->timm) (12.4.127)\n",
            "Requirement already satisfied: nvidia-cuda-cupti-cu12==12.4.127 in /usr/local/lib/python3.11/dist-packages (from torch->timm) (12.4.127)\n",
            "Requirement already satisfied: nvidia-cudnn-cu12==9.1.0.70 in /usr/local/lib/python3.11/dist-packages (from torch->timm) (9.1.0.70)\n",
            "Requirement already satisfied: nvidia-cublas-cu12==12.4.5.8 in /usr/local/lib/python3.11/dist-packages (from torch->timm) (12.4.5.8)\n",
            "Requirement already satisfied: nvidia-cufft-cu12==11.2.1.3 in /usr/local/lib/python3.11/dist-packages (from torch->timm) (11.2.1.3)\n",
            "Requirement already satisfied: nvidia-curand-cu12==10.3.5.147 in /usr/local/lib/python3.11/dist-packages (from torch->timm) (10.3.5.147)\n",
            "Requirement already satisfied: nvidia-cusolver-cu12==11.6.1.9 in /usr/local/lib/python3.11/dist-packages (from torch->timm) (11.6.1.9)\n",
            "Requirement already satisfied: nvidia-cusparse-cu12==12.3.1.170 in /usr/local/lib/python3.11/dist-packages (from torch->timm) (12.3.1.170)\n",
            "Requirement already satisfied: nvidia-cusparselt-cu12==0.6.2 in /usr/local/lib/python3.11/dist-packages (from torch->timm) (0.6.2)\n",
            "Requirement already satisfied: nvidia-nccl-cu12==2.21.5 in /usr/local/lib/python3.11/dist-packages (from torch->timm) (2.21.5)\n",
            "Requirement already satisfied: nvidia-nvtx-cu12==12.4.127 in /usr/local/lib/python3.11/dist-packages (from torch->timm) (12.4.127)\n",
            "Requirement already satisfied: nvidia-nvjitlink-cu12==12.4.127 in /usr/local/lib/python3.11/dist-packages (from torch->timm) (12.4.127)\n",
            "Requirement already satisfied: triton==3.2.0 in /usr/local/lib/python3.11/dist-packages (from torch->timm) (3.2.0)\n",
            "Requirement already satisfied: sympy==1.13.1 in /usr/local/lib/python3.11/dist-packages (from torch->timm) (1.13.1)\n",
            "Requirement already satisfied: mpmath<1.4,>=1.1.0 in /usr/local/lib/python3.11/dist-packages (from sympy==1.13.1->torch->timm) (1.3.0)\n",
            "Requirement already satisfied: numpy in /usr/local/lib/python3.11/dist-packages (from torchvision->timm) (2.0.2)\n",
            "Requirement already satisfied: pillow!=8.3.*,>=5.3.0 in /usr/local/lib/python3.11/dist-packages (from torchvision->timm) (11.2.1)\n",
            "Requirement already satisfied: MarkupSafe>=2.0 in /usr/local/lib/python3.11/dist-packages (from jinja2->torch->timm) (3.0.2)\n",
            "Requirement already satisfied: charset-normalizer<4,>=2 in /usr/local/lib/python3.11/dist-packages (from requests->huggingface_hub->timm) (3.4.2)\n",
            "Requirement already satisfied: idna<4,>=2.5 in /usr/local/lib/python3.11/dist-packages (from requests->huggingface_hub->timm) (3.10)\n",
            "Requirement already satisfied: urllib3<3,>=1.21.1 in /usr/local/lib/python3.11/dist-packages (from requests->huggingface_hub->timm) (2.4.0)\n",
            "Requirement already satisfied: certifi>=2017.4.17 in /usr/local/lib/python3.11/dist-packages (from requests->huggingface_hub->timm) (2025.4.26)\n",
            "Requirement already satisfied: scikit-learn in /usr/local/lib/python3.11/dist-packages (1.6.1)\n",
            "Requirement already satisfied: numpy>=1.19.5 in /usr/local/lib/python3.11/dist-packages (from scikit-learn) (2.0.2)\n",
            "Requirement already satisfied: scipy>=1.6.0 in /usr/local/lib/python3.11/dist-packages (from scikit-learn) (1.15.3)\n",
            "Requirement already satisfied: joblib>=1.2.0 in /usr/local/lib/python3.11/dist-packages (from scikit-learn) (1.5.0)\n",
            "Requirement already satisfied: threadpoolctl>=3.1.0 in /usr/local/lib/python3.11/dist-packages (from scikit-learn) (3.6.0)\n"
          ]
        }
      ]
    },
    {
      "cell_type": "code",
      "source": [
        "!pip install efficientnet_pytorch"
      ],
      "metadata": {
        "colab": {
          "base_uri": "https://localhost:8080/"
        },
        "id": "tskYMBp2SHKg",
        "outputId": "408c0c7a-6d0e-4dbc-cedd-e4cc33b84ca5"
      },
      "execution_count": 2,
      "outputs": [
        {
          "output_type": "stream",
          "name": "stdout",
          "text": [
            "Collecting efficientnet_pytorch\n",
            "  Downloading efficientnet_pytorch-0.7.1.tar.gz (21 kB)\n",
            "  Preparing metadata (setup.py) ... \u001b[?25l\u001b[?25hdone\n",
            "Requirement already satisfied: torch in /usr/local/lib/python3.11/dist-packages (from efficientnet_pytorch) (2.6.0+cu124)\n",
            "Requirement already satisfied: filelock in /usr/local/lib/python3.11/dist-packages (from torch->efficientnet_pytorch) (3.18.0)\n",
            "Requirement already satisfied: typing-extensions>=4.10.0 in /usr/local/lib/python3.11/dist-packages (from torch->efficientnet_pytorch) (4.13.2)\n",
            "Requirement already satisfied: networkx in /usr/local/lib/python3.11/dist-packages (from torch->efficientnet_pytorch) (3.4.2)\n",
            "Requirement already satisfied: jinja2 in /usr/local/lib/python3.11/dist-packages (from torch->efficientnet_pytorch) (3.1.6)\n",
            "Requirement already satisfied: fsspec in /usr/local/lib/python3.11/dist-packages (from torch->efficientnet_pytorch) (2025.3.2)\n",
            "Requirement already satisfied: nvidia-cuda-nvrtc-cu12==12.4.127 in /usr/local/lib/python3.11/dist-packages (from torch->efficientnet_pytorch) (12.4.127)\n",
            "Requirement already satisfied: nvidia-cuda-runtime-cu12==12.4.127 in /usr/local/lib/python3.11/dist-packages (from torch->efficientnet_pytorch) (12.4.127)\n",
            "Requirement already satisfied: nvidia-cuda-cupti-cu12==12.4.127 in /usr/local/lib/python3.11/dist-packages (from torch->efficientnet_pytorch) (12.4.127)\n",
            "Requirement already satisfied: nvidia-cudnn-cu12==9.1.0.70 in /usr/local/lib/python3.11/dist-packages (from torch->efficientnet_pytorch) (9.1.0.70)\n",
            "Requirement already satisfied: nvidia-cublas-cu12==12.4.5.8 in /usr/local/lib/python3.11/dist-packages (from torch->efficientnet_pytorch) (12.4.5.8)\n",
            "Requirement already satisfied: nvidia-cufft-cu12==11.2.1.3 in /usr/local/lib/python3.11/dist-packages (from torch->efficientnet_pytorch) (11.2.1.3)\n",
            "Requirement already satisfied: nvidia-curand-cu12==10.3.5.147 in /usr/local/lib/python3.11/dist-packages (from torch->efficientnet_pytorch) (10.3.5.147)\n",
            "Requirement already satisfied: nvidia-cusolver-cu12==11.6.1.9 in /usr/local/lib/python3.11/dist-packages (from torch->efficientnet_pytorch) (11.6.1.9)\n",
            "Requirement already satisfied: nvidia-cusparse-cu12==12.3.1.170 in /usr/local/lib/python3.11/dist-packages (from torch->efficientnet_pytorch) (12.3.1.170)\n",
            "Requirement already satisfied: nvidia-cusparselt-cu12==0.6.2 in /usr/local/lib/python3.11/dist-packages (from torch->efficientnet_pytorch) (0.6.2)\n",
            "Requirement already satisfied: nvidia-nccl-cu12==2.21.5 in /usr/local/lib/python3.11/dist-packages (from torch->efficientnet_pytorch) (2.21.5)\n",
            "Requirement already satisfied: nvidia-nvtx-cu12==12.4.127 in /usr/local/lib/python3.11/dist-packages (from torch->efficientnet_pytorch) (12.4.127)\n",
            "Requirement already satisfied: nvidia-nvjitlink-cu12==12.4.127 in /usr/local/lib/python3.11/dist-packages (from torch->efficientnet_pytorch) (12.4.127)\n",
            "Requirement already satisfied: triton==3.2.0 in /usr/local/lib/python3.11/dist-packages (from torch->efficientnet_pytorch) (3.2.0)\n",
            "Requirement already satisfied: sympy==1.13.1 in /usr/local/lib/python3.11/dist-packages (from torch->efficientnet_pytorch) (1.13.1)\n",
            "Requirement already satisfied: mpmath<1.4,>=1.1.0 in /usr/local/lib/python3.11/dist-packages (from sympy==1.13.1->torch->efficientnet_pytorch) (1.3.0)\n",
            "Requirement already satisfied: MarkupSafe>=2.0 in /usr/local/lib/python3.11/dist-packages (from jinja2->torch->efficientnet_pytorch) (3.0.2)\n",
            "Building wheels for collected packages: efficientnet_pytorch\n",
            "  Building wheel for efficientnet_pytorch (setup.py) ... \u001b[?25l\u001b[?25hdone\n",
            "  Created wheel for efficientnet_pytorch: filename=efficientnet_pytorch-0.7.1-py3-none-any.whl size=16426 sha256=21e0bb10927f21f0dfde3c3df9a318fba6d80e573018bc59d73fa11bbbbfbd26\n",
            "  Stored in directory: /root/.cache/pip/wheels/8b/6f/9b/231a832f811ab6ebb1b32455b177ffc6b8b1cd8de19de70c09\n",
            "Successfully built efficientnet_pytorch\n",
            "Installing collected packages: efficientnet_pytorch\n",
            "Successfully installed efficientnet_pytorch-0.7.1\n"
          ]
        }
      ]
    },
    {
      "cell_type": "code",
      "source": [
        "\n",
        "# 2. 런타임 확인용 (설치 잘 되었는지)\n",
        "import torch\n",
        "import timm\n",
        "print(\"✅ GPU 사용 가능:\", torch.cuda.is_available())\n",
        "print(\"✅ GPU 이름:\", torch.cuda.get_device_name(0))"
      ],
      "metadata": {
        "colab": {
          "base_uri": "https://localhost:8080/"
        },
        "id": "m7ukYExJRHxn",
        "outputId": "c7313619-c2d4-44de-bbcd-c22b5ffaa151"
      },
      "execution_count": 3,
      "outputs": [
        {
          "output_type": "stream",
          "name": "stdout",
          "text": [
            "✅ GPU 사용 가능: True\n",
            "✅ GPU 이름: NVIDIA A100-SXM4-40GB\n"
          ]
        }
      ]
    },
    {
      "cell_type": "code",
      "source": [
        "# 전략 1. 데이터 전처리\n",
        "#       - 이미지 사이즈 및 중심으로 정렬\n",
        "#       - 밝기/대비 조정\n",
        "#       - 이미지 노이즈 제거\n",
        "# 전략 2. 데이터 증강\n",
        "#       - 기본 Augmentation 차량의 각도나 배경 고려\n",
        "#       - Mixup/cutmix (클래스 간 경계를 부드럽게 학습)"
      ],
      "metadata": {
        "id": "FCajRgB-SwXz"
      },
      "execution_count": 3,
      "outputs": []
    },
    {
      "cell_type": "code",
      "source": [
        "from google.colab import drive\n",
        "drive.mount('/content/drive')\n"
      ],
      "metadata": {
        "colab": {
          "base_uri": "https://localhost:8080/"
        },
        "id": "2dmqiTNZy7-O",
        "outputId": "98890b59-0212-484f-dbcd-f1cb4a1f120d"
      },
      "execution_count": 4,
      "outputs": [
        {
          "output_type": "stream",
          "name": "stdout",
          "text": [
            "Drive already mounted at /content/drive; to attempt to forcibly remount, call drive.mount(\"/content/drive\", force_remount=True).\n"
          ]
        }
      ]
    },
    {
      "cell_type": "code",
      "source": [
        "import os\n",
        "os.makedirs('models', exist_ok=True)\n",
        "os.makedirs('val_logs', exist_ok=True)\n"
      ],
      "metadata": {
        "id": "GdZCP_M_y_c_"
      },
      "execution_count": 5,
      "outputs": []
    },
    {
      "cell_type": "code",
      "source": [
        "import os\n",
        "import random\n",
        "import numpy as np\n",
        "import pandas as pd\n",
        "from PIL import Image\n",
        "from tqdm import tqdm\n",
        "import matplotlib.pyplot as plt\n",
        "import seaborn as sns\n",
        "from sklearn.model_selection import StratifiedKFold\n",
        "from sklearn.metrics import accuracy_score, confusion_matrix\n",
        "\n",
        "import torch\n",
        "import torch.nn as nn\n",
        "from torch.utils.data import Dataset, DataLoader\n",
        "import torchvision.transforms as transforms\n",
        "from efficientnet_pytorch import EfficientNet\n",
        "from torch.cuda.amp import autocast, GradScaler\n",
        "\n",
        "# ========================\n",
        "# 설정\n",
        "SEED = 42\n",
        "BATCH_SIZE = 32\n",
        "EPOCHS = 20\n",
        "FOLDS = 5\n",
        "IMG_SIZE = 456\n",
        "PATIENCE = 3\n",
        "NUM_WORKERS = 2\n",
        "TTA_ROUNDS = 2\n",
        "NUM_CLASSES = 396\n",
        "\n",
        "ROOT_DIR = '/content/drive/MyDrive/open'\n",
        "TRAIN_DIR = os.path.join(ROOT_DIR, 'train')\n",
        "TEST_CSV = os.path.join(ROOT_DIR, 'test.csv')\n",
        "SUBMIT_CSV = os.path.join(ROOT_DIR, 'sample_submission.csv')\n",
        "\n",
        "os.makedirs(\"models\", exist_ok=True)\n",
        "os.makedirs(\"val_logs\", exist_ok=True)\n",
        "\n",
        "random.seed(SEED)\n",
        "torch.manual_seed(SEED)\n",
        "device = torch.device(\"cuda\" if torch.cuda.is_available() else \"cpu\")\n",
        "\n",
        "# ========================\n",
        "# 클래스 통합\n",
        "merge_map = {\n",
        "    'K5_3세대_하이브리드_2020_2022': 'K5_하이브리드_3세대_2020_2023',\n",
        "    '디_올뉴니로_2022_2025': '디_올_뉴_니로_2022_2025',\n",
        "    '718_박스터_2017_2024': '박스터_718_2017_2024',\n",
        "}\n",
        "raw_classes = os.listdir(TRAIN_DIR)\n",
        "merged_classes = sorted(set([merge_map.get(c, c) for c in raw_classes]))\n",
        "class_to_idx = {c: i for i, c in enumerate(merged_classes)}\n",
        "idx_to_class = {i: c for c, i in class_to_idx.items()}\n",
        "\n",
        "# ========================\n",
        "# Dataset 정의\n",
        "class CarDataset(Dataset):\n",
        "    def __init__(self, image_paths, labels=None, transform=None):\n",
        "        self.image_paths = image_paths\n",
        "        self.labels = labels\n",
        "        self.transform = transform\n",
        "\n",
        "    def __len__(self):\n",
        "        return len(self.image_paths)\n",
        "\n",
        "    def __getitem__(self, idx):\n",
        "        img = Image.open(self.image_paths[idx]).convert('RGB')\n",
        "        if self.transform:\n",
        "            img = self.transform(img)\n",
        "        if self.labels is not None:\n",
        "            return img, self.labels[idx]\n",
        "        else:\n",
        "            return img\n",
        "\n",
        "# ========================\n",
        "# Transform 정의\n",
        "train_transform = transforms.Compose([\n",
        "    transforms.RandomResizedCrop(IMG_SIZE),\n",
        "    transforms.RandomHorizontalFlip(),\n",
        "    transforms.ToTensor(),\n",
        "    transforms.Normalize([0.485, 0.456, 0.406], [0.229, 0.224, 0.225])\n",
        "])\n",
        "\n",
        "test_transform = transforms.Compose([\n",
        "    transforms.Resize(IMG_SIZE),\n",
        "    transforms.CenterCrop(IMG_SIZE),\n",
        "    transforms.ToTensor(),\n",
        "    transforms.Normalize([0.485, 0.456, 0.406], [0.229, 0.224, 0.225])\n",
        "])\n",
        "\n",
        "# ========================\n",
        "# 학습 데이터 로딩\n",
        "train_image_paths, train_labels = [], []\n",
        "for folder in raw_classes:\n",
        "    unified = merge_map.get(folder, folder)\n",
        "    for f in os.listdir(os.path.join(TRAIN_DIR, folder)):\n",
        "        train_image_paths.append(os.path.join(TRAIN_DIR, folder, f))\n",
        "        train_labels.append(class_to_idx[unified])\n",
        "\n",
        "# ========================\n",
        "# KFold 학습\n",
        "skf = StratifiedKFold(n_splits=FOLDS, shuffle=True, random_state=SEED)\n",
        "val_acc_log = []\n",
        "\n",
        "for fold, (train_idx, val_idx) in enumerate(skf.split(train_image_paths, train_labels)):\n",
        "    print(f\"\\n🌀 Fold {fold+1}/{FOLDS}\")\n",
        "    X_train = [train_image_paths[i] for i in train_idx]\n",
        "    y_train = [train_labels[i] for i in train_idx]\n",
        "    X_val = [train_image_paths[i] for i in val_idx]\n",
        "    y_val = [train_labels[i] for i in val_idx]\n",
        "\n",
        "    train_ds = CarDataset(X_train, y_train, transform=train_transform)\n",
        "    val_ds = CarDataset(X_val, y_val, transform=test_transform)\n",
        "    train_loader = DataLoader(train_ds, batch_size=BATCH_SIZE, shuffle=True, num_workers=NUM_WORKERS, pin_memory=True)\n",
        "    val_loader = DataLoader(val_ds, batch_size=BATCH_SIZE, shuffle=False, num_workers=NUM_WORKERS, pin_memory=True)\n",
        "\n",
        "    model = EfficientNet.from_pretrained('efficientnet-b5', num_classes=NUM_CLASSES).to(device)\n",
        "    optimizer = torch.optim.AdamW(model.parameters(), lr=1e-4)\n",
        "    criterion = nn.CrossEntropyLoss()\n",
        "    scaler = GradScaler()\n",
        "\n",
        "    best_acc, patience_counter = 0, 0\n",
        "    for epoch in range(EPOCHS):\n",
        "        model.train()\n",
        "        for images, labels in tqdm(train_loader, desc=f\"[Fold {fold+1}][Epoch {epoch+1}]\"):\n",
        "            images, labels = images.to(device), labels.to(device)\n",
        "            optimizer.zero_grad()\n",
        "            with autocast():\n",
        "                outputs = model(images)\n",
        "                loss = criterion(outputs, labels)\n",
        "            scaler.scale(loss).backward()\n",
        "            scaler.step(optimizer)\n",
        "            scaler.update()\n",
        "\n",
        "        model.eval()\n",
        "        preds, true = [], []\n",
        "        with torch.no_grad():\n",
        "            for images, labels in val_loader:\n",
        "                images, labels = images.to(device), labels.to(device)\n",
        "                outputs = model(images)\n",
        "                preds.extend(torch.argmax(outputs, dim=1).cpu().numpy())\n",
        "                true.extend(labels.cpu().numpy())\n",
        "\n",
        "        acc = accuracy_score(true, preds)\n",
        "        print(f\"📌 [Fold {fold+1}][Epoch {epoch+1}] Val Accuracy: {acc:.4f}\")\n",
        "\n",
        "        if acc > best_acc:\n",
        "            best_acc = acc\n",
        "            torch.save(model.state_dict(), f\"models/best_fold{fold+1}.pth\")\n",
        "            patience_counter = 0\n",
        "        else:\n",
        "            patience_counter += 1\n",
        "            if patience_counter >= PATIENCE:\n",
        "                print(\"⏹️ Early stopping triggered.\")\n",
        "                break\n",
        "\n",
        "    val_acc_log.append(best_acc)\n",
        "\n",
        "    cm = confusion_matrix(true, preds)\n",
        "    plt.figure(figsize=(10, 8))\n",
        "    sns.heatmap(cm, cmap=\"Blues\", xticklabels=False, yticklabels=False)\n",
        "    plt.title(f\"Confusion Matrix Fold {fold+1}\")\n",
        "    plt.savefig(f\"val_logs/confmat_fold{fold+1}.png\")\n",
        "    plt.close()\n",
        "\n",
        "print(\"✅ 학습 완료\")\n",
        "print(f\"📊 Fold별 Val Accuracy: {val_acc_log}\")\n",
        "print(f\"📈 평균 Validation Accuracy: {np.mean(val_acc_log):.4f}\")"
      ],
      "metadata": {
        "colab": {
          "base_uri": "https://localhost:8080/"
        },
        "id": "4d3KpHBfRWra",
        "outputId": "d25e0108-7fb0-4835-dc4a-71a2c2a010c3"
      },
      "execution_count": 6,
      "outputs": [
        {
          "metadata": {
            "tags": null
          },
          "name": "stdout",
          "output_type": "stream",
          "text": [
            "\n",
            "🌀 Fold 1/5\n"
          ]
        },
        {
          "metadata": {
            "tags": null
          },
          "name": "stderr",
          "output_type": "stream",
          "text": [
            "Downloading: \"https://github.com/lukemelas/EfficientNet-PyTorch/releases/download/1.0/efficientnet-b5-b6417697.pth\" to /root/.cache/torch/hub/checkpoints/efficientnet-b5-b6417697.pth\n",
            "100%|██████████| 117M/117M [00:04<00:00, 28.1MB/s]\n",
            "<ipython-input-6-68c520df951b>:120: FutureWarning: `torch.cuda.amp.GradScaler(args...)` is deprecated. Please use `torch.amp.GradScaler('cuda', args...)` instead.\n",
            "  scaler = GradScaler()\n"
          ]
        },
        {
          "metadata": {
            "tags": null
          },
          "name": "stdout",
          "output_type": "stream",
          "text": [
            "Loaded pretrained weights for efficientnet-b5\n"
          ]
        },
        {
          "metadata": {
            "tags": null
          },
          "name": "stderr",
          "output_type": "stream",
          "text": [
            "[Fold 1][Epoch 1]:   0%|          | 0/829 [00:00<?, ?it/s]<ipython-input-6-68c520df951b>:128: FutureWarning: `torch.cuda.amp.autocast(args...)` is deprecated. Please use `torch.amp.autocast('cuda', args...)` instead.\n",
            "  with autocast():\n",
            "[Fold 1][Epoch 1]: 100%|██████████| 829/829 [04:56<00:00,  2.80it/s]\n"
          ]
        },
        {
          "metadata": {
            "tags": null
          },
          "name": "stdout",
          "output_type": "stream",
          "text": [
            "📌 [Fold 1][Epoch 1] Val Accuracy: 0.5054\n"
          ]
        },
        {
          "metadata": {
            "tags": null
          },
          "name": "stderr",
          "output_type": "stream",
          "text": [
            "[Fold 1][Epoch 2]:   0%|          | 0/829 [00:00<?, ?it/s]<ipython-input-6-68c520df951b>:128: FutureWarning: `torch.cuda.amp.autocast(args...)` is deprecated. Please use `torch.amp.autocast('cuda', args...)` instead.\n",
            "  with autocast():\n",
            "[Fold 1][Epoch 2]: 100%|██████████| 829/829 [04:55<00:00,  2.81it/s]\n"
          ]
        },
        {
          "metadata": {
            "tags": null
          },
          "name": "stdout",
          "output_type": "stream",
          "text": [
            "📌 [Fold 1][Epoch 2] Val Accuracy: 0.7642\n"
          ]
        },
        {
          "metadata": {
            "tags": null
          },
          "name": "stderr",
          "output_type": "stream",
          "text": [
            "[Fold 1][Epoch 3]:   0%|          | 0/829 [00:00<?, ?it/s]<ipython-input-6-68c520df951b>:128: FutureWarning: `torch.cuda.amp.autocast(args...)` is deprecated. Please use `torch.amp.autocast('cuda', args...)` instead.\n",
            "  with autocast():\n",
            "[Fold 1][Epoch 3]: 100%|██████████| 829/829 [04:55<00:00,  2.81it/s]\n"
          ]
        },
        {
          "metadata": {
            "tags": null
          },
          "name": "stdout",
          "output_type": "stream",
          "text": [
            "📌 [Fold 1][Epoch 3] Val Accuracy: 0.8503\n"
          ]
        },
        {
          "metadata": {
            "tags": null
          },
          "name": "stderr",
          "output_type": "stream",
          "text": [
            "[Fold 1][Epoch 4]:   0%|          | 0/829 [00:00<?, ?it/s]<ipython-input-6-68c520df951b>:128: FutureWarning: `torch.cuda.amp.autocast(args...)` is deprecated. Please use `torch.amp.autocast('cuda', args...)` instead.\n",
            "  with autocast():\n",
            "[Fold 1][Epoch 4]: 100%|██████████| 829/829 [04:55<00:00,  2.81it/s]\n"
          ]
        },
        {
          "metadata": {
            "tags": null
          },
          "name": "stdout",
          "output_type": "stream",
          "text": [
            "📌 [Fold 1][Epoch 4] Val Accuracy: 0.8834\n"
          ]
        },
        {
          "metadata": {
            "tags": null
          },
          "name": "stderr",
          "output_type": "stream",
          "text": [
            "[Fold 1][Epoch 5]:   0%|          | 0/829 [00:00<?, ?it/s]<ipython-input-6-68c520df951b>:128: FutureWarning: `torch.cuda.amp.autocast(args...)` is deprecated. Please use `torch.amp.autocast('cuda', args...)` instead.\n",
            "  with autocast():\n",
            "[Fold 1][Epoch 5]: 100%|██████████| 829/829 [04:55<00:00,  2.81it/s]\n"
          ]
        },
        {
          "metadata": {
            "tags": null
          },
          "name": "stdout",
          "output_type": "stream",
          "text": [
            "📌 [Fold 1][Epoch 5] Val Accuracy: 0.9019\n"
          ]
        },
        {
          "metadata": {
            "tags": null
          },
          "name": "stderr",
          "output_type": "stream",
          "text": [
            "[Fold 1][Epoch 6]:   0%|          | 0/829 [00:00<?, ?it/s]<ipython-input-6-68c520df951b>:128: FutureWarning: `torch.cuda.amp.autocast(args...)` is deprecated. Please use `torch.amp.autocast('cuda', args...)` instead.\n",
            "  with autocast():\n",
            "[Fold 1][Epoch 6]: 100%|██████████| 829/829 [04:55<00:00,  2.81it/s]\n"
          ]
        },
        {
          "metadata": {
            "tags": null
          },
          "name": "stdout",
          "output_type": "stream",
          "text": [
            "📌 [Fold 1][Epoch 6] Val Accuracy: 0.9170\n"
          ]
        },
        {
          "metadata": {
            "tags": null
          },
          "name": "stderr",
          "output_type": "stream",
          "text": [
            "[Fold 1][Epoch 7]:   0%|          | 0/829 [00:00<?, ?it/s]<ipython-input-6-68c520df951b>:128: FutureWarning: `torch.cuda.amp.autocast(args...)` is deprecated. Please use `torch.amp.autocast('cuda', args...)` instead.\n",
            "  with autocast():\n",
            "[Fold 1][Epoch 7]: 100%|██████████| 829/829 [04:55<00:00,  2.81it/s]\n"
          ]
        },
        {
          "metadata": {
            "tags": null
          },
          "name": "stdout",
          "output_type": "stream",
          "text": [
            "📌 [Fold 1][Epoch 7] Val Accuracy: 0.9212\n"
          ]
        },
        {
          "metadata": {
            "tags": null
          },
          "name": "stderr",
          "output_type": "stream",
          "text": [
            "[Fold 1][Epoch 8]:   0%|          | 0/829 [00:00<?, ?it/s]<ipython-input-6-68c520df951b>:128: FutureWarning: `torch.cuda.amp.autocast(args...)` is deprecated. Please use `torch.amp.autocast('cuda', args...)` instead.\n",
            "  with autocast():\n",
            "[Fold 1][Epoch 8]: 100%|██████████| 829/829 [04:55<00:00,  2.81it/s]\n"
          ]
        },
        {
          "metadata": {
            "tags": null
          },
          "name": "stdout",
          "output_type": "stream",
          "text": [
            "📌 [Fold 1][Epoch 8] Val Accuracy: 0.9312\n"
          ]
        },
        {
          "metadata": {
            "tags": null
          },
          "name": "stderr",
          "output_type": "stream",
          "text": [
            "[Fold 1][Epoch 9]:   0%|          | 0/829 [00:00<?, ?it/s]<ipython-input-6-68c520df951b>:128: FutureWarning: `torch.cuda.amp.autocast(args...)` is deprecated. Please use `torch.amp.autocast('cuda', args...)` instead.\n",
            "  with autocast():\n",
            "[Fold 1][Epoch 9]: 100%|██████████| 829/829 [04:55<00:00,  2.81it/s]\n"
          ]
        },
        {
          "metadata": {
            "tags": null
          },
          "name": "stdout",
          "output_type": "stream",
          "text": [
            "📌 [Fold 1][Epoch 9] Val Accuracy: 0.9389\n"
          ]
        },
        {
          "metadata": {
            "tags": null
          },
          "name": "stderr",
          "output_type": "stream",
          "text": [
            "[Fold 1][Epoch 10]:   0%|          | 0/829 [00:00<?, ?it/s]<ipython-input-6-68c520df951b>:128: FutureWarning: `torch.cuda.amp.autocast(args...)` is deprecated. Please use `torch.amp.autocast('cuda', args...)` instead.\n",
            "  with autocast():\n",
            "[Fold 1][Epoch 10]: 100%|██████████| 829/829 [04:55<00:00,  2.81it/s]\n"
          ]
        },
        {
          "metadata": {
            "tags": null
          },
          "name": "stdout",
          "output_type": "stream",
          "text": [
            "📌 [Fold 1][Epoch 10] Val Accuracy: 0.9380\n"
          ]
        },
        {
          "metadata": {
            "tags": null
          },
          "name": "stderr",
          "output_type": "stream",
          "text": [
            "[Fold 1][Epoch 11]:   0%|          | 0/829 [00:00<?, ?it/s]<ipython-input-6-68c520df951b>:128: FutureWarning: `torch.cuda.amp.autocast(args...)` is deprecated. Please use `torch.amp.autocast('cuda', args...)` instead.\n",
            "  with autocast():\n",
            "[Fold 1][Epoch 11]: 100%|██████████| 829/829 [04:55<00:00,  2.81it/s]\n"
          ]
        },
        {
          "metadata": {
            "tags": null
          },
          "name": "stdout",
          "output_type": "stream",
          "text": [
            "📌 [Fold 1][Epoch 11] Val Accuracy: 0.9430\n"
          ]
        },
        {
          "metadata": {
            "tags": null
          },
          "name": "stderr",
          "output_type": "stream",
          "text": [
            "[Fold 1][Epoch 12]:   0%|          | 0/829 [00:00<?, ?it/s]<ipython-input-6-68c520df951b>:128: FutureWarning: `torch.cuda.amp.autocast(args...)` is deprecated. Please use `torch.amp.autocast('cuda', args...)` instead.\n",
            "  with autocast():\n",
            "[Fold 1][Epoch 12]: 100%|██████████| 829/829 [04:55<00:00,  2.81it/s]\n"
          ]
        },
        {
          "metadata": {
            "tags": null
          },
          "name": "stdout",
          "output_type": "stream",
          "text": [
            "📌 [Fold 1][Epoch 12] Val Accuracy: 0.9451\n"
          ]
        },
        {
          "metadata": {
            "tags": null
          },
          "name": "stderr",
          "output_type": "stream",
          "text": [
            "[Fold 1][Epoch 13]:   0%|          | 0/829 [00:00<?, ?it/s]<ipython-input-6-68c520df951b>:128: FutureWarning: `torch.cuda.amp.autocast(args...)` is deprecated. Please use `torch.amp.autocast('cuda', args...)` instead.\n",
            "  with autocast():\n",
            "[Fold 1][Epoch 13]: 100%|██████████| 829/829 [04:55<00:00,  2.81it/s]\n"
          ]
        },
        {
          "metadata": {
            "tags": null
          },
          "name": "stdout",
          "output_type": "stream",
          "text": [
            "📌 [Fold 1][Epoch 13] Val Accuracy: 0.9461\n"
          ]
        },
        {
          "metadata": {
            "tags": null
          },
          "name": "stderr",
          "output_type": "stream",
          "text": [
            "[Fold 1][Epoch 14]:   0%|          | 0/829 [00:00<?, ?it/s]<ipython-input-6-68c520df951b>:128: FutureWarning: `torch.cuda.amp.autocast(args...)` is deprecated. Please use `torch.amp.autocast('cuda', args...)` instead.\n",
            "  with autocast():\n",
            "[Fold 1][Epoch 14]: 100%|██████████| 829/829 [04:55<00:00,  2.81it/s]\n"
          ]
        },
        {
          "metadata": {
            "tags": null
          },
          "name": "stdout",
          "output_type": "stream",
          "text": [
            "📌 [Fold 1][Epoch 14] Val Accuracy: 0.9439\n"
          ]
        },
        {
          "metadata": {
            "tags": null
          },
          "name": "stderr",
          "output_type": "stream",
          "text": [
            "[Fold 1][Epoch 15]:   0%|          | 0/829 [00:00<?, ?it/s]<ipython-input-6-68c520df951b>:128: FutureWarning: `torch.cuda.amp.autocast(args...)` is deprecated. Please use `torch.amp.autocast('cuda', args...)` instead.\n",
            "  with autocast():\n",
            "[Fold 1][Epoch 15]: 100%|██████████| 829/829 [04:55<00:00,  2.81it/s]\n"
          ]
        },
        {
          "metadata": {
            "tags": null
          },
          "name": "stdout",
          "output_type": "stream",
          "text": [
            "📌 [Fold 1][Epoch 15] Val Accuracy: 0.9492\n"
          ]
        },
        {
          "metadata": {
            "tags": null
          },
          "name": "stderr",
          "output_type": "stream",
          "text": [
            "[Fold 1][Epoch 16]:   0%|          | 0/829 [00:00<?, ?it/s]<ipython-input-6-68c520df951b>:128: FutureWarning: `torch.cuda.amp.autocast(args...)` is deprecated. Please use `torch.amp.autocast('cuda', args...)` instead.\n",
            "  with autocast():\n",
            "[Fold 1][Epoch 16]: 100%|██████████| 829/829 [04:55<00:00,  2.81it/s]\n"
          ]
        },
        {
          "metadata": {
            "tags": null
          },
          "name": "stdout",
          "output_type": "stream",
          "text": [
            "📌 [Fold 1][Epoch 16] Val Accuracy: 0.9523\n"
          ]
        },
        {
          "metadata": {
            "tags": null
          },
          "name": "stderr",
          "output_type": "stream",
          "text": [
            "[Fold 1][Epoch 17]:   0%|          | 0/829 [00:00<?, ?it/s]<ipython-input-6-68c520df951b>:128: FutureWarning: `torch.cuda.amp.autocast(args...)` is deprecated. Please use `torch.amp.autocast('cuda', args...)` instead.\n",
            "  with autocast():\n",
            "[Fold 1][Epoch 17]: 100%|██████████| 829/829 [04:55<00:00,  2.81it/s]\n"
          ]
        },
        {
          "metadata": {
            "tags": null
          },
          "name": "stdout",
          "output_type": "stream",
          "text": [
            "📌 [Fold 1][Epoch 17] Val Accuracy: 0.9540\n"
          ]
        },
        {
          "metadata": {
            "tags": null
          },
          "name": "stderr",
          "output_type": "stream",
          "text": [
            "[Fold 1][Epoch 18]:   0%|          | 0/829 [00:00<?, ?it/s]<ipython-input-6-68c520df951b>:128: FutureWarning: `torch.cuda.amp.autocast(args...)` is deprecated. Please use `torch.amp.autocast('cuda', args...)` instead.\n",
            "  with autocast():\n",
            "[Fold 1][Epoch 18]: 100%|██████████| 829/829 [04:55<00:00,  2.81it/s]\n"
          ]
        },
        {
          "metadata": {
            "tags": null
          },
          "name": "stdout",
          "output_type": "stream",
          "text": [
            "📌 [Fold 1][Epoch 18] Val Accuracy: 0.9550\n"
          ]
        },
        {
          "metadata": {
            "tags": null
          },
          "name": "stderr",
          "output_type": "stream",
          "text": [
            "[Fold 1][Epoch 19]:   0%|          | 0/829 [00:00<?, ?it/s]<ipython-input-6-68c520df951b>:128: FutureWarning: `torch.cuda.amp.autocast(args...)` is deprecated. Please use `torch.amp.autocast('cuda', args...)` instead.\n",
            "  with autocast():\n",
            "[Fold 1][Epoch 19]: 100%|██████████| 829/829 [04:55<00:00,  2.81it/s]\n"
          ]
        },
        {
          "metadata": {
            "tags": null
          },
          "name": "stdout",
          "output_type": "stream",
          "text": [
            "📌 [Fold 1][Epoch 19] Val Accuracy: 0.9543\n"
          ]
        },
        {
          "metadata": {
            "tags": null
          },
          "name": "stderr",
          "output_type": "stream",
          "text": [
            "[Fold 1][Epoch 20]:   0%|          | 0/829 [00:00<?, ?it/s]<ipython-input-6-68c520df951b>:128: FutureWarning: `torch.cuda.amp.autocast(args...)` is deprecated. Please use `torch.amp.autocast('cuda', args...)` instead.\n",
            "  with autocast():\n",
            "[Fold 1][Epoch 20]: 100%|██████████| 829/829 [04:55<00:00,  2.81it/s]\n"
          ]
        },
        {
          "metadata": {
            "tags": null
          },
          "name": "stdout",
          "output_type": "stream",
          "text": [
            "📌 [Fold 1][Epoch 20] Val Accuracy: 0.9615\n",
            "\n",
            "🌀 Fold 2/5\n"
          ]
        },
        {
          "metadata": {
            "tags": null
          },
          "name": "stderr",
          "output_type": "stream",
          "text": [
            "<ipython-input-6-68c520df951b>:120: FutureWarning: `torch.cuda.amp.GradScaler(args...)` is deprecated. Please use `torch.amp.GradScaler('cuda', args...)` instead.\n",
            "  scaler = GradScaler()\n"
          ]
        },
        {
          "metadata": {
            "tags": null
          },
          "name": "stdout",
          "output_type": "stream",
          "text": [
            "Loaded pretrained weights for efficientnet-b5\n"
          ]
        },
        {
          "metadata": {
            "tags": null
          },
          "name": "stderr",
          "output_type": "stream",
          "text": [
            "[Fold 2][Epoch 1]:   0%|          | 0/829 [00:00<?, ?it/s]<ipython-input-6-68c520df951b>:128: FutureWarning: `torch.cuda.amp.autocast(args...)` is deprecated. Please use `torch.amp.autocast('cuda', args...)` instead.\n",
            "  with autocast():\n",
            "[Fold 2][Epoch 1]: 100%|██████████| 829/829 [04:55<00:00,  2.81it/s]\n"
          ]
        },
        {
          "metadata": {
            "tags": null
          },
          "name": "stdout",
          "output_type": "stream",
          "text": [
            "📌 [Fold 2][Epoch 1] Val Accuracy: 0.4810\n"
          ]
        },
        {
          "metadata": {
            "tags": null
          },
          "name": "stderr",
          "output_type": "stream",
          "text": [
            "[Fold 2][Epoch 2]:   0%|          | 0/829 [00:00<?, ?it/s]<ipython-input-6-68c520df951b>:128: FutureWarning: `torch.cuda.amp.autocast(args...)` is deprecated. Please use `torch.amp.autocast('cuda', args...)` instead.\n",
            "  with autocast():\n",
            "[Fold 2][Epoch 2]: 100%|██████████| 829/829 [04:55<00:00,  2.81it/s]\n"
          ]
        },
        {
          "metadata": {
            "tags": null
          },
          "name": "stdout",
          "output_type": "stream",
          "text": [
            "📌 [Fold 2][Epoch 2] Val Accuracy: 0.7708\n"
          ]
        },
        {
          "metadata": {
            "tags": null
          },
          "name": "stderr",
          "output_type": "stream",
          "text": [
            "[Fold 2][Epoch 3]:   0%|          | 0/829 [00:00<?, ?it/s]<ipython-input-6-68c520df951b>:128: FutureWarning: `torch.cuda.amp.autocast(args...)` is deprecated. Please use `torch.amp.autocast('cuda', args...)` instead.\n",
            "  with autocast():\n",
            "[Fold 2][Epoch 3]: 100%|██████████| 829/829 [04:55<00:00,  2.81it/s]\n"
          ]
        },
        {
          "metadata": {
            "tags": null
          },
          "name": "stdout",
          "output_type": "stream",
          "text": [
            "📌 [Fold 2][Epoch 3] Val Accuracy: 0.8515\n"
          ]
        },
        {
          "metadata": {
            "tags": null
          },
          "name": "stderr",
          "output_type": "stream",
          "text": [
            "[Fold 2][Epoch 4]:   0%|          | 0/829 [00:00<?, ?it/s]<ipython-input-6-68c520df951b>:128: FutureWarning: `torch.cuda.amp.autocast(args...)` is deprecated. Please use `torch.amp.autocast('cuda', args...)` instead.\n",
            "  with autocast():\n",
            "[Fold 2][Epoch 4]: 100%|██████████| 829/829 [04:55<00:00,  2.80it/s]\n"
          ]
        },
        {
          "metadata": {
            "tags": null
          },
          "name": "stdout",
          "output_type": "stream",
          "text": [
            "📌 [Fold 2][Epoch 4] Val Accuracy: 0.8831\n"
          ]
        },
        {
          "metadata": {
            "tags": null
          },
          "name": "stderr",
          "output_type": "stream",
          "text": [
            "[Fold 2][Epoch 5]:   0%|          | 0/829 [00:00<?, ?it/s]<ipython-input-6-68c520df951b>:128: FutureWarning: `torch.cuda.amp.autocast(args...)` is deprecated. Please use `torch.amp.autocast('cuda', args...)` instead.\n",
            "  with autocast():\n",
            "[Fold 2][Epoch 5]: 100%|██████████| 829/829 [04:55<00:00,  2.81it/s]\n"
          ]
        },
        {
          "metadata": {
            "tags": null
          },
          "name": "stdout",
          "output_type": "stream",
          "text": [
            "📌 [Fold 2][Epoch 5] Val Accuracy: 0.9036\n"
          ]
        },
        {
          "metadata": {
            "tags": null
          },
          "name": "stderr",
          "output_type": "stream",
          "text": [
            "[Fold 2][Epoch 6]:   0%|          | 0/829 [00:00<?, ?it/s]<ipython-input-6-68c520df951b>:128: FutureWarning: `torch.cuda.amp.autocast(args...)` is deprecated. Please use `torch.amp.autocast('cuda', args...)` instead.\n",
            "  with autocast():\n",
            "[Fold 2][Epoch 6]: 100%|██████████| 829/829 [04:55<00:00,  2.80it/s]\n"
          ]
        },
        {
          "metadata": {
            "tags": null
          },
          "name": "stdout",
          "output_type": "stream",
          "text": [
            "📌 [Fold 2][Epoch 6] Val Accuracy: 0.9126\n"
          ]
        },
        {
          "metadata": {
            "tags": null
          },
          "name": "stderr",
          "output_type": "stream",
          "text": [
            "[Fold 2][Epoch 7]:   0%|          | 0/829 [00:00<?, ?it/s]<ipython-input-6-68c520df951b>:128: FutureWarning: `torch.cuda.amp.autocast(args...)` is deprecated. Please use `torch.amp.autocast('cuda', args...)` instead.\n",
            "  with autocast():\n",
            "[Fold 2][Epoch 7]: 100%|██████████| 829/829 [04:55<00:00,  2.80it/s]\n"
          ]
        },
        {
          "metadata": {
            "tags": null
          },
          "name": "stdout",
          "output_type": "stream",
          "text": [
            "📌 [Fold 2][Epoch 7] Val Accuracy: 0.9264\n"
          ]
        },
        {
          "metadata": {
            "tags": null
          },
          "name": "stderr",
          "output_type": "stream",
          "text": [
            "[Fold 2][Epoch 8]:   0%|          | 0/829 [00:00<?, ?it/s]<ipython-input-6-68c520df951b>:128: FutureWarning: `torch.cuda.amp.autocast(args...)` is deprecated. Please use `torch.amp.autocast('cuda', args...)` instead.\n",
            "  with autocast():\n",
            "[Fold 2][Epoch 8]: 100%|██████████| 829/829 [04:55<00:00,  2.80it/s]\n"
          ]
        },
        {
          "metadata": {
            "tags": null
          },
          "name": "stdout",
          "output_type": "stream",
          "text": [
            "📌 [Fold 2][Epoch 8] Val Accuracy: 0.9295\n"
          ]
        },
        {
          "metadata": {
            "tags": null
          },
          "name": "stderr",
          "output_type": "stream",
          "text": [
            "[Fold 2][Epoch 9]:   0%|          | 0/829 [00:00<?, ?it/s]<ipython-input-6-68c520df951b>:128: FutureWarning: `torch.cuda.amp.autocast(args...)` is deprecated. Please use `torch.amp.autocast('cuda', args...)` instead.\n",
            "  with autocast():\n",
            "[Fold 2][Epoch 9]: 100%|██████████| 829/829 [04:55<00:00,  2.80it/s]\n"
          ]
        },
        {
          "metadata": {
            "tags": null
          },
          "name": "stdout",
          "output_type": "stream",
          "text": [
            "📌 [Fold 2][Epoch 9] Val Accuracy: 0.9371\n"
          ]
        },
        {
          "metadata": {
            "tags": null
          },
          "name": "stderr",
          "output_type": "stream",
          "text": [
            "[Fold 2][Epoch 10]:   0%|          | 0/829 [00:00<?, ?it/s]<ipython-input-6-68c520df951b>:128: FutureWarning: `torch.cuda.amp.autocast(args...)` is deprecated. Please use `torch.amp.autocast('cuda', args...)` instead.\n",
            "  with autocast():\n",
            "[Fold 2][Epoch 10]: 100%|██████████| 829/829 [04:55<00:00,  2.81it/s]\n"
          ]
        },
        {
          "metadata": {
            "tags": null
          },
          "name": "stdout",
          "output_type": "stream",
          "text": [
            "📌 [Fold 2][Epoch 10] Val Accuracy: 0.9407\n"
          ]
        },
        {
          "metadata": {
            "tags": null
          },
          "name": "stderr",
          "output_type": "stream",
          "text": [
            "[Fold 2][Epoch 11]:   0%|          | 0/829 [00:00<?, ?it/s]<ipython-input-6-68c520df951b>:128: FutureWarning: `torch.cuda.amp.autocast(args...)` is deprecated. Please use `torch.amp.autocast('cuda', args...)` instead.\n",
            "  with autocast():\n",
            "[Fold 2][Epoch 11]: 100%|██████████| 829/829 [04:55<00:00,  2.80it/s]\n"
          ]
        },
        {
          "metadata": {
            "tags": null
          },
          "name": "stdout",
          "output_type": "stream",
          "text": [
            "📌 [Fold 2][Epoch 11] Val Accuracy: 0.9461\n"
          ]
        },
        {
          "metadata": {
            "tags": null
          },
          "name": "stderr",
          "output_type": "stream",
          "text": [
            "[Fold 2][Epoch 12]:   0%|          | 0/829 [00:00<?, ?it/s]<ipython-input-6-68c520df951b>:128: FutureWarning: `torch.cuda.amp.autocast(args...)` is deprecated. Please use `torch.amp.autocast('cuda', args...)` instead.\n",
            "  with autocast():\n",
            "[Fold 2][Epoch 12]: 100%|██████████| 829/829 [04:55<00:00,  2.80it/s]\n"
          ]
        },
        {
          "metadata": {
            "tags": null
          },
          "name": "stdout",
          "output_type": "stream",
          "text": [
            "📌 [Fold 2][Epoch 12] Val Accuracy: 0.9467\n"
          ]
        },
        {
          "metadata": {
            "tags": null
          },
          "name": "stderr",
          "output_type": "stream",
          "text": [
            "[Fold 2][Epoch 13]:   0%|          | 0/829 [00:00<?, ?it/s]<ipython-input-6-68c520df951b>:128: FutureWarning: `torch.cuda.amp.autocast(args...)` is deprecated. Please use `torch.amp.autocast('cuda', args...)` instead.\n",
            "  with autocast():\n",
            "[Fold 2][Epoch 13]: 100%|██████████| 829/829 [04:55<00:00,  2.81it/s]\n"
          ]
        },
        {
          "metadata": {
            "tags": null
          },
          "name": "stdout",
          "output_type": "stream",
          "text": [
            "📌 [Fold 2][Epoch 13] Val Accuracy: 0.9466\n"
          ]
        },
        {
          "metadata": {
            "tags": null
          },
          "name": "stderr",
          "output_type": "stream",
          "text": [
            "[Fold 2][Epoch 14]:   0%|          | 0/829 [00:00<?, ?it/s]<ipython-input-6-68c520df951b>:128: FutureWarning: `torch.cuda.amp.autocast(args...)` is deprecated. Please use `torch.amp.autocast('cuda', args...)` instead.\n",
            "  with autocast():\n",
            "[Fold 2][Epoch 14]: 100%|██████████| 829/829 [04:54<00:00,  2.81it/s]\n"
          ]
        },
        {
          "metadata": {
            "tags": null
          },
          "name": "stdout",
          "output_type": "stream",
          "text": [
            "📌 [Fold 2][Epoch 14] Val Accuracy: 0.9499\n"
          ]
        },
        {
          "metadata": {
            "tags": null
          },
          "name": "stderr",
          "output_type": "stream",
          "text": [
            "[Fold 2][Epoch 15]:   0%|          | 0/829 [00:00<?, ?it/s]<ipython-input-6-68c520df951b>:128: FutureWarning: `torch.cuda.amp.autocast(args...)` is deprecated. Please use `torch.amp.autocast('cuda', args...)` instead.\n",
            "  with autocast():\n",
            "[Fold 2][Epoch 15]: 100%|██████████| 829/829 [04:55<00:00,  2.81it/s]\n"
          ]
        },
        {
          "metadata": {
            "tags": null
          },
          "name": "stdout",
          "output_type": "stream",
          "text": [
            "📌 [Fold 2][Epoch 15] Val Accuracy: 0.9514\n"
          ]
        },
        {
          "metadata": {
            "tags": null
          },
          "name": "stderr",
          "output_type": "stream",
          "text": [
            "[Fold 2][Epoch 16]:   0%|          | 0/829 [00:00<?, ?it/s]<ipython-input-6-68c520df951b>:128: FutureWarning: `torch.cuda.amp.autocast(args...)` is deprecated. Please use `torch.amp.autocast('cuda', args...)` instead.\n",
            "  with autocast():\n",
            "[Fold 2][Epoch 16]: 100%|██████████| 829/829 [04:55<00:00,  2.81it/s]\n"
          ]
        },
        {
          "metadata": {
            "tags": null
          },
          "name": "stdout",
          "output_type": "stream",
          "text": [
            "📌 [Fold 2][Epoch 16] Val Accuracy: 0.9529\n"
          ]
        },
        {
          "metadata": {
            "tags": null
          },
          "name": "stderr",
          "output_type": "stream",
          "text": [
            "[Fold 2][Epoch 17]:   0%|          | 0/829 [00:00<?, ?it/s]<ipython-input-6-68c520df951b>:128: FutureWarning: `torch.cuda.amp.autocast(args...)` is deprecated. Please use `torch.amp.autocast('cuda', args...)` instead.\n",
            "  with autocast():\n",
            "[Fold 2][Epoch 17]: 100%|██████████| 829/829 [04:55<00:00,  2.81it/s]\n"
          ]
        },
        {
          "metadata": {
            "tags": null
          },
          "name": "stdout",
          "output_type": "stream",
          "text": [
            "📌 [Fold 2][Epoch 17] Val Accuracy: 0.9582\n"
          ]
        },
        {
          "metadata": {
            "tags": null
          },
          "name": "stderr",
          "output_type": "stream",
          "text": [
            "[Fold 2][Epoch 18]:   0%|          | 0/829 [00:00<?, ?it/s]<ipython-input-6-68c520df951b>:128: FutureWarning: `torch.cuda.amp.autocast(args...)` is deprecated. Please use `torch.amp.autocast('cuda', args...)` instead.\n",
            "  with autocast():\n",
            "[Fold 2][Epoch 18]: 100%|██████████| 829/829 [04:55<00:00,  2.81it/s]\n"
          ]
        },
        {
          "metadata": {
            "tags": null
          },
          "name": "stdout",
          "output_type": "stream",
          "text": [
            "📌 [Fold 2][Epoch 18] Val Accuracy: 0.9599\n"
          ]
        },
        {
          "metadata": {
            "tags": null
          },
          "name": "stderr",
          "output_type": "stream",
          "text": [
            "[Fold 2][Epoch 19]:   0%|          | 0/829 [00:00<?, ?it/s]<ipython-input-6-68c520df951b>:128: FutureWarning: `torch.cuda.amp.autocast(args...)` is deprecated. Please use `torch.amp.autocast('cuda', args...)` instead.\n",
            "  with autocast():\n",
            "[Fold 2][Epoch 19]: 100%|██████████| 829/829 [04:55<00:00,  2.81it/s]\n"
          ]
        },
        {
          "metadata": {
            "tags": null
          },
          "name": "stdout",
          "output_type": "stream",
          "text": [
            "📌 [Fold 2][Epoch 19] Val Accuracy: 0.9558\n"
          ]
        },
        {
          "metadata": {
            "tags": null
          },
          "name": "stderr",
          "output_type": "stream",
          "text": [
            "[Fold 2][Epoch 20]:   0%|          | 0/829 [00:00<?, ?it/s]<ipython-input-6-68c520df951b>:128: FutureWarning: `torch.cuda.amp.autocast(args...)` is deprecated. Please use `torch.amp.autocast('cuda', args...)` instead.\n",
            "  with autocast():\n",
            "[Fold 2][Epoch 20]: 100%|██████████| 829/829 [04:55<00:00,  2.81it/s]\n"
          ]
        },
        {
          "metadata": {
            "tags": null
          },
          "name": "stdout",
          "output_type": "stream",
          "text": [
            "📌 [Fold 2][Epoch 20] Val Accuracy: 0.9590\n",
            "\n",
            "🌀 Fold 3/5\n"
          ]
        },
        {
          "metadata": {
            "tags": null
          },
          "name": "stderr",
          "output_type": "stream",
          "text": [
            "<ipython-input-6-68c520df951b>:120: FutureWarning: `torch.cuda.amp.GradScaler(args...)` is deprecated. Please use `torch.amp.GradScaler('cuda', args...)` instead.\n",
            "  scaler = GradScaler()\n"
          ]
        },
        {
          "metadata": {
            "tags": null
          },
          "name": "stdout",
          "output_type": "stream",
          "text": [
            "Loaded pretrained weights for efficientnet-b5\n"
          ]
        },
        {
          "metadata": {
            "tags": null
          },
          "name": "stderr",
          "output_type": "stream",
          "text": [
            "[Fold 3][Epoch 1]:   0%|          | 0/829 [00:00<?, ?it/s]<ipython-input-6-68c520df951b>:128: FutureWarning: `torch.cuda.amp.autocast(args...)` is deprecated. Please use `torch.amp.autocast('cuda', args...)` instead.\n",
            "  with autocast():\n",
            "[Fold 3][Epoch 1]: 100%|██████████| 829/829 [04:55<00:00,  2.81it/s]\n"
          ]
        },
        {
          "metadata": {
            "tags": null
          },
          "name": "stdout",
          "output_type": "stream",
          "text": [
            "📌 [Fold 3][Epoch 1] Val Accuracy: 0.4849\n"
          ]
        },
        {
          "metadata": {
            "tags": null
          },
          "name": "stderr",
          "output_type": "stream",
          "text": [
            "[Fold 3][Epoch 2]:   0%|          | 0/829 [00:00<?, ?it/s]<ipython-input-6-68c520df951b>:128: FutureWarning: `torch.cuda.amp.autocast(args...)` is deprecated. Please use `torch.amp.autocast('cuda', args...)` instead.\n",
            "  with autocast():\n",
            "[Fold 3][Epoch 2]: 100%|██████████| 829/829 [04:54<00:00,  2.81it/s]\n"
          ]
        },
        {
          "metadata": {
            "tags": null
          },
          "name": "stdout",
          "output_type": "stream",
          "text": [
            "📌 [Fold 3][Epoch 2] Val Accuracy: 0.7625\n"
          ]
        },
        {
          "metadata": {
            "tags": null
          },
          "name": "stderr",
          "output_type": "stream",
          "text": [
            "[Fold 3][Epoch 3]:   0%|          | 0/829 [00:00<?, ?it/s]<ipython-input-6-68c520df951b>:128: FutureWarning: `torch.cuda.amp.autocast(args...)` is deprecated. Please use `torch.amp.autocast('cuda', args...)` instead.\n",
            "  with autocast():\n",
            "[Fold 3][Epoch 3]: 100%|██████████| 829/829 [04:55<00:00,  2.81it/s]\n"
          ]
        },
        {
          "metadata": {
            "tags": null
          },
          "name": "stdout",
          "output_type": "stream",
          "text": [
            "📌 [Fold 3][Epoch 3] Val Accuracy: 0.8537\n"
          ]
        },
        {
          "metadata": {
            "tags": null
          },
          "name": "stderr",
          "output_type": "stream",
          "text": [
            "[Fold 3][Epoch 4]:   0%|          | 0/829 [00:00<?, ?it/s]<ipython-input-6-68c520df951b>:128: FutureWarning: `torch.cuda.amp.autocast(args...)` is deprecated. Please use `torch.amp.autocast('cuda', args...)` instead.\n",
            "  with autocast():\n",
            "[Fold 3][Epoch 4]: 100%|██████████| 829/829 [04:55<00:00,  2.81it/s]\n"
          ]
        },
        {
          "metadata": {
            "tags": null
          },
          "name": "stdout",
          "output_type": "stream",
          "text": [
            "📌 [Fold 3][Epoch 4] Val Accuracy: 0.8766\n"
          ]
        },
        {
          "metadata": {
            "tags": null
          },
          "name": "stderr",
          "output_type": "stream",
          "text": [
            "[Fold 3][Epoch 5]:   0%|          | 0/829 [00:00<?, ?it/s]<ipython-input-6-68c520df951b>:128: FutureWarning: `torch.cuda.amp.autocast(args...)` is deprecated. Please use `torch.amp.autocast('cuda', args...)` instead.\n",
            "  with autocast():\n",
            "[Fold 3][Epoch 5]: 100%|██████████| 829/829 [04:55<00:00,  2.81it/s]\n"
          ]
        },
        {
          "metadata": {
            "tags": null
          },
          "name": "stdout",
          "output_type": "stream",
          "text": [
            "📌 [Fold 3][Epoch 5] Val Accuracy: 0.8950\n"
          ]
        },
        {
          "metadata": {
            "tags": null
          },
          "name": "stderr",
          "output_type": "stream",
          "text": [
            "[Fold 3][Epoch 6]:   0%|          | 0/829 [00:00<?, ?it/s]<ipython-input-6-68c520df951b>:128: FutureWarning: `torch.cuda.amp.autocast(args...)` is deprecated. Please use `torch.amp.autocast('cuda', args...)` instead.\n",
            "  with autocast():\n",
            "[Fold 3][Epoch 6]: 100%|██████████| 829/829 [04:55<00:00,  2.81it/s]\n"
          ]
        },
        {
          "metadata": {
            "tags": null
          },
          "name": "stdout",
          "output_type": "stream",
          "text": [
            "📌 [Fold 3][Epoch 6] Val Accuracy: 0.9099\n"
          ]
        },
        {
          "metadata": {
            "tags": null
          },
          "name": "stderr",
          "output_type": "stream",
          "text": [
            "[Fold 3][Epoch 7]:   0%|          | 0/829 [00:00<?, ?it/s]<ipython-input-6-68c520df951b>:128: FutureWarning: `torch.cuda.amp.autocast(args...)` is deprecated. Please use `torch.amp.autocast('cuda', args...)` instead.\n",
            "  with autocast():\n",
            "[Fold 3][Epoch 7]: 100%|██████████| 829/829 [04:54<00:00,  2.81it/s]\n"
          ]
        },
        {
          "metadata": {
            "tags": null
          },
          "name": "stdout",
          "output_type": "stream",
          "text": [
            "📌 [Fold 3][Epoch 7] Val Accuracy: 0.9188\n"
          ]
        },
        {
          "metadata": {
            "tags": null
          },
          "name": "stderr",
          "output_type": "stream",
          "text": [
            "[Fold 3][Epoch 8]:   0%|          | 0/829 [00:00<?, ?it/s]<ipython-input-6-68c520df951b>:128: FutureWarning: `torch.cuda.amp.autocast(args...)` is deprecated. Please use `torch.amp.autocast('cuda', args...)` instead.\n",
            "  with autocast():\n",
            "[Fold 3][Epoch 8]: 100%|██████████| 829/829 [04:55<00:00,  2.81it/s]\n"
          ]
        },
        {
          "metadata": {
            "tags": null
          },
          "name": "stdout",
          "output_type": "stream",
          "text": [
            "📌 [Fold 3][Epoch 8] Val Accuracy: 0.9243\n"
          ]
        },
        {
          "metadata": {
            "tags": null
          },
          "name": "stderr",
          "output_type": "stream",
          "text": [
            "[Fold 3][Epoch 9]:   0%|          | 0/829 [00:00<?, ?it/s]<ipython-input-6-68c520df951b>:128: FutureWarning: `torch.cuda.amp.autocast(args...)` is deprecated. Please use `torch.amp.autocast('cuda', args...)` instead.\n",
            "  with autocast():\n",
            "[Fold 3][Epoch 9]: 100%|██████████| 829/829 [04:54<00:00,  2.81it/s]\n"
          ]
        },
        {
          "metadata": {
            "tags": null
          },
          "name": "stdout",
          "output_type": "stream",
          "text": [
            "📌 [Fold 3][Epoch 9] Val Accuracy: 0.9256\n"
          ]
        },
        {
          "metadata": {
            "tags": null
          },
          "name": "stderr",
          "output_type": "stream",
          "text": [
            "[Fold 3][Epoch 10]:   0%|          | 0/829 [00:00<?, ?it/s]<ipython-input-6-68c520df951b>:128: FutureWarning: `torch.cuda.amp.autocast(args...)` is deprecated. Please use `torch.amp.autocast('cuda', args...)` instead.\n",
            "  with autocast():\n",
            "[Fold 3][Epoch 10]: 100%|██████████| 829/829 [04:55<00:00,  2.81it/s]\n"
          ]
        },
        {
          "metadata": {
            "tags": null
          },
          "name": "stdout",
          "output_type": "stream",
          "text": [
            "📌 [Fold 3][Epoch 10] Val Accuracy: 0.9317\n"
          ]
        },
        {
          "metadata": {
            "tags": null
          },
          "name": "stderr",
          "output_type": "stream",
          "text": [
            "[Fold 3][Epoch 11]:   0%|          | 0/829 [00:00<?, ?it/s]<ipython-input-6-68c520df951b>:128: FutureWarning: `torch.cuda.amp.autocast(args...)` is deprecated. Please use `torch.amp.autocast('cuda', args...)` instead.\n",
            "  with autocast():\n",
            "[Fold 3][Epoch 11]: 100%|██████████| 829/829 [04:55<00:00,  2.81it/s]\n"
          ]
        },
        {
          "metadata": {
            "tags": null
          },
          "name": "stdout",
          "output_type": "stream",
          "text": [
            "📌 [Fold 3][Epoch 11] Val Accuracy: 0.9320\n"
          ]
        },
        {
          "metadata": {
            "tags": null
          },
          "name": "stderr",
          "output_type": "stream",
          "text": [
            "[Fold 3][Epoch 12]:   0%|          | 0/829 [00:00<?, ?it/s]<ipython-input-6-68c520df951b>:128: FutureWarning: `torch.cuda.amp.autocast(args...)` is deprecated. Please use `torch.amp.autocast('cuda', args...)` instead.\n",
            "  with autocast():\n",
            "[Fold 3][Epoch 12]: 100%|██████████| 829/829 [04:55<00:00,  2.81it/s]\n"
          ]
        },
        {
          "metadata": {
            "tags": null
          },
          "name": "stdout",
          "output_type": "stream",
          "text": [
            "📌 [Fold 3][Epoch 12] Val Accuracy: 0.9377\n"
          ]
        },
        {
          "metadata": {
            "tags": null
          },
          "name": "stderr",
          "output_type": "stream",
          "text": [
            "[Fold 3][Epoch 13]:   0%|          | 0/829 [00:00<?, ?it/s]<ipython-input-6-68c520df951b>:128: FutureWarning: `torch.cuda.amp.autocast(args...)` is deprecated. Please use `torch.amp.autocast('cuda', args...)` instead.\n",
            "  with autocast():\n",
            "[Fold 3][Epoch 13]: 100%|██████████| 829/829 [04:55<00:00,  2.81it/s]\n"
          ]
        },
        {
          "metadata": {
            "tags": null
          },
          "name": "stdout",
          "output_type": "stream",
          "text": [
            "📌 [Fold 3][Epoch 13] Val Accuracy: 0.9409\n"
          ]
        },
        {
          "metadata": {
            "tags": null
          },
          "name": "stderr",
          "output_type": "stream",
          "text": [
            "[Fold 3][Epoch 14]:   0%|          | 0/829 [00:00<?, ?it/s]<ipython-input-6-68c520df951b>:128: FutureWarning: `torch.cuda.amp.autocast(args...)` is deprecated. Please use `torch.amp.autocast('cuda', args...)` instead.\n",
            "  with autocast():\n",
            "[Fold 3][Epoch 14]: 100%|██████████| 829/829 [04:54<00:00,  2.81it/s]\n"
          ]
        },
        {
          "metadata": {
            "tags": null
          },
          "name": "stdout",
          "output_type": "stream",
          "text": [
            "📌 [Fold 3][Epoch 14] Val Accuracy: 0.9442\n"
          ]
        },
        {
          "metadata": {
            "tags": null
          },
          "name": "stderr",
          "output_type": "stream",
          "text": [
            "[Fold 3][Epoch 15]:   0%|          | 0/829 [00:00<?, ?it/s]<ipython-input-6-68c520df951b>:128: FutureWarning: `torch.cuda.amp.autocast(args...)` is deprecated. Please use `torch.amp.autocast('cuda', args...)` instead.\n",
            "  with autocast():\n",
            "[Fold 3][Epoch 15]: 100%|██████████| 829/829 [04:55<00:00,  2.81it/s]\n"
          ]
        },
        {
          "metadata": {
            "tags": null
          },
          "name": "stdout",
          "output_type": "stream",
          "text": [
            "📌 [Fold 3][Epoch 15] Val Accuracy: 0.9466\n"
          ]
        },
        {
          "metadata": {
            "tags": null
          },
          "name": "stderr",
          "output_type": "stream",
          "text": [
            "[Fold 3][Epoch 16]:   0%|          | 0/829 [00:00<?, ?it/s]<ipython-input-6-68c520df951b>:128: FutureWarning: `torch.cuda.amp.autocast(args...)` is deprecated. Please use `torch.amp.autocast('cuda', args...)` instead.\n",
            "  with autocast():\n",
            "[Fold 3][Epoch 16]: 100%|██████████| 829/829 [04:55<00:00,  2.81it/s]\n"
          ]
        },
        {
          "metadata": {
            "tags": null
          },
          "name": "stdout",
          "output_type": "stream",
          "text": [
            "📌 [Fold 3][Epoch 16] Val Accuracy: 0.9434\n"
          ]
        },
        {
          "metadata": {
            "tags": null
          },
          "name": "stderr",
          "output_type": "stream",
          "text": [
            "[Fold 3][Epoch 17]:   0%|          | 0/829 [00:00<?, ?it/s]<ipython-input-6-68c520df951b>:128: FutureWarning: `torch.cuda.amp.autocast(args...)` is deprecated. Please use `torch.amp.autocast('cuda', args...)` instead.\n",
            "  with autocast():\n",
            "[Fold 3][Epoch 17]: 100%|██████████| 829/829 [04:54<00:00,  2.81it/s]\n"
          ]
        },
        {
          "metadata": {
            "tags": null
          },
          "name": "stdout",
          "output_type": "stream",
          "text": [
            "📌 [Fold 3][Epoch 17] Val Accuracy: 0.9478\n"
          ]
        },
        {
          "metadata": {
            "tags": null
          },
          "name": "stderr",
          "output_type": "stream",
          "text": [
            "[Fold 3][Epoch 18]:   0%|          | 0/829 [00:00<?, ?it/s]<ipython-input-6-68c520df951b>:128: FutureWarning: `torch.cuda.amp.autocast(args...)` is deprecated. Please use `torch.amp.autocast('cuda', args...)` instead.\n",
            "  with autocast():\n",
            "[Fold 3][Epoch 18]: 100%|██████████| 829/829 [04:54<00:00,  2.81it/s]\n"
          ]
        },
        {
          "metadata": {
            "tags": null
          },
          "name": "stdout",
          "output_type": "stream",
          "text": [
            "📌 [Fold 3][Epoch 18] Val Accuracy: 0.9496\n"
          ]
        },
        {
          "metadata": {
            "tags": null
          },
          "name": "stderr",
          "output_type": "stream",
          "text": [
            "[Fold 3][Epoch 19]:   0%|          | 0/829 [00:00<?, ?it/s]<ipython-input-6-68c520df951b>:128: FutureWarning: `torch.cuda.amp.autocast(args...)` is deprecated. Please use `torch.amp.autocast('cuda', args...)` instead.\n",
            "  with autocast():\n",
            "[Fold 3][Epoch 19]: 100%|██████████| 829/829 [04:55<00:00,  2.81it/s]\n"
          ]
        },
        {
          "metadata": {
            "tags": null
          },
          "name": "stdout",
          "output_type": "stream",
          "text": [
            "📌 [Fold 3][Epoch 19] Val Accuracy: 0.9534\n"
          ]
        },
        {
          "metadata": {
            "tags": null
          },
          "name": "stderr",
          "output_type": "stream",
          "text": [
            "[Fold 3][Epoch 20]:   0%|          | 0/829 [00:00<?, ?it/s]<ipython-input-6-68c520df951b>:128: FutureWarning: `torch.cuda.amp.autocast(args...)` is deprecated. Please use `torch.amp.autocast('cuda', args...)` instead.\n",
            "  with autocast():\n",
            "[Fold 3][Epoch 20]: 100%|██████████| 829/829 [04:55<00:00,  2.81it/s]\n"
          ]
        },
        {
          "metadata": {
            "tags": null
          },
          "name": "stdout",
          "output_type": "stream",
          "text": [
            "📌 [Fold 3][Epoch 20] Val Accuracy: 0.9531\n",
            "\n",
            "🌀 Fold 4/5\n"
          ]
        },
        {
          "metadata": {
            "tags": null
          },
          "name": "stderr",
          "output_type": "stream",
          "text": [
            "<ipython-input-6-68c520df951b>:120: FutureWarning: `torch.cuda.amp.GradScaler(args...)` is deprecated. Please use `torch.amp.GradScaler('cuda', args...)` instead.\n",
            "  scaler = GradScaler()\n"
          ]
        },
        {
          "metadata": {
            "tags": null
          },
          "name": "stdout",
          "output_type": "stream",
          "text": [
            "Loaded pretrained weights for efficientnet-b5\n"
          ]
        },
        {
          "metadata": {
            "tags": null
          },
          "name": "stderr",
          "output_type": "stream",
          "text": [
            "[Fold 4][Epoch 1]:   0%|          | 0/829 [00:00<?, ?it/s]<ipython-input-6-68c520df951b>:128: FutureWarning: `torch.cuda.amp.autocast(args...)` is deprecated. Please use `torch.amp.autocast('cuda', args...)` instead.\n",
            "  with autocast():\n",
            "[Fold 4][Epoch 1]: 100%|██████████| 829/829 [04:55<00:00,  2.81it/s]\n"
          ]
        },
        {
          "metadata": {
            "tags": null
          },
          "name": "stdout",
          "output_type": "stream",
          "text": [
            "📌 [Fold 4][Epoch 1] Val Accuracy: 0.4639\n"
          ]
        },
        {
          "metadata": {
            "tags": null
          },
          "name": "stderr",
          "output_type": "stream",
          "text": [
            "[Fold 4][Epoch 2]:   0%|          | 0/829 [00:00<?, ?it/s]<ipython-input-6-68c520df951b>:128: FutureWarning: `torch.cuda.amp.autocast(args...)` is deprecated. Please use `torch.amp.autocast('cuda', args...)` instead.\n",
            "  with autocast():\n",
            "[Fold 4][Epoch 2]: 100%|██████████| 829/829 [04:55<00:00,  2.81it/s]\n"
          ]
        },
        {
          "metadata": {
            "tags": null
          },
          "name": "stdout",
          "output_type": "stream",
          "text": [
            "📌 [Fold 4][Epoch 2] Val Accuracy: 0.7492\n"
          ]
        },
        {
          "metadata": {
            "tags": null
          },
          "name": "stderr",
          "output_type": "stream",
          "text": [
            "[Fold 4][Epoch 3]:   0%|          | 0/829 [00:00<?, ?it/s]<ipython-input-6-68c520df951b>:128: FutureWarning: `torch.cuda.amp.autocast(args...)` is deprecated. Please use `torch.amp.autocast('cuda', args...)` instead.\n",
            "  with autocast():\n",
            "[Fold 4][Epoch 3]: 100%|██████████| 829/829 [04:55<00:00,  2.81it/s]\n"
          ]
        },
        {
          "metadata": {
            "tags": null
          },
          "name": "stdout",
          "output_type": "stream",
          "text": [
            "📌 [Fold 4][Epoch 3] Val Accuracy: 0.8222\n"
          ]
        },
        {
          "metadata": {
            "tags": null
          },
          "name": "stderr",
          "output_type": "stream",
          "text": [
            "[Fold 4][Epoch 4]:   0%|          | 0/829 [00:00<?, ?it/s]<ipython-input-6-68c520df951b>:128: FutureWarning: `torch.cuda.amp.autocast(args...)` is deprecated. Please use `torch.amp.autocast('cuda', args...)` instead.\n",
            "  with autocast():\n",
            "[Fold 4][Epoch 4]: 100%|██████████| 829/829 [04:55<00:00,  2.81it/s]\n"
          ]
        },
        {
          "metadata": {
            "tags": null
          },
          "name": "stdout",
          "output_type": "stream",
          "text": [
            "📌 [Fold 4][Epoch 4] Val Accuracy: 0.8929\n"
          ]
        },
        {
          "metadata": {
            "tags": null
          },
          "name": "stderr",
          "output_type": "stream",
          "text": [
            "[Fold 4][Epoch 5]:   0%|          | 0/829 [00:00<?, ?it/s]<ipython-input-6-68c520df951b>:128: FutureWarning: `torch.cuda.amp.autocast(args...)` is deprecated. Please use `torch.amp.autocast('cuda', args...)` instead.\n",
            "  with autocast():\n",
            "[Fold 4][Epoch 5]: 100%|██████████| 829/829 [04:55<00:00,  2.81it/s]\n"
          ]
        },
        {
          "metadata": {
            "tags": null
          },
          "name": "stdout",
          "output_type": "stream",
          "text": [
            "📌 [Fold 4][Epoch 5] Val Accuracy: 0.9061\n"
          ]
        },
        {
          "metadata": {
            "tags": null
          },
          "name": "stderr",
          "output_type": "stream",
          "text": [
            "[Fold 4][Epoch 6]:   0%|          | 0/829 [00:00<?, ?it/s]<ipython-input-6-68c520df951b>:128: FutureWarning: `torch.cuda.amp.autocast(args...)` is deprecated. Please use `torch.amp.autocast('cuda', args...)` instead.\n",
            "  with autocast():\n",
            "[Fold 4][Epoch 6]: 100%|██████████| 829/829 [04:55<00:00,  2.81it/s]\n"
          ]
        },
        {
          "metadata": {
            "tags": null
          },
          "name": "stdout",
          "output_type": "stream",
          "text": [
            "📌 [Fold 4][Epoch 6] Val Accuracy: 0.9128\n"
          ]
        },
        {
          "metadata": {
            "tags": null
          },
          "name": "stderr",
          "output_type": "stream",
          "text": [
            "[Fold 4][Epoch 7]:   0%|          | 0/829 [00:00<?, ?it/s]<ipython-input-6-68c520df951b>:128: FutureWarning: `torch.cuda.amp.autocast(args...)` is deprecated. Please use `torch.amp.autocast('cuda', args...)` instead.\n",
            "  with autocast():\n",
            "[Fold 4][Epoch 7]: 100%|██████████| 829/829 [04:55<00:00,  2.81it/s]\n"
          ]
        },
        {
          "metadata": {
            "tags": null
          },
          "name": "stdout",
          "output_type": "stream",
          "text": [
            "📌 [Fold 4][Epoch 7] Val Accuracy: 0.9249\n"
          ]
        },
        {
          "metadata": {
            "tags": null
          },
          "name": "stderr",
          "output_type": "stream",
          "text": [
            "[Fold 4][Epoch 8]:   0%|          | 0/829 [00:00<?, ?it/s]<ipython-input-6-68c520df951b>:128: FutureWarning: `torch.cuda.amp.autocast(args...)` is deprecated. Please use `torch.amp.autocast('cuda', args...)` instead.\n",
            "  with autocast():\n",
            "[Fold 4][Epoch 8]: 100%|██████████| 829/829 [04:55<00:00,  2.81it/s]\n"
          ]
        },
        {
          "metadata": {
            "tags": null
          },
          "name": "stdout",
          "output_type": "stream",
          "text": [
            "📌 [Fold 4][Epoch 8] Val Accuracy: 0.9357\n"
          ]
        },
        {
          "metadata": {
            "tags": null
          },
          "name": "stderr",
          "output_type": "stream",
          "text": [
            "[Fold 4][Epoch 9]:   0%|          | 0/829 [00:00<?, ?it/s]<ipython-input-6-68c520df951b>:128: FutureWarning: `torch.cuda.amp.autocast(args...)` is deprecated. Please use `torch.amp.autocast('cuda', args...)` instead.\n",
            "  with autocast():\n",
            "[Fold 4][Epoch 9]: 100%|██████████| 829/829 [04:55<00:00,  2.81it/s]\n"
          ]
        },
        {
          "metadata": {
            "tags": null
          },
          "name": "stdout",
          "output_type": "stream",
          "text": [
            "📌 [Fold 4][Epoch 9] Val Accuracy: 0.9366\n"
          ]
        },
        {
          "metadata": {
            "tags": null
          },
          "name": "stderr",
          "output_type": "stream",
          "text": [
            "[Fold 4][Epoch 10]:   0%|          | 0/829 [00:00<?, ?it/s]<ipython-input-6-68c520df951b>:128: FutureWarning: `torch.cuda.amp.autocast(args...)` is deprecated. Please use `torch.amp.autocast('cuda', args...)` instead.\n",
            "  with autocast():\n",
            "[Fold 4][Epoch 10]: 100%|██████████| 829/829 [04:55<00:00,  2.81it/s]\n"
          ]
        },
        {
          "metadata": {
            "tags": null
          },
          "name": "stdout",
          "output_type": "stream",
          "text": [
            "📌 [Fold 4][Epoch 10] Val Accuracy: 0.9380\n"
          ]
        },
        {
          "metadata": {
            "tags": null
          },
          "name": "stderr",
          "output_type": "stream",
          "text": [
            "[Fold 4][Epoch 11]:   0%|          | 0/829 [00:00<?, ?it/s]<ipython-input-6-68c520df951b>:128: FutureWarning: `torch.cuda.amp.autocast(args...)` is deprecated. Please use `torch.amp.autocast('cuda', args...)` instead.\n",
            "  with autocast():\n",
            "[Fold 4][Epoch 11]: 100%|██████████| 829/829 [04:55<00:00,  2.81it/s]\n"
          ]
        },
        {
          "metadata": {
            "tags": null
          },
          "name": "stdout",
          "output_type": "stream",
          "text": [
            "📌 [Fold 4][Epoch 11] Val Accuracy: 0.9408\n"
          ]
        },
        {
          "metadata": {
            "tags": null
          },
          "name": "stderr",
          "output_type": "stream",
          "text": [
            "[Fold 4][Epoch 12]:   0%|          | 0/829 [00:00<?, ?it/s]<ipython-input-6-68c520df951b>:128: FutureWarning: `torch.cuda.amp.autocast(args...)` is deprecated. Please use `torch.amp.autocast('cuda', args...)` instead.\n",
            "  with autocast():\n",
            "[Fold 4][Epoch 12]: 100%|██████████| 829/829 [04:55<00:00,  2.81it/s]\n"
          ]
        },
        {
          "metadata": {
            "tags": null
          },
          "name": "stdout",
          "output_type": "stream",
          "text": [
            "📌 [Fold 4][Epoch 12] Val Accuracy: 0.9430\n"
          ]
        },
        {
          "metadata": {
            "tags": null
          },
          "name": "stderr",
          "output_type": "stream",
          "text": [
            "[Fold 4][Epoch 13]:   0%|          | 0/829 [00:00<?, ?it/s]<ipython-input-6-68c520df951b>:128: FutureWarning: `torch.cuda.amp.autocast(args...)` is deprecated. Please use `torch.amp.autocast('cuda', args...)` instead.\n",
            "  with autocast():\n",
            "[Fold 4][Epoch 13]: 100%|██████████| 829/829 [04:55<00:00,  2.81it/s]\n"
          ]
        },
        {
          "metadata": {
            "tags": null
          },
          "name": "stdout",
          "output_type": "stream",
          "text": [
            "📌 [Fold 4][Epoch 13] Val Accuracy: 0.9470\n"
          ]
        },
        {
          "metadata": {
            "tags": null
          },
          "name": "stderr",
          "output_type": "stream",
          "text": [
            "[Fold 4][Epoch 14]:   0%|          | 0/829 [00:00<?, ?it/s]<ipython-input-6-68c520df951b>:128: FutureWarning: `torch.cuda.amp.autocast(args...)` is deprecated. Please use `torch.amp.autocast('cuda', args...)` instead.\n",
            "  with autocast():\n",
            "[Fold 4][Epoch 14]: 100%|██████████| 829/829 [04:55<00:00,  2.81it/s]\n"
          ]
        },
        {
          "metadata": {
            "tags": null
          },
          "name": "stdout",
          "output_type": "stream",
          "text": [
            "📌 [Fold 4][Epoch 14] Val Accuracy: 0.9543\n"
          ]
        },
        {
          "metadata": {
            "tags": null
          },
          "name": "stderr",
          "output_type": "stream",
          "text": [
            "[Fold 4][Epoch 15]:   0%|          | 0/829 [00:00<?, ?it/s]<ipython-input-6-68c520df951b>:128: FutureWarning: `torch.cuda.amp.autocast(args...)` is deprecated. Please use `torch.amp.autocast('cuda', args...)` instead.\n",
            "  with autocast():\n",
            "[Fold 4][Epoch 15]: 100%|██████████| 829/829 [04:55<00:00,  2.81it/s]\n"
          ]
        },
        {
          "metadata": {
            "tags": null
          },
          "name": "stdout",
          "output_type": "stream",
          "text": [
            "📌 [Fold 4][Epoch 15] Val Accuracy: 0.9514\n"
          ]
        },
        {
          "metadata": {
            "tags": null
          },
          "name": "stderr",
          "output_type": "stream",
          "text": [
            "[Fold 4][Epoch 16]:   0%|          | 0/829 [00:00<?, ?it/s]<ipython-input-6-68c520df951b>:128: FutureWarning: `torch.cuda.amp.autocast(args...)` is deprecated. Please use `torch.amp.autocast('cuda', args...)` instead.\n",
            "  with autocast():\n",
            "[Fold 4][Epoch 16]: 100%|██████████| 829/829 [04:55<00:00,  2.81it/s]\n"
          ]
        },
        {
          "metadata": {
            "tags": null
          },
          "name": "stdout",
          "output_type": "stream",
          "text": [
            "📌 [Fold 4][Epoch 16] Val Accuracy: 0.9487\n"
          ]
        },
        {
          "metadata": {
            "tags": null
          },
          "name": "stderr",
          "output_type": "stream",
          "text": [
            "[Fold 4][Epoch 17]:   0%|          | 0/829 [00:00<?, ?it/s]<ipython-input-6-68c520df951b>:128: FutureWarning: `torch.cuda.amp.autocast(args...)` is deprecated. Please use `torch.amp.autocast('cuda', args...)` instead.\n",
            "  with autocast():\n",
            "[Fold 4][Epoch 17]: 100%|██████████| 829/829 [04:54<00:00,  2.81it/s]\n"
          ]
        },
        {
          "metadata": {
            "tags": null
          },
          "name": "stdout",
          "output_type": "stream",
          "text": [
            "📌 [Fold 4][Epoch 17] Val Accuracy: 0.9608\n"
          ]
        },
        {
          "metadata": {
            "tags": null
          },
          "name": "stderr",
          "output_type": "stream",
          "text": [
            "[Fold 4][Epoch 18]:   0%|          | 0/829 [00:00<?, ?it/s]<ipython-input-6-68c520df951b>:128: FutureWarning: `torch.cuda.amp.autocast(args...)` is deprecated. Please use `torch.amp.autocast('cuda', args...)` instead.\n",
            "  with autocast():\n",
            "[Fold 4][Epoch 18]: 100%|██████████| 829/829 [04:55<00:00,  2.81it/s]\n"
          ]
        },
        {
          "metadata": {
            "tags": null
          },
          "name": "stdout",
          "output_type": "stream",
          "text": [
            "📌 [Fold 4][Epoch 18] Val Accuracy: 0.9544\n"
          ]
        },
        {
          "metadata": {
            "tags": null
          },
          "name": "stderr",
          "output_type": "stream",
          "text": [
            "[Fold 4][Epoch 19]:   0%|          | 0/829 [00:00<?, ?it/s]<ipython-input-6-68c520df951b>:128: FutureWarning: `torch.cuda.amp.autocast(args...)` is deprecated. Please use `torch.amp.autocast('cuda', args...)` instead.\n",
            "  with autocast():\n",
            "[Fold 4][Epoch 19]: 100%|██████████| 829/829 [04:55<00:00,  2.81it/s]\n"
          ]
        },
        {
          "metadata": {
            "tags": null
          },
          "name": "stdout",
          "output_type": "stream",
          "text": [
            "📌 [Fold 4][Epoch 19] Val Accuracy: 0.9544\n"
          ]
        },
        {
          "metadata": {
            "tags": null
          },
          "name": "stderr",
          "output_type": "stream",
          "text": [
            "[Fold 4][Epoch 20]:   0%|          | 0/829 [00:00<?, ?it/s]<ipython-input-6-68c520df951b>:128: FutureWarning: `torch.cuda.amp.autocast(args...)` is deprecated. Please use `torch.amp.autocast('cuda', args...)` instead.\n",
            "  with autocast():\n",
            "[Fold 4][Epoch 20]: 100%|██████████| 829/829 [04:55<00:00,  2.81it/s]\n"
          ]
        },
        {
          "metadata": {
            "tags": null
          },
          "name": "stdout",
          "output_type": "stream",
          "text": [
            "📌 [Fold 4][Epoch 20] Val Accuracy: 0.9588\n",
            "⏹️ Early stopping triggered.\n",
            "\n",
            "🌀 Fold 5/5\n"
          ]
        },
        {
          "metadata": {
            "tags": null
          },
          "name": "stderr",
          "output_type": "stream",
          "text": [
            "<ipython-input-6-68c520df951b>:120: FutureWarning: `torch.cuda.amp.GradScaler(args...)` is deprecated. Please use `torch.amp.GradScaler('cuda', args...)` instead.\n",
            "  scaler = GradScaler()\n"
          ]
        },
        {
          "metadata": {
            "tags": null
          },
          "name": "stdout",
          "output_type": "stream",
          "text": [
            "Loaded pretrained weights for efficientnet-b5\n"
          ]
        },
        {
          "output_type": "stream",
          "name": "stderr",
          "text": [
            "[Fold 5][Epoch 1]:   0%|          | 0/829 [00:00<?, ?it/s]<ipython-input-6-68c520df951b>:128: FutureWarning: `torch.cuda.amp.autocast(args...)` is deprecated. Please use `torch.amp.autocast('cuda', args...)` instead.\n",
            "  with autocast():\n",
            "[Fold 5][Epoch 1]: 100%|██████████| 829/829 [04:55<00:00,  2.81it/s]\n"
          ]
        },
        {
          "output_type": "stream",
          "name": "stdout",
          "text": [
            "📌 [Fold 5][Epoch 1] Val Accuracy: 0.4850\n"
          ]
        },
        {
          "output_type": "stream",
          "name": "stderr",
          "text": [
            "\r[Fold 5][Epoch 2]:   0%|          | 0/829 [00:00<?, ?it/s]<ipython-input-6-68c520df951b>:128: FutureWarning: `torch.cuda.amp.autocast(args...)` is deprecated. Please use `torch.amp.autocast('cuda', args...)` instead.\n",
            "  with autocast():\n",
            "[Fold 5][Epoch 2]: 100%|██████████| 829/829 [04:55<00:00,  2.81it/s]\n"
          ]
        },
        {
          "output_type": "stream",
          "name": "stdout",
          "text": [
            "📌 [Fold 5][Epoch 2] Val Accuracy: 0.7780\n"
          ]
        },
        {
          "output_type": "stream",
          "name": "stderr",
          "text": [
            "\r[Fold 5][Epoch 3]:   0%|          | 0/829 [00:00<?, ?it/s]<ipython-input-6-68c520df951b>:128: FutureWarning: `torch.cuda.amp.autocast(args...)` is deprecated. Please use `torch.amp.autocast('cuda', args...)` instead.\n",
            "  with autocast():\n",
            "[Fold 5][Epoch 3]: 100%|██████████| 829/829 [04:55<00:00,  2.81it/s]\n"
          ]
        },
        {
          "output_type": "stream",
          "name": "stdout",
          "text": [
            "📌 [Fold 5][Epoch 3] Val Accuracy: 0.8622\n"
          ]
        },
        {
          "output_type": "stream",
          "name": "stderr",
          "text": [
            "\r[Fold 5][Epoch 4]:   0%|          | 0/829 [00:00<?, ?it/s]<ipython-input-6-68c520df951b>:128: FutureWarning: `torch.cuda.amp.autocast(args...)` is deprecated. Please use `torch.amp.autocast('cuda', args...)` instead.\n",
            "  with autocast():\n",
            "[Fold 5][Epoch 4]: 100%|██████████| 829/829 [04:55<00:00,  2.81it/s]\n"
          ]
        },
        {
          "output_type": "stream",
          "name": "stdout",
          "text": [
            "📌 [Fold 5][Epoch 4] Val Accuracy: 0.8861\n"
          ]
        },
        {
          "output_type": "stream",
          "name": "stderr",
          "text": [
            "\r[Fold 5][Epoch 5]:   0%|          | 0/829 [00:00<?, ?it/s]<ipython-input-6-68c520df951b>:128: FutureWarning: `torch.cuda.amp.autocast(args...)` is deprecated. Please use `torch.amp.autocast('cuda', args...)` instead.\n",
            "  with autocast():\n",
            "[Fold 5][Epoch 5]: 100%|██████████| 829/829 [04:55<00:00,  2.81it/s]\n"
          ]
        },
        {
          "output_type": "stream",
          "name": "stdout",
          "text": [
            "📌 [Fold 5][Epoch 5] Val Accuracy: 0.9089\n"
          ]
        },
        {
          "output_type": "stream",
          "name": "stderr",
          "text": [
            "\r[Fold 5][Epoch 6]:   0%|          | 0/829 [00:00<?, ?it/s]<ipython-input-6-68c520df951b>:128: FutureWarning: `torch.cuda.amp.autocast(args...)` is deprecated. Please use `torch.amp.autocast('cuda', args...)` instead.\n",
            "  with autocast():\n",
            "[Fold 5][Epoch 6]: 100%|██████████| 829/829 [04:55<00:00,  2.81it/s]\n"
          ]
        },
        {
          "output_type": "stream",
          "name": "stdout",
          "text": [
            "📌 [Fold 5][Epoch 6] Val Accuracy: 0.9167\n"
          ]
        },
        {
          "output_type": "stream",
          "name": "stderr",
          "text": [
            "\r[Fold 5][Epoch 7]:   0%|          | 0/829 [00:00<?, ?it/s]<ipython-input-6-68c520df951b>:128: FutureWarning: `torch.cuda.amp.autocast(args...)` is deprecated. Please use `torch.amp.autocast('cuda', args...)` instead.\n",
            "  with autocast():\n",
            "[Fold 5][Epoch 7]: 100%|██████████| 829/829 [04:55<00:00,  2.81it/s]\n"
          ]
        },
        {
          "output_type": "stream",
          "name": "stdout",
          "text": [
            "📌 [Fold 5][Epoch 7] Val Accuracy: 0.9277\n"
          ]
        },
        {
          "output_type": "stream",
          "name": "stderr",
          "text": [
            "\r[Fold 5][Epoch 8]:   0%|          | 0/829 [00:00<?, ?it/s]<ipython-input-6-68c520df951b>:128: FutureWarning: `torch.cuda.amp.autocast(args...)` is deprecated. Please use `torch.amp.autocast('cuda', args...)` instead.\n",
            "  with autocast():\n",
            "[Fold 5][Epoch 8]: 100%|██████████| 829/829 [04:55<00:00,  2.81it/s]\n"
          ]
        },
        {
          "output_type": "stream",
          "name": "stdout",
          "text": [
            "📌 [Fold 5][Epoch 8] Val Accuracy: 0.9322\n"
          ]
        },
        {
          "output_type": "stream",
          "name": "stderr",
          "text": [
            "\r[Fold 5][Epoch 9]:   0%|          | 0/829 [00:00<?, ?it/s]<ipython-input-6-68c520df951b>:128: FutureWarning: `torch.cuda.amp.autocast(args...)` is deprecated. Please use `torch.amp.autocast('cuda', args...)` instead.\n",
            "  with autocast():\n",
            "[Fold 5][Epoch 9]: 100%|██████████| 829/829 [04:55<00:00,  2.81it/s]\n"
          ]
        },
        {
          "output_type": "stream",
          "name": "stdout",
          "text": [
            "📌 [Fold 5][Epoch 9] Val Accuracy: 0.9306\n"
          ]
        },
        {
          "output_type": "stream",
          "name": "stderr",
          "text": [
            "\r[Fold 5][Epoch 10]:   0%|          | 0/829 [00:00<?, ?it/s]<ipython-input-6-68c520df951b>:128: FutureWarning: `torch.cuda.amp.autocast(args...)` is deprecated. Please use `torch.amp.autocast('cuda', args...)` instead.\n",
            "  with autocast():\n",
            "[Fold 5][Epoch 10]: 100%|██████████| 829/829 [04:55<00:00,  2.81it/s]\n"
          ]
        },
        {
          "output_type": "stream",
          "name": "stdout",
          "text": [
            "📌 [Fold 5][Epoch 10] Val Accuracy: 0.9327\n"
          ]
        },
        {
          "output_type": "stream",
          "name": "stderr",
          "text": [
            "\r[Fold 5][Epoch 11]:   0%|          | 0/829 [00:00<?, ?it/s]<ipython-input-6-68c520df951b>:128: FutureWarning: `torch.cuda.amp.autocast(args...)` is deprecated. Please use `torch.amp.autocast('cuda', args...)` instead.\n",
            "  with autocast():\n",
            "[Fold 5][Epoch 11]: 100%|██████████| 829/829 [04:55<00:00,  2.81it/s]\n"
          ]
        },
        {
          "output_type": "stream",
          "name": "stdout",
          "text": [
            "📌 [Fold 5][Epoch 11] Val Accuracy: 0.9431\n"
          ]
        },
        {
          "output_type": "stream",
          "name": "stderr",
          "text": [
            "\r[Fold 5][Epoch 12]:   0%|          | 0/829 [00:00<?, ?it/s]<ipython-input-6-68c520df951b>:128: FutureWarning: `torch.cuda.amp.autocast(args...)` is deprecated. Please use `torch.amp.autocast('cuda', args...)` instead.\n",
            "  with autocast():\n",
            "[Fold 5][Epoch 12]: 100%|██████████| 829/829 [04:55<00:00,  2.80it/s]\n"
          ]
        },
        {
          "output_type": "stream",
          "name": "stdout",
          "text": [
            "📌 [Fold 5][Epoch 12] Val Accuracy: 0.9425\n"
          ]
        },
        {
          "output_type": "stream",
          "name": "stderr",
          "text": [
            "\r[Fold 5][Epoch 13]:   0%|          | 0/829 [00:00<?, ?it/s]<ipython-input-6-68c520df951b>:128: FutureWarning: `torch.cuda.amp.autocast(args...)` is deprecated. Please use `torch.amp.autocast('cuda', args...)` instead.\n",
            "  with autocast():\n",
            "[Fold 5][Epoch 13]: 100%|██████████| 829/829 [04:55<00:00,  2.81it/s]\n"
          ]
        },
        {
          "output_type": "stream",
          "name": "stdout",
          "text": [
            "📌 [Fold 5][Epoch 13] Val Accuracy: 0.9466\n"
          ]
        },
        {
          "output_type": "stream",
          "name": "stderr",
          "text": [
            "\r[Fold 5][Epoch 14]:   0%|          | 0/829 [00:00<?, ?it/s]<ipython-input-6-68c520df951b>:128: FutureWarning: `torch.cuda.amp.autocast(args...)` is deprecated. Please use `torch.amp.autocast('cuda', args...)` instead.\n",
            "  with autocast():\n",
            "[Fold 5][Epoch 14]: 100%|██████████| 829/829 [04:55<00:00,  2.81it/s]\n"
          ]
        },
        {
          "output_type": "stream",
          "name": "stdout",
          "text": [
            "📌 [Fold 5][Epoch 14] Val Accuracy: 0.9464\n"
          ]
        },
        {
          "output_type": "stream",
          "name": "stderr",
          "text": [
            "\r[Fold 5][Epoch 15]:   0%|          | 0/829 [00:00<?, ?it/s]<ipython-input-6-68c520df951b>:128: FutureWarning: `torch.cuda.amp.autocast(args...)` is deprecated. Please use `torch.amp.autocast('cuda', args...)` instead.\n",
            "  with autocast():\n",
            "[Fold 5][Epoch 15]: 100%|██████████| 829/829 [04:55<00:00,  2.81it/s]\n"
          ]
        },
        {
          "output_type": "stream",
          "name": "stdout",
          "text": [
            "📌 [Fold 5][Epoch 15] Val Accuracy: 0.9498\n"
          ]
        },
        {
          "output_type": "stream",
          "name": "stderr",
          "text": [
            "\r[Fold 5][Epoch 16]:   0%|          | 0/829 [00:00<?, ?it/s]<ipython-input-6-68c520df951b>:128: FutureWarning: `torch.cuda.amp.autocast(args...)` is deprecated. Please use `torch.amp.autocast('cuda', args...)` instead.\n",
            "  with autocast():\n",
            "[Fold 5][Epoch 16]: 100%|██████████| 829/829 [04:55<00:00,  2.81it/s]\n"
          ]
        },
        {
          "output_type": "stream",
          "name": "stdout",
          "text": [
            "📌 [Fold 5][Epoch 16] Val Accuracy: 0.9498\n"
          ]
        },
        {
          "output_type": "stream",
          "name": "stderr",
          "text": [
            "\r[Fold 5][Epoch 17]:   0%|          | 0/829 [00:00<?, ?it/s]<ipython-input-6-68c520df951b>:128: FutureWarning: `torch.cuda.amp.autocast(args...)` is deprecated. Please use `torch.amp.autocast('cuda', args...)` instead.\n",
            "  with autocast():\n",
            "[Fold 5][Epoch 17]: 100%|██████████| 829/829 [04:55<00:00,  2.81it/s]\n"
          ]
        },
        {
          "output_type": "stream",
          "name": "stdout",
          "text": [
            "📌 [Fold 5][Epoch 17] Val Accuracy: 0.9532\n"
          ]
        },
        {
          "output_type": "stream",
          "name": "stderr",
          "text": [
            "\r[Fold 5][Epoch 18]:   0%|          | 0/829 [00:00<?, ?it/s]<ipython-input-6-68c520df951b>:128: FutureWarning: `torch.cuda.amp.autocast(args...)` is deprecated. Please use `torch.amp.autocast('cuda', args...)` instead.\n",
            "  with autocast():\n",
            "[Fold 5][Epoch 18]: 100%|██████████| 829/829 [04:55<00:00,  2.81it/s]\n"
          ]
        },
        {
          "output_type": "stream",
          "name": "stdout",
          "text": [
            "📌 [Fold 5][Epoch 18] Val Accuracy: 0.9543\n"
          ]
        },
        {
          "output_type": "stream",
          "name": "stderr",
          "text": [
            "\r[Fold 5][Epoch 19]:   0%|          | 0/829 [00:00<?, ?it/s]<ipython-input-6-68c520df951b>:128: FutureWarning: `torch.cuda.amp.autocast(args...)` is deprecated. Please use `torch.amp.autocast('cuda', args...)` instead.\n",
            "  with autocast():\n",
            "[Fold 5][Epoch 19]: 100%|██████████| 829/829 [04:55<00:00,  2.80it/s]\n"
          ]
        },
        {
          "output_type": "stream",
          "name": "stdout",
          "text": [
            "📌 [Fold 5][Epoch 19] Val Accuracy: 0.9570\n"
          ]
        },
        {
          "output_type": "stream",
          "name": "stderr",
          "text": [
            "\r[Fold 5][Epoch 20]:   0%|          | 0/829 [00:00<?, ?it/s]<ipython-input-6-68c520df951b>:128: FutureWarning: `torch.cuda.amp.autocast(args...)` is deprecated. Please use `torch.amp.autocast('cuda', args...)` instead.\n",
            "  with autocast():\n",
            "[Fold 5][Epoch 20]: 100%|██████████| 829/829 [04:55<00:00,  2.81it/s]\n"
          ]
        },
        {
          "output_type": "stream",
          "name": "stdout",
          "text": [
            "📌 [Fold 5][Epoch 20] Val Accuracy: 0.9574\n",
            "✅ 학습 완료\n",
            "📊 Fold별 Val Accuracy: [0.9615268557634279, 0.959867229933615, 0.9533796016898008, 0.9607665610381771, 0.9574468085106383]\n",
            "📈 평균 Validation Accuracy: 0.9586\n"
          ]
        }
      ]
    },
    {
      "cell_type": "code",
      "source": [
        "import os, random\n",
        "import pandas as pd\n",
        "import numpy as np\n",
        "from PIL import Image\n",
        "from tqdm import tqdm\n",
        "import matplotlib.pyplot as plt\n",
        "import seaborn as sns\n",
        "from sklearn.model_selection import StratifiedKFold\n",
        "from sklearn.metrics import accuracy_score, confusion_matrix\n",
        "\n",
        "import torch\n",
        "import torch.nn as nn\n",
        "from torch.utils.data import Dataset, DataLoader\n",
        "import torchvision.transforms as transforms\n",
        "import timm\n",
        "from torch.cuda.amp import autocast, GradScaler\n",
        "\n",
        "# ========================\n",
        "# 설정\n",
        "SEED = 42\n",
        "BATCH_SIZE = 32\n",
        "EPOCHS = 5\n",
        "FOLDS = 5\n",
        "TTA_ROUNDS = 2\n",
        "IMG_SIZE = 224\n",
        "PATIENCE = 3\n",
        "\n",
        "os.makedirs(\"models\", exist_ok=True)\n",
        "os.makedirs(\"val_logs\", exist_ok=True)\n",
        "\n",
        "device = torch.device(\"cuda\" if torch.cuda.is_available() else \"cpu\")\n",
        "torch.manual_seed(SEED)\n",
        "\n",
        "# ========================\n",
        "# 클래스 통합\n",
        "merge_map = {\n",
        "    'K5_3세대_하이브리드_2020_2022': 'K5_하이브리드_3세대_2020_2023',\n",
        "    '디_올뉴니로_2022_2025': '디_올_뉴_니로_2022_2025',\n",
        "    '718_박스터_2017_2024': '박스터_718_2017_2024',\n",
        "}\n",
        "\n",
        "ROOT_DIR = '/content/drive/MyDrive/open'\n",
        "TRAIN_DIR = os.path.join(ROOT_DIR, 'train')\n",
        "TEST_DIR = os.path.join(ROOT_DIR, 'test')\n",
        "TEST_CSV = os.path.join(ROOT_DIR, 'test.csv')\n",
        "SUBMIT_CSV = os.path.join(ROOT_DIR, 'sample_submission.csv')\n",
        "\n",
        "raw_classes = os.listdir(TRAIN_DIR)\n",
        "merged_classes = sorted(set([merge_map.get(c, c) for c in raw_classes]))\n",
        "class_to_idx = {c: i for i, c in enumerate(merged_classes)}\n",
        "idx_to_class = {i: c for c, i in class_to_idx.items()}\n",
        "\n",
        "# ========================\n",
        "# Dataset 정의\n",
        "class CarDataset(Dataset):\n",
        "    def __init__(self, image_paths, labels=None, transform=None):\n",
        "        self.image_paths = image_paths\n",
        "        self.labels = labels\n",
        "        self.transform = transform\n",
        "\n",
        "    def __len__(self):\n",
        "        return len(self.image_paths)\n",
        "\n",
        "    def __getitem__(self, idx):\n",
        "        img = Image.open(self.image_paths[idx]).convert('RGB')\n",
        "        if self.transform:\n",
        "            img = self.transform(img)\n",
        "        if self.labels is not None:\n",
        "            return img, self.labels[idx]\n",
        "        else:\n",
        "            return img\n",
        "\n",
        "# ========================\n",
        "# Transform\n",
        "train_transform = transforms.Compose([\n",
        "    transforms.RandomResizedCrop(IMG_SIZE, scale=(0.8, 1.0)),\n",
        "    transforms.RandomHorizontalFlip(),\n",
        "    transforms.ColorJitter(0.2, 0.2, 0.2, 0.05),\n",
        "    transforms.RandomRotation(10),\n",
        "    transforms.ToTensor(),\n",
        "    transforms.Normalize([0.485, 0.456, 0.406], [0.229, 0.224, 0.225])\n",
        "])\n",
        "\n",
        "test_transform = transforms.Compose([\n",
        "    transforms.Resize((IMG_SIZE, IMG_SIZE)),\n",
        "    transforms.ToTensor(),\n",
        "    transforms.Normalize([0.485, 0.456, 0.406], [0.229, 0.224, 0.225])\n",
        "])\n",
        "\n",
        "# ========================\n",
        "# 데이터 로딩\n",
        "train_image_paths, train_labels = [], []\n",
        "for folder in raw_classes:\n",
        "    unified = merge_map.get(folder, folder)\n",
        "    for f in os.listdir(os.path.join(TRAIN_DIR, folder)):\n",
        "        train_image_paths.append(os.path.join(TRAIN_DIR, folder, f))\n",
        "        train_labels.append(class_to_idx[unified])\n",
        "\n",
        "test_df = pd.read_csv(TEST_CSV)\n",
        "test_image_paths = [os.path.join(ROOT_DIR, p) for p in test_df['img_path']]\n",
        "submission = pd.read_csv(SUBMIT_CSV)\n",
        "preds_396 = np.zeros((len(test_df), 396))\n",
        "val_acc_log = []\n",
        "\n",
        "# ========================\n",
        "# KFold 학습\n",
        "skf = StratifiedKFold(n_splits=FOLDS, shuffle=True, random_state=SEED)\n",
        "\n",
        "for fold, (train_idx, val_idx) in enumerate(skf.split(train_image_paths, train_labels)):\n",
        "    print(f\"\\n🌀 Fold {fold+1}/{FOLDS}\")\n",
        "    X_train = [train_image_paths[i] for i in train_idx]\n",
        "    y_train = [train_labels[i] for i in train_idx]\n",
        "    X_val = [train_image_paths[i] for i in val_idx]\n",
        "    y_val = [train_labels[i] for i in val_idx]\n",
        "\n",
        "    train_ds = CarDataset(X_train, y_train, transform=train_transform)\n",
        "    val_ds = CarDataset(X_val, y_val, transform=test_transform)\n",
        "\n",
        "    train_loader = DataLoader(train_ds, batch_size=BATCH_SIZE, shuffle=True, num_workers=2, pin_memory=True)\n",
        "    val_loader = DataLoader(val_ds, batch_size=BATCH_SIZE, shuffle=False, num_workers=2, pin_memory=True)\n",
        "\n",
        "    model = timm.create_model('efficientnet_b5', pretrained=True, num_classes=len(merged_classes)).to(device)\n",
        "    optimizer = torch.optim.AdamW(model.parameters(), lr=1e-4)\n",
        "    criterion = nn.CrossEntropyLoss()\n",
        "    scaler = GradScaler()\n",
        "\n",
        "    best_acc, patience_counter = 0, 0\n",
        "    for epoch in range(EPOCHS):\n",
        "        model.train()\n",
        "        for images, labels in tqdm(train_loader, desc=f\"[Fold {fold+1}][Epoch {epoch+1}]\"):\n",
        "            images, labels = images.to(device), labels.to(device)\n",
        "            optimizer.zero_grad()\n",
        "            with autocast():\n",
        "                outputs = model(images)\n",
        "                loss = criterion(outputs, labels)\n",
        "            scaler.scale(loss).backward()\n",
        "            scaler.step(optimizer)\n",
        "            scaler.update()\n",
        "\n",
        "        model.eval()\n",
        "        preds, true = [], []\n",
        "        with torch.no_grad():\n",
        "            for images, labels in val_loader:\n",
        "                images, labels = images.to(device), labels.to(device)\n",
        "                outputs = model(images)\n",
        "                preds.extend(torch.argmax(outputs, dim=1).cpu().numpy())\n",
        "                true.extend(labels.cpu().numpy())\n",
        "        acc = accuracy_score(true, preds)\n",
        "        print(f\"📌 [Fold {fold+1}][Epoch {epoch+1}] Val Accuracy: {acc:.4f}\")\n",
        "\n",
        "        if acc > best_acc:\n",
        "            best_acc = acc\n",
        "            torch.save(model.state_dict(), f\"models/best_fold{fold+1}.pth\")\n",
        "            patience_counter = 0\n",
        "        else:\n",
        "            patience_counter += 1\n",
        "            if patience_counter >= PATIENCE:\n",
        "                print(\"⏹️ Early stopping triggered.\")\n",
        "                break\n",
        "\n",
        "    val_acc_log.append(best_acc)\n",
        "\n",
        "    cm = confusion_matrix(true, preds)\n",
        "    plt.figure(figsize=(10, 8))\n",
        "    sns.heatmap(cm, cmap=\"Blues\", xticklabels=False, yticklabels=False)\n",
        "    plt.title(f\"Confusion Matrix Fold {fold+1}\")\n",
        "    plt.savefig(f\"val_logs/confmat_fold{fold+1}.png\")\n",
        "    plt.close()\n",
        "\n",
        "    model.load_state_dict(torch.load(f\"models/best_fold{fold+1}.pth\"))\n",
        "    model.eval()\n",
        "    fold_preds = np.zeros((len(test_df), len(merged_classes)))\n",
        "    for _ in range(TTA_ROUNDS):\n",
        "        test_ds = CarDataset(test_image_paths, transform=test_transform)\n",
        "        test_loader = DataLoader(test_ds, batch_size=BATCH_SIZE, shuffle=False, num_workers=2, pin_memory=True)\n",
        "        tta_preds = []\n",
        "        with torch.no_grad():\n",
        "            for batch in test_loader:\n",
        "                imgs = batch.to(device)\n",
        "                probs = torch.softmax(model(imgs), dim=1).cpu().numpy()\n",
        "                tta_preds.append(probs)\n",
        "        fold_preds += np.vstack(tta_preds) / TTA_ROUNDS\n",
        "\n",
        "    for col in submission.columns[1:]:\n",
        "        mapped_col = merge_map.get(col, col)\n",
        "        if mapped_col in class_to_idx:\n",
        "            preds_396[:, submission.columns.get_loc(col)-1] += fold_preds[:, class_to_idx[mapped_col]] / FOLDS\n",
        "\n",
        "submission.iloc[:, 1:] = preds_396\n",
        "submission.to_csv(\"submission_final.csv\", index=False)\n",
        "print(\"✅ 최종 제출 파일 저장 완료: submission_final.csv\")\n",
        "print(f\"📊 Fold별 Val Accuracy: {val_acc_log}\")\n",
        "print(f\"📈 평균 Validation Accuracy: {np.mean(val_acc_log):.4f}\")\n"
      ],
      "metadata": {
        "colab": {
          "base_uri": "https://localhost:8080/",
          "height": 834
        },
        "id": "8xA8OrF0Uy1u",
        "outputId": "b00c01e5-5669-4698-ab70-30d4d148ed2b"
      },
      "execution_count": 3,
      "outputs": [
        {
          "output_type": "stream",
          "name": "stdout",
          "text": [
            "\n",
            "🌀 Fold 1/5\n"
          ]
        },
        {
          "output_type": "stream",
          "name": "stderr",
          "text": [
            "<ipython-input-3-4e131028c290>:125: FutureWarning: `torch.cuda.amp.GradScaler(args...)` is deprecated. Please use `torch.amp.GradScaler('cuda', args...)` instead.\n",
            "  scaler = GradScaler()\n",
            "[Fold 1][Epoch 1]:   0%|          | 0/829 [00:00<?, ?it/s]<ipython-input-3-4e131028c290>:133: FutureWarning: `torch.cuda.amp.autocast(args...)` is deprecated. Please use `torch.amp.autocast('cuda', args...)` instead.\n",
            "  with autocast():\n",
            "[Fold 1][Epoch 1]:  46%|████▌     | 380/829 [01:32<01:49,  4.09it/s]\n"
          ]
        },
        {
          "output_type": "error",
          "ename": "IsADirectoryError",
          "evalue": "Caught IsADirectoryError in DataLoader worker process 0.\nOriginal Traceback (most recent call last):\n  File \"/usr/local/lib/python3.11/dist-packages/torch/utils/data/_utils/worker.py\", line 349, in _worker_loop\n    data = fetcher.fetch(index)  # type: ignore[possibly-undefined]\n           ^^^^^^^^^^^^^^^^^^^^\n  File \"/usr/local/lib/python3.11/dist-packages/torch/utils/data/_utils/fetch.py\", line 52, in fetch\n    data = [self.dataset[idx] for idx in possibly_batched_index]\n           ^^^^^^^^^^^^^^^^^^^^^^^^^^^^^^^^^^^^^^^^^^^^^^^^^^^^^\n  File \"/usr/local/lib/python3.11/dist-packages/torch/utils/data/_utils/fetch.py\", line 52, in <listcomp>\n    data = [self.dataset[idx] for idx in possibly_batched_index]\n            ~~~~~~~~~~~~^^^^^\n  File \"<ipython-input-3-4e131028c290>\", line 65, in __getitem__\n    img = Image.open(self.image_paths[idx]).convert('RGB')\n          ^^^^^^^^^^^^^^^^^^^^^^^^^^^^^^^^^\n  File \"/usr/local/lib/python3.11/dist-packages/PIL/Image.py\", line 3505, in open\n    fp = builtins.open(filename, \"rb\")\n         ^^^^^^^^^^^^^^^^^^^^^^^^^^^^^\nIsADirectoryError: [Errno 21] Is a directory: '/content/drive/MyDrive/open/train/X7_G07_2019_2022/.ipynb_checkpoints'\n",
          "traceback": [
            "\u001b[0;31m---------------------------------------------------------------------------\u001b[0m",
            "\u001b[0;31mIsADirectoryError\u001b[0m                         Traceback (most recent call last)",
            "\u001b[0;32m<ipython-input-3-4e131028c290>\u001b[0m in \u001b[0;36m<cell line: 0>\u001b[0;34m()\u001b[0m\n\u001b[1;32m    128\u001b[0m     \u001b[0;32mfor\u001b[0m \u001b[0mepoch\u001b[0m \u001b[0;32min\u001b[0m \u001b[0mrange\u001b[0m\u001b[0;34m(\u001b[0m\u001b[0mEPOCHS\u001b[0m\u001b[0;34m)\u001b[0m\u001b[0;34m:\u001b[0m\u001b[0;34m\u001b[0m\u001b[0;34m\u001b[0m\u001b[0m\n\u001b[1;32m    129\u001b[0m         \u001b[0mmodel\u001b[0m\u001b[0;34m.\u001b[0m\u001b[0mtrain\u001b[0m\u001b[0;34m(\u001b[0m\u001b[0;34m)\u001b[0m\u001b[0;34m\u001b[0m\u001b[0;34m\u001b[0m\u001b[0m\n\u001b[0;32m--> 130\u001b[0;31m         \u001b[0;32mfor\u001b[0m \u001b[0mimages\u001b[0m\u001b[0;34m,\u001b[0m \u001b[0mlabels\u001b[0m \u001b[0;32min\u001b[0m \u001b[0mtqdm\u001b[0m\u001b[0;34m(\u001b[0m\u001b[0mtrain_loader\u001b[0m\u001b[0;34m,\u001b[0m \u001b[0mdesc\u001b[0m\u001b[0;34m=\u001b[0m\u001b[0;34mf\"[Fold {fold+1}][Epoch {epoch+1}]\"\u001b[0m\u001b[0;34m)\u001b[0m\u001b[0;34m:\u001b[0m\u001b[0;34m\u001b[0m\u001b[0;34m\u001b[0m\u001b[0m\n\u001b[0m\u001b[1;32m    131\u001b[0m             \u001b[0mimages\u001b[0m\u001b[0;34m,\u001b[0m \u001b[0mlabels\u001b[0m \u001b[0;34m=\u001b[0m \u001b[0mimages\u001b[0m\u001b[0;34m.\u001b[0m\u001b[0mto\u001b[0m\u001b[0;34m(\u001b[0m\u001b[0mdevice\u001b[0m\u001b[0;34m)\u001b[0m\u001b[0;34m,\u001b[0m \u001b[0mlabels\u001b[0m\u001b[0;34m.\u001b[0m\u001b[0mto\u001b[0m\u001b[0;34m(\u001b[0m\u001b[0mdevice\u001b[0m\u001b[0;34m)\u001b[0m\u001b[0;34m\u001b[0m\u001b[0;34m\u001b[0m\u001b[0m\n\u001b[1;32m    132\u001b[0m             \u001b[0moptimizer\u001b[0m\u001b[0;34m.\u001b[0m\u001b[0mzero_grad\u001b[0m\u001b[0;34m(\u001b[0m\u001b[0;34m)\u001b[0m\u001b[0;34m\u001b[0m\u001b[0;34m\u001b[0m\u001b[0m\n",
            "\u001b[0;32m/usr/local/lib/python3.11/dist-packages/tqdm/std.py\u001b[0m in \u001b[0;36m__iter__\u001b[0;34m(self)\u001b[0m\n\u001b[1;32m   1179\u001b[0m \u001b[0;34m\u001b[0m\u001b[0m\n\u001b[1;32m   1180\u001b[0m         \u001b[0;32mtry\u001b[0m\u001b[0;34m:\u001b[0m\u001b[0;34m\u001b[0m\u001b[0;34m\u001b[0m\u001b[0m\n\u001b[0;32m-> 1181\u001b[0;31m             \u001b[0;32mfor\u001b[0m \u001b[0mobj\u001b[0m \u001b[0;32min\u001b[0m \u001b[0miterable\u001b[0m\u001b[0;34m:\u001b[0m\u001b[0;34m\u001b[0m\u001b[0;34m\u001b[0m\u001b[0m\n\u001b[0m\u001b[1;32m   1182\u001b[0m                 \u001b[0;32myield\u001b[0m \u001b[0mobj\u001b[0m\u001b[0;34m\u001b[0m\u001b[0;34m\u001b[0m\u001b[0m\n\u001b[1;32m   1183\u001b[0m                 \u001b[0;31m# Update and possibly print the progressbar.\u001b[0m\u001b[0;34m\u001b[0m\u001b[0;34m\u001b[0m\u001b[0m\n",
            "\u001b[0;32m/usr/local/lib/python3.11/dist-packages/torch/utils/data/dataloader.py\u001b[0m in \u001b[0;36m__next__\u001b[0;34m(self)\u001b[0m\n\u001b[1;32m    706\u001b[0m                 \u001b[0;31m# TODO(https://github.com/pytorch/pytorch/issues/76750)\u001b[0m\u001b[0;34m\u001b[0m\u001b[0;34m\u001b[0m\u001b[0m\n\u001b[1;32m    707\u001b[0m                 \u001b[0mself\u001b[0m\u001b[0;34m.\u001b[0m\u001b[0m_reset\u001b[0m\u001b[0;34m(\u001b[0m\u001b[0;34m)\u001b[0m  \u001b[0;31m# type: ignore[call-arg]\u001b[0m\u001b[0;34m\u001b[0m\u001b[0;34m\u001b[0m\u001b[0m\n\u001b[0;32m--> 708\u001b[0;31m             \u001b[0mdata\u001b[0m \u001b[0;34m=\u001b[0m \u001b[0mself\u001b[0m\u001b[0;34m.\u001b[0m\u001b[0m_next_data\u001b[0m\u001b[0;34m(\u001b[0m\u001b[0;34m)\u001b[0m\u001b[0;34m\u001b[0m\u001b[0;34m\u001b[0m\u001b[0m\n\u001b[0m\u001b[1;32m    709\u001b[0m             \u001b[0mself\u001b[0m\u001b[0;34m.\u001b[0m\u001b[0m_num_yielded\u001b[0m \u001b[0;34m+=\u001b[0m \u001b[0;36m1\u001b[0m\u001b[0;34m\u001b[0m\u001b[0;34m\u001b[0m\u001b[0m\n\u001b[1;32m    710\u001b[0m             if (\n",
            "\u001b[0;32m/usr/local/lib/python3.11/dist-packages/torch/utils/data/dataloader.py\u001b[0m in \u001b[0;36m_next_data\u001b[0;34m(self)\u001b[0m\n\u001b[1;32m   1478\u001b[0m                 \u001b[0;32mdel\u001b[0m \u001b[0mself\u001b[0m\u001b[0;34m.\u001b[0m\u001b[0m_task_info\u001b[0m\u001b[0;34m[\u001b[0m\u001b[0midx\u001b[0m\u001b[0;34m]\u001b[0m\u001b[0;34m\u001b[0m\u001b[0;34m\u001b[0m\u001b[0m\n\u001b[1;32m   1479\u001b[0m                 \u001b[0mself\u001b[0m\u001b[0;34m.\u001b[0m\u001b[0m_rcvd_idx\u001b[0m \u001b[0;34m+=\u001b[0m \u001b[0;36m1\u001b[0m\u001b[0;34m\u001b[0m\u001b[0;34m\u001b[0m\u001b[0m\n\u001b[0;32m-> 1480\u001b[0;31m                 \u001b[0;32mreturn\u001b[0m \u001b[0mself\u001b[0m\u001b[0;34m.\u001b[0m\u001b[0m_process_data\u001b[0m\u001b[0;34m(\u001b[0m\u001b[0mdata\u001b[0m\u001b[0;34m)\u001b[0m\u001b[0;34m\u001b[0m\u001b[0;34m\u001b[0m\u001b[0m\n\u001b[0m\u001b[1;32m   1481\u001b[0m \u001b[0;34m\u001b[0m\u001b[0m\n\u001b[1;32m   1482\u001b[0m     \u001b[0;32mdef\u001b[0m \u001b[0m_try_put_index\u001b[0m\u001b[0;34m(\u001b[0m\u001b[0mself\u001b[0m\u001b[0;34m)\u001b[0m\u001b[0;34m:\u001b[0m\u001b[0;34m\u001b[0m\u001b[0;34m\u001b[0m\u001b[0m\n",
            "\u001b[0;32m/usr/local/lib/python3.11/dist-packages/torch/utils/data/dataloader.py\u001b[0m in \u001b[0;36m_process_data\u001b[0;34m(self, data)\u001b[0m\n\u001b[1;32m   1503\u001b[0m         \u001b[0mself\u001b[0m\u001b[0;34m.\u001b[0m\u001b[0m_try_put_index\u001b[0m\u001b[0;34m(\u001b[0m\u001b[0;34m)\u001b[0m\u001b[0;34m\u001b[0m\u001b[0;34m\u001b[0m\u001b[0m\n\u001b[1;32m   1504\u001b[0m         \u001b[0;32mif\u001b[0m \u001b[0misinstance\u001b[0m\u001b[0;34m(\u001b[0m\u001b[0mdata\u001b[0m\u001b[0;34m,\u001b[0m \u001b[0mExceptionWrapper\u001b[0m\u001b[0;34m)\u001b[0m\u001b[0;34m:\u001b[0m\u001b[0;34m\u001b[0m\u001b[0;34m\u001b[0m\u001b[0m\n\u001b[0;32m-> 1505\u001b[0;31m             \u001b[0mdata\u001b[0m\u001b[0;34m.\u001b[0m\u001b[0mreraise\u001b[0m\u001b[0;34m(\u001b[0m\u001b[0;34m)\u001b[0m\u001b[0;34m\u001b[0m\u001b[0;34m\u001b[0m\u001b[0m\n\u001b[0m\u001b[1;32m   1506\u001b[0m         \u001b[0;32mreturn\u001b[0m \u001b[0mdata\u001b[0m\u001b[0;34m\u001b[0m\u001b[0;34m\u001b[0m\u001b[0m\n\u001b[1;32m   1507\u001b[0m \u001b[0;34m\u001b[0m\u001b[0m\n",
            "\u001b[0;32m/usr/local/lib/python3.11/dist-packages/torch/_utils.py\u001b[0m in \u001b[0;36mreraise\u001b[0;34m(self)\u001b[0m\n\u001b[1;32m    731\u001b[0m             \u001b[0;31m# instantiate since we don't know how to\u001b[0m\u001b[0;34m\u001b[0m\u001b[0;34m\u001b[0m\u001b[0m\n\u001b[1;32m    732\u001b[0m             \u001b[0;32mraise\u001b[0m \u001b[0mRuntimeError\u001b[0m\u001b[0;34m(\u001b[0m\u001b[0mmsg\u001b[0m\u001b[0;34m)\u001b[0m \u001b[0;32mfrom\u001b[0m \u001b[0;32mNone\u001b[0m\u001b[0;34m\u001b[0m\u001b[0;34m\u001b[0m\u001b[0m\n\u001b[0;32m--> 733\u001b[0;31m         \u001b[0;32mraise\u001b[0m \u001b[0mexception\u001b[0m\u001b[0;34m\u001b[0m\u001b[0;34m\u001b[0m\u001b[0m\n\u001b[0m\u001b[1;32m    734\u001b[0m \u001b[0;34m\u001b[0m\u001b[0m\n\u001b[1;32m    735\u001b[0m \u001b[0;34m\u001b[0m\u001b[0m\n",
            "\u001b[0;31mIsADirectoryError\u001b[0m: Caught IsADirectoryError in DataLoader worker process 0.\nOriginal Traceback (most recent call last):\n  File \"/usr/local/lib/python3.11/dist-packages/torch/utils/data/_utils/worker.py\", line 349, in _worker_loop\n    data = fetcher.fetch(index)  # type: ignore[possibly-undefined]\n           ^^^^^^^^^^^^^^^^^^^^\n  File \"/usr/local/lib/python3.11/dist-packages/torch/utils/data/_utils/fetch.py\", line 52, in fetch\n    data = [self.dataset[idx] for idx in possibly_batched_index]\n           ^^^^^^^^^^^^^^^^^^^^^^^^^^^^^^^^^^^^^^^^^^^^^^^^^^^^^\n  File \"/usr/local/lib/python3.11/dist-packages/torch/utils/data/_utils/fetch.py\", line 52, in <listcomp>\n    data = [self.dataset[idx] for idx in possibly_batched_index]\n            ~~~~~~~~~~~~^^^^^\n  File \"<ipython-input-3-4e131028c290>\", line 65, in __getitem__\n    img = Image.open(self.image_paths[idx]).convert('RGB')\n          ^^^^^^^^^^^^^^^^^^^^^^^^^^^^^^^^^\n  File \"/usr/local/lib/python3.11/dist-packages/PIL/Image.py\", line 3505, in open\n    fp = builtins.open(filename, \"rb\")\n         ^^^^^^^^^^^^^^^^^^^^^^^^^^^^^\nIsADirectoryError: [Errno 21] Is a directory: '/content/drive/MyDrive/open/train/X7_G07_2019_2022/.ipynb_checkpoints'\n"
          ]
        }
      ]
    }
  ]
}