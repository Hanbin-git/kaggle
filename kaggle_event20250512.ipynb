{
  "metadata": {
    "kernelspec": {
      "language": "python",
      "display_name": "Python 3",
      "name": "python3"
    },
    "language_info": {
      "name": "python",
      "version": "3.11.11",
      "mimetype": "text/x-python",
      "codemirror_mode": {
        "name": "ipython",
        "version": 3
      },
      "pygments_lexer": "ipython3",
      "nbconvert_exporter": "python",
      "file_extension": ".py"
    },
    "kaggle": {
      "accelerator": "nvidiaTeslaT4",
      "dataSources": [
        {
          "sourceId": 87793,
          "databundleVersionId": 12255112,
          "isSourceIdPinned": false,
          "sourceType": "competition"
        },
        {
          "sourceId": 11775540,
          "sourceType": "datasetVersion",
          "datasetId": 7393043
        },
        {
          "sourceId": 11775549,
          "sourceType": "datasetVersion",
          "datasetId": 7393051
        },
        {
          "sourceId": 11775762,
          "sourceType": "datasetVersion",
          "datasetId": 7393187
        }
      ],
      "dockerImageVersionId": 31011,
      "isInternetEnabled": true,
      "language": "python",
      "sourceType": "notebook",
      "isGpuEnabled": true
    },
    "colab": {
      "name": "notebook5c8d20dff1",
      "provenance": [],
      "include_colab_link": true
    }
  },
  "nbformat_minor": 0,
  "nbformat": 4,
  "cells": [
    {
      "cell_type": "markdown",
      "metadata": {
        "id": "view-in-github",
        "colab_type": "text"
      },
      "source": [
        "<a href=\"https://colab.research.google.com/github/Hanbin-git/kaggle/blob/main/kaggle_event20250512.ipynb\" target=\"_parent\"><img src=\"https://colab.research.google.com/assets/colab-badge.svg\" alt=\"Open In Colab\"/></a>"
      ]
    },
    {
      "source": [
        "# IMPORTANT: SOME KAGGLE DATA SOURCES ARE PRIVATE\n",
        "# RUN THIS CELL IN ORDER TO IMPORT YOUR KAGGLE DATA SOURCES.\n",
        "import kagglehub\n",
        "kagglehub.login()\n"
      ],
      "metadata": {
        "id": "S1z1mPTSYlex"
      },
      "cell_type": "code",
      "outputs": [],
      "execution_count": null
    },
    {
      "source": [
        "# IMPORTANT: RUN THIS CELL IN ORDER TO IMPORT YOUR KAGGLE DATA SOURCES,\n",
        "# THEN FEEL FREE TO DELETE THIS CELL.\n",
        "# NOTE: THIS NOTEBOOK ENVIRONMENT DIFFERS FROM KAGGLE'S PYTHON\n",
        "# ENVIRONMENT SO THERE MAY BE MISSING LIBRARIES USED BY YOUR\n",
        "# NOTEBOOK.\n",
        "\n",
        "stanford_rna_3d_folding_path = kagglehub.competition_download('stanford-rna-3d-folding')\n",
        "biniroun_protenix_checkpoints_path = kagglehub.dataset_download('biniroun/protenix-checkpoints')\n",
        "biniroun_usalign_path = kagglehub.dataset_download('biniroun/usalign')\n",
        "biniroun_protenix_src_path = kagglehub.dataset_download('biniroun/protenix-src')\n",
        "\n",
        "print('Data source import complete.')\n"
      ],
      "metadata": {
        "id": "2jku-4gOYle0"
      },
      "cell_type": "code",
      "outputs": [],
      "execution_count": null
    },
    {
      "cell_type": "code",
      "source": [
        "!pip install ml-collections --quiet"
      ],
      "metadata": {
        "_uuid": "8f2839f25d086af736a60e9eeb907d3b93b6e0e5",
        "_cell_guid": "b1076dfc-b9ad-4769-8c92-a6c4dae69d19",
        "trusted": true,
        "execution": {
          "iopub.status.busy": "2025-05-12T03:12:37.236517Z",
          "iopub.execute_input": "2025-05-12T03:12:37.237243Z",
          "iopub.status.idle": "2025-05-12T03:12:41.203556Z",
          "shell.execute_reply.started": "2025-05-12T03:12:37.237217Z",
          "shell.execute_reply": "2025-05-12T03:12:41.202853Z"
        },
        "id": "UqDe5kYzYle0",
        "outputId": "b5254bbd-e786-4b86-afe0-55bd2711f9fc"
      },
      "outputs": [
        {
          "name": "stdout",
          "text": "\u001b[2K   \u001b[90m━━━━━━━━━━━━━━━━━━━━━━━━━━━━━━━━━━━━━━━━\u001b[0m \u001b[32m76.7/76.7 kB\u001b[0m \u001b[31m3.1 MB/s\u001b[0m eta \u001b[36m0:00:00\u001b[0m\n\u001b[?25h",
          "output_type": "stream"
        }
      ],
      "execution_count": null
    },
    {
      "cell_type": "code",
      "source": [
        "# 1단계: 경로 등록 (최우선)\n",
        "import sys\n",
        "sys.path.insert(0, '/kaggle/input/protenix-src')\n",
        "\n",
        "# 2단계: 사용할 모델 정확히 지정해서 import\n",
        "from protenix.model.modules.transformer import AtomAttentionEncoder\n",
        "from protenix.config.config import parse_configs\n",
        "\n",
        "# 3단계: 확인용 출력\n",
        "import protenix\n",
        "print(protenix.__file__)\n"
      ],
      "metadata": {
        "trusted": true,
        "execution": {
          "iopub.status.busy": "2025-05-12T03:13:23.7815Z",
          "iopub.execute_input": "2025-05-12T03:13:23.781852Z",
          "iopub.status.idle": "2025-05-12T03:13:23.845746Z",
          "shell.execute_reply.started": "2025-05-12T03:13:23.781811Z",
          "shell.execute_reply": "2025-05-12T03:13:23.844902Z"
        },
        "id": "Nban1V1uYle1",
        "outputId": "8b0aa9d8-9ada-459d-c105-c7d52568df90"
      },
      "outputs": [
        {
          "name": "stdout",
          "text": "/kaggle/input/protenix-src/protenix/__init__.py\n",
          "output_type": "stream"
        }
      ],
      "execution_count": null
    },
    {
      "cell_type": "code",
      "source": [
        "import pandas as pd\n",
        "\n",
        "df = pd.read_csv('/kaggle/input/stanford-rna-3d-folding/train_labels.csv')\n",
        "print(df.columns)\n"
      ],
      "metadata": {
        "trusted": true,
        "execution": {
          "iopub.status.busy": "2025-05-12T03:13:58.453625Z",
          "iopub.execute_input": "2025-05-12T03:13:58.453912Z",
          "iopub.status.idle": "2025-05-12T03:13:58.962532Z",
          "shell.execute_reply.started": "2025-05-12T03:13:58.45389Z",
          "shell.execute_reply": "2025-05-12T03:13:58.961894Z"
        },
        "id": "R3MWKOeVYle2",
        "outputId": "aa77ff00-b2fe-40eb-b0e6-ae6e2dcad656"
      },
      "outputs": [
        {
          "name": "stdout",
          "text": "Index(['ID', 'resname', 'resid', 'x_1', 'y_1', 'z_1'], dtype='object')\n",
          "output_type": "stream"
        }
      ],
      "execution_count": null
    },
    {
      "cell_type": "code",
      "source": [
        "# 1단계: 경로 설정\n",
        "import sys\n",
        "sys.path.insert(0, '/kaggle/input/protenix-src')  # 경로 등록\n",
        "\n",
        "# 2단계: 필요한 모듈 import\n",
        "from protenix.model.modules.transformer import AtomAttentionEncoder\n",
        "from protenix.config.config import parse_configs\n",
        "\n",
        "import torch\n",
        "import torch.nn as nn\n",
        "import torch.optim as optim\n",
        "from torch.utils.data import Dataset, DataLoader\n",
        "import pandas as pd\n",
        "import numpy as np\n",
        "\n",
        "# 3단계: 데이터셋 정의\n",
        "class ProtenixDataset(Dataset):\n",
        "    def __init__(self, csv_path):\n",
        "        df = pd.read_csv(csv_path)\n",
        "\n",
        "        self.input_feature_dicts = []\n",
        "        self.labels = []\n",
        "\n",
        "        grouped = df.groupby(\"ID\")\n",
        "        for _, group in grouped:\n",
        "            group = group.sort_values(\"resid\")\n",
        "\n",
        "            ref_pos = group[[\"x_1\", \"y_1\", \"z_1\"]].values.astype(np.float32)  # [N, 3]\n",
        "            ref_element_raw = group[\"resname\"].astype(\"category\").cat.codes.values  # [N]\n",
        "            ref_element = np.eye(128)[ref_element_raw]  # [N, 128]\n",
        "            ref_charge = np.zeros((len(ref_element_raw), 1), dtype=np.float32)  # [N, 1]\n",
        "            ref_mask = np.ones((len(ref_element_raw), 1), dtype=np.float32)  # [N, 1]\n",
        "            ref_atom_name_chars = np.zeros((len(ref_element_raw), 4 * 64), dtype=np.float32)  # [N, 256]\n",
        "            atom_to_token_idx = np.zeros(len(ref_element_raw), dtype=np.int64)  # [N]\n",
        "            ref_space_uid = np.zeros(len(ref_element_raw), dtype=np.int64)  # [N]\n",
        "\n",
        "            input_dict = {\n",
        "                \"ref_pos\": torch.tensor(ref_pos, dtype=torch.float32),\n",
        "                \"ref_element\": torch.tensor(ref_element, dtype=torch.float32),\n",
        "                \"ref_charge\": torch.tensor(ref_charge, dtype=torch.float32),\n",
        "                \"ref_mask\": torch.tensor(ref_mask, dtype=torch.float32),\n",
        "                \"ref_atom_name_chars\": torch.tensor(ref_atom_name_chars, dtype=torch.float32),\n",
        "                \"atom_to_token_idx\": torch.tensor(atom_to_token_idx, dtype=torch.long),\n",
        "                \"ref_space_uid\": torch.tensor(ref_space_uid, dtype=torch.long),\n",
        "            }\n",
        "\n",
        "            self.input_feature_dicts.append(input_dict)\n",
        "            self.labels.append(torch.tensor(ref_pos, dtype=torch.float32))  # [N, 3] 좌표 전체를 label로 사용\n",
        "\n",
        "    def __len__(self):\n",
        "        return len(self.input_feature_dicts)\n",
        "\n",
        "    def __getitem__(self, idx):\n",
        "        return self.input_feature_dicts[idx], self.labels[idx]\n",
        "\n",
        "# 4단계: 모델 정의 (좌표 회귀용 head 추가)\n",
        "class ProtenixRegressionModel(nn.Module):\n",
        "    def __init__(self):\n",
        "        super().__init__()\n",
        "        self.encoder = AtomAttentionEncoder(\n",
        "            has_coords=False,\n",
        "            c_token=384,\n",
        "            c_atom=128,\n",
        "            c_atompair=16,\n",
        "            c_s=384,\n",
        "            c_z=128,\n",
        "            n_blocks=3,\n",
        "            n_heads=4,\n",
        "            n_queries=32,\n",
        "            n_keys=128,\n",
        "            blocks_per_ckpt=None\n",
        "        )\n",
        "        self.output_layer = nn.Linear(384, 3)  # 3D 좌표 회귀\n",
        "\n",
        "    def forward(self, input_feature_dict):\n",
        "        a, *_ = self.encoder(input_feature_dict)\n",
        "        coords = self.output_layer(a)  # [B, N_token, 3]\n",
        "        return coords\n",
        "\n",
        "# 5단계: 학습 데이터 로딩\n",
        "device = torch.device('cuda' if torch.cuda.is_available() else 'cpu')\n",
        "model = ProtenixRegressionModel().to(device)\n",
        "dataset = ProtenixDataset('/kaggle/input/stanford-rna-3d-folding/train_labels.csv')\n",
        "dataloader = DataLoader(dataset, batch_size=1, shuffle=True)\n",
        "\n",
        "# 6단계: 학습 루프\n",
        "criterion = nn.MSELoss()\n",
        "optimizer = optim.Adam(model.parameters(), lr=1e-4)\n",
        "\n",
        "for epoch in range(3):\n",
        "    running_loss = 0.0\n",
        "    for inputs, labels in dataloader:\n",
        "        input_feature_dict = {k: v.to(device) for k, v in inputs.items()}\n",
        "        labels = labels.to(device)  # [1, N, 3]\n",
        "\n",
        "        optimizer.zero_grad()\n",
        "        outputs = model(input_feature_dict)  # [1, N, 3]\n",
        "\n",
        "        N = min(outputs.shape[1], labels.shape[1])  # 안정성 위해 일치 조정\n",
        "        loss = criterion(outputs[:, :N, :], labels[:, :N, :])\n",
        "        loss.backward()\n",
        "        optimizer.step()\n",
        "\n",
        "        running_loss += loss.item()\n",
        "    print(f\"Epoch {epoch+1}, Loss: {running_loss:.4f}\")\n"
      ],
      "metadata": {
        "trusted": true,
        "id": "lgwoPAw3Yle2"
      },
      "outputs": [],
      "execution_count": null
    },
    {
      "cell_type": "code",
      "source": [
        "!pip install --no-deps protenix\n",
        "!pip install biopython\n",
        "!pip install ml-collections\n",
        "!pip install biotite==1.0.1\n",
        "!pip install rdkit\n"
      ],
      "metadata": {
        "trusted": true,
        "id": "QGwef11WYle3"
      },
      "outputs": [],
      "execution_count": null
    }
  ]
}