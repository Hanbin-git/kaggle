{
  "metadata": {
    "kernelspec": {
      "language": "python",
      "display_name": "Python 3",
      "name": "python3"
    },
    "language_info": {
      "name": "python",
      "version": "3.11.11",
      "mimetype": "text/x-python",
      "codemirror_mode": {
        "name": "ipython",
        "version": 3
      },
      "pygments_lexer": "ipython3",
      "nbconvert_exporter": "python",
      "file_extension": ".py"
    },
    "kaggle": {
      "accelerator": "nvidiaTeslaT4",
      "dataSources": [
        {
          "sourceId": 87793,
          "databundleVersionId": 12276181,
          "isSourceIdPinned": false,
          "sourceType": "competition"
        },
        {
          "sourceId": 11775540,
          "sourceType": "datasetVersion",
          "datasetId": 7393043
        },
        {
          "sourceId": 11775549,
          "sourceType": "datasetVersion",
          "datasetId": 7393051
        },
        {
          "sourceId": 11775762,
          "sourceType": "datasetVersion",
          "datasetId": 7393187
        }
      ],
      "dockerImageVersionId": 31011,
      "isInternetEnabled": true,
      "language": "python",
      "sourceType": "notebook",
      "isGpuEnabled": true
    },
    "colab": {
      "name": "notebook5c8d20dff1",
      "provenance": [],
      "include_colab_link": true
    }
  },
  "nbformat_minor": 0,
  "nbformat": 4,
  "cells": [
    {
      "cell_type": "markdown",
      "metadata": {
        "id": "view-in-github",
        "colab_type": "text"
      },
      "source": [
        "<a href=\"https://colab.research.google.com/github/Hanbin-git/kaggle/blob/main/restart2025.05.13.ipynb\" target=\"_parent\"><img src=\"https://colab.research.google.com/assets/colab-badge.svg\" alt=\"Open In Colab\"/></a>"
      ]
    },
    {
      "source": [
        "# IMPORTANT: SOME KAGGLE DATA SOURCES ARE PRIVATE\n",
        "# RUN THIS CELL IN ORDER TO IMPORT YOUR KAGGLE DATA SOURCES.\n",
        "import kagglehub\n",
        "kagglehub.login()\n"
      ],
      "metadata": {
        "id": "HERa8bffy_r-"
      },
      "cell_type": "code",
      "outputs": [],
      "execution_count": null
    },
    {
      "source": [
        "# IMPORTANT: RUN THIS CELL IN ORDER TO IMPORT YOUR KAGGLE DATA SOURCES,\n",
        "# THEN FEEL FREE TO DELETE THIS CELL.\n",
        "# NOTE: THIS NOTEBOOK ENVIRONMENT DIFFERS FROM KAGGLE'S PYTHON\n",
        "# ENVIRONMENT SO THERE MAY BE MISSING LIBRARIES USED BY YOUR\n",
        "# NOTEBOOK.\n",
        "\n",
        "stanford_rna_3d_folding_path = kagglehub.competition_download('stanford-rna-3d-folding')\n",
        "biniroun_protenix_checkpoints_path = kagglehub.dataset_download('biniroun/protenix-checkpoints')\n",
        "biniroun_usalign_path = kagglehub.dataset_download('biniroun/usalign')\n",
        "biniroun_protenix_src_path = kagglehub.dataset_download('biniroun/protenix-src')\n",
        "\n",
        "print('Data source import complete.')\n"
      ],
      "metadata": {
        "id": "FLoawnw4y_sB"
      },
      "cell_type": "code",
      "outputs": [],
      "execution_count": null
    },
    {
      "cell_type": "code",
      "source": [
        "# 필수 패키지 설치\n",
        "!pip install torch torchvision torchaudio --quiet\n",
        "!pip install transformers --quiet --no-deps\n",
        "!pip install biopython --quiet --no-deps\n",
        "!pip install ml-collections --quiet --no-deps\n",
        "!pip install pandas numpy --quiet\n"
      ],
      "metadata": {
        "_uuid": "8f2839f25d086af736a60e9eeb907d3b93b6e0e5",
        "_cell_guid": "b1076dfc-b9ad-4769-8c92-a6c4dae69d19",
        "trusted": true,
        "execution": {
          "iopub.status.busy": "2025-05-13T08:03:32.902043Z",
          "iopub.execute_input": "2025-05-13T08:03:32.902745Z",
          "iopub.status.idle": "2025-05-13T08:03:42.958296Z",
          "shell.execute_reply.started": "2025-05-13T08:03:32.902715Z",
          "shell.execute_reply": "2025-05-13T08:03:42.957534Z"
        },
        "id": "6zqKece4y_sC"
      },
      "outputs": [],
      "execution_count": null
    },
    {
      "cell_type": "code",
      "source": [
        "import pandas as pd\n",
        "\n",
        "# 서열 확인\n",
        "df_seq = pd.read_csv('/kaggle/input/stanford-rna-3d-folding/train_sequences.csv')\n",
        "print(\"train_sequences.csv:\", df_seq.shape)\n",
        "print(df_seq.head())\n",
        "\n",
        "# 구조 좌표 확인\n",
        "df_labels = pd.read_csv('/kaggle/input/stanford-rna-3d-folding/train_labels.csv')\n",
        "print(\"train_labels.csv:\", df_labels.shape)\n",
        "print(df_labels.columns)\n",
        "\n",
        "# 염기 이름 및 좌표 구성 확인\n",
        "print(df_labels[['resname', 'x_1', 'y_1', 'z_1']].head())\n",
        "\n"
      ],
      "metadata": {
        "trusted": true,
        "execution": {
          "iopub.status.busy": "2025-05-13T08:04:50.535299Z",
          "iopub.execute_input": "2025-05-13T08:04:50.535552Z",
          "iopub.status.idle": "2025-05-13T08:04:50.729205Z",
          "shell.execute_reply.started": "2025-05-13T08:04:50.535532Z",
          "shell.execute_reply": "2025-05-13T08:04:50.728491Z"
        },
        "id": "DGmDYvAoy_sD"
      },
      "outputs": [],
      "execution_count": null
    },
    {
      "cell_type": "code",
      "source": [
        "from pathlib import Path\n",
        "from Bio import SeqIO\n",
        "from collections import Counter\n",
        "\n",
        "def scan_msa_for_degenerate_bases(msa_dir):\n",
        "    counts = Counter()\n",
        "    for fasta in Path(msa_dir).glob(\"*.fasta\"):\n",
        "        for record in SeqIO.parse(str(fasta), \"fasta\"):\n",
        "            if not record.id.startswith(\"query\"):\n",
        "                for base in record.seq:\n",
        "                    if base not in \"AUGC\":\n",
        "                        counts[base] += 1\n",
        "    return counts\n",
        "\n",
        "msa_counts = scan_msa_for_degenerate_bases(\"/kaggle/input/stanford-rna-3d-folding/MSA\")\n",
        "print(\"MSA 확장 염기 사용 현황:\", msa_counts)\n"
      ],
      "metadata": {
        "trusted": true,
        "execution": {
          "iopub.status.busy": "2025-05-13T08:05:44.539882Z",
          "iopub.execute_input": "2025-05-13T08:05:44.54013Z",
          "iopub.status.idle": "2025-05-13T08:06:16.438975Z",
          "shell.execute_reply.started": "2025-05-13T08:05:44.540111Z",
          "shell.execute_reply": "2025-05-13T08:06:16.438353Z"
        },
        "id": "yUe0qog7y_sD"
      },
      "outputs": [],
      "execution_count": null
    },
    {
      "cell_type": "code",
      "source": [
        "# RNA 서열 염기 → 숫자 인덱스 매핑\n",
        "BASE2IDX = {\n",
        "    \"A\": 0,\n",
        "    \"U\": 1,\n",
        "    \"G\": 2,\n",
        "    \"C\": 3,\n",
        "    \"R\": 4,  # A or G\n",
        "    \"Y\": 5,  # C or U\n",
        "    \"S\": 6,  # G or C\n",
        "    \"W\": 7,  # A or U\n",
        "    \"K\": 8,  # G or U\n",
        "    \"M\": 9,  # A or C\n",
        "    \"B\": 10, # C or G or U\n",
        "    \"D\": 11, # A or G or U\n",
        "    \"H\": 12, # A or C or U\n",
        "    \"V\": 13, # A or C or G\n",
        "    \"N\": 14, # any base\n",
        "    \"-\": 15  # gap in MSA\n",
        "}"
      ],
      "metadata": {
        "trusted": true,
        "execution": {
          "iopub.status.busy": "2025-05-13T08:08:09.655873Z",
          "iopub.execute_input": "2025-05-13T08:08:09.656418Z",
          "iopub.status.idle": "2025-05-13T08:08:09.660399Z",
          "shell.execute_reply.started": "2025-05-13T08:08:09.656395Z",
          "shell.execute_reply": "2025-05-13T08:08:09.659671Z"
        },
        "id": "Npbg7wl1y_sD"
      },
      "outputs": [],
      "execution_count": null
    },
    {
      "cell_type": "code",
      "source": [
        "def tokenize_sequence(seq, base2idx=BASE2IDX):\n",
        "    \"\"\"\n",
        "    RNA 서열을 숫자 인덱스 리스트로 변환합니다.\n",
        "    알 수 없는 염기는 기본적으로 'N'으로 처리됩니다.\n",
        "    \"\"\"\n",
        "    return [base2idx.get(base, base2idx[\"N\"]) for base in seq]\n"
      ],
      "metadata": {
        "trusted": true,
        "execution": {
          "iopub.status.busy": "2025-05-13T08:08:22.000098Z",
          "iopub.execute_input": "2025-05-13T08:08:22.00054Z",
          "iopub.status.idle": "2025-05-13T08:08:22.004758Z",
          "shell.execute_reply.started": "2025-05-13T08:08:22.000509Z",
          "shell.execute_reply": "2025-05-13T08:08:22.004027Z"
        },
        "id": "zDiOAzMYy_sE"
      },
      "outputs": [],
      "execution_count": null
    },
    {
      "cell_type": "code",
      "source": [
        "import torch\n",
        "def one_hot_encode(tokens, vocab_size=len(BASE2IDX)):\n",
        "    return torch.nn.functional.one_hot(torch.tensor(tokens), num_classes=vocab_size)\n"
      ],
      "metadata": {
        "trusted": true,
        "execution": {
          "iopub.status.busy": "2025-05-13T08:09:42.101273Z",
          "iopub.execute_input": "2025-05-13T08:09:42.101561Z",
          "iopub.status.idle": "2025-05-13T08:09:44.767793Z",
          "shell.execute_reply.started": "2025-05-13T08:09:42.101538Z",
          "shell.execute_reply": "2025-05-13T08:09:44.767234Z"
        },
        "id": "0_WZUhJLy_sE"
      },
      "outputs": [],
      "execution_count": null
    },
    {
      "cell_type": "code",
      "source": [
        "sequences = [\"AGCU\", \"NYR-\", \"UGCGAU\"]\n",
        "token_batch = [tokenize_sequence(seq) for seq in sequences]\n"
      ],
      "metadata": {
        "trusted": true,
        "execution": {
          "iopub.status.busy": "2025-05-13T08:12:25.369459Z",
          "iopub.execute_input": "2025-05-13T08:12:25.369745Z",
          "iopub.status.idle": "2025-05-13T08:12:25.373537Z",
          "shell.execute_reply.started": "2025-05-13T08:12:25.369725Z",
          "shell.execute_reply": "2025-05-13T08:12:25.372797Z"
        },
        "id": "vByw96yPy_sF"
      },
      "outputs": [],
      "execution_count": null
    },
    {
      "cell_type": "code",
      "source": [
        "import torch\n",
        "from torch.nn.utils.rnn import pad_sequence\n",
        "\n",
        "def batchify_token_sequences(sequences, pad_token=BASE2IDX[\"-\"]):\n",
        "    token_lists = [torch.tensor(tokenize_sequence(seq)) for seq in sequences]\n",
        "    padded = pad_sequence(token_lists, batch_first=True, padding_value=pad_token)\n",
        "    return padded\n"
      ],
      "metadata": {
        "trusted": true,
        "execution": {
          "iopub.status.busy": "2025-05-13T08:12:21.713871Z",
          "iopub.execute_input": "2025-05-13T08:12:21.714313Z",
          "iopub.status.idle": "2025-05-13T08:12:21.718276Z",
          "shell.execute_reply.started": "2025-05-13T08:12:21.714291Z",
          "shell.execute_reply": "2025-05-13T08:12:21.717649Z"
        },
        "id": "xn7JsKRfy_sF"
      },
      "outputs": [],
      "execution_count": null
    },
    {
      "cell_type": "code",
      "source": [
        "batch = [\"AGCU\", \"NYR-\", \"UGCGAU\"]\n",
        "padded_batch = batchify_token_sequences(batch)\n",
        "print(padded_batch)\n",
        "print(padded_batch.shape)\n"
      ],
      "metadata": {
        "trusted": true,
        "execution": {
          "iopub.status.busy": "2025-05-13T08:12:31.634076Z",
          "iopub.execute_input": "2025-05-13T08:12:31.634746Z",
          "iopub.status.idle": "2025-05-13T08:12:31.66246Z",
          "shell.execute_reply.started": "2025-05-13T08:12:31.634721Z",
          "shell.execute_reply": "2025-05-13T08:12:31.661915Z"
        },
        "id": "B8H7hKNEy_sF"
      },
      "outputs": [],
      "execution_count": null
    },
    {
      "cell_type": "code",
      "source": [
        "# 1단계: PositionalEncoding 모듈 구현\n",
        "import torch\n",
        "import math\n",
        "import torch.nn as nn\n",
        "\n",
        "class PositionalEncoding(nn.Module):\n",
        "    def __init__(self, d_model, max_len=4096):  # 기존 512 → 충분히 큰 값으로 확장\n",
        "        super().__init__()\n",
        "\n",
        "        pe = torch.zeros(max_len, d_model)\n",
        "        position = torch.arange(0, max_len).unsqueeze(1)\n",
        "        div_term = torch.exp(torch.arange(0, d_model, 2) * (-math.log(10000.0) / d_model))\n",
        "\n",
        "        pe[:, 0::2] = torch.sin(position * div_term)\n",
        "        pe[:, 1::2] = torch.cos(position * div_term)\n",
        "\n",
        "        pe = pe.unsqueeze(0)  # [1, max_len, d_model]\n",
        "        self.register_buffer('pe', pe)\n",
        "\n",
        "    def forward(self, x):\n",
        "        x = x + self.pe[:, :x.size(1), :]\n",
        "        return x\n"
      ],
      "metadata": {
        "trusted": true,
        "execution": {
          "iopub.status.busy": "2025-05-13T08:24:55.75223Z",
          "iopub.execute_input": "2025-05-13T08:24:55.752795Z",
          "iopub.status.idle": "2025-05-13T08:24:55.758786Z",
          "shell.execute_reply.started": "2025-05-13T08:24:55.752768Z",
          "shell.execute_reply": "2025-05-13T08:24:55.757983Z"
        },
        "id": "Y8A8PJOAy_sF"
      },
      "outputs": [],
      "execution_count": null
    },
    {
      "cell_type": "code",
      "source": [
        "# 2단계: RNA3DTransformer 모델 정의\n",
        "class RNA3DTransformer(nn.Module):\n",
        "    def __init__(self, vocab_size=16, d_model=128, nhead=4, num_layers=4, dropout=0.1):\n",
        "        super().__init__()\n",
        "\n",
        "        self.embedding = nn.Embedding(vocab_size, d_model)\n",
        "        self.pos_encoder = PositionalEncoding(d_model)\n",
        "\n",
        "        encoder_layer = nn.TransformerEncoderLayer(d_model=d_model, nhead=nhead, dropout=dropout)\n",
        "        self.transformer_encoder = nn.TransformerEncoder(encoder_layer, num_layers=num_layers)\n",
        "\n",
        "        self.output_layer = nn.Linear(d_model, 3)  # x, y, z 좌표 출력\n",
        "\n",
        "    def forward(self, src):\n",
        "        # src: [batch_size, seq_len]\n",
        "        x = self.embedding(src)                        # → [batch, seq_len, d_model]\n",
        "        x = self.pos_encoder(x)                        # → positional encoding 추가\n",
        "        x = x.permute(1, 0, 2)                         # → [seq_len, batch, d_model] (transformer 요구 형태)\n",
        "        x = self.transformer_encoder(x)                # → transformer 인코딩\n",
        "        x = x.permute(1, 0, 2)                         # → 다시 [batch, seq_len, d_model]\n",
        "        out = self.output_layer(x)                     # → [batch, seq_len, 3]\n",
        "        return out\n"
      ],
      "metadata": {
        "trusted": true,
        "execution": {
          "iopub.status.busy": "2025-05-13T08:25:03.870176Z",
          "iopub.execute_input": "2025-05-13T08:25:03.87043Z",
          "iopub.status.idle": "2025-05-13T08:25:03.876295Z",
          "shell.execute_reply.started": "2025-05-13T08:25:03.870412Z",
          "shell.execute_reply": "2025-05-13T08:25:03.875576Z"
        },
        "id": "l2FraWTNy_sF"
      },
      "outputs": [],
      "execution_count": null
    },
    {
      "cell_type": "code",
      "source": [
        "model = RNA3DTransformer()\n",
        "\n",
        "# 예시 입력\n",
        "input_ids = batchify_token_sequences([\"AGCU\", \"RYNK-\", \"UGCGAU\"])  # padding 포함\n",
        "output_coords = model(input_ids)\n",
        "\n",
        "print(\"출력 좌표 shape:\", output_coords.shape)  # [batch, seq_len, 3]\n"
      ],
      "metadata": {
        "trusted": true,
        "execution": {
          "iopub.status.busy": "2025-05-13T08:25:05.830791Z",
          "iopub.execute_input": "2025-05-13T08:25:05.831051Z",
          "iopub.status.idle": "2025-05-13T08:25:05.862671Z",
          "shell.execute_reply.started": "2025-05-13T08:25:05.831033Z",
          "shell.execute_reply": "2025-05-13T08:25:05.862Z"
        },
        "id": "SEmcmuSYy_sG"
      },
      "outputs": [],
      "execution_count": null
    },
    {
      "cell_type": "code",
      "source": [
        "# 손실 함수 정의\n",
        "import torch.nn as nn\n",
        "\n",
        "criterion = nn.MSELoss()\n"
      ],
      "metadata": {
        "trusted": true,
        "execution": {
          "iopub.status.busy": "2025-05-13T08:25:07.598974Z",
          "iopub.execute_input": "2025-05-13T08:25:07.599226Z",
          "iopub.status.idle": "2025-05-13T08:25:07.602892Z",
          "shell.execute_reply.started": "2025-05-13T08:25:07.599208Z",
          "shell.execute_reply": "2025-05-13T08:25:07.602212Z"
        },
        "id": "au-p-4Lyy_sG"
      },
      "outputs": [],
      "execution_count": null
    },
    {
      "cell_type": "code",
      "source": [
        "# 옵티마이저 및 모델 준비\n",
        "import torch.optim as optim\n",
        "\n",
        "model = RNA3DTransformer()\n",
        "optimizer = optim.Adam(model.parameters(), lr=1e-4)\n"
      ],
      "metadata": {
        "trusted": true,
        "execution": {
          "iopub.status.busy": "2025-05-13T08:25:09.477457Z",
          "iopub.execute_input": "2025-05-13T08:25:09.477735Z",
          "iopub.status.idle": "2025-05-13T08:25:09.494396Z",
          "shell.execute_reply.started": "2025-05-13T08:25:09.477717Z",
          "shell.execute_reply": "2025-05-13T08:25:09.493902Z"
        },
        "id": "vgnuhbdty_sG"
      },
      "outputs": [],
      "execution_count": null
    },
    {
      "cell_type": "code",
      "source": [
        "import torch.nn.functional as F\n",
        "\n",
        "def train_one_epoch(model, dataloader, optimizer, criterion=None, device='cpu'):\n",
        "    model.train()\n",
        "    total_loss = 0.0\n",
        "    total_batches = 0\n",
        "\n",
        "    for input_ids, target_coords in dataloader:\n",
        "        input_ids = input_ids.to(device)\n",
        "        target_coords = target_coords.to(device)\n",
        "\n",
        "        pred_coords = model(input_ids)  # [B, L, 3]\n",
        "\n",
        "        # Step 1: 좌표가 0이 아닌 위치 마스크 만들기\n",
        "        valid_mask = (target_coords.abs().sum(dim=-1) != 0)  # [B, L]\n",
        "\n",
        "        # Step 2: 개별 loss 계산 (reduction 없이)\n",
        "        loss_each = F.mse_loss(pred_coords, target_coords, reduction='none')  # [B, L, 3]\n",
        "\n",
        "        # Step 3: 평균 내기 전 masking\n",
        "        loss_each = loss_each.mean(dim=-1)        # [B, L]\n",
        "        loss_each = loss_each * valid_mask        # 유효하지 않은 곳은 0으로\n",
        "\n",
        "        # Step 4: 유효한 위치 수로 나누어 평균 loss 계산\n",
        "        loss = loss_each.sum() / valid_mask.sum()\n",
        "\n",
        "        optimizer.zero_grad()\n",
        "        loss.backward()\n",
        "        optimizer.step()\n",
        "\n",
        "        total_loss += loss.item()\n",
        "        total_batches += 1\n",
        "\n",
        "    return total_loss / total_batches\n"
      ],
      "metadata": {
        "trusted": true,
        "execution": {
          "iopub.status.busy": "2025-05-13T08:34:02.769306Z",
          "iopub.execute_input": "2025-05-13T08:34:02.770093Z",
          "iopub.status.idle": "2025-05-13T08:34:02.776114Z",
          "shell.execute_reply.started": "2025-05-13T08:34:02.770068Z",
          "shell.execute_reply": "2025-05-13T08:34:02.775201Z"
        },
        "id": "41z-yhfey_sG"
      },
      "outputs": [],
      "execution_count": null
    },
    {
      "cell_type": "code",
      "source": [
        "from torch.utils.data import Dataset\n",
        "\n",
        "class RNADataset(Dataset):\n",
        "    def __init__(self, df_seq, df_labels):\n",
        "        self.df_seq = df_seq\n",
        "        self.df_labels = df_labels\n",
        "        self.id_list = df_seq['target_id'].unique()\n",
        "\n",
        "    def __len__(self):\n",
        "        return len(self.id_list)\n",
        "\n",
        "    def __getitem__(self, idx):\n",
        "        target_id = self.id_list[idx]\n",
        "\n",
        "        # 서열\n",
        "        sequence = self.df_seq[self.df_seq['target_id'] == target_id]['sequence'].values[0]\n",
        "        tokenized = tokenize_sequence(sequence)\n",
        "\n",
        "        # 좌표\n",
        "        coords = self.df_labels[self.df_labels['ID'] == target_id][['x_1', 'y_1', 'z_1']].values\n",
        "        coords = torch.tensor(coords, dtype=torch.float32)\n",
        "\n",
        "        return tokenized, coords\n",
        "\n"
      ],
      "metadata": {
        "trusted": true,
        "execution": {
          "iopub.status.busy": "2025-05-13T08:34:07.152984Z",
          "iopub.execute_input": "2025-05-13T08:34:07.153581Z",
          "iopub.status.idle": "2025-05-13T08:34:07.160947Z",
          "shell.execute_reply.started": "2025-05-13T08:34:07.153551Z",
          "shell.execute_reply": "2025-05-13T08:34:07.15994Z"
        },
        "id": "7b40oy0ly_sG"
      },
      "outputs": [],
      "execution_count": null
    },
    {
      "cell_type": "code",
      "source": [
        "from torch.utils.data import DataLoader\n",
        "\n",
        "train_dataset = RNADataset(df_seq, df_labels)\n",
        "\n",
        "train_loader = DataLoader(\n",
        "    train_dataset,\n",
        "    batch_size=16,\n",
        "    shuffle=True,\n",
        "    collate_fn=lambda x: (\n",
        "        batchify_token_sequences([s for s, _ in x]),\n",
        "        torch.nn.utils.rnn.pad_sequence([t for _, t in x], batch_first=True)\n",
        "    )\n",
        ")\n"
      ],
      "metadata": {
        "trusted": true,
        "execution": {
          "iopub.status.busy": "2025-05-13T08:34:11.305012Z",
          "iopub.execute_input": "2025-05-13T08:34:11.305462Z",
          "iopub.status.idle": "2025-05-13T08:34:11.310625Z",
          "shell.execute_reply.started": "2025-05-13T08:34:11.30544Z",
          "shell.execute_reply": "2025-05-13T08:34:11.309899Z"
        },
        "id": "67t7qPtmy_sG"
      },
      "outputs": [],
      "execution_count": null
    },
    {
      "cell_type": "code",
      "source": [
        "seq = \"AGCUWRYKMBDHVN-\"\n",
        "tokens = tokenize_sequence(seq)\n",
        "print(\"🔢 Tokenized:\", tokens)\n",
        "encoded = one_hot_encode(tokens)\n",
        "print(\"🔍 One-hot shape:\", encoded.shape)  # (len(seq), 16)\n",
        "print(encoded)\n",
        "batch = [\"AGCU\", \"NYR-\", \"UGCGAU\"]\n",
        "padded_batch = batchify_token_sequences(batch)\n",
        "print(\"📦 Batch shape:\", padded_batch.shape)  # 예: torch.Size([3, 6])\n",
        "print(padded_batch)\n",
        "dataset = RNADataset(df_seq, df_labels)\n",
        "sample = dataset[0]\n",
        "\n",
        "print(\"🎯 Sample input:\", sample[0])  # 토큰 인덱스\n",
        "print(\"🎯 Sample coords shape:\", sample[1].shape)  # 좌표 (N, 3)\n"
      ],
      "metadata": {
        "trusted": true,
        "execution": {
          "iopub.status.busy": "2025-05-13T08:34:13.362066Z",
          "iopub.execute_input": "2025-05-13T08:34:13.36234Z",
          "iopub.status.idle": "2025-05-13T08:34:13.383738Z",
          "shell.execute_reply.started": "2025-05-13T08:34:13.36232Z",
          "shell.execute_reply": "2025-05-13T08:34:13.383013Z"
        },
        "id": "qtiQjZmPy_sH"
      },
      "outputs": [],
      "execution_count": null
    },
    {
      "cell_type": "code",
      "source": [
        "import torch.nn.functional as F\n",
        "\n",
        "def train_one_epoch(model, dataloader, optimizer, device='cpu'):\n",
        "    model.train()\n",
        "    total_loss = 0.0\n",
        "    total_batches = 0\n",
        "\n",
        "    for input_ids, target_coords in dataloader:\n",
        "        input_ids = input_ids.to(device)\n",
        "        target_coords = target_coords.to(device)\n",
        "\n",
        "        pred_coords = model(input_ids)  # [B, L, 3]\n",
        "\n",
        "        # 1️⃣ 좌표가 없는 위치 마스킹\n",
        "        valid_mask = (target_coords.abs().sum(dim=-1) != 0)  # [B, L]\n",
        "\n",
        "        # 2️⃣ MSE loss 개별 계산\n",
        "        loss_each = F.mse_loss(pred_coords, target_coords, reduction='none')  # [B, L, 3]\n",
        "        loss_each = loss_each.mean(dim=-1)  # [B, L]\n",
        "\n",
        "        # 3️⃣ 유효한 좌표에만 적용\n",
        "        loss_each = loss_each * valid_mask  # [B, L]\n",
        "        loss = loss_each.sum() / valid_mask.sum()  # 최종 평균\n",
        "\n",
        "        # 4️⃣ 역전파\n",
        "        optimizer.zero_grad()\n",
        "        loss.backward()\n",
        "        optimizer.step()\n",
        "\n",
        "        total_loss += loss.item()\n",
        "        total_batches += 1\n",
        "\n",
        "    return total_loss / total_batches\n"
      ],
      "metadata": {
        "trusted": true,
        "execution": {
          "iopub.status.busy": "2025-05-13T08:34:56.175973Z",
          "iopub.execute_input": "2025-05-13T08:34:56.176217Z",
          "iopub.status.idle": "2025-05-13T08:34:56.18199Z",
          "shell.execute_reply.started": "2025-05-13T08:34:56.176198Z",
          "shell.execute_reply": "2025-05-13T08:34:56.181294Z"
        },
        "id": "hmhT_G02y_sH"
      },
      "outputs": [],
      "execution_count": null
    },
    {
      "cell_type": "code",
      "source": [
        "import torch.nn.functional as F\n",
        "\n",
        "def evaluate(model, dataloader, device='cpu'):\n",
        "    model.eval()\n",
        "    total_mae = 0.0\n",
        "    total_count = 0\n",
        "\n",
        "    with torch.no_grad():\n",
        "        for input_ids, target_coords in dataloader:\n",
        "            input_ids = input_ids.to(device)\n",
        "            target_coords = target_coords.to(device)\n",
        "\n",
        "            pred_coords = model(input_ids)  # [B, L, 3]\n",
        "\n",
        "            # 좌표가 있는 위치에만 MAE 계산\n",
        "            valid_mask = (target_coords.abs().sum(dim=-1) != 0)  # [B, L]\n",
        "\n",
        "            # MAE 계산\n",
        "            abs_error = (pred_coords - target_coords).abs().mean(dim=-1)  # [B, L]\n",
        "            masked_error = abs_error * valid_mask  # [B, L]\n",
        "            mae = masked_error.sum() / valid_mask.sum()  # 평균 MAE\n",
        "\n",
        "            total_mae += mae.item()\n",
        "            total_count += 1\n",
        "\n",
        "    return total_mae / total_count\n"
      ],
      "metadata": {
        "trusted": true,
        "execution": {
          "iopub.status.busy": "2025-05-13T08:35:19.398883Z",
          "iopub.execute_input": "2025-05-13T08:35:19.399353Z",
          "iopub.status.idle": "2025-05-13T08:35:19.404537Z",
          "shell.execute_reply.started": "2025-05-13T08:35:19.399329Z",
          "shell.execute_reply": "2025-05-13T08:35:19.403932Z"
        },
        "id": "AzCL6phey_sH"
      },
      "outputs": [],
      "execution_count": null
    },
    {
      "cell_type": "code",
      "source": [
        "import matplotlib.pyplot as plt\n",
        "\n",
        "def plot_metrics(train_losses, val_maes):\n",
        "    epochs = list(range(1, len(train_losses) + 1))\n",
        "    plt.figure(figsize=(10, 4))\n",
        "\n",
        "    # 학습 Loss\n",
        "    plt.subplot(1, 2, 1)\n",
        "    plt.plot(epochs, train_losses, marker='o', label='Train Loss (MSE)')\n",
        "    plt.xlabel('Epoch')\n",
        "    plt.ylabel('Loss')\n",
        "    plt.title('Training Loss')\n",
        "    plt.grid()\n",
        "    plt.legend()\n",
        "\n",
        "    # 검증 MAE\n",
        "    plt.subplot(1, 2, 2)\n",
        "    plt.plot(epochs, val_maes, marker='s', color='orange', label='Validation MAE')\n",
        "    plt.xlabel('Epoch')\n",
        "    plt.ylabel('MAE')\n",
        "    plt.title('Validation MAE')\n",
        "    plt.grid()\n",
        "    plt.legend()\n",
        "\n",
        "    plt.tight_layout()\n",
        "    plt.show()\n"
      ],
      "metadata": {
        "trusted": true,
        "execution": {
          "iopub.status.busy": "2025-05-13T08:35:21.734111Z",
          "iopub.execute_input": "2025-05-13T08:35:21.734608Z",
          "iopub.status.idle": "2025-05-13T08:35:21.739812Z",
          "shell.execute_reply.started": "2025-05-13T08:35:21.734572Z",
          "shell.execute_reply": "2025-05-13T08:35:21.739142Z"
        },
        "id": "TbU4wm4Gy_sH"
      },
      "outputs": [],
      "execution_count": null
    },
    {
      "cell_type": "code",
      "source": [
        "set_seq_ids = set(df_seq['target_id'].unique())\n",
        "set_label_ids = set(df_labels['ID'].unique())\n",
        "\n",
        "missing_ids = set_seq_ids - set_label_ids\n",
        "print(\"❗ 좌표가 없는 target_id 개수:\", len(missing_ids))\n",
        "print(\"예시:\", list(missing_ids)[:5])\n"
      ],
      "metadata": {
        "trusted": true,
        "execution": {
          "iopub.status.busy": "2025-05-13T08:35:23.751834Z",
          "iopub.execute_input": "2025-05-13T08:35:23.752459Z",
          "iopub.status.idle": "2025-05-13T08:35:23.780412Z",
          "shell.execute_reply.started": "2025-05-13T08:35:23.752437Z",
          "shell.execute_reply": "2025-05-13T08:35:23.779871Z"
        },
        "id": "alzcRFryy_sH"
      },
      "outputs": [],
      "execution_count": null
    },
    {
      "cell_type": "code",
      "source": [
        "# 하이퍼파라미터 세팅\n",
        "model = RNA3DTransformer()\n",
        "optimizer = torch.optim.Adam(model.parameters(), lr=1e-4)\n",
        "criterion = nn.MSELoss()\n",
        "\n",
        "# 기록용 리스트\n",
        "train_losses = []\n",
        "val_maes = []\n",
        "\n",
        "# 1회차 학습\n",
        "train_loss = train_one_epoch(model, train_loader, optimizer)\n",
        "val_mae = evaluate(model, train_loader)\n",
        "\n",
        "train_losses.append(train_loss)\n",
        "val_maes.append(val_mae)\n",
        "\n",
        "print(f\"✅ Epoch 1 - Train Loss: {train_loss:.4f}, Val MAE: {val_mae:.4f}\")\n",
        "plot_metrics(train_losses, val_maes)\n"
      ],
      "metadata": {
        "trusted": true,
        "execution": {
          "iopub.status.busy": "2025-05-13T08:38:22.52503Z",
          "iopub.execute_input": "2025-05-13T08:38:22.525299Z",
          "iopub.status.idle": "2025-05-13T08:38:22.599633Z",
          "shell.execute_reply.started": "2025-05-13T08:38:22.525278Z",
          "shell.execute_reply": "2025-05-13T08:38:22.598798Z"
        },
        "id": "ReNuDW2Dy_sH"
      },
      "outputs": [],
      "execution_count": null
    }
  ]
}