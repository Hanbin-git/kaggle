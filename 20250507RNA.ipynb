{
  "metadata": {
    "kernelspec": {
      "language": "python",
      "display_name": "Python 3",
      "name": "python3"
    },
    "language_info": {
      "name": "python",
      "version": "3.11.11",
      "mimetype": "text/x-python",
      "codemirror_mode": {
        "name": "ipython",
        "version": 3
      },
      "pygments_lexer": "ipython3",
      "nbconvert_exporter": "python",
      "file_extension": ".py"
    },
    "kaggle": {
      "accelerator": "none",
      "dataSources": [
        {
          "sourceId": 87793,
          "databundleVersionId": 12024591,
          "sourceType": "competition"
        }
      ],
      "dockerImageVersionId": 31012,
      "isInternetEnabled": true,
      "language": "python",
      "sourceType": "notebook",
      "isGpuEnabled": false
    },
    "colab": {
      "name": "notebookd7da05289c",
      "provenance": [],
      "include_colab_link": true
    }
  },
  "nbformat_minor": 0,
  "nbformat": 4,
  "cells": [
    {
      "cell_type": "markdown",
      "metadata": {
        "id": "view-in-github",
        "colab_type": "text"
      },
      "source": [
        "<a href=\"https://colab.research.google.com/github/Hanbin-git/kaggle/blob/main/20250507RNA.ipynb\" target=\"_parent\"><img src=\"https://colab.research.google.com/assets/colab-badge.svg\" alt=\"Open In Colab\"/></a>"
      ]
    },
    {
      "source": [
        "# IMPORTANT: SOME KAGGLE DATA SOURCES ARE PRIVATE\n",
        "# RUN THIS CELL IN ORDER TO IMPORT YOUR KAGGLE DATA SOURCES.\n",
        "import kagglehub\n",
        "kagglehub.login()\n"
      ],
      "metadata": {
        "id": "2o1Gwba333wI"
      },
      "cell_type": "code",
      "outputs": [],
      "execution_count": null
    },
    {
      "source": [
        "# IMPORTANT: RUN THIS CELL IN ORDER TO IMPORT YOUR KAGGLE DATA SOURCES,\n",
        "# THEN FEEL FREE TO DELETE THIS CELL.\n",
        "# NOTE: THIS NOTEBOOK ENVIRONMENT DIFFERS FROM KAGGLE'S PYTHON\n",
        "# ENVIRONMENT SO THERE MAY BE MISSING LIBRARIES USED BY YOUR\n",
        "# NOTEBOOK.\n",
        "\n",
        "stanford_rna_3d_folding_path = kagglehub.competition_download('stanford-rna-3d-folding')\n",
        "\n",
        "print('Data source import complete.')\n"
      ],
      "metadata": {
        "id": "BZSzTaiK33wO"
      },
      "cell_type": "code",
      "outputs": [],
      "execution_count": null
    },
    {
      "cell_type": "code",
      "source": [
        "# This Python 3 environment comes with many helpful analytics libraries installed\n",
        "# It is defined by the kaggle/python Docker image: https://github.com/kaggle/docker-python\n",
        "# For example, here's several helpful packages to load\n",
        "\n",
        "import numpy as np # linear algebra\n",
        "import pandas as pd # data processing, CSV file I/O (e.g. pd.read_csv)\n",
        "\n",
        "# Input data files are available in the read-only \"../input/\" directory\n",
        "# For example, running this (by clicking run or pressing Shift+Enter) will list all files under the input directory\n",
        "\n",
        "import os\n",
        "for dirname, _, filenames in os.walk('/kaggle/input'):\n",
        "    for filename in filenames:\n",
        "        print(os.path.join(dirname, filename))\n",
        "\n",
        "# You can write up to 20GB to the current directory (/kaggle/working/) that gets preserved as output when you create a version using \"Save & Run All\"\n",
        "# You can also write temporary files to /kaggle/temp/, but they won't be saved outside of the current session"
      ],
      "metadata": {
        "_uuid": "8f2839f25d086af736a60e9eeb907d3b93b6e0e5",
        "_cell_guid": "b1076dfc-b9ad-4769-8c92-a6c4dae69d19",
        "trusted": true,
        "execution": {
          "iopub.status.busy": "2025-05-07T12:43:19.059177Z",
          "iopub.execute_input": "2025-05-07T12:43:19.059464Z",
          "iopub.status.idle": "2025-05-07T12:43:20.962394Z",
          "shell.execute_reply.started": "2025-05-07T12:43:19.05944Z",
          "shell.execute_reply": "2025-05-07T12:43:20.961384Z"
        },
        "id": "NZew4i6P33wQ",
        "outputId": "d6e9d811-c5bf-4658-b137-c05e64c32da6"
      },
      "outputs": [
        {
          "name": "stdout",
          "text": "/kaggle/input/stanford-rna-3d-folding/sample_submission.csv\n/kaggle/input/stanford-rna-3d-folding/validation_sequences.csv\n/kaggle/input/stanford-rna-3d-folding/test_sequences.csv\n/kaggle/input/stanford-rna-3d-folding/train_labels.v2.csv\n/kaggle/input/stanford-rna-3d-folding/validation_labels.csv\n/kaggle/input/stanford-rna-3d-folding/train_labels.csv\n/kaggle/input/stanford-rna-3d-folding/train_sequences.csv\n/kaggle/input/stanford-rna-3d-folding/train_sequences.v2.csv\n/kaggle/input/stanford-rna-3d-folding/MSA/R1108.MSA.fasta\n/kaggle/input/stanford-rna-3d-folding/MSA/8EVR_EC.MSA.fasta\n/kaggle/input/stanford-rna-3d-folding/MSA/1ZDI_S.MSA.fasta\n/kaggle/input/stanford-rna-3d-folding/MSA/5FJ1_H.MSA.fasta\n/kaggle/input/stanford-rna-3d-folding/MSA/2NBY_A.MSA.fasta\n/kaggle/input/stanford-rna-3d-folding/MSA/3DEG_J.MSA.fasta\n/kaggle/input/stanford-rna-3d-folding/MSA/2M21_A.MSA.fasta\n/kaggle/input/stanford-rna-3d-folding/MSA/8U3M_A.MSA.fasta\n/kaggle/input/stanford-rna-3d-folding/MSA/2OM7_F.MSA.fasta\n/kaggle/input/stanford-rna-3d-folding/MSA/1ZC8_G.MSA.fasta\n/kaggle/input/stanford-rna-3d-folding/MSA/6WW6_C.MSA.fasta\n/kaggle/input/stanford-rna-3d-folding/MSA/1FJE_A.MSA.fasta\n/kaggle/input/stanford-rna-3d-folding/MSA/2R1G_E.MSA.fasta\n/kaggle/input/stanford-rna-3d-folding/MSA/2K5Z_A.MSA.fasta\n/kaggle/input/stanford-rna-3d-folding/MSA/8T29_R.MSA.fasta\n/kaggle/input/stanford-rna-3d-folding/MSA/7NK4_D.MSA.fasta\n/kaggle/input/stanford-rna-3d-folding/MSA/6AWD_A.MSA.fasta\n/kaggle/input/stanford-rna-3d-folding/MSA/2M8K_A.MSA.fasta\n/kaggle/input/stanford-rna-3d-folding/MSA/6WW6_F.MSA.fasta\n/kaggle/input/stanford-rna-3d-folding/MSA/3JD5_A.MSA.fasta\n/kaggle/input/stanford-rna-3d-folding/MSA/2LP9_A.MSA.fasta\n/kaggle/input/stanford-rna-3d-folding/MSA/6WB0_C.MSA.fasta\n/kaggle/input/stanford-rna-3d-folding/MSA/7M57_ii.MSA.fasta\n/kaggle/input/stanford-rna-3d-folding/MSA/6CYT_N.MSA.fasta\n/kaggle/input/stanford-rna-3d-folding/MSA/2L2J_A.MSA.fasta\n/kaggle/input/stanford-rna-3d-folding/MSA/7ZAP_B.MSA.fasta\n/kaggle/input/stanford-rna-3d-folding/MSA/1NYB_B.MSA.fasta\n/kaggle/input/stanford-rna-3d-folding/MSA/2O33_A.MSA.fasta\n/kaggle/input/stanford-rna-3d-folding/MSA/5A18_A.MSA.fasta\n/kaggle/input/stanford-rna-3d-folding/MSA/2DU5_D.MSA.fasta\n/kaggle/input/stanford-rna-3d-folding/MSA/2K66_A.MSA.fasta\n/kaggle/input/stanford-rna-3d-folding/MSA/2LKR_A.MSA.fasta\n/kaggle/input/stanford-rna-3d-folding/MSA/4V4N_A1.MSA.fasta\n/kaggle/input/stanford-rna-3d-folding/MSA/8BTZ_A.MSA.fasta\n/kaggle/input/stanford-rna-3d-folding/MSA/6U79_A.MSA.fasta\n/kaggle/input/stanford-rna-3d-folding/MSA/1BZ2_A.MSA.fasta\n/kaggle/input/stanford-rna-3d-folding/MSA/1K4A_A.MSA.fasta\n/kaggle/input/stanford-rna-3d-folding/MSA/2RPT_A.MSA.fasta\n/kaggle/input/stanford-rna-3d-folding/MSA/7SHX_A.MSA.fasta\n/kaggle/input/stanford-rna-3d-folding/MSA/2N4L_A.MSA.fasta\n/kaggle/input/stanford-rna-3d-folding/MSA/4V6X_A7.MSA.fasta\n/kaggle/input/stanford-rna-3d-folding/MSA/2KRL_A.MSA.fasta\n/kaggle/input/stanford-rna-3d-folding/MSA/5Y36_B.MSA.fasta\n/kaggle/input/stanford-rna-3d-folding/MSA/6XRZ_A.MSA.fasta\n/kaggle/input/stanford-rna-3d-folding/MSA/8K8B_A.MSA.fasta\n/kaggle/input/stanford-rna-3d-folding/MSA/7DLZ_Y.MSA.fasta\n/kaggle/input/stanford-rna-3d-folding/MSA/1XWP_A.MSA.fasta\n/kaggle/input/stanford-rna-3d-folding/MSA/1FQZ_A.MSA.fasta\n/kaggle/input/stanford-rna-3d-folding/MSA/2L6I_A.MSA.fasta\n/kaggle/input/stanford-rna-3d-folding/MSA/3A2K_C.MSA.fasta\n/kaggle/input/stanford-rna-3d-folding/MSA/4V5G_BB.MSA.fasta\n/kaggle/input/stanford-rna-3d-folding/MSA/2KUW_A.MSA.fasta\n/kaggle/input/stanford-rna-3d-folding/MSA/2IHX_B.MSA.fasta\n/kaggle/input/stanford-rna-3d-folding/MSA/7UGA_A.MSA.fasta\n/kaggle/input/stanford-rna-3d-folding/MSA/2MTJ_A.MSA.fasta\n/kaggle/input/stanford-rna-3d-folding/MSA/2K4C_A.MSA.fasta\n/kaggle/input/stanford-rna-3d-folding/MSA/6SY6_D.MSA.fasta\n/kaggle/input/stanford-rna-3d-folding/MSA/5XBL_B.MSA.fasta\n/kaggle/input/stanford-rna-3d-folding/MSA/2MHI_A.MSA.fasta\n/kaggle/input/stanford-rna-3d-folding/MSA/1YSH_F.MSA.fasta\n/kaggle/input/stanford-rna-3d-folding/MSA/2OM7_J.MSA.fasta\n/kaggle/input/stanford-rna-3d-folding/MSA/8QO5_A.MSA.fasta\n/kaggle/input/stanford-rna-3d-folding/MSA/9EOW_A.MSA.fasta\n/kaggle/input/stanford-rna-3d-folding/MSA/1MT4_A.MSA.fasta\n/kaggle/input/stanford-rna-3d-folding/MSA/6DU5_B.MSA.fasta\n/kaggle/input/stanford-rna-3d-folding/MSA/4OQ9_3.MSA.fasta\n/kaggle/input/stanford-rna-3d-folding/MSA/2K95_A.MSA.fasta\n/kaggle/input/stanford-rna-3d-folding/MSA/6BZ7_QW.MSA.fasta\n/kaggle/input/stanford-rna-3d-folding/MSA/2KUR_A.MSA.fasta\n/kaggle/input/stanford-rna-3d-folding/MSA/7ORM_H.MSA.fasta\n/kaggle/input/stanford-rna-3d-folding/MSA/2GIO_A.MSA.fasta\n/kaggle/input/stanford-rna-3d-folding/MSA/9ENF_C.MSA.fasta\n/kaggle/input/stanford-rna-3d-folding/MSA/6XWW_A.MSA.fasta\n/kaggle/input/stanford-rna-3d-folding/MSA/2NOQ_B.MSA.fasta\n/kaggle/input/stanford-rna-3d-folding/MSA/1TXS_A.MSA.fasta\n/kaggle/input/stanford-rna-3d-folding/MSA/2OJ8_A.MSA.fasta\n/kaggle/input/stanford-rna-3d-folding/MSA/2ESE_B.MSA.fasta\n/kaggle/input/stanford-rna-3d-folding/MSA/1YMO_A.MSA.fasta\n/kaggle/input/stanford-rna-3d-folding/MSA/7M2T_ss.MSA.fasta\n/kaggle/input/stanford-rna-3d-folding/MSA/8T3F_EC.MSA.fasta\n/kaggle/input/stanford-rna-3d-folding/MSA/1SZY_A.MSA.fasta\n/kaggle/input/stanford-rna-3d-folding/MSA/1HS1_A.MSA.fasta\n/kaggle/input/stanford-rna-3d-folding/MSA/2MQT_A.MSA.fasta\n/kaggle/input/stanford-rna-3d-folding/MSA/1BVJ_A.MSA.fasta\n/kaggle/input/stanford-rna-3d-folding/MSA/9CF3_W.MSA.fasta\n/kaggle/input/stanford-rna-3d-folding/MSA/6NOA_A.MSA.fasta\n/kaggle/input/stanford-rna-3d-folding/MSA/1AQO_A.MSA.fasta\n/kaggle/input/stanford-rna-3d-folding/MSA/8UYJ_A.MSA.fasta\n/kaggle/input/stanford-rna-3d-folding/MSA/4V9B_CD.MSA.fasta\n/kaggle/input/stanford-rna-3d-folding/MSA/6WLK_A.MSA.fasta\n/kaggle/input/stanford-rna-3d-folding/MSA/2FEY_A.MSA.fasta\n/kaggle/input/stanford-rna-3d-folding/MSA/2R93_R.MSA.fasta\n/kaggle/input/stanford-rna-3d-folding/MSA/4V5Z_BU.MSA.fasta\n/kaggle/input/stanford-rna-3d-folding/MSA/17RA_A.MSA.fasta\n/kaggle/input/stanford-rna-3d-folding/MSA/8OPT_D.MSA.fasta\n/kaggle/input/stanford-rna-3d-folding/MSA/5KH8_A.MSA.fasta\n/kaggle/input/stanford-rna-3d-folding/MSA/8T2O_R.MSA.fasta\n/kaggle/input/stanford-rna-3d-folding/MSA/7A01_e2.MSA.fasta\n/kaggle/input/stanford-rna-3d-folding/MSA/8QO4_A.MSA.fasta\n/kaggle/input/stanford-rna-3d-folding/MSA/8PM4_B.MSA.fasta\n/kaggle/input/stanford-rna-3d-folding/MSA/3EP2_C.MSA.fasta\n/kaggle/input/stanford-rna-3d-folding/MSA/3IZ4_A.MSA.fasta\n/kaggle/input/stanford-rna-3d-folding/MSA/6ZVK_e2.MSA.fasta\n/kaggle/input/stanford-rna-3d-folding/MSA/7S36_R.MSA.fasta\n/kaggle/input/stanford-rna-3d-folding/MSA/2NCI_A.MSA.fasta\n/kaggle/input/stanford-rna-3d-folding/MSA/2ADT_A.MSA.fasta\n/kaggle/input/stanford-rna-3d-folding/MSA/1MME_D.MSA.fasta\n/kaggle/input/stanford-rna-3d-folding/MSA/7URM_v.MSA.fasta\n/kaggle/input/stanford-rna-3d-folding/MSA/5FMZ_V.MSA.fasta\n/kaggle/input/stanford-rna-3d-folding/MSA/6ZVK_h2.MSA.fasta\n/kaggle/input/stanford-rna-3d-folding/MSA/2MFF_B.MSA.fasta\n/kaggle/input/stanford-rna-3d-folding/MSA/8T2Y_tA.MSA.fasta\n/kaggle/input/stanford-rna-3d-folding/MSA/3JQ4_B.MSA.fasta\n/kaggle/input/stanford-rna-3d-folding/MSA/1YLG_A.MSA.fasta\n/kaggle/input/stanford-rna-3d-folding/MSA/8GAP_B.MSA.fasta\n/kaggle/input/stanford-rna-3d-folding/MSA/6AHU_A.MSA.fasta\n/kaggle/input/stanford-rna-3d-folding/MSA/6IV6_G.MSA.fasta\n/kaggle/input/stanford-rna-3d-folding/MSA/1FFK_9.MSA.fasta\n/kaggle/input/stanford-rna-3d-folding/MSA/1R2W_C.MSA.fasta\n/kaggle/input/stanford-rna-3d-folding/MSA/6NM9_G.MSA.fasta\n/kaggle/input/stanford-rna-3d-folding/MSA/3UZS_C.MSA.fasta\n/kaggle/input/stanford-rna-3d-folding/MSA/2MFG_D.MSA.fasta\n/kaggle/input/stanford-rna-3d-folding/MSA/1JO7_A.MSA.fasta\n/kaggle/input/stanford-rna-3d-folding/MSA/1ZC8_Z.MSA.fasta\n/kaggle/input/stanford-rna-3d-folding/MSA/2N8V_X.MSA.fasta\n/kaggle/input/stanford-rna-3d-folding/MSA/7S4U_B.MSA.fasta\n/kaggle/input/stanford-rna-3d-folding/MSA/2R1G_X.MSA.fasta\n/kaggle/input/stanford-rna-3d-folding/MSA/1QZC_B.MSA.fasta\n/kaggle/input/stanford-rna-3d-folding/MSA/2BQ5_S.MSA.fasta\n/kaggle/input/stanford-rna-3d-folding/MSA/3AKZ_H.MSA.fasta\n/kaggle/input/stanford-rna-3d-folding/MSA/7WB1_D.MSA.fasta\n/kaggle/input/stanford-rna-3d-folding/MSA/4YVJ_C.MSA.fasta\n/kaggle/input/stanford-rna-3d-folding/MSA/8H6E_5A.MSA.fasta\n/kaggle/input/stanford-rna-3d-folding/MSA/8YGJ_B.MSA.fasta\n/kaggle/input/stanford-rna-3d-folding/MSA/1Q75_A.MSA.fasta\n/kaggle/input/stanford-rna-3d-folding/MSA/7LYS_B.MSA.fasta\n/kaggle/input/stanford-rna-3d-folding/MSA/8UYP_A.MSA.fasta\n/kaggle/input/stanford-rna-3d-folding/MSA/1F9L_A.MSA.fasta\n/kaggle/input/stanford-rna-3d-folding/MSA/1QFQ_A.MSA.fasta\n/kaggle/input/stanford-rna-3d-folding/MSA/6C4H_x.MSA.fasta\n/kaggle/input/stanford-rna-3d-folding/MSA/1A60_A.MSA.fasta\n/kaggle/input/stanford-rna-3d-folding/MSA/8DC2_B.MSA.fasta\n/kaggle/input/stanford-rna-3d-folding/MSA/8XCA_B.MSA.fasta\n/kaggle/input/stanford-rna-3d-folding/MSA/1ATO_A.MSA.fasta\n/kaggle/input/stanford-rna-3d-folding/MSA/2ZJQ_X.MSA.fasta\n/kaggle/input/stanford-rna-3d-folding/MSA/4DR5_W.MSA.fasta\n/kaggle/input/stanford-rna-3d-folding/MSA/7ELE_G.MSA.fasta\n/kaggle/input/stanford-rna-3d-folding/MSA/2OM3_R.MSA.fasta\n/kaggle/input/stanford-rna-3d-folding/MSA/5V93_a.MSA.fasta\n/kaggle/input/stanford-rna-3d-folding/MSA/1FOQ_A.MSA.fasta\n/kaggle/input/stanford-rna-3d-folding/MSA/1YSH_B.MSA.fasta\n/kaggle/input/stanford-rna-3d-folding/MSA/8T2A_R.MSA.fasta\n/kaggle/input/stanford-rna-3d-folding/MSA/1TLR_A.MSA.fasta\n/kaggle/input/stanford-rna-3d-folding/MSA/1F6Z_A.MSA.fasta\n/kaggle/input/stanford-rna-3d-folding/MSA/2FDT_A.MSA.fasta\n/kaggle/input/stanford-rna-3d-folding/MSA/1BAU_B.MSA.fasta\n/kaggle/input/stanford-rna-3d-folding/MSA/1ATW_A.MSA.fasta\n/kaggle/input/stanford-rna-3d-folding/MSA/4TZP_C.MSA.fasta\n/kaggle/input/stanford-rna-3d-folding/MSA/6MXQ_A.MSA.fasta\n/kaggle/input/stanford-rna-3d-folding/MSA/1S34_A.MSA.fasta\n/kaggle/input/stanford-rna-3d-folding/MSA/6EVJ_V.MSA.fasta\n/kaggle/input/stanford-rna-3d-folding/MSA/2M12_A.MSA.fasta\n/kaggle/input/stanford-rna-3d-folding/MSA/4V7E_Ab.MSA.fasta\n/kaggle/input/stanford-rna-3d-folding/MSA/1M5L_A.MSA.fasta\n/kaggle/input/stanford-rna-3d-folding/MSA/2DET_C.MSA.fasta\n/kaggle/input/stanford-rna-3d-folding/MSA/2J28_8.MSA.fasta\n/kaggle/input/stanford-rna-3d-folding/MSA/7ORJ_H.MSA.fasta\n/kaggle/input/stanford-rna-3d-folding/MSA/2M57_A.MSA.fasta\n/kaggle/input/stanford-rna-3d-folding/MSA/7ZRS_6.MSA.fasta\n/kaggle/input/stanford-rna-3d-folding/MSA/6AH3_T.MSA.fasta\n/kaggle/input/stanford-rna-3d-folding/MSA/7B9V_5.MSA.fasta\n/kaggle/input/stanford-rna-3d-folding/MSA/2LBL_A.MSA.fasta\n/kaggle/input/stanford-rna-3d-folding/MSA/4V6U_A0.MSA.fasta\n/kaggle/input/stanford-rna-3d-folding/MSA/2L3E_A.MSA.fasta\n/kaggle/input/stanford-rna-3d-folding/MSA/1KKA_A.MSA.fasta\n/kaggle/input/stanford-rna-3d-folding/MSA/6FHI_V.MSA.fasta\n/kaggle/input/stanford-rna-3d-folding/MSA/8JTJ_B.MSA.fasta\n/kaggle/input/stanford-rna-3d-folding/MSA/6OSI_RB.MSA.fasta\n/kaggle/input/stanford-rna-3d-folding/MSA/2J28_A.MSA.fasta\n/kaggle/input/stanford-rna-3d-folding/MSA/2RVO_A.MSA.fasta\n/kaggle/input/stanford-rna-3d-folding/MSA/5MC6_m.MSA.fasta\n/kaggle/input/stanford-rna-3d-folding/MSA/2A9L_A.MSA.fasta\n/kaggle/input/stanford-rna-3d-folding/MSA/4ZT9_D.MSA.fasta\n/kaggle/input/stanford-rna-3d-folding/MSA/6KUT_V.MSA.fasta\n/kaggle/input/stanford-rna-3d-folding/MSA/1R7W_A.MSA.fasta\n/kaggle/input/stanford-rna-3d-folding/MSA/2MI0_A.MSA.fasta\n/kaggle/input/stanford-rna-3d-folding/MSA/2LUN_A.MSA.fasta\n/kaggle/input/stanford-rna-3d-folding/MSA/2R1G_B.MSA.fasta\n/kaggle/input/stanford-rna-3d-folding/MSA/1E4P_A.MSA.fasta\n/kaggle/input/stanford-rna-3d-folding/MSA/7B9V_2.MSA.fasta\n/kaggle/input/stanford-rna-3d-folding/MSA/5MC6_n.MSA.fasta\n/kaggle/input/stanford-rna-3d-folding/MSA/8P0G_V.MSA.fasta\n/kaggle/input/stanford-rna-3d-folding/MSA/R1156.MSA.fasta\n/kaggle/input/stanford-rna-3d-folding/MSA/1EBQ_A.MSA.fasta\n/kaggle/input/stanford-rna-3d-folding/MSA/7LHD_A.MSA.fasta\n/kaggle/input/stanford-rna-3d-folding/MSA/1X18_B.MSA.fasta\n/kaggle/input/stanford-rna-3d-folding/MSA/4V5Z_BA.MSA.fasta\n/kaggle/input/stanford-rna-3d-folding/MSA/6OJ2_QY.MSA.fasta\n/kaggle/input/stanford-rna-3d-folding/MSA/2NC0_A.MSA.fasta\n/kaggle/input/stanford-rna-3d-folding/MSA/7KUD_A.MSA.fasta\n/kaggle/input/stanford-rna-3d-folding/MSA/7JRS_B.MSA.fasta\n/kaggle/input/stanford-rna-3d-folding/MSA/7MSF_S.MSA.fasta\n/kaggle/input/stanford-rna-3d-folding/MSA/8KAI_I.MSA.fasta\n/kaggle/input/stanford-rna-3d-folding/MSA/2JPP_C.MSA.fasta\n/kaggle/input/stanford-rna-3d-folding/MSA/8C9C_A.MSA.fasta\n/kaggle/input/stanford-rna-3d-folding/MSA/3PHP_A.MSA.fasta\n/kaggle/input/stanford-rna-3d-folding/MSA/8KAM_A.MSA.fasta\n/kaggle/input/stanford-rna-3d-folding/MSA/1RNG_A.MSA.fasta\n/kaggle/input/stanford-rna-3d-folding/MSA/1IK1_A.MSA.fasta\n/kaggle/input/stanford-rna-3d-folding/MSA/2IXY_A.MSA.fasta\n/kaggle/input/stanford-rna-3d-folding/MSA/7LMB_B.MSA.fasta\n/kaggle/input/stanford-rna-3d-folding/MSA/2NR0_E.MSA.fasta\n/kaggle/input/stanford-rna-3d-folding/MSA/1R4H_A.MSA.fasta\n/kaggle/input/stanford-rna-3d-folding/MSA/1P6V_D.MSA.fasta\n/kaggle/input/stanford-rna-3d-folding/MSA/2OM7_G.MSA.fasta\n/kaggle/input/stanford-rna-3d-folding/MSA/1P6V_B.MSA.fasta\n/kaggle/input/stanford-rna-3d-folding/MSA/3A3A_A.MSA.fasta\n/kaggle/input/stanford-rna-3d-folding/MSA/2KE6_A.MSA.fasta\n/kaggle/input/stanford-rna-3d-folding/MSA/6WD9_2.MSA.fasta\n/kaggle/input/stanford-rna-3d-folding/MSA/8URY_d.MSA.fasta\n/kaggle/input/stanford-rna-3d-folding/MSA/2QH3_A.MSA.fasta\n/kaggle/input/stanford-rna-3d-folding/MSA/2NOQ_A.MSA.fasta\n/kaggle/input/stanford-rna-3d-folding/MSA/2LBS_A.MSA.fasta\n/kaggle/input/stanford-rna-3d-folding/MSA/1IBM_Y.MSA.fasta\n/kaggle/input/stanford-rna-3d-folding/MSA/4V4N_B1.MSA.fasta\n/kaggle/input/stanford-rna-3d-folding/MSA/7VTN_B.MSA.fasta\n/kaggle/input/stanford-rna-3d-folding/MSA/1ZN1_B.MSA.fasta\n/kaggle/input/stanford-rna-3d-folding/MSA/2MNC_A.MSA.fasta\n/kaggle/input/stanford-rna-3d-folding/MSA/8UYL_A.MSA.fasta\n/kaggle/input/stanford-rna-3d-folding/MSA/8E79_R.MSA.fasta\n/kaggle/input/stanford-rna-3d-folding/MSA/2EVY_A.MSA.fasta\n/kaggle/input/stanford-rna-3d-folding/MSA/2XXA_F.MSA.fasta\n/kaggle/input/stanford-rna-3d-folding/MSA/1K5I_A.MSA.fasta\n/kaggle/input/stanford-rna-3d-folding/MSA/4V65_BB.MSA.fasta\n/kaggle/input/stanford-rna-3d-folding/MSA/7SAM_A.MSA.fasta\n/kaggle/input/stanford-rna-3d-folding/MSA/8H69_5.MSA.fasta\n/kaggle/input/stanford-rna-3d-folding/MSA/7ZPQ_6.MSA.fasta\n/kaggle/input/stanford-rna-3d-folding/MSA/7PTL_B.MSA.fasta\n/kaggle/input/stanford-rna-3d-folding/MSA/2L3C_B.MSA.fasta\n/kaggle/input/stanford-rna-3d-folding/MSA/4V6W_A8.MSA.fasta\n/kaggle/input/stanford-rna-3d-folding/MSA/7D8C_B.MSA.fasta\n/kaggle/input/stanford-rna-3d-folding/MSA/2N7X_A.MSA.fasta\n/kaggle/input/stanford-rna-3d-folding/MSA/4ILM_M.MSA.fasta\n/kaggle/input/stanford-rna-3d-folding/MSA/8WT7_F.MSA.fasta\n/kaggle/input/stanford-rna-3d-folding/MSA/3HAY_E.MSA.fasta\n/kaggle/input/stanford-rna-3d-folding/MSA/8IEW_B.MSA.fasta\n/kaggle/input/stanford-rna-3d-folding/MSA/6S0X_B.MSA.fasta\n/kaggle/input/stanford-rna-3d-folding/MSA/1XWU_A.MSA.fasta\n/kaggle/input/stanford-rna-3d-folding/MSA/1WZ2_D.MSA.fasta\n/kaggle/input/stanford-rna-3d-folding/MSA/2RPK_A.MSA.fasta\n/kaggle/input/stanford-rna-3d-folding/MSA/8KI7_E.MSA.fasta\n/kaggle/input/stanford-rna-3d-folding/MSA/1RHT_A.MSA.fasta\n/kaggle/input/stanford-rna-3d-folding/MSA/1PJY_A.MSA.fasta\n/kaggle/input/stanford-rna-3d-folding/MSA/1YSH_A.MSA.fasta\n/kaggle/input/stanford-rna-3d-folding/MSA/8Z8N_D.MSA.fasta\n/kaggle/input/stanford-rna-3d-folding/MSA/3DKN_D.MSA.fasta\n/kaggle/input/stanford-rna-3d-folding/MSA/1HS8_A.MSA.fasta\n/kaggle/input/stanford-rna-3d-folding/MSA/8QO3_A.MSA.fasta\n/kaggle/input/stanford-rna-3d-folding/MSA/2TPK_A.MSA.fasta\n/kaggle/input/stanford-rna-3d-folding/MSA/8EWG_B.MSA.fasta\n/kaggle/input/stanford-rna-3d-folding/MSA/4WC3_B.MSA.fasta\n/kaggle/input/stanford-rna-3d-folding/MSA/8T3E_EC.MSA.fasta\n/kaggle/input/stanford-rna-3d-folding/MSA/2KPV_A.MSA.fasta\n/kaggle/input/stanford-rna-3d-folding/MSA/6N7R_R.MSA.fasta\n/kaggle/input/stanford-rna-3d-folding/MSA/6O3M_XV.MSA.fasta\n/kaggle/input/stanford-rna-3d-folding/MSA/8CLR_A.MSA.fasta\n/kaggle/input/stanford-rna-3d-folding/MSA/3IZZ_E.MSA.fasta\n/kaggle/input/stanford-rna-3d-folding/MSA/3CW1_v.MSA.fasta\n/kaggle/input/stanford-rna-3d-folding/MSA/8BU8_A.MSA.fasta\n/kaggle/input/stanford-rna-3d-folding/MSA/2MFC_B.MSA.fasta\n/kaggle/input/stanford-rna-3d-folding/MSA/7S3H_R.MSA.fasta\n/kaggle/input/stanford-rna-3d-folding/MSA/4V6D_AV.MSA.fasta\n/kaggle/input/stanford-rna-3d-folding/MSA/5MC6_BR.MSA.fasta\n/kaggle/input/stanford-rna-3d-folding/MSA/2BJ2_A.MSA.fasta\n/kaggle/input/stanford-rna-3d-folding/MSA/5V6X_C.MSA.fasta\n/kaggle/input/stanford-rna-3d-folding/MSA/7ORI_H.MSA.fasta\n/kaggle/input/stanford-rna-3d-folding/MSA/2N3O_B.MSA.fasta\n/kaggle/input/stanford-rna-3d-folding/MSA/3W1K_F.MSA.fasta\n/kaggle/input/stanford-rna-3d-folding/MSA/9FO8_A.MSA.fasta\n/kaggle/input/stanford-rna-3d-folding/MSA/4V5Z_BL.MSA.fasta\n/kaggle/input/stanford-rna-3d-folding/MSA/4V65_A1.MSA.fasta\n/kaggle/input/stanford-rna-3d-folding/MSA/2KUU_A.MSA.fasta\n/kaggle/input/stanford-rna-3d-folding/MSA/1N8X_A.MSA.fasta\n/kaggle/input/stanford-rna-3d-folding/MSA/1B36_A.MSA.fasta\n/kaggle/input/stanford-rna-3d-folding/MSA/3WFR_D.MSA.fasta\n/kaggle/input/stanford-rna-3d-folding/MSA/7S4V_B.MSA.fasta\n/kaggle/input/stanford-rna-3d-folding/MSA/6SDW_B.MSA.fasta\n/kaggle/input/stanford-rna-3d-folding/MSA/1HS2_A.MSA.fasta\n/kaggle/input/stanford-rna-3d-folding/MSA/8BWT_A.MSA.fasta\n/kaggle/input/stanford-rna-3d-folding/MSA/6WLT_A.MSA.fasta\n/kaggle/input/stanford-rna-3d-folding/MSA/2GVO_A.MSA.fasta\n/kaggle/input/stanford-rna-3d-folding/MSA/7LYG_A.MSA.fasta\n/kaggle/input/stanford-rna-3d-folding/MSA/7UMC_A.MSA.fasta\n/kaggle/input/stanford-rna-3d-folding/MSA/8FCS_A.MSA.fasta\n/kaggle/input/stanford-rna-3d-folding/MSA/8URY_A.MSA.fasta\n/kaggle/input/stanford-rna-3d-folding/MSA/1I4C_A.MSA.fasta\n/kaggle/input/stanford-rna-3d-folding/MSA/3LWQ_D.MSA.fasta\n/kaggle/input/stanford-rna-3d-folding/MSA/1AUD_B.MSA.fasta\n/kaggle/input/stanford-rna-3d-folding/MSA/1I3X_A.MSA.fasta\n/kaggle/input/stanford-rna-3d-folding/MSA/6UFM_A.MSA.fasta\n/kaggle/input/stanford-rna-3d-folding/MSA/8WT6_F.MSA.fasta\n/kaggle/input/stanford-rna-3d-folding/MSA/R1138.MSA.fasta\n/kaggle/input/stanford-rna-3d-folding/MSA/7SLP_R.MSA.fasta\n/kaggle/input/stanford-rna-3d-folding/MSA/1P5N_A.MSA.fasta\n/kaggle/input/stanford-rna-3d-folding/MSA/7EXY_A.MSA.fasta\n/kaggle/input/stanford-rna-3d-folding/MSA/5KK5_B.MSA.fasta\n/kaggle/input/stanford-rna-3d-folding/MSA/1EXY_A.MSA.fasta\n/kaggle/input/stanford-rna-3d-folding/MSA/9CF1_W.MSA.fasta\n/kaggle/input/stanford-rna-3d-folding/MSA/1P5P_A.MSA.fasta\n/kaggle/input/stanford-rna-3d-folding/MSA/1KIS_A.MSA.fasta\n/kaggle/input/stanford-rna-3d-folding/MSA/5V17_A.MSA.fasta\n/kaggle/input/stanford-rna-3d-folding/MSA/2JSE_A.MSA.fasta\n/kaggle/input/stanford-rna-3d-folding/MSA/2IL9_A.MSA.fasta\n/kaggle/input/stanford-rna-3d-folding/MSA/4V6X_B2.MSA.fasta\n/kaggle/input/stanford-rna-3d-folding/MSA/7XW2_C.MSA.fasta\n/kaggle/input/stanford-rna-3d-folding/MSA/2LAC_A.MSA.fasta\n/kaggle/input/stanford-rna-3d-folding/MSA/8CTI_C.MSA.fasta\n/kaggle/input/stanford-rna-3d-folding/MSA/5GAP_V.MSA.fasta\n/kaggle/input/stanford-rna-3d-folding/MSA/2DU6_D.MSA.fasta\n/kaggle/input/stanford-rna-3d-folding/MSA/8JTR_B.MSA.fasta\n/kaggle/input/stanford-rna-3d-folding/MSA/7UME_A.MSA.fasta\n/kaggle/input/stanford-rna-3d-folding/MSA/6ZVK_d2.MSA.fasta\n/kaggle/input/stanford-rna-3d-folding/MSA/4BY9_A.MSA.fasta\n/kaggle/input/stanford-rna-3d-folding/MSA/7QGG_v.MSA.fasta\n/kaggle/input/stanford-rna-3d-folding/MSA/2L1F_B.MSA.fasta\n/kaggle/input/stanford-rna-3d-folding/MSA/4V6W_A7.MSA.fasta\n/kaggle/input/stanford-rna-3d-folding/MSA/1D0U_A.MSA.fasta\n/kaggle/input/stanford-rna-3d-folding/MSA/7RGU_H.MSA.fasta\n/kaggle/input/stanford-rna-3d-folding/MSA/8SFO_B.MSA.fasta\n/kaggle/input/stanford-rna-3d-folding/MSA/8OPS_C.MSA.fasta\n/kaggle/input/stanford-rna-3d-folding/MSA/6BZ7_XY.MSA.fasta\n/kaggle/input/stanford-rna-3d-folding/MSA/8CI5_C.MSA.fasta\n/kaggle/input/stanford-rna-3d-folding/MSA/6QX3_D.MSA.fasta\n/kaggle/input/stanford-rna-3d-folding/MSA/1VOP_A.MSA.fasta\n/kaggle/input/stanford-rna-3d-folding/MSA/2R1G_C.MSA.fasta\n/kaggle/input/stanford-rna-3d-folding/MSA/1ETF_A.MSA.fasta\n/kaggle/input/stanford-rna-3d-folding/MSA/7YOJ_B.MSA.fasta\n/kaggle/input/stanford-rna-3d-folding/MSA/8J72_C.MSA.fasta\n/kaggle/input/stanford-rna-3d-folding/MSA/3TUP_T.MSA.fasta\n/kaggle/input/stanford-rna-3d-folding/MSA/1F6X_A.MSA.fasta\n/kaggle/input/stanford-rna-3d-folding/MSA/6OF6_XW.MSA.fasta\n/kaggle/input/stanford-rna-3d-folding/MSA/4V4N_B2.MSA.fasta\n/kaggle/input/stanford-rna-3d-folding/MSA/3PGW_N.MSA.fasta\n/kaggle/input/stanford-rna-3d-folding/MSA/4V99_FX.MSA.fasta\n/kaggle/input/stanford-rna-3d-folding/MSA/2AHT_A.MSA.fasta\n/kaggle/input/stanford-rna-3d-folding/MSA/9G8O_S2.MSA.fasta\n/kaggle/input/stanford-rna-3d-folding/MSA/2IZN_S.MSA.fasta\n/kaggle/input/stanford-rna-3d-folding/MSA/2Y95_A.MSA.fasta\n/kaggle/input/stanford-rna-3d-folding/MSA/2N6W_A.MSA.fasta\n/kaggle/input/stanford-rna-3d-folding/MSA/4X4S_B.MSA.fasta\n/kaggle/input/stanford-rna-3d-folding/MSA/1QWB_A.MSA.fasta\n/kaggle/input/stanford-rna-3d-folding/MSA/6W3M_A.MSA.fasta\n/kaggle/input/stanford-rna-3d-folding/MSA/1L1W_A.MSA.fasta\n/kaggle/input/stanford-rna-3d-folding/MSA/2W2H_S.MSA.fasta\n/kaggle/input/stanford-rna-3d-folding/MSA/2AGN_A.MSA.fasta\n/kaggle/input/stanford-rna-3d-folding/MSA/6FLQ_R.MSA.fasta\n/kaggle/input/stanford-rna-3d-folding/MSA/2BS0_S.MSA.fasta\n/kaggle/input/stanford-rna-3d-folding/MSA/2M23_A.MSA.fasta\n/kaggle/input/stanford-rna-3d-folding/MSA/1X18_A.MSA.fasta\n/kaggle/input/stanford-rna-3d-folding/MSA/8G1S_R.MSA.fasta\n/kaggle/input/stanford-rna-3d-folding/MSA/4V4V_AA.MSA.fasta\n/kaggle/input/stanford-rna-3d-folding/MSA/2LDL_A.MSA.fasta\n/kaggle/input/stanford-rna-3d-folding/MSA/5N5C_A.MSA.fasta\n/kaggle/input/stanford-rna-3d-folding/MSA/5V16_A.MSA.fasta\n/kaggle/input/stanford-rna-3d-folding/MSA/5OA3_1.MSA.fasta\n/kaggle/input/stanford-rna-3d-folding/MSA/1ZIG_A.MSA.fasta\n/kaggle/input/stanford-rna-3d-folding/MSA/8UBE_I.MSA.fasta\n/kaggle/input/stanford-rna-3d-folding/MSA/1HLX_A.MSA.fasta\n/kaggle/input/stanford-rna-3d-folding/MSA/5ZEY_B.MSA.fasta\n/kaggle/input/stanford-rna-3d-folding/MSA/1ZIF_A.MSA.fasta\n/kaggle/input/stanford-rna-3d-folding/MSA/1JUR_A.MSA.fasta\n/kaggle/input/stanford-rna-3d-folding/MSA/5AMQ_C.MSA.fasta\n/kaggle/input/stanford-rna-3d-folding/MSA/1LS2_B.MSA.fasta\n/kaggle/input/stanford-rna-3d-folding/MSA/8DVS_B.MSA.fasta\n/kaggle/input/stanford-rna-3d-folding/MSA/2G1W_A.MSA.fasta\n/kaggle/input/stanford-rna-3d-folding/MSA/7UMD_A.MSA.fasta\n/kaggle/input/stanford-rna-3d-folding/MSA/8OKD_X.MSA.fasta\n/kaggle/input/stanford-rna-3d-folding/MSA/7A01_K3.MSA.fasta\n/kaggle/input/stanford-rna-3d-folding/MSA/8UPT_A.MSA.fasta\n/kaggle/input/stanford-rna-3d-folding/MSA/1K6H_A.MSA.fasta\n/kaggle/input/stanford-rna-3d-folding/MSA/1E7K_D.MSA.fasta\n/kaggle/input/stanford-rna-3d-folding/MSA/1QZB_B.MSA.fasta\n/kaggle/input/stanford-rna-3d-folding/MSA/2MEQ_A.MSA.fasta\n/kaggle/input/stanford-rna-3d-folding/MSA/5Z3G_B.MSA.fasta\n/kaggle/input/stanford-rna-3d-folding/MSA/1T4L_A.MSA.fasta\n/kaggle/input/stanford-rna-3d-folding/MSA/1K4B_A.MSA.fasta\n/kaggle/input/stanford-rna-3d-folding/MSA/2M22_A.MSA.fasta\n/kaggle/input/stanford-rna-3d-folding/MSA/3J3V_A.MSA.fasta\n/kaggle/input/stanford-rna-3d-folding/MSA/2MS1_B.MSA.fasta\n/kaggle/input/stanford-rna-3d-folding/MSA/8H6E_4A.MSA.fasta\n/kaggle/input/stanford-rna-3d-folding/MSA/2GV4_A.MSA.fasta\n/kaggle/input/stanford-rna-3d-folding/MSA/2L1F_A.MSA.fasta\n/kaggle/input/stanford-rna-3d-folding/MSA/1G70_A.MSA.fasta\n/kaggle/input/stanford-rna-3d-folding/MSA/9DTT_B.MSA.fasta\n/kaggle/input/stanford-rna-3d-folding/MSA/1ANR_A.MSA.fasta\n/kaggle/input/stanford-rna-3d-folding/MSA/2JWV_A.MSA.fasta\n/kaggle/input/stanford-rna-3d-folding/MSA/8HUD_B.MSA.fasta\n/kaggle/input/stanford-rna-3d-folding/MSA/1X18_D.MSA.fasta\n/kaggle/input/stanford-rna-3d-folding/MSA/6QX9_1.MSA.fasta\n/kaggle/input/stanford-rna-3d-folding/MSA/6QWL_W.MSA.fasta\n/kaggle/input/stanford-rna-3d-folding/MSA/3AMU_B.MSA.fasta\n/kaggle/input/stanford-rna-3d-folding/MSA/1LC6_A.MSA.fasta\n/kaggle/input/stanford-rna-3d-folding/MSA/2LI4_A.MSA.fasta\n/kaggle/input/stanford-rna-3d-folding/MSA/4V5G_BA.MSA.fasta\n/kaggle/input/stanford-rna-3d-folding/MSA/8G1I_B.MSA.fasta\n/kaggle/input/stanford-rna-3d-folding/MSA/1Y1Y_P.MSA.fasta\n/kaggle/input/stanford-rna-3d-folding/MSA/3J3W_A.MSA.fasta\n/kaggle/input/stanford-rna-3d-folding/MSA/6K0B_U.MSA.fasta\n/kaggle/input/stanford-rna-3d-folding/MSA/1JOX_A.MSA.fasta\n/kaggle/input/stanford-rna-3d-folding/MSA/1KAJ_A.MSA.fasta\n/kaggle/input/stanford-rna-3d-folding/MSA/6LTP_H.MSA.fasta\n/kaggle/input/stanford-rna-3d-folding/MSA/7UO1_C.MSA.fasta\n/kaggle/input/stanford-rna-3d-folding/MSA/2R1G_A.MSA.fasta\n/kaggle/input/stanford-rna-3d-folding/MSA/2OM7_I.MSA.fasta\n/kaggle/input/stanford-rna-3d-folding/MSA/1RY1_E.MSA.fasta\n/kaggle/input/stanford-rna-3d-folding/MSA/2KRP_A.MSA.fasta\n/kaggle/input/stanford-rna-3d-folding/MSA/8WUS_B.MSA.fasta\n/kaggle/input/stanford-rna-3d-folding/MSA/6FT6_2.MSA.fasta\n/kaggle/input/stanford-rna-3d-folding/MSA/2IZ8_S.MSA.fasta\n/kaggle/input/stanford-rna-3d-folding/MSA/5V93_B.MSA.fasta\n/kaggle/input/stanford-rna-3d-folding/MSA/2JR4_A.MSA.fasta\n/kaggle/input/stanford-rna-3d-folding/MSA/8Z90_D.MSA.fasta\n/kaggle/input/stanford-rna-3d-folding/MSA/4V4W_B9.MSA.fasta\n/kaggle/input/stanford-rna-3d-folding/MSA/6ZVK_K3.MSA.fasta\n/kaggle/input/stanford-rna-3d-folding/MSA/1ZBH_E.MSA.fasta\n/kaggle/input/stanford-rna-3d-folding/MSA/2RLU_A.MSA.fasta\n/kaggle/input/stanford-rna-3d-folding/MSA/4YVK_C.MSA.fasta\n/kaggle/input/stanford-rna-3d-folding/MSA/8JHP_A.MSA.fasta\n/kaggle/input/stanford-rna-3d-folding/MSA/1YNE_A.MSA.fasta\n/kaggle/input/stanford-rna-3d-folding/MSA/1HVU_I.MSA.fasta\n/kaggle/input/stanford-rna-3d-folding/MSA/8OPP_D.MSA.fasta\n/kaggle/input/stanford-rna-3d-folding/MSA/1TBK_A.MSA.fasta\n/kaggle/input/stanford-rna-3d-folding/MSA/4V8J_AV.MSA.fasta\n/kaggle/input/stanford-rna-3d-folding/MSA/5UF3_A.MSA.fasta\n/kaggle/input/stanford-rna-3d-folding/MSA/1UUU_A.MSA.fasta\n/kaggle/input/stanford-rna-3d-folding/MSA/2AGN_C.MSA.fasta\n/kaggle/input/stanford-rna-3d-folding/MSA/7LVA_A.MSA.fasta\n/kaggle/input/stanford-rna-3d-folding/MSA/3DEG_G.MSA.fasta\n/kaggle/input/stanford-rna-3d-folding/MSA/1NC0_A.MSA.fasta\n/kaggle/input/stanford-rna-3d-folding/MSA/2LHP_A.MSA.fasta\n/kaggle/input/stanford-rna-3d-folding/MSA/6S0X_a.MSA.fasta\n/kaggle/input/stanford-rna-3d-folding/MSA/7KUB_A.MSA.fasta\n/kaggle/input/stanford-rna-3d-folding/MSA/6HYK_A.MSA.fasta\n/kaggle/input/stanford-rna-3d-folding/MSA/4V7E_Ae.MSA.fasta\n/kaggle/input/stanford-rna-3d-folding/MSA/7XSN_N.MSA.fasta\n/kaggle/input/stanford-rna-3d-folding/MSA/3WFR_B.MSA.fasta\n/kaggle/input/stanford-rna-3d-folding/MSA/2B6G_B.MSA.fasta\n/kaggle/input/stanford-rna-3d-folding/MSA/1D6K_B.MSA.fasta\n/kaggle/input/stanford-rna-3d-folding/MSA/1HMH_E.MSA.fasta\n/kaggle/input/stanford-rna-3d-folding/MSA/9ENE_D.MSA.fasta\n/kaggle/input/stanford-rna-3d-folding/MSA/4V4N_A3.MSA.fasta\n/kaggle/input/stanford-rna-3d-folding/MSA/6W5C_B.MSA.fasta\n/kaggle/input/stanford-rna-3d-folding/MSA/6WW6_E.MSA.fasta\n/kaggle/input/stanford-rna-3d-folding/MSA/2IL9_M.MSA.fasta\n/kaggle/input/stanford-rna-3d-folding/MSA/1QZC_C.MSA.fasta\n/kaggle/input/stanford-rna-3d-folding/MSA/6O0Y_B.MSA.fasta\n/kaggle/input/stanford-rna-3d-folding/MSA/4C4Q_N.MSA.fasta\n/kaggle/input/stanford-rna-3d-folding/MSA/2MFE_D.MSA.fasta\n/kaggle/input/stanford-rna-3d-folding/MSA/6XZR_IN1.MSA.fasta\n/kaggle/input/stanford-rna-3d-folding/MSA/1MNX_A.MSA.fasta\n/kaggle/input/stanford-rna-3d-folding/MSA/2MF0_G.MSA.fasta\n/kaggle/input/stanford-rna-3d-folding/MSA/8SFJ_B.MSA.fasta\n/kaggle/input/stanford-rna-3d-folding/MSA/1SCL_A.MSA.fasta\n/kaggle/input/stanford-rna-3d-folding/MSA/2L5Z_A.MSA.fasta\n/kaggle/input/stanford-rna-3d-folding/MSA/8SCF_A.MSA.fasta\n/kaggle/input/stanford-rna-3d-folding/MSA/5MSF_S.MSA.fasta\n/kaggle/input/stanford-rna-3d-folding/MSA/2KOC_A.MSA.fasta\n/kaggle/input/stanford-rna-3d-folding/MSA/6VAR_A.MSA.fasta\n/kaggle/input/stanford-rna-3d-folding/MSA/4QIL_C.MSA.fasta\n/kaggle/input/stanford-rna-3d-folding/MSA/2ZJQ_Y.MSA.fasta\n/kaggle/input/stanford-rna-3d-folding/MSA/7RYG_B.MSA.fasta\n/kaggle/input/stanford-rna-3d-folding/MSA/2NR0_G.MSA.fasta\n/kaggle/input/stanford-rna-3d-folding/MSA/4V6W_A5.MSA.fasta\n/kaggle/input/stanford-rna-3d-folding/MSA/4V6W_BC.MSA.fasta\n/kaggle/input/stanford-rna-3d-folding/MSA/1ULL_A.MSA.fasta\n/kaggle/input/stanford-rna-3d-folding/MSA/2M4W_A.MSA.fasta\n/kaggle/input/stanford-rna-3d-folding/MSA/5MS0_R.MSA.fasta\n/kaggle/input/stanford-rna-3d-folding/MSA/1XSG_A.MSA.fasta\n/kaggle/input/stanford-rna-3d-folding/MSA/4WSA_V.MSA.fasta\n/kaggle/input/stanford-rna-3d-folding/MSA/R1126.MSA.fasta\n/kaggle/input/stanford-rna-3d-folding/MSA/7PTQ_C.MSA.fasta\n/kaggle/input/stanford-rna-3d-folding/MSA/6AEB_E.MSA.fasta\n/kaggle/input/stanford-rna-3d-folding/MSA/6RFL_U.MSA.fasta\n/kaggle/input/stanford-rna-3d-folding/MSA/2MI0_B.MSA.fasta\n/kaggle/input/stanford-rna-3d-folding/MSA/5MC6_BS.MSA.fasta\n/kaggle/input/stanford-rna-3d-folding/MSA/2F87_A.MSA.fasta\n/kaggle/input/stanford-rna-3d-folding/MSA/6AWC_A.MSA.fasta\n/kaggle/input/stanford-rna-3d-folding/MSA/2GRW_A.MSA.fasta\n/kaggle/input/stanford-rna-3d-folding/MSA/5V6X_D.MSA.fasta\n/kaggle/input/stanford-rna-3d-folding/MSA/8TOC_R.MSA.fasta\n/kaggle/input/stanford-rna-3d-folding/MSA/2KD8_A.MSA.fasta\n/kaggle/input/stanford-rna-3d-folding/MSA/4V7E_Aa.MSA.fasta\n/kaggle/input/stanford-rna-3d-folding/MSA/8T2P_A.MSA.fasta\n/kaggle/input/stanford-rna-3d-folding/MSA/2JYM_A.MSA.fasta\n/kaggle/input/stanford-rna-3d-folding/MSA/9ENC_D.MSA.fasta\n/kaggle/input/stanford-rna-3d-folding/MSA/2N2P_A.MSA.fasta\n/kaggle/input/stanford-rna-3d-folding/MSA/1BGZ_A.MSA.fasta\n/kaggle/input/stanford-rna-3d-folding/MSA/4A4U_A.MSA.fasta\n/kaggle/input/stanford-rna-3d-folding/MSA/8Z85_D.MSA.fasta\n/kaggle/input/stanford-rna-3d-folding/MSA/2OM7_A.MSA.fasta\n/kaggle/input/stanford-rna-3d-folding/MSA/8WT8_F.MSA.fasta\n/kaggle/input/stanford-rna-3d-folding/MSA/8C8X_B.MSA.fasta\n/kaggle/input/stanford-rna-3d-folding/MSA/6WLS_A.MSA.fasta\n/kaggle/input/stanford-rna-3d-folding/MSA/1EIY_C.MSA.fasta\n/kaggle/input/stanford-rna-3d-folding/MSA/1T28_A.MSA.fasta\n/kaggle/input/stanford-rna-3d-folding/MSA/7RQ5_A.MSA.fasta\n/kaggle/input/stanford-rna-3d-folding/MSA/7JRT_B.MSA.fasta\n/kaggle/input/stanford-rna-3d-folding/MSA/2A64_A.MSA.fasta\n/kaggle/input/stanford-rna-3d-folding/MSA/1ZC8_H.MSA.fasta\n/kaggle/input/stanford-rna-3d-folding/MSA/1YSV_A.MSA.fasta\n/kaggle/input/stanford-rna-3d-folding/MSA/2LBJ_A.MSA.fasta\n/kaggle/input/stanford-rna-3d-folding/MSA/1F84_A.MSA.fasta\n/kaggle/input/stanford-rna-3d-folding/MSA/8WT8_E.MSA.fasta\n/kaggle/input/stanford-rna-3d-folding/MSA/8WT7_E.MSA.fasta\n/kaggle/input/stanford-rna-3d-folding/MSA/1EKZ_B.MSA.fasta\n/kaggle/input/stanford-rna-3d-folding/MSA/2M5U_A.MSA.fasta\n/kaggle/input/stanford-rna-3d-folding/MSA/2D19_A.MSA.fasta\n/kaggle/input/stanford-rna-3d-folding/MSA/1HWQ_A.MSA.fasta\n/kaggle/input/stanford-rna-3d-folding/MSA/5GAP_U.MSA.fasta\n/kaggle/input/stanford-rna-3d-folding/MSA/7PTS_A.MSA.fasta\n/kaggle/input/stanford-rna-3d-folding/MSA/4TUA_XY.MSA.fasta\n/kaggle/input/stanford-rna-3d-folding/MSA/1A4T_A.MSA.fasta\n/kaggle/input/stanford-rna-3d-folding/MSA/4YVI_C.MSA.fasta\n/kaggle/input/stanford-rna-3d-folding/MSA/1IDV_A.MSA.fasta\n/kaggle/input/stanford-rna-3d-folding/MSA/6W64_B.MSA.fasta\n/kaggle/input/stanford-rna-3d-folding/MSA/1LDZ_A.MSA.fasta\n/kaggle/input/stanford-rna-3d-folding/MSA/1ESH_A.MSA.fasta\n/kaggle/input/stanford-rna-3d-folding/MSA/8YE6_C.MSA.fasta\n/kaggle/input/stanford-rna-3d-folding/MSA/4ILL_C.MSA.fasta\n/kaggle/input/stanford-rna-3d-folding/MSA/7UO0_C.MSA.fasta\n/kaggle/input/stanford-rna-3d-folding/MSA/8T2Y_tP.MSA.fasta\n/kaggle/input/stanford-rna-3d-folding/MSA/8T2P_B.MSA.fasta\n/kaggle/input/stanford-rna-3d-folding/MSA/2RO2_A.MSA.fasta\n/kaggle/input/stanford-rna-3d-folding/MSA/1A1T_B.MSA.fasta\n/kaggle/input/stanford-rna-3d-folding/MSA/4V5Z_BK.MSA.fasta\n/kaggle/input/stanford-rna-3d-folding/MSA/7D1A_A.MSA.fasta\n/kaggle/input/stanford-rna-3d-folding/MSA/8T2B_R.MSA.fasta\n/kaggle/input/stanford-rna-3d-folding/MSA/2KPD_A.MSA.fasta\n/kaggle/input/stanford-rna-3d-folding/MSA/2F4X_B.MSA.fasta\n/kaggle/input/stanford-rna-3d-folding/MSA/4V5Z_BH.MSA.fasta\n/kaggle/input/stanford-rna-3d-folding/MSA/1BIV_A.MSA.fasta\n/kaggle/input/stanford-rna-3d-folding/MSA/4V5Z_AF.MSA.fasta\n/kaggle/input/stanford-rna-3d-folding/MSA/7M57_cc.MSA.fasta\n/kaggle/input/stanford-rna-3d-folding/MSA/3WFQ_C.MSA.fasta\n/kaggle/input/stanford-rna-3d-folding/MSA/2PN9_A.MSA.fasta\n/kaggle/input/stanford-rna-3d-folding/MSA/1ZC8_F.MSA.fasta\n/kaggle/input/stanford-rna-3d-folding/MSA/3WQZ_C.MSA.fasta\n/kaggle/input/stanford-rna-3d-folding/MSA/5ELS_I.MSA.fasta\n/kaggle/input/stanford-rna-3d-folding/MSA/4V7E_Ac.MSA.fasta\n/kaggle/input/stanford-rna-3d-folding/MSA/6DTI_X.MSA.fasta\n/kaggle/input/stanford-rna-3d-folding/MSA/6ZVK_E1.MSA.fasta\n/kaggle/input/stanford-rna-3d-folding/MSA/8SFH_B.MSA.fasta\n/kaggle/input/stanford-rna-3d-folding/MSA/8EVQ_EC.MSA.fasta\n/kaggle/input/stanford-rna-3d-folding/MSA/6Y0C_IN1.MSA.fasta\n/kaggle/input/stanford-rna-3d-folding/MSA/2OM7_C.MSA.fasta\n/kaggle/input/stanford-rna-3d-folding/MSA/6XZD_IN1.MSA.fasta\n/kaggle/input/stanford-rna-3d-folding/MSA/5WQ1_A.MSA.fasta\n/kaggle/input/stanford-rna-3d-folding/MSA/2KMJ_A.MSA.fasta\n/kaggle/input/stanford-rna-3d-folding/MSA/8FZT_B.MSA.fasta\n/kaggle/input/stanford-rna-3d-folding/MSA/4V5Z_BQ.MSA.fasta\n/kaggle/input/stanford-rna-3d-folding/MSA/2N0R_A.MSA.fasta\n/kaggle/input/stanford-rna-3d-folding/MSA/1NA2_A.MSA.fasta\n/kaggle/input/stanford-rna-3d-folding/MSA/1OSW_A.MSA.fasta\n/kaggle/input/stanford-rna-3d-folding/MSA/6PK9_A.MSA.fasta\n/kaggle/input/stanford-rna-3d-folding/MSA/6POM_B.MSA.fasta\n/kaggle/input/stanford-rna-3d-folding/MSA/1CQ5_A.MSA.fasta\n/kaggle/input/stanford-rna-3d-folding/MSA/3DEG_K.MSA.fasta\n/kaggle/input/stanford-rna-3d-folding/MSA/6MCE_A.MSA.fasta\n/kaggle/input/stanford-rna-3d-folding/MSA/7S38_R.MSA.fasta\n/kaggle/input/stanford-rna-3d-folding/MSA/484D_B.MSA.fasta\n/kaggle/input/stanford-rna-3d-folding/MSA/2LU0_A.MSA.fasta\n/kaggle/input/stanford-rna-3d-folding/MSA/6V5B_D.MSA.fasta\n/kaggle/input/stanford-rna-3d-folding/MSA/2J37_A.MSA.fasta\n/kaggle/input/stanford-rna-3d-folding/MSA/8Z1G_T.MSA.fasta\n/kaggle/input/stanford-rna-3d-folding/MSA/2KZL_A.MSA.fasta\n/kaggle/input/stanford-rna-3d-folding/MSA/4WJ3_Q.MSA.fasta\n/kaggle/input/stanford-rna-3d-folding/MSA/6WLM_A.MSA.fasta\n/kaggle/input/stanford-rna-3d-folding/MSA/2NC1_A.MSA.fasta\n/kaggle/input/stanford-rna-3d-folding/MSA/R1190.MSA.fasta\n/kaggle/input/stanford-rna-3d-folding/MSA/1JZC_A.MSA.fasta\n/kaggle/input/stanford-rna-3d-folding/MSA/1JTW_A.MSA.fasta\n/kaggle/input/stanford-rna-3d-folding/MSA/8XPP_B.MSA.fasta\n/kaggle/input/stanford-rna-3d-folding/MSA/2GO5_A.MSA.fasta\n/kaggle/input/stanford-rna-3d-folding/MSA/2DER_D.MSA.fasta\n/kaggle/input/stanford-rna-3d-folding/MSA/2HNS_A.MSA.fasta\n/kaggle/input/stanford-rna-3d-folding/MSA/1Z31_A.MSA.fasta\n/kaggle/input/stanford-rna-3d-folding/MSA/7OZS_3.MSA.fasta\n/kaggle/input/stanford-rna-3d-folding/MSA/2LPA_A.MSA.fasta\n/kaggle/input/stanford-rna-3d-folding/MSA/2N6S_A.MSA.fasta\n/kaggle/input/stanford-rna-3d-folding/MSA/3EP2_B.MSA.fasta\n/kaggle/input/stanford-rna-3d-folding/MSA/1ZC5_A.MSA.fasta\n/kaggle/input/stanford-rna-3d-folding/MSA/7U2A_C.MSA.fasta\n/kaggle/input/stanford-rna-3d-folding/MSA/3IYR_A.MSA.fasta\n/kaggle/input/stanford-rna-3d-folding/MSA/1ZC8_J.MSA.fasta\n/kaggle/input/stanford-rna-3d-folding/MSA/1KPD_A.MSA.fasta\n/kaggle/input/stanford-rna-3d-folding/MSA/3IZD_A.MSA.fasta\n/kaggle/input/stanford-rna-3d-folding/MSA/1E95_A.MSA.fasta\n/kaggle/input/stanford-rna-3d-folding/MSA/8QO2_A.MSA.fasta\n/kaggle/input/stanford-rna-3d-folding/MSA/6GBM_A.MSA.fasta\n/kaggle/input/stanford-rna-3d-folding/MSA/2DU4_C.MSA.fasta\n/kaggle/input/stanford-rna-3d-folding/MSA/6WB1_C.MSA.fasta\n/kaggle/input/stanford-rna-3d-folding/MSA/2JTP_A.MSA.fasta\n/kaggle/input/stanford-rna-3d-folding/MSA/1ESY_A.MSA.fasta\n/kaggle/input/stanford-rna-3d-folding/MSA/5ZAL_C.MSA.fasta\n/kaggle/input/stanford-rna-3d-folding/MSA/2IZ8_R.MSA.fasta\n/kaggle/input/stanford-rna-3d-folding/MSA/R1116.MSA.fasta\n/kaggle/input/stanford-rna-3d-folding/MSA/2LA5_A.MSA.fasta\n/kaggle/input/stanford-rna-3d-folding/MSA/8CQ1_A.MSA.fasta\n/kaggle/input/stanford-rna-3d-folding/MSA/6OPE_XY.MSA.fasta\n/kaggle/input/stanford-rna-3d-folding/MSA/4TZV_B.MSA.fasta\n/kaggle/input/stanford-rna-3d-folding/MSA/5LSN_A.MSA.fasta\n/kaggle/input/stanford-rna-3d-folding/MSA/4V6U_B1.MSA.fasta\n/kaggle/input/stanford-rna-3d-folding/MSA/5EPI_H.MSA.fasta\n/kaggle/input/stanford-rna-3d-folding/MSA/2LV0_A.MSA.fasta\n/kaggle/input/stanford-rna-3d-folding/MSA/8DK7_C.MSA.fasta\n/kaggle/input/stanford-rna-3d-folding/MSA/2LJJ_A.MSA.fasta\n/kaggle/input/stanford-rna-3d-folding/MSA/2NR0_H.MSA.fasta\n/kaggle/input/stanford-rna-3d-folding/MSA/2BQ5_R.MSA.fasta\n/kaggle/input/stanford-rna-3d-folding/MSA/4X0A_B.MSA.fasta\n/kaggle/input/stanford-rna-3d-folding/MSA/4X4P_B.MSA.fasta\n/kaggle/input/stanford-rna-3d-folding/MSA/1F5U_B.MSA.fasta\n/kaggle/input/stanford-rna-3d-folding/MSA/3EQ3_E.MSA.fasta\n/kaggle/input/stanford-rna-3d-folding/MSA/4Z7L_F.MSA.fasta\n/kaggle/input/stanford-rna-3d-folding/MSA/1Z30_A.MSA.fasta\n/kaggle/input/stanford-rna-3d-folding/MSA/4V5Z_AH.MSA.fasta\n/kaggle/input/stanford-rna-3d-folding/MSA/4WZJ_VV.MSA.fasta\n/kaggle/input/stanford-rna-3d-folding/MSA/2LQZ_A.MSA.fasta\n/kaggle/input/stanford-rna-3d-folding/MSA/6IFO_D.MSA.fasta\n/kaggle/input/stanford-rna-3d-folding/MSA/7M5O_B.MSA.fasta\n/kaggle/input/stanford-rna-3d-folding/MSA/2QH4_A.MSA.fasta\n/kaggle/input/stanford-rna-3d-folding/MSA/1ATV_A.MSA.fasta\n/kaggle/input/stanford-rna-3d-folding/MSA/6K4S_A.MSA.fasta\n/kaggle/input/stanford-rna-3d-folding/MSA/1MFK_A.MSA.fasta\n/kaggle/input/stanford-rna-3d-folding/MSA/6RR7_D.MSA.fasta\n/kaggle/input/stanford-rna-3d-folding/MSA/6AGB_A.MSA.fasta\n/kaggle/input/stanford-rna-3d-folding/MSA/6HYU_D.MSA.fasta\n/kaggle/input/stanford-rna-3d-folding/MSA/6WPI_C.MSA.fasta\n/kaggle/input/stanford-rna-3d-folding/MSA/R1117v2.MSA.fasta\n/kaggle/input/stanford-rna-3d-folding/MSA/2IXZ_A.MSA.fasta\n/kaggle/input/stanford-rna-3d-folding/MSA/2GO5_9.MSA.fasta\n/kaggle/input/stanford-rna-3d-folding/MSA/3WC1_Q.MSA.fasta\n/kaggle/input/stanford-rna-3d-folding/MSA/2N3Q_A.MSA.fasta\n/kaggle/input/stanford-rna-3d-folding/MSA/3DKN_E.MSA.fasta\n/kaggle/input/stanford-rna-3d-folding/MSA/1RNK_A.MSA.fasta\n/kaggle/input/stanford-rna-3d-folding/MSA/3J8G_B.MSA.fasta\n/kaggle/input/stanford-rna-3d-folding/MSA/2HUA_A.MSA.fasta\n/kaggle/input/stanford-rna-3d-folding/MSA/1ZC8_I.MSA.fasta\n/kaggle/input/stanford-rna-3d-folding/MSA/8OST_C.MSA.fasta\n/kaggle/input/stanford-rna-3d-folding/MSA/6VZC_A.MSA.fasta\n/kaggle/input/stanford-rna-3d-folding/MSA/1FHK_A.MSA.fasta\n/kaggle/input/stanford-rna-3d-folding/MSA/7ZRZ_ZN1.MSA.fasta\n/kaggle/input/stanford-rna-3d-folding/MSA/4V4G_CA.MSA.fasta\n/kaggle/input/stanford-rna-3d-folding/MSA/7QDU_Q.MSA.fasta\n/kaggle/input/stanford-rna-3d-folding/MSA/7LJY_B.MSA.fasta\n/kaggle/input/stanford-rna-3d-folding/MSA/7KUC_A.MSA.fasta\n/kaggle/input/stanford-rna-3d-folding/MSA/7LYT_B.MSA.fasta\n/kaggle/input/stanford-rna-3d-folding/MSA/1L1C_C.MSA.fasta\n/kaggle/input/stanford-rna-3d-folding/MSA/5O7H_A.MSA.fasta\n/kaggle/input/stanford-rna-3d-folding/MSA/8UO6_B.MSA.fasta\n/kaggle/input/stanford-rna-3d-folding/MSA/8EXY_R.MSA.fasta\n/kaggle/input/stanford-rna-3d-folding/MSA/8KAG_A.MSA.fasta\n/kaggle/input/stanford-rna-3d-folding/MSA/7VW3_B.MSA.fasta\n/kaggle/input/stanford-rna-3d-folding/MSA/3JB9_C.MSA.fasta\n/kaggle/input/stanford-rna-3d-folding/MSA/3J8G_A.MSA.fasta\n/kaggle/input/stanford-rna-3d-folding/MSA/1R2P_A.MSA.fasta\n/kaggle/input/stanford-rna-3d-folding/MSA/2MFD_A.MSA.fasta\n/kaggle/input/stanford-rna-3d-folding/MSA/8SFN_B.MSA.fasta\n/kaggle/input/stanford-rna-3d-folding/MSA/2U2A_A.MSA.fasta\n/kaggle/input/stanford-rna-3d-folding/MSA/R1128.MSA.fasta\n/kaggle/input/stanford-rna-3d-folding/MSA/2LDT_A.MSA.fasta\n/kaggle/input/stanford-rna-3d-folding/MSA/3EQ4_A.MSA.fasta\n/kaggle/input/stanford-rna-3d-folding/MSA/6ORD_QY.MSA.fasta\n/kaggle/input/stanford-rna-3d-folding/MSA/3J6B_e.MSA.fasta\n/kaggle/input/stanford-rna-3d-folding/MSA/2BS0_R.MSA.fasta\n/kaggle/input/stanford-rna-3d-folding/MSA/6UES_A.MSA.fasta\n/kaggle/input/stanford-rna-3d-folding/MSA/1MFY_A.MSA.fasta\n/kaggle/input/stanford-rna-3d-folding/MSA/8AW3_1.MSA.fasta\n/kaggle/input/stanford-rna-3d-folding/MSA/6W62_B.MSA.fasta\n/kaggle/input/stanford-rna-3d-folding/MSA/6WD2_1.MSA.fasta\n/kaggle/input/stanford-rna-3d-folding/MSA/3J3V_B.MSA.fasta\n/kaggle/input/stanford-rna-3d-folding/MSA/3NDB_M.MSA.fasta\n/kaggle/input/stanford-rna-3d-folding/MSA/1A9N_Q.MSA.fasta\n/kaggle/input/stanford-rna-3d-folding/MSA/1KIS_B.MSA.fasta\n/kaggle/input/stanford-rna-3d-folding/MSA/1XSH_A.MSA.fasta\n/kaggle/input/stanford-rna-3d-folding/MSA/6AHU_T.MSA.fasta\n/kaggle/input/stanford-rna-3d-folding/MSA/8TVZ_C.MSA.fasta\n/kaggle/input/stanford-rna-3d-folding/MSA/2LK3_A.MSA.fasta\n/kaggle/input/stanford-rna-3d-folding/MSA/1AFX_A.MSA.fasta\n/kaggle/input/stanford-rna-3d-folding/MSA/4KJI_D.MSA.fasta\n/kaggle/input/stanford-rna-3d-folding/MSA/4V7E_Ad.MSA.fasta\n/kaggle/input/stanford-rna-3d-folding/MSA/1SLO_A.MSA.fasta\n/kaggle/input/stanford-rna-3d-folding/MSA/1KP7_A.MSA.fasta\n/kaggle/input/stanford-rna-3d-folding/MSA/2BJ2_B.MSA.fasta\n/kaggle/input/stanford-rna-3d-folding/MSA/1MFJ_A.MSA.fasta\n/kaggle/input/stanford-rna-3d-folding/MSA/4A4T_A.MSA.fasta\n/kaggle/input/stanford-rna-3d-folding/MSA/8WT6_E.MSA.fasta\n/kaggle/input/stanford-rna-3d-folding/MSA/5KMZ_A.MSA.fasta\n/kaggle/input/stanford-rna-3d-folding/MSA/2B2E_S.MSA.fasta\n/kaggle/input/stanford-rna-3d-folding/MSA/1QC8_A.MSA.fasta\n/kaggle/input/stanford-rna-3d-folding/MSA/8Z1F_T.MSA.fasta\n/kaggle/input/stanford-rna-3d-folding/MSA/8SA6_A.MSA.fasta\n/kaggle/input/stanford-rna-3d-folding/MSA/1QWA_A.MSA.fasta\n/kaggle/input/stanford-rna-3d-folding/MSA/5XJ2_G.MSA.fasta\n/kaggle/input/stanford-rna-3d-folding/MSA/7X34_3.MSA.fasta\n/kaggle/input/stanford-rna-3d-folding/MSA/2MXJ_A.MSA.fasta\n/kaggle/input/stanford-rna-3d-folding/MSA/7K4L_A.MSA.fasta\n/kaggle/input/stanford-rna-3d-folding/MSA/8E29_B.MSA.fasta\n/kaggle/input/stanford-rna-3d-folding/MSA/2DR2_B.MSA.fasta\n/kaggle/input/stanford-rna-3d-folding/MSA/6XWJ_A.MSA.fasta\n/kaggle/input/stanford-rna-3d-folding/MSA/5UZT_A.MSA.fasta\n/kaggle/input/stanford-rna-3d-folding/MSA/1HS4_A.MSA.fasta\n/kaggle/input/stanford-rna-3d-folding/MSA/4A4S_A.MSA.fasta\n/kaggle/input/stanford-rna-3d-folding/MSA/1EUQ_B.MSA.fasta\n/kaggle/input/stanford-rna-3d-folding/MSA/1A51_A.MSA.fasta\n/kaggle/input/stanford-rna-3d-folding/MSA/3DEG_I.MSA.fasta\n/kaggle/input/stanford-rna-3d-folding/MSA/2GIP_A.MSA.fasta\n/kaggle/input/stanford-rna-3d-folding/MSA/2B2E_R.MSA.fasta\n/kaggle/input/stanford-rna-3d-folding/MSA/5ZAM_C.MSA.fasta\n/kaggle/input/stanford-rna-3d-folding/MSA/2NBX_A.MSA.fasta\n/kaggle/input/stanford-rna-3d-folding/MSA/1EBR_A.MSA.fasta\n/kaggle/input/stanford-rna-3d-folding/MSA/6OJ2_QW.MSA.fasta\n/kaggle/input/stanford-rna-3d-folding/MSA/2MXL_A.MSA.fasta\n/kaggle/input/stanford-rna-3d-folding/MSA/7UVT_A.MSA.fasta\n/kaggle/input/stanford-rna-3d-folding/MSA/1TJZ_A.MSA.fasta\n/kaggle/input/stanford-rna-3d-folding/MSA/4X0B_B.MSA.fasta\n/kaggle/input/stanford-rna-3d-folding/MSA/1S9S_A.MSA.fasta\n/kaggle/input/stanford-rna-3d-folding/MSA/3EP2_D.MSA.fasta\n/kaggle/input/stanford-rna-3d-folding/MSA/6MJ0_B.MSA.fasta\n/kaggle/input/stanford-rna-3d-folding/MSA/4P8Z_A.MSA.fasta\n/kaggle/input/stanford-rna-3d-folding/MSA/2N7M_X.MSA.fasta\n/kaggle/input/stanford-rna-3d-folding/MSA/2N6T_A.MSA.fasta\n/kaggle/input/stanford-rna-3d-folding/MSA/2EUY_A.MSA.fasta\n/kaggle/input/stanford-rna-3d-folding/MSA/1QZA_B.MSA.fasta\n/kaggle/input/stanford-rna-3d-folding/MSA/8SFL_B.MSA.fasta\n/kaggle/input/stanford-rna-3d-folding/MSA/8D4A_B.MSA.fasta\n/kaggle/input/stanford-rna-3d-folding/MSA/1U63_D.MSA.fasta\n/kaggle/input/stanford-rna-3d-folding/MSA/1K2G_A.MSA.fasta\n/kaggle/input/stanford-rna-3d-folding/MSA/8UAU_R.MSA.fasta\n/kaggle/input/stanford-rna-3d-folding/MSA/8D49_B.MSA.fasta\n/kaggle/input/stanford-rna-3d-folding/MSA/6Z6B_UUU.MSA.fasta\n/kaggle/input/stanford-rna-3d-folding/MSA/1RFR_A.MSA.fasta\n/kaggle/input/stanford-rna-3d-folding/MSA/6K3Z_A.MSA.fasta\n/kaggle/input/stanford-rna-3d-folding/MSA/8SFI_B.MSA.fasta\n/kaggle/input/stanford-rna-3d-folding/MSA/1FYO_A.MSA.fasta\n/kaggle/input/stanford-rna-3d-folding/MSA/3EQ3_Y.MSA.fasta\n/kaggle/input/stanford-rna-3d-folding/MSA/7V59_C.MSA.fasta\n/kaggle/input/stanford-rna-3d-folding/MSA/R1189.MSA.fasta\n/kaggle/input/stanford-rna-3d-folding/MSA/1OQ0_A.MSA.fasta\n/kaggle/input/stanford-rna-3d-folding/MSA/4KR6_D.MSA.fasta\n/kaggle/input/stanford-rna-3d-folding/MSA/2KPC_A.MSA.fasta\n/kaggle/input/stanford-rna-3d-folding/MSA/2N2O_A.MSA.fasta\n/kaggle/input/stanford-rna-3d-folding/MSA/8XCC_B.MSA.fasta\n/kaggle/input/stanford-rna-3d-folding/MSA/1OW9_A.MSA.fasta\n/kaggle/input/stanford-rna-3d-folding/MSA/2LC8_A.MSA.fasta\n/kaggle/input/stanford-rna-3d-folding/MSA/6S0Z_B.MSA.fasta\n/kaggle/input/stanford-rna-3d-folding/MSA/2N6X_A.MSA.fasta\n/kaggle/input/stanford-rna-3d-folding/MSA/2QH2_A.MSA.fasta\n/kaggle/input/stanford-rna-3d-folding/MSA/4V5Z_BC.MSA.fasta\n/kaggle/input/stanford-rna-3d-folding/MSA/2JXV_A.MSA.fasta\n/kaggle/input/stanford-rna-3d-folding/MSA/28SP_A.MSA.fasta\n/kaggle/input/stanford-rna-3d-folding/MSA/1WKS_A.MSA.fasta\n/kaggle/input/stanford-rna-3d-folding/MSA/1ZIH_A.MSA.fasta\n/kaggle/input/stanford-rna-3d-folding/MSA/4V5Z_BM.MSA.fasta\n/kaggle/input/stanford-rna-3d-folding/MSA/2NR0_F.MSA.fasta\n/kaggle/input/stanford-rna-3d-folding/MSA/2LUB_A.MSA.fasta\n/kaggle/input/stanford-rna-3d-folding/MSA/4V5F_CA.MSA.fasta\n/kaggle/input/stanford-rna-3d-folding/MSA/6NDK_XY.MSA.fasta\n/kaggle/input/stanford-rna-3d-folding/MSA/2NBZ_A.MSA.fasta\n/kaggle/input/stanford-rna-3d-folding/MSA/2KHY_A.MSA.fasta\n/kaggle/input/stanford-rna-3d-folding/MSA/8IDF_B.MSA.fasta\n/kaggle/input/stanford-rna-3d-folding/MSA/7LMA_B.MSA.fasta\n/kaggle/input/stanford-rna-3d-folding/MSA/2N1Q_A.MSA.fasta\n/kaggle/input/stanford-rna-3d-folding/MSA/1IKD_A.MSA.fasta\n/kaggle/input/stanford-rna-3d-folding/MSA/8I0P_F.MSA.fasta\n/kaggle/input/stanford-rna-3d-folding/MSA/6O0Z_B.MSA.fasta\n/kaggle/input/stanford-rna-3d-folding/MSA/2FY1_B.MSA.fasta\n/kaggle/input/stanford-rna-3d-folding/MSA/4V4V_B0.MSA.fasta\n/kaggle/input/stanford-rna-3d-folding/MSA/9FO9_A.MSA.fasta\n/kaggle/input/stanford-rna-3d-folding/MSA/4V5Z_BP.MSA.fasta\n/kaggle/input/stanford-rna-3d-folding/MSA/3DKN_F.MSA.fasta\n/kaggle/input/stanford-rna-3d-folding/MSA/7UR5_y.MSA.fasta\n/kaggle/input/stanford-rna-3d-folding/MSA/2HGH_B.MSA.fasta\n/kaggle/input/stanford-rna-3d-folding/MSA/6WLO_A.MSA.fasta\n/kaggle/input/stanford-rna-3d-folding/MSA/6C66_J.MSA.fasta\n/kaggle/input/stanford-rna-3d-folding/MSA/5IEM_A.MSA.fasta\n/kaggle/input/stanford-rna-3d-folding/MSA/1P5M_A.MSA.fasta\n/kaggle/input/stanford-rna-3d-folding/MSA/1K6G_A.MSA.fasta\n/kaggle/input/stanford-rna-3d-folding/MSA/7DD4_A.MSA.fasta\n/kaggle/input/stanford-rna-3d-folding/MSA/1N34_A.MSA.fasta\n/kaggle/input/stanford-rna-3d-folding/MSA/1JTJ_A.MSA.fasta\n/kaggle/input/stanford-rna-3d-folding/MSA/1I46_A.MSA.fasta\n/kaggle/input/stanford-rna-3d-folding/MSA/1F85_A.MSA.fasta\n/kaggle/input/stanford-rna-3d-folding/MSA/7NQ4_C.MSA.fasta\n/kaggle/input/stanford-rna-3d-folding/MSA/6BZ8_XY.MSA.fasta\n/kaggle/input/stanford-rna-3d-folding/MSA/9G7C_A.MSA.fasta\n/kaggle/input/stanford-rna-3d-folding/MSA/2OM7_H.MSA.fasta\n/kaggle/input/stanford-rna-3d-folding/MSA/1KKS_A.MSA.fasta\n/kaggle/input/stanford-rna-3d-folding/MSA/6KUV_V.MSA.fasta\n/kaggle/input/stanford-rna-3d-folding/MSA/2IY3_B.MSA.fasta\n/kaggle/input/stanford-rna-3d-folding/MSA/4V6X_A5.MSA.fasta\n/kaggle/input/stanford-rna-3d-folding/MSA/2L3J_B.MSA.fasta\n/kaggle/input/stanford-rna-3d-folding/MSA/6WLN_A.MSA.fasta\n/kaggle/input/stanford-rna-3d-folding/MSA/R1107.MSA.fasta\n/kaggle/input/stanford-rna-3d-folding/MSA/6ZDU_C.MSA.fasta\n/kaggle/input/stanford-rna-3d-folding/MSA/2OB7_D.MSA.fasta\n/kaggle/input/stanford-rna-3d-folding/MSA/3WC2_Q.MSA.fasta\n/kaggle/input/stanford-rna-3d-folding/MSA/2LBK_A.MSA.fasta\n/kaggle/input/stanford-rna-3d-folding/MSA/6K0A_X.MSA.fasta\n/kaggle/input/stanford-rna-3d-folding/MSA/6QW6_5.MSA.fasta\n/kaggle/input/stanford-rna-3d-folding/MSA/2KUV_A.MSA.fasta\n/kaggle/input/stanford-rna-3d-folding/MSA/3DEG_E.MSA.fasta\n/kaggle/input/stanford-rna-3d-folding/MSA/2AKE_B.MSA.fasta\n/kaggle/input/stanford-rna-3d-folding/MSA/1M82_A.MSA.fasta\n/kaggle/input/stanford-rna-3d-folding/MSA/2RN1_B.MSA.fasta\n/kaggle/input/stanford-rna-3d-folding/MSA/4V6W_B2.MSA.fasta\n/kaggle/input/stanford-rna-3d-folding/MSA/4V8J_CW.MSA.fasta\n/kaggle/input/stanford-rna-3d-folding/MSA/7YR7_A.MSA.fasta\n/kaggle/input/stanford-rna-3d-folding/MSA/8KDA_O.MSA.fasta\n/kaggle/input/stanford-rna-3d-folding/MSA/4V6X_A8.MSA.fasta\n/kaggle/input/stanford-rna-3d-folding/MSA/2X7N_A.MSA.fasta\n/kaggle/input/stanford-rna-3d-folding/MSA/8VCI_A.MSA.fasta\n/kaggle/input/stanford-rna-3d-folding/MSA/4D5N_X.MSA.fasta\n/kaggle/input/stanford-rna-3d-folding/MSA/1Z2J_A.MSA.fasta\n/kaggle/input/stanford-rna-3d-folding/MSA/1HS3_A.MSA.fasta\n/kaggle/input/stanford-rna-3d-folding/MSA/2PCW_A.MSA.fasta\n/kaggle/input/stanford-rna-3d-folding/MSA/2NOQ_E.MSA.fasta\n/kaggle/input/stanford-rna-3d-folding/MSA/7OBQ_1.MSA.fasta\n/kaggle/input/stanford-rna-3d-folding/MSA/2GV3_A.MSA.fasta\n/kaggle/input/stanford-rna-3d-folding/MSA/2R1G_F.MSA.fasta\n/kaggle/input/stanford-rna-3d-folding/MSA/4V6X_BC.MSA.fasta\n/kaggle/input/stanford-rna-3d-folding/MSA/1ROQ_A.MSA.fasta\n/kaggle/input/stanford-rna-3d-folding/MSA/8BD5_B.MSA.fasta\n/kaggle/input/stanford-rna-3d-folding/MSA/1ZDK_S.MSA.fasta\n/kaggle/input/stanford-rna-3d-folding/MSA/8UYS_A.MSA.fasta\n/kaggle/input/stanford-rna-3d-folding/MSA/1XHP_A.MSA.fasta\n/kaggle/input/stanford-rna-3d-folding/MSA/2D1B_B.MSA.fasta\n/kaggle/input/stanford-rna-3d-folding/MSA/1N66_A.MSA.fasta\n/kaggle/input/stanford-rna-3d-folding/MSA/8C98_A.MSA.fasta\n/kaggle/input/stanford-rna-3d-folding/MSA/2HEM_A.MSA.fasta\n/kaggle/input/stanford-rna-3d-folding/MSA/8OMR_C.MSA.fasta\n/kaggle/input/stanford-rna-3d-folding/MSA/7V06_A.MSA.fasta\n/kaggle/input/stanford-rna-3d-folding/MSA/1JWC_A.MSA.fasta\n/kaggle/input/stanford-rna-3d-folding/MSA/4TUC_QY.MSA.fasta\n/kaggle/input/stanford-rna-3d-folding/MSA/2KVN_A.MSA.fasta\n/kaggle/input/stanford-rna-3d-folding/MSA/3WC2_P.MSA.fasta\n/kaggle/input/stanford-rna-3d-folding/MSA/8P0B_V.MSA.fasta\n/kaggle/input/stanford-rna-3d-folding/MSA/2IZM_S.MSA.fasta\n/kaggle/input/stanford-rna-3d-folding/MSA/5KQE_A.MSA.fasta\n/kaggle/input/stanford-rna-3d-folding/MSA/R1149.MSA.fasta\n/kaggle/input/stanford-rna-3d-folding/MSA/3PIP_Y.MSA.fasta\n/kaggle/input/stanford-rna-3d-folding/MSA/1R7Z_A.MSA.fasta\n/kaggle/input/stanford-rna-3d-folding/MSA/R1136.MSA.fasta\n/kaggle/input/stanford-rna-3d-folding/MSA/1K9W_A.MSA.fasta\n/kaggle/input/stanford-rna-3d-folding/MSA/2F88_A.MSA.fasta\n/kaggle/input/stanford-rna-3d-folding/MSA/6AAX_D.MSA.fasta\n/kaggle/input/stanford-rna-3d-folding/MSA/8SCH_A.MSA.fasta\n",
          "output_type": "stream"
        }
      ],
      "execution_count": null
    },
    {
      "cell_type": "code",
      "source": [
        "pip install kaggle"
      ],
      "metadata": {
        "trusted": true,
        "execution": {
          "iopub.status.busy": "2025-05-07T12:43:20.964201Z",
          "iopub.execute_input": "2025-05-07T12:43:20.964524Z",
          "iopub.status.idle": "2025-05-07T12:43:25.711837Z",
          "shell.execute_reply.started": "2025-05-07T12:43:20.964495Z",
          "shell.execute_reply": "2025-05-07T12:43:25.710819Z"
        },
        "id": "wEdxz8TK33wS",
        "outputId": "6163e845-bf41-48d5-86bb-cb861a090a02"
      },
      "outputs": [
        {
          "name": "stdout",
          "text": "Requirement already satisfied: kaggle in /usr/local/lib/python3.11/dist-packages (1.7.4.2)\nRequirement already satisfied: bleach in /usr/local/lib/python3.11/dist-packages (from kaggle) (6.2.0)\nRequirement already satisfied: certifi>=14.05.14 in /usr/local/lib/python3.11/dist-packages (from kaggle) (2025.1.31)\nRequirement already satisfied: charset-normalizer in /usr/local/lib/python3.11/dist-packages (from kaggle) (3.4.1)\nRequirement already satisfied: idna in /usr/local/lib/python3.11/dist-packages (from kaggle) (3.10)\nRequirement already satisfied: protobuf in /usr/local/lib/python3.11/dist-packages (from kaggle) (3.20.3)\nRequirement already satisfied: python-dateutil>=2.5.3 in /usr/local/lib/python3.11/dist-packages (from kaggle) (2.9.0.post0)\nRequirement already satisfied: python-slugify in /usr/local/lib/python3.11/dist-packages (from kaggle) (8.0.4)\nRequirement already satisfied: requests in /usr/local/lib/python3.11/dist-packages (from kaggle) (2.32.3)\nRequirement already satisfied: setuptools>=21.0.0 in /usr/local/lib/python3.11/dist-packages (from kaggle) (75.1.0)\nRequirement already satisfied: six>=1.10 in /usr/local/lib/python3.11/dist-packages (from kaggle) (1.17.0)\nRequirement already satisfied: text-unidecode in /usr/local/lib/python3.11/dist-packages (from kaggle) (1.3)\nRequirement already satisfied: tqdm in /usr/local/lib/python3.11/dist-packages (from kaggle) (4.67.1)\nRequirement already satisfied: urllib3>=1.15.1 in /usr/local/lib/python3.11/dist-packages (from kaggle) (2.3.0)\nRequirement already satisfied: webencodings in /usr/local/lib/python3.11/dist-packages (from kaggle) (0.5.1)\nNote: you may need to restart the kernel to use updated packages.\n",
          "output_type": "stream"
        }
      ],
      "execution_count": null
    },
    {
      "cell_type": "code",
      "source": [
        "!kaggle competitions list"
      ],
      "metadata": {
        "trusted": true,
        "execution": {
          "iopub.status.busy": "2025-05-07T12:43:25.713071Z",
          "iopub.execute_input": "2025-05-07T12:43:25.713433Z",
          "iopub.status.idle": "2025-05-07T12:43:26.688082Z",
          "shell.execute_reply.started": "2025-05-07T12:43:25.713366Z",
          "shell.execute_reply": "2025-05-07T12:43:26.687188Z"
        },
        "id": "3tgok0Yg33wT",
        "outputId": "3458cbd6-d620-4bb6-d6b3-acc0bb134c04"
      },
      "outputs": [
        {
          "name": "stdout",
          "text": "Traceback (most recent call last):\n  File \"/usr/local/bin/kaggle\", line 4, in <module>\n    from kaggle.cli import main\n  File \"/usr/local/lib/python3.11/dist-packages/kaggle/__init__.py\", line 6, in <module>\n    api.authenticate()\n  File \"/usr/local/lib/python3.11/dist-packages/kaggle/api/kaggle_api_extended.py\", line 433, in authenticate\n    raise IOError('Could not find {}. Make sure it\\'s located in'\nOSError: Could not find kaggle.json. Make sure it's located in /root/.config/kaggle. Or use the environment method. See setup instructions at https://github.com/Kaggle/kaggle-api/\n",
          "output_type": "stream"
        }
      ],
      "execution_count": null
    },
    {
      "cell_type": "code",
      "source": [
        "!kaggle competitions download -c stanford-rna-3d-folding"
      ],
      "metadata": {
        "trusted": true,
        "execution": {
          "iopub.status.busy": "2025-05-07T12:43:26.689245Z",
          "iopub.execute_input": "2025-05-07T12:43:26.689551Z",
          "iopub.status.idle": "2025-05-07T12:43:27.23426Z",
          "shell.execute_reply.started": "2025-05-07T12:43:26.689521Z",
          "shell.execute_reply": "2025-05-07T12:43:27.233227Z"
        },
        "id": "FERQOzHF33wU",
        "outputId": "73a9aed0-2e23-4b50-9f16-330a7b054ad3"
      },
      "outputs": [
        {
          "name": "stdout",
          "text": "Traceback (most recent call last):\n  File \"/usr/local/bin/kaggle\", line 4, in <module>\n    from kaggle.cli import main\n  File \"/usr/local/lib/python3.11/dist-packages/kaggle/__init__.py\", line 6, in <module>\n    api.authenticate()\n  File \"/usr/local/lib/python3.11/dist-packages/kaggle/api/kaggle_api_extended.py\", line 433, in authenticate\n    raise IOError('Could not find {}. Make sure it\\'s located in'\nOSError: Could not find kaggle.json. Make sure it's located in /root/.config/kaggle. Or use the environment method. See setup instructions at https://github.com/Kaggle/kaggle-api/\n",
          "output_type": "stream"
        }
      ],
      "execution_count": null
    },
    {
      "cell_type": "code",
      "source": [
        "!unzip stanford-rna-3d-folding.zip -d ./rna3d_data"
      ],
      "metadata": {
        "trusted": true,
        "execution": {
          "iopub.status.busy": "2025-05-07T12:43:27.237364Z",
          "iopub.execute_input": "2025-05-07T12:43:27.237645Z",
          "iopub.status.idle": "2025-05-07T12:43:27.396879Z",
          "shell.execute_reply.started": "2025-05-07T12:43:27.237621Z",
          "shell.execute_reply": "2025-05-07T12:43:27.395792Z"
        },
        "id": "IYS4WkTR33wV",
        "outputId": "3ebed917-4cfd-4651-99d8-002a4534b90e"
      },
      "outputs": [
        {
          "name": "stdout",
          "text": "unzip:  cannot find or open stanford-rna-3d-folding.zip, stanford-rna-3d-folding.zip.zip or stanford-rna-3d-folding.zip.ZIP.\n",
          "output_type": "stream"
        }
      ],
      "execution_count": null
    },
    {
      "cell_type": "code",
      "source": [
        "import pandas as pd\n",
        "import os\n",
        "\n",
        "base_path = \"/kaggle/input/stanford-rna-3d-folding\"\n",
        "file_list = os.listdir(base_path)\n",
        "\n",
        "for file in file_list:\n",
        "    file_path = os.path.join(base_path, file)\n",
        "    if file.endswith(\".csv\"):\n",
        "        df = pd.read_csv(file_path)\n",
        "        print(f\"{file}: {df.shape[0]:,} rows, {df.shape[1]} columns\")\n",
        "    else:\n",
        "        print(f\"{file}: (디렉토리 또는 기타 파일)\")\n"
      ],
      "metadata": {
        "trusted": true,
        "execution": {
          "iopub.status.busy": "2025-05-07T12:43:27.398223Z",
          "iopub.execute_input": "2025-05-07T12:43:27.398572Z",
          "iopub.status.idle": "2025-05-07T12:43:33.525406Z",
          "shell.execute_reply.started": "2025-05-07T12:43:27.398535Z",
          "shell.execute_reply": "2025-05-07T12:43:33.524627Z"
        },
        "id": "_FuKTgaL33wV",
        "outputId": "f09c6b9b-e227-41ed-f8ba-aba828dce5fd"
      },
      "outputs": [
        {
          "name": "stdout",
          "text": "MSA: (디렉토리 또는 기타 파일)\nsample_submission.csv: 2,515 rows, 18 columns\nvalidation_sequences.csv: 12 rows, 5 columns\ntest_sequences.csv: 12 rows, 5 columns\ntrain_labels.v2.csv: 3,677,095 rows, 6 columns\nvalidation_labels.csv: 2,515 rows, 123 columns\ntrain_labels.csv: 137,095 rows, 6 columns\ntrain_sequences.csv: 844 rows, 5 columns\ntrain_sequences.v2.csv: 5,135 rows, 5 columns\n",
          "output_type": "stream"
        }
      ],
      "execution_count": null
    },
    {
      "cell_type": "code",
      "source": [
        "# RNA 하나당 residue 수 분포 보기 (좌표 수 분포)\n",
        "train_lbl = pd.read_csv(f\"{base_path}/train_labels.v2.csv\")\n",
        "residue_counts = train_lbl['ID'].apply(lambda x: x.split('_')[0]).value_counts()\n",
        "\n",
        "residue_counts.hist(bins=50)\n"
      ],
      "metadata": {
        "trusted": true,
        "execution": {
          "iopub.status.busy": "2025-05-07T12:43:33.526507Z",
          "iopub.execute_input": "2025-05-07T12:43:33.526832Z",
          "iopub.status.idle": "2025-05-07T12:43:39.903414Z",
          "shell.execute_reply.started": "2025-05-07T12:43:33.526805Z",
          "shell.execute_reply": "2025-05-07T12:43:39.902568Z"
        },
        "id": "XH-HB-7b33wX",
        "outputId": "73593000-edad-4c00-a74f-6b98de6c6068"
      },
      "outputs": [
        {
          "execution_count": 25,
          "output_type": "execute_result",
          "data": {
            "text/plain": "<Axes: >"
          },
          "metadata": {}
        },
        {
          "output_type": "display_data",
          "data": {
            "text/plain": "<Figure size 640x480 with 1 Axes>",
            "image/png": "[encoded data removed]"
          },
          "metadata": {}
        }
      ],
      "execution_count": null
    },
    {
      "cell_type": "code",
      "source": [
        "# 서열 길이 분포 보기\n",
        "train_seq = pd.read_csv(f\"{base_path}/train_sequences.v2.csv\")\n",
        "train_seq['seq_len'] = train_seq['sequence'].apply(len)\n",
        "\n",
        "train_seq['seq_len'].hist(bins=50)\n"
      ],
      "metadata": {
        "trusted": true,
        "execution": {
          "iopub.status.busy": "2025-05-07T12:43:39.904292Z",
          "iopub.execute_input": "2025-05-07T12:43:39.904615Z",
          "iopub.status.idle": "2025-05-07T12:43:40.599621Z",
          "shell.execute_reply.started": "2025-05-07T12:43:39.904587Z",
          "shell.execute_reply": "2025-05-07T12:43:40.598759Z"
        },
        "id": "79jUOup233wY",
        "outputId": "af93c5e4-9eb6-4748-cf16-770552c4ef0e"
      },
      "outputs": [
        {
          "execution_count": 26,
          "output_type": "execute_result",
          "data": {
            "text/plain": "<Axes: >"
          },
          "metadata": {}
        },
        {
          "output_type": "display_data",
          "data": {
            "text/plain": "<Figure size 640x480 with 1 Axes>",
            "image/png": "[encoded data removed]"
          },
          "metadata": {}
        }
      ],
      "execution_count": null
    },
    {
      "cell_type": "code",
      "source": [
        "# 1. 라벨 컬럼 확인 (좌표 개수 파악)\n",
        "train_lbl = pd.read_csv(f\"{base_path}/train_labels.v2.csv\")\n",
        "print(train_lbl.columns.tolist())\n",
        "\n",
        "# 2. target_id, residue 번호, 좌표 개수 예시 확인\n",
        "train_lbl.head()\n"
      ],
      "metadata": {
        "trusted": true,
        "execution": {
          "iopub.status.busy": "2025-05-07T12:43:40.601094Z",
          "iopub.execute_input": "2025-05-07T12:43:40.601352Z",
          "iopub.status.idle": "2025-05-07T12:43:45.237734Z",
          "shell.execute_reply.started": "2025-05-07T12:43:40.601332Z",
          "shell.execute_reply": "2025-05-07T12:43:45.236987Z"
        },
        "id": "JkOEMfoE33wZ",
        "outputId": "d354f775-90be-4de3-e4cf-9514c51cfd8a"
      },
      "outputs": [
        {
          "name": "stdout",
          "text": "['ID', 'resname', 'resid', 'x_1', 'y_1', 'z_1']\n",
          "output_type": "stream"
        },
        {
          "execution_count": 27,
          "output_type": "execute_result",
          "data": {
            "text/plain": "         ID resname  resid         x_1         y_1         z_1\n0  7TAX_M_1       C      1  187.126007  148.246002  210.417999\n1  7TAX_M_2       U      2  185.255997  152.968002  204.617996\n2  7TAX_M_3       A      3  189.360992  161.802002  205.214996\n3  7TAX_M_4       A      4  186.000000  156.595993  209.951996\n4  7TAX_M_5       G      5  181.947998  158.186996  213.610992",
            "text/html": "<div>\n<style scoped>\n    .dataframe tbody tr th:only-of-type {\n        vertical-align: middle;\n    }\n\n    .dataframe tbody tr th {\n        vertical-align: top;\n    }\n\n    .dataframe thead th {\n        text-align: right;\n    }\n</style>\n<table border=\"1\" class=\"dataframe\">\n  <thead>\n    <tr style=\"text-align: right;\">\n      <th></th>\n      <th>ID</th>\n      <th>resname</th>\n      <th>resid</th>\n      <th>x_1</th>\n      <th>y_1</th>\n      <th>z_1</th>\n    </tr>\n  </thead>\n  <tbody>\n    <tr>\n      <th>0</th>\n      <td>7TAX_M_1</td>\n      <td>C</td>\n      <td>1</td>\n      <td>187.126007</td>\n      <td>148.246002</td>\n      <td>210.417999</td>\n    </tr>\n    <tr>\n      <th>1</th>\n      <td>7TAX_M_2</td>\n      <td>U</td>\n      <td>2</td>\n      <td>185.255997</td>\n      <td>152.968002</td>\n      <td>204.617996</td>\n    </tr>\n    <tr>\n      <th>2</th>\n      <td>7TAX_M_3</td>\n      <td>A</td>\n      <td>3</td>\n      <td>189.360992</td>\n      <td>161.802002</td>\n      <td>205.214996</td>\n    </tr>\n    <tr>\n      <th>3</th>\n      <td>7TAX_M_4</td>\n      <td>A</td>\n      <td>4</td>\n      <td>186.000000</td>\n      <td>156.595993</td>\n      <td>209.951996</td>\n    </tr>\n    <tr>\n      <th>4</th>\n      <td>7TAX_M_5</td>\n      <td>G</td>\n      <td>5</td>\n      <td>181.947998</td>\n      <td>158.186996</td>\n      <td>213.610992</td>\n    </tr>\n  </tbody>\n</table>\n</div>"
          },
          "metadata": {}
        }
      ],
      "execution_count": null
    },
    {
      "cell_type": "code",
      "source": [
        "import torch\n",
        "from torch.utils.data import Dataset\n",
        "\n",
        "class RNADataset(Dataset):\n",
        "    def __init__(self, sequence_df, label_df, max_len=1024):\n",
        "        self.sequence_df = sequence_df\n",
        "        self.label_df = label_df\n",
        "        self.max_len = max_len\n",
        "        self.base2idx = {'A': 0, 'C': 1, 'G': 2, 'U': 3}\n",
        "\n",
        "        # target_id 리스트\n",
        "        self.target_ids = sequence_df['target_id'].tolist()\n",
        "\n",
        "        # label 사전 생성 (ID → 좌표)\n",
        "        self.label_dict = self._build_label_dict()\n",
        "\n",
        "    def _build_label_dict(self):\n",
        "        label_dict = {}\n",
        "        for _, row in self.label_df.iterrows():\n",
        "            tid = row['ID'].rsplit('_', 1)[0]\n",
        "            if tid not in label_dict:\n",
        "                label_dict[tid] = []\n",
        "            label_dict[tid].append([row['x_1'], row['y_1'], row['z_1']])\n",
        "        return label_dict\n",
        "\n",
        "    def __len__(self):\n",
        "        return len(self.target_ids)\n",
        "\n",
        "    def __getitem__(self, idx):\n",
        "        tid = self.target_ids[idx]\n",
        "        row = self.sequence_df[self.sequence_df['target_id'] == tid].iloc[0]\n",
        "        seq = row['sequence']\n",
        "\n",
        "        # 염기서열 인코딩\n",
        "        seq_encoded = [self.base2idx.get(base, 4) for base in seq]  # 4는 unknown\n",
        "        seq_len = len(seq_encoded)\n",
        "\n",
        "        # padding\n",
        "        if seq_len < self.max_len:\n",
        "            seq_encoded += [4] * (self.max_len - seq_len)\n",
        "        else:\n",
        "            seq_encoded = seq_encoded[:self.max_len]\n",
        "\n",
        "        seq_tensor = torch.tensor(seq_encoded, dtype=torch.long)\n",
        "\n",
        "        # label 좌표 가져오기\n",
        "        coords = self.label_dict.get(tid, [])\n",
        "        coords_tensor = torch.tensor(coords, dtype=torch.float)\n",
        "\n",
        "        # 좌표도 동일하게 padding or 잘라내기\n",
        "        if coords_tensor.shape[0] < self.max_len:\n",
        "            pad_len = self.max_len - coords_tensor.shape[0]\n",
        "            pad = torch.zeros((pad_len, 3))\n",
        "            coords_tensor = torch.cat([coords_tensor, pad], dim=0)\n",
        "        else:\n",
        "            coords_tensor = coords_tensor[:self.max_len]\n",
        "\n",
        "        return seq_tensor, coords_tensor\n"
      ],
      "metadata": {
        "trusted": true,
        "execution": {
          "iopub.status.busy": "2025-05-07T12:43:45.238589Z",
          "iopub.execute_input": "2025-05-07T12:43:45.238788Z",
          "iopub.status.idle": "2025-05-07T12:43:45.248821Z",
          "shell.execute_reply.started": "2025-05-07T12:43:45.238772Z",
          "shell.execute_reply": "2025-05-07T12:43:45.248038Z"
        },
        "id": "-72xBGhk33wa"
      },
      "outputs": [],
      "execution_count": null
    },
    {
      "cell_type": "code",
      "source": [
        "# CSV 파일 불러오기\n",
        "train_seq = pd.read_csv(f\"{base_path}/train_sequences.v2.csv\")\n",
        "train_lbl = pd.read_csv(f\"{base_path}/train_labels.v2.csv\")\n"
      ],
      "metadata": {
        "trusted": true,
        "execution": {
          "iopub.status.busy": "2025-05-07T12:43:45.249736Z",
          "iopub.execute_input": "2025-05-07T12:43:45.250023Z",
          "iopub.status.idle": "2025-05-07T12:43:50.051929Z",
          "shell.execute_reply.started": "2025-05-07T12:43:45.249995Z",
          "shell.execute_reply": "2025-05-07T12:43:50.051102Z"
        },
        "id": "ylegujjU33wb"
      },
      "outputs": [],
      "execution_count": null
    },
    {
      "cell_type": "code",
      "source": [
        "from torch.utils.data import DataLoader\n",
        "\n",
        "# 학습용 데이터셋 생성\n",
        "dataset = RNADataset(train_seq, train_lbl, max_len=1024)\n",
        "\n",
        "# DataLoader 구성\n",
        "loader = DataLoader(dataset, batch_size=4, shuffle=True)\n",
        "\n",
        "# 배치 1개 확인\n",
        "for batch in loader:\n",
        "    seq_batch, coord_batch = batch\n",
        "    print(\"🧬 서열 배치 크기:\", seq_batch.shape)     # [4, 1024]\n",
        "    print(\"📍 좌표 배치 크기:\", coord_batch.shape)  # [4, 1024, 3]\n",
        "    break\n"
      ],
      "metadata": {
        "trusted": true,
        "execution": {
          "iopub.status.busy": "2025-05-07T12:43:50.052869Z",
          "iopub.execute_input": "2025-05-07T12:43:50.053108Z",
          "iopub.status.idle": "2025-05-07T12:46:47.069055Z",
          "shell.execute_reply.started": "2025-05-07T12:43:50.05309Z",
          "shell.execute_reply": "2025-05-07T12:46:47.068183Z"
        },
        "id": "KQ_w583i33wb",
        "outputId": "02ac41e8-eb55-46ab-e199-971e6aaab022"
      },
      "outputs": [
        {
          "name": "stdout",
          "text": "🧬 서열 배치 크기: torch.Size([4, 1024])\n📍 좌표 배치 크기: torch.Size([4, 1024, 3])\n",
          "output_type": "stream"
        }
      ],
      "execution_count": null
    },
    {
      "cell_type": "code",
      "source": [
        "# 모델 구조 설계\n",
        "import torch.nn as nn\n",
        "\n",
        "class RNAFoldingModel(nn.Module):\n",
        "    def __init__(self, d_model=128, nhead=4, num_layers=4, max_len=1024):\n",
        "        super().__init__()\n",
        "        self.embedding = nn.Embedding(5, d_model)  # A,C,G,U,PAD (0~4)\n",
        "\n",
        "        encoder_layer = nn.TransformerEncoderLayer(d_model=d_model, nhead=nhead, batch_first=True)\n",
        "        self.encoder = nn.TransformerEncoder(encoder_layer, num_layers=num_layers)\n",
        "\n",
        "        self.regressor = nn.Linear(d_model, 3)  # x, y, z 회귀 출력\n",
        "        self.max_len = max_len\n",
        "\n",
        "    def forward(self, x):  # x: [B, L]\n",
        "        x = self.embedding(x)  # [B, L, d_model]\n",
        "        x = self.encoder(x)    # [B, L, d_model]\n",
        "        coords = self.regressor(x)  # [B, L, 3]\n",
        "        return coords\n"
      ],
      "metadata": {
        "trusted": true,
        "execution": {
          "iopub.status.busy": "2025-05-07T12:46:47.069969Z",
          "iopub.execute_input": "2025-05-07T12:46:47.07024Z",
          "iopub.status.idle": "2025-05-07T12:46:47.076555Z",
          "shell.execute_reply.started": "2025-05-07T12:46:47.07022Z",
          "shell.execute_reply": "2025-05-07T12:46:47.075729Z"
        },
        "id": "vJmWkovc33wc"
      },
      "outputs": [],
      "execution_count": null
    },
    {
      "cell_type": "code",
      "source": [
        "# Loss 함수 정의 코드\n",
        "import torch.nn.functional as F\n",
        "\n",
        "def masked_mse_loss(pred, target, mask):\n",
        "    \"\"\"\n",
        "    pred: [B, L, 3]\n",
        "    target: [B, L, 3]\n",
        "    mask: [B, L] → True(1): 실제 데이터, False(0): padding\n",
        "    \"\"\"\n",
        "    loss = F.mse_loss(pred, target, reduction='none')  # [B, L, 3]\n",
        "    loss = loss.mean(dim=-1)  # [B, L] ← 좌표별 평균\n",
        "    loss = loss * mask  # padding 위치는 0이 됨\n",
        "    return loss.sum() / mask.sum()\n"
      ],
      "metadata": {
        "trusted": true,
        "execution": {
          "iopub.status.busy": "2025-05-07T12:46:47.079352Z",
          "iopub.execute_input": "2025-05-07T12:46:47.079594Z",
          "iopub.status.idle": "2025-05-07T12:46:47.092455Z",
          "shell.execute_reply.started": "2025-05-07T12:46:47.079575Z",
          "shell.execute_reply": "2025-05-07T12:46:47.091501Z"
        },
        "id": "duz1FUJ533wc"
      },
      "outputs": [],
      "execution_count": null
    },
    {
      "cell_type": "code",
      "source": [
        "import torch\n",
        "from torch.utils.data import Dataset\n",
        "\n",
        "class RNADataset(Dataset):\n",
        "    def __init__(self, sequence_df, label_df, max_len=1024):\n",
        "        self.sequence_df = sequence_df\n",
        "        self.label_df = label_df\n",
        "        self.max_len = max_len\n",
        "\n",
        "        self.base2idx = {'A': 0, 'C': 1, 'G': 2, 'U': 3}\n",
        "        self.pad_idx = 4  # 패딩 인덱스\n",
        "\n",
        "        # 사용할 RNA ID 목록\n",
        "        self.target_ids = self.sequence_df['id'].tolist() if 'id' in self.sequence_df.columns else self.sequence_df['target_id'].tolist()\n",
        "\n",
        "        # label을 dictionary로 전처리\n",
        "        self.label_dict = {}\n",
        "        for tid in self.label_df['ID'].apply(lambda x: x.split('_')[0]).unique():\n",
        "            coords = self.label_df[self.label_df['ID'].str.startswith(tid)][['x_1', 'y_1', 'z_1']].values\n",
        "            self.label_dict[tid] = coords\n",
        "\n",
        "    def __len__(self):\n",
        "        return len(self.target_ids)\n",
        "\n",
        "    def __getitem__(self, idx):\n",
        "        tid = self.target_ids[idx]\n",
        "        row = self.sequence_df[self.sequence_df['target_id'] == tid].iloc[0]\n",
        "        seq = row['sequence']\n",
        "\n",
        "        # 서열 인코딩\n",
        "        seq_encoded = [self.base2idx.get(base, self.pad_idx) for base in seq]\n",
        "        seq_len = len(seq_encoded)\n",
        "\n",
        "        # 패딩 처리\n",
        "        if seq_len < self.max_len:\n",
        "            seq_encoded += [self.pad_idx] * (self.max_len - seq_len)\n",
        "        else:\n",
        "            seq_encoded = seq_encoded[:self.max_len]\n",
        "\n",
        "        seq_tensor = torch.tensor(seq_encoded, dtype=torch.long)\n",
        "\n",
        "        # 좌표 처리\n",
        "        coords = self.label_dict.get(tid, [])\n",
        "        coords_tensor = torch.tensor(coords, dtype=torch.float)\n",
        "\n",
        "        if coords_tensor.shape[0] < self.max_len:\n",
        "            pad = torch.zeros((self.max_len - coords_tensor.shape[0], 3))\n",
        "            coords_tensor = torch.cat([coords_tensor, pad], dim=0)\n",
        "        else:\n",
        "            coords_tensor = coords_tensor[:self.max_len]\n",
        "\n",
        "        # 마스크 생성 (실제 염기: 1, 패딩: 0)\n",
        "        mask = (seq_tensor != self.pad_idx).float()\n",
        "\n",
        "        return seq_tensor, coords_tensor, mask\n"
      ],
      "metadata": {
        "trusted": true,
        "execution": {
          "iopub.status.busy": "2025-05-07T12:46:47.093266Z",
          "iopub.execute_input": "2025-05-07T12:46:47.093494Z",
          "iopub.status.idle": "2025-05-07T12:46:47.109526Z",
          "shell.execute_reply.started": "2025-05-07T12:46:47.093476Z",
          "shell.execute_reply": "2025-05-07T12:46:47.108663Z"
        },
        "id": "HPowP3Y533wc"
      },
      "outputs": [],
      "execution_count": null
    },
    {
      "cell_type": "code",
      "source": [
        "from torch.utils.data import DataLoader\n",
        "\n",
        "# Dataset 인스턴스 생성\n",
        "dataset = RNADataset(train_seq, train_lbl, max_len=1024)\n",
        "\n",
        "# DataLoader 구성\n",
        "loader = DataLoader(dataset, batch_size=2, shuffle=True)\n",
        "\n",
        "# 배치 1개 확인\n",
        "for seq_batch, coord_batch, mask_batch in loader:\n",
        "    print(\"🧬 서열 인코딩 텐서 (seq_tensor):\", seq_batch.shape)     # [2, 1024]\n",
        "    print(\"📍 좌표 텐서 (coords_tensor):\", coord_batch.shape)       # [2, 1024, 3]\n",
        "    print(\"🎭 마스크 텐서 (mask):\", mask_batch.shape)              # [2, 1024]\n",
        "\n",
        "    # 예시 값 출력 (1개만)\n",
        "    print(\"\\n서열 인코딩 (0~4):\", seq_batch[0][:20].tolist())\n",
        "    print(\"좌표 일부 (x,y,z):\", coord_batch[0][:3].tolist())\n",
        "    print(\"마스크:\", mask_batch[0][:20].tolist())\n",
        "    break\n"
      ],
      "metadata": {
        "trusted": true,
        "execution": {
          "iopub.status.busy": "2025-05-07T12:46:47.110511Z",
          "iopub.execute_input": "2025-05-07T12:46:47.110805Z"
        },
        "id": "wZgd1ONH33wd"
      },
      "outputs": [],
      "execution_count": null
    },
    {
      "cell_type": "code",
      "source": [
        "import torch.nn as nn\n",
        "\n",
        "class RNAFoldingModel(nn.Module):\n",
        "    def __init__(self, d_model=128, nhead=4, num_layers=4, max_len=1024):\n",
        "        super().__init__()\n",
        "        self.embedding = nn.Embedding(5, d_model)  # A, C, G, U, PAD\n",
        "\n",
        "        encoder_layer = nn.TransformerEncoderLayer(d_model=d_model, nhead=nhead, batch_first=True)\n",
        "        self.encoder = nn.TransformerEncoder(encoder_layer, num_layers=num_layers)\n",
        "\n",
        "        self.regressor = nn.Linear(d_model, 3)  # x, y, z 좌표 예측\n",
        "        self.max_len = max_len\n",
        "\n",
        "    def forward(self, x):\n",
        "        x = self.embedding(x)           # [B, L, d_model]\n",
        "        x = self.encoder(x)             # [B, L, d_model]\n",
        "        coords = self.regressor(x)      # [B, L, 3]\n",
        "        return coords\n"
      ],
      "metadata": {
        "trusted": true,
        "id": "lgD-JUmp33wd"
      },
      "outputs": [],
      "execution_count": null
    },
    {
      "cell_type": "code",
      "source": [
        "import torch\n",
        "from torch.utils.data import Dataset\n",
        "import numpy as np\n",
        "\n",
        "class RNADataset(Dataset):\n",
        "    def __init__(self, sequence_df, label_df, max_len=1024):\n",
        "        self.sequence_df = sequence_df\n",
        "        self.label_df = label_df\n",
        "        self.max_len = max_len\n",
        "        self.seq_dict = {\n",
        "            'A': 0, 'C': 1, 'G': 2, 'U': 3, 'PAD': 4\n",
        "        }\n",
        "\n",
        "        # 서열 인코딩\n",
        "        self.sequence_df['input_ids'] = self.sequence_df['sequence'].apply(\n",
        "            lambda x: [self.seq_dict.get(ch, 4) for ch in x] + [4] * (max_len - len(x))\n",
        "        )\n",
        "\n",
        "        # label dictionary 구성\n",
        "        self.label_dict = {}\n",
        "        for tid in self.label_df['ID'].apply(lambda x: x.split('_')[0]).unique():\n",
        "            coords = self.label_df[self.label_df['ID'].str.startswith(tid)][['x_1', 'y_1', 'z_1']].values\n",
        "            self.label_dict[tid] = coords\n",
        "\n",
        "    def __len__(self):\n",
        "        return len(self.sequence_df)\n",
        "\n",
        "    def __getitem__(self, idx):\n",
        "        row = self.sequence_df.iloc[idx]\n",
        "        seq_tensor = torch.tensor(row['input_ids'], dtype=torch.long)\n",
        "\n",
        "        target_id = row['id']\n",
        "        coords = self.label_dict.get(target_id, np.zeros((self.max_len, 3)))\n",
        "        coords_tensor = torch.tensor(coords, dtype=torch.float32)\n",
        "        coords_tensor = torch.cat([\n",
        "            coords_tensor, torch.zeros((self.max_len - coords_tensor.shape[0], 3))\n",
        "        ]) if coords_tensor.shape[0] < self.max_len else coords_tensor[:self.max_len]\n",
        "\n",
        "        # 마스크 (좌표가 실제 있는 부분만 1, 나머지는 0)\n",
        "        mask = torch.zeros(self.max_len)\n",
        "        mask[:len(coords)] = 1.0\n",
        "\n",
        "        return seq_tensor, coords_tensor, mask\n"
      ],
      "metadata": {
        "trusted": true,
        "id": "U4mk2mEn33we"
      },
      "outputs": [],
      "execution_count": null
    },
    {
      "cell_type": "code",
      "source": [
        "import pandas as pd\n",
        "\n",
        "# Kaggle 경로에 맞게 설정\n",
        "seq_path = \"/kaggle/input/stanford-rna-3d-folding/train_sequences.csv\"\n",
        "lbl_path = \"/kaggle/input/stanford-rna-3d-folding/train_labels.v2.csv\"\n",
        "\n",
        "# CSV 파일 읽기\n",
        "train_seq = pd.read_csv(seq_path)\n",
        "train_lbl = pd.read_csv(lbl_path)\n",
        "\n",
        "# 확인\n",
        "print(\"train_seq:\", train_seq.shape)\n",
        "print(\"train_lbl:\", train_lbl.shape)\n"
      ],
      "metadata": {
        "trusted": true,
        "id": "_3JCXZtw33we"
      },
      "outputs": [],
      "execution_count": null
    },
    {
      "cell_type": "code",
      "source": [
        "import torch\n",
        "from torch.utils.data import Dataset\n",
        "import numpy as np\n",
        "\n",
        "class RNADataset(Dataset):\n",
        "    def __init__(self, sequence_df, label_df, max_len=1024):\n",
        "        self.sequence_df = sequence_df\n",
        "        self.label_df = label_df\n",
        "        self.max_len = max_len\n",
        "        self.seq_dict = {'A': 0, 'C': 1, 'G': 2, 'U': 3, 'PAD': 4}\n",
        "\n",
        "        self.sequence_df['input_ids'] = self.sequence_df['sequence'].apply(\n",
        "            lambda x: [self.seq_dict.get(ch, 4) for ch in x] + [4] * (max_len - len(x))\n",
        "        )\n",
        "\n",
        "        self.label_dict = {}\n",
        "        for tid in self.label_df['ID'].apply(lambda x: x.split('_')[0]).unique():\n",
        "            coords = self.label_df[self.label_df['ID'].str.startswith(tid)][['x_1', 'y_1', 'z_1']].values\n",
        "            self.label_dict[tid] = coords\n",
        "\n",
        "    def __len__(self):\n",
        "        return len(self.sequence_df)\n",
        "\n",
        "    def __getitem__(self, idx):\n",
        "        row = self.sequence_df.iloc[idx]\n",
        "        seq_tensor = torch.tensor(row['input_ids'], dtype=torch.long)\n",
        "\n",
        "        target_id = row['id']\n",
        "        coords = self.label_dict.get(target_id, np.zeros((self.max_len, 3)))\n",
        "        coords_tensor = torch.tensor(coords, dtype=torch.float32)\n",
        "        coords_tensor = torch.cat([\n",
        "            coords_tensor, torch.zeros((self.max_len - coords_tensor.shape[0], 3))\n",
        "        ]) if coords_tensor.shape[0] < self.max_len else coords_tensor[:self.max_len]\n",
        "\n",
        "        mask = torch.zeros(self.max_len)\n",
        "        mask[:min(len(coords), self.max_len)] = 1.0\n",
        "\n",
        "        return seq_tensor, coords_tensor, mask\n"
      ],
      "metadata": {
        "trusted": true,
        "id": "Z-Gwa2SX33wf"
      },
      "outputs": [],
      "execution_count": null
    },
    {
      "cell_type": "code",
      "source": [
        "print(train_lbl.columns)\n"
      ],
      "metadata": {
        "trusted": true,
        "id": "4NoUGYpT33wf"
      },
      "outputs": [],
      "execution_count": null
    },
    {
      "cell_type": "code",
      "source": [
        "from torch.utils.data import DataLoader\n",
        "\n",
        "dataset = RNADataset(train_seq, train_lbl, max_len=1024)\n",
        "loader = DataLoader(dataset, batch_size=4, shuffle=True)\n"
      ],
      "metadata": {
        "trusted": true,
        "id": "7DmuVhRt33wf"
      },
      "outputs": [],
      "execution_count": null
    },
    {
      "cell_type": "code",
      "source": [
        "import torch.nn as nn\n",
        "\n",
        "class RNAFoldingModel(nn.Module):\n",
        "    def __init__(self, d_model=128, nhead=4, num_layers=4, max_len=1024):\n",
        "        super().__init__()\n",
        "        self.embedding = nn.Embedding(5, d_model)  # A, C, G, U, PAD\n",
        "        encoder_layer = nn.TransformerEncoderLayer(d_model=d_model, nhead=nhead, batch_first=True)\n",
        "        self.encoder = nn.TransformerEncoder(encoder_layer, num_layers=num_layers)\n",
        "        self.regressor = nn.Linear(d_model, 3)  # x, y, z 좌표 예측\n",
        "\n",
        "    def forward(self, x):\n",
        "        x = self.embedding(x)\n",
        "        x = self.encoder(x)\n",
        "        return self.regressor(x)\n"
      ],
      "metadata": {
        "trusted": true,
        "id": "UcjwA8oM33wf"
      },
      "outputs": [],
      "execution_count": null
    },
    {
      "cell_type": "code",
      "source": [
        "import torch\n",
        "\n",
        "# 모델 로드\n",
        "model = RNAFoldingModel().to(device)\n",
        "model.eval()  # 평가 모드로 전환\n",
        "\n",
        "# 첫 배치만 확인\n",
        "for seq_batch, coord_batch, mask_batch in loader:\n",
        "    seq_batch = seq_batch.to(device)\n",
        "\n",
        "    with torch.no_grad():\n",
        "        pred_coords = model(seq_batch)\n",
        "\n",
        "    print(\"🧬 입력 시퀀스 shape:\", seq_batch.shape)         # [B, L]\n",
        "    print(\"📍 예측 좌표 shape:\", pred_coords.shape)        # [B, L, 3]\n",
        "    print(\"🔎 예측 좌표 예시 (첫 번째 시퀀스 앞 5개):\")\n",
        "    print(pred_coords[0][:5])  # 첫 번째 샘플의 앞 5개 좌표\n",
        "\n",
        "    break  # 첫 배치만 테스트\n"
      ],
      "metadata": {
        "trusted": true,
        "id": "N_oRqNoH33wg"
      },
      "outputs": [],
      "execution_count": null
    },
    {
      "cell_type": "code",
      "source": [
        "train_seq = pd.read_csv(f\"{base_path}/train_sequences.v2.csv\")\n",
        "train_seq['seq_len'] = train_seq['sequence'].apply(len)\n",
        "\n",
        "train_seq['seq_len'].hist(bins=50)\n"
      ],
      "metadata": {
        "trusted": true,
        "id": "x3j6NUBl33wg"
      },
      "outputs": [],
      "execution_count": null
    }
  ]
}