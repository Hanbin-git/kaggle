{
  "nbformat": 4,
  "nbformat_minor": 0,
  "metadata": {
    "colab": {
      "provenance": [],
      "machine_shape": "hm",
      "gpuType": "A100",
      "mount_file_id": "1-xkeFVOrtCmNETqh0RKLwen4scWtrl5v",
      "authorship_tag": "ABX9TyNWbwHlr/y4rvBEiyetsrSb",
      "include_colab_link": true
    },
    "kernelspec": {
      "name": "python3",
      "display_name": "Python 3"
    },
    "language_info": {
      "name": "python"
    },
    "accelerator": "GPU"
  },
  "cells": [
    {
      "cell_type": "markdown",
      "metadata": {
        "id": "view-in-github",
        "colab_type": "text"
      },
      "source": [
        "<a href=\"https://colab.research.google.com/github/Hanbin-git/kaggle/blob/main/Untitled3.ipynb\" target=\"_parent\"><img src=\"https://colab.research.google.com/assets/colab-badge.svg\" alt=\"Open In Colab\"/></a>"
      ]
    },
    {
      "cell_type": "code",
      "execution_count": 1,
      "metadata": {
        "colab": {
          "base_uri": "https://localhost:8080/"
        },
        "id": "Ikv1Cq2ajhgK",
        "outputId": "01879165-24e3-45d1-8ec9-b595ecb98faa"
      },
      "outputs": [
        {
          "output_type": "stream",
          "name": "stdout",
          "text": [
            "Requirement already satisfied: timm in /usr/local/lib/python3.11/dist-packages (1.0.15)\n",
            "Requirement already satisfied: torch in /usr/local/lib/python3.11/dist-packages (from timm) (2.6.0+cu124)\n",
            "Requirement already satisfied: torchvision in /usr/local/lib/python3.11/dist-packages (from timm) (0.21.0+cu124)\n",
            "Requirement already satisfied: pyyaml in /usr/local/lib/python3.11/dist-packages (from timm) (6.0.2)\n",
            "Requirement already satisfied: huggingface_hub in /usr/local/lib/python3.11/dist-packages (from timm) (0.31.4)\n",
            "Requirement already satisfied: safetensors in /usr/local/lib/python3.11/dist-packages (from timm) (0.5.3)\n",
            "Requirement already satisfied: filelock in /usr/local/lib/python3.11/dist-packages (from huggingface_hub->timm) (3.18.0)\n",
            "Requirement already satisfied: fsspec>=2023.5.0 in /usr/local/lib/python3.11/dist-packages (from huggingface_hub->timm) (2025.3.2)\n",
            "Requirement already satisfied: packaging>=20.9 in /usr/local/lib/python3.11/dist-packages (from huggingface_hub->timm) (24.2)\n",
            "Requirement already satisfied: requests in /usr/local/lib/python3.11/dist-packages (from huggingface_hub->timm) (2.32.3)\n",
            "Requirement already satisfied: tqdm>=4.42.1 in /usr/local/lib/python3.11/dist-packages (from huggingface_hub->timm) (4.67.1)\n",
            "Requirement already satisfied: typing-extensions>=3.7.4.3 in /usr/local/lib/python3.11/dist-packages (from huggingface_hub->timm) (4.13.2)\n",
            "Requirement already satisfied: networkx in /usr/local/lib/python3.11/dist-packages (from torch->timm) (3.4.2)\n",
            "Requirement already satisfied: jinja2 in /usr/local/lib/python3.11/dist-packages (from torch->timm) (3.1.6)\n",
            "Requirement already satisfied: nvidia-cuda-nvrtc-cu12==12.4.127 in /usr/local/lib/python3.11/dist-packages (from torch->timm) (12.4.127)\n",
            "Requirement already satisfied: nvidia-cuda-runtime-cu12==12.4.127 in /usr/local/lib/python3.11/dist-packages (from torch->timm) (12.4.127)\n",
            "Requirement already satisfied: nvidia-cuda-cupti-cu12==12.4.127 in /usr/local/lib/python3.11/dist-packages (from torch->timm) (12.4.127)\n",
            "Requirement already satisfied: nvidia-cudnn-cu12==9.1.0.70 in /usr/local/lib/python3.11/dist-packages (from torch->timm) (9.1.0.70)\n",
            "Requirement already satisfied: nvidia-cublas-cu12==12.4.5.8 in /usr/local/lib/python3.11/dist-packages (from torch->timm) (12.4.5.8)\n",
            "Requirement already satisfied: nvidia-cufft-cu12==11.2.1.3 in /usr/local/lib/python3.11/dist-packages (from torch->timm) (11.2.1.3)\n",
            "Requirement already satisfied: nvidia-curand-cu12==10.3.5.147 in /usr/local/lib/python3.11/dist-packages (from torch->timm) (10.3.5.147)\n",
            "Requirement already satisfied: nvidia-cusolver-cu12==11.6.1.9 in /usr/local/lib/python3.11/dist-packages (from torch->timm) (11.6.1.9)\n",
            "Requirement already satisfied: nvidia-cusparse-cu12==12.3.1.170 in /usr/local/lib/python3.11/dist-packages (from torch->timm) (12.3.1.170)\n",
            "Requirement already satisfied: nvidia-cusparselt-cu12==0.6.2 in /usr/local/lib/python3.11/dist-packages (from torch->timm) (0.6.2)\n",
            "Requirement already satisfied: nvidia-nccl-cu12==2.21.5 in /usr/local/lib/python3.11/dist-packages (from torch->timm) (2.21.5)\n",
            "Requirement already satisfied: nvidia-nvtx-cu12==12.4.127 in /usr/local/lib/python3.11/dist-packages (from torch->timm) (12.4.127)\n",
            "Requirement already satisfied: nvidia-nvjitlink-cu12==12.4.127 in /usr/local/lib/python3.11/dist-packages (from torch->timm) (12.4.127)\n",
            "Requirement already satisfied: triton==3.2.0 in /usr/local/lib/python3.11/dist-packages (from torch->timm) (3.2.0)\n",
            "Requirement already satisfied: sympy==1.13.1 in /usr/local/lib/python3.11/dist-packages (from torch->timm) (1.13.1)\n",
            "Requirement already satisfied: mpmath<1.4,>=1.1.0 in /usr/local/lib/python3.11/dist-packages (from sympy==1.13.1->torch->timm) (1.3.0)\n",
            "Requirement already satisfied: numpy in /usr/local/lib/python3.11/dist-packages (from torchvision->timm) (2.0.2)\n",
            "Requirement already satisfied: pillow!=8.3.*,>=5.3.0 in /usr/local/lib/python3.11/dist-packages (from torchvision->timm) (11.2.1)\n",
            "Requirement already satisfied: MarkupSafe>=2.0 in /usr/local/lib/python3.11/dist-packages (from jinja2->torch->timm) (3.0.2)\n",
            "Requirement already satisfied: charset-normalizer<4,>=2 in /usr/local/lib/python3.11/dist-packages (from requests->huggingface_hub->timm) (3.4.2)\n",
            "Requirement already satisfied: idna<4,>=2.5 in /usr/local/lib/python3.11/dist-packages (from requests->huggingface_hub->timm) (3.10)\n",
            "Requirement already satisfied: urllib3<3,>=1.21.1 in /usr/local/lib/python3.11/dist-packages (from requests->huggingface_hub->timm) (2.4.0)\n",
            "Requirement already satisfied: certifi>=2017.4.17 in /usr/local/lib/python3.11/dist-packages (from requests->huggingface_hub->timm) (2025.4.26)\n",
            "Requirement already satisfied: scikit-learn in /usr/local/lib/python3.11/dist-packages (1.6.1)\n",
            "Requirement already satisfied: numpy>=1.19.5 in /usr/local/lib/python3.11/dist-packages (from scikit-learn) (2.0.2)\n",
            "Requirement already satisfied: scipy>=1.6.0 in /usr/local/lib/python3.11/dist-packages (from scikit-learn) (1.15.3)\n",
            "Requirement already satisfied: joblib>=1.2.0 in /usr/local/lib/python3.11/dist-packages (from scikit-learn) (1.5.0)\n",
            "Requirement already satisfied: threadpoolctl>=3.1.0 in /usr/local/lib/python3.11/dist-packages (from scikit-learn) (3.6.0)\n"
          ]
        }
      ],
      "source": [
        "!pip install timm\n",
        "!pip install scikit-learn\n"
      ]
    },
    {
      "cell_type": "code",
      "source": [
        "!pip install efficientnet_pytorch"
      ],
      "metadata": {
        "colab": {
          "base_uri": "https://localhost:8080/"
        },
        "id": "L_U1sak7k94E",
        "outputId": "e01a3b1d-6e84-421e-cb73-841dbcaac9d9"
      },
      "execution_count": 2,
      "outputs": [
        {
          "output_type": "stream",
          "name": "stdout",
          "text": [
            "Requirement already satisfied: efficientnet_pytorch in /usr/local/lib/python3.11/dist-packages (0.7.1)\n",
            "Requirement already satisfied: torch in /usr/local/lib/python3.11/dist-packages (from efficientnet_pytorch) (2.6.0+cu124)\n",
            "Requirement already satisfied: filelock in /usr/local/lib/python3.11/dist-packages (from torch->efficientnet_pytorch) (3.18.0)\n",
            "Requirement already satisfied: typing-extensions>=4.10.0 in /usr/local/lib/python3.11/dist-packages (from torch->efficientnet_pytorch) (4.13.2)\n",
            "Requirement already satisfied: networkx in /usr/local/lib/python3.11/dist-packages (from torch->efficientnet_pytorch) (3.4.2)\n",
            "Requirement already satisfied: jinja2 in /usr/local/lib/python3.11/dist-packages (from torch->efficientnet_pytorch) (3.1.6)\n",
            "Requirement already satisfied: fsspec in /usr/local/lib/python3.11/dist-packages (from torch->efficientnet_pytorch) (2025.3.2)\n",
            "Requirement already satisfied: nvidia-cuda-nvrtc-cu12==12.4.127 in /usr/local/lib/python3.11/dist-packages (from torch->efficientnet_pytorch) (12.4.127)\n",
            "Requirement already satisfied: nvidia-cuda-runtime-cu12==12.4.127 in /usr/local/lib/python3.11/dist-packages (from torch->efficientnet_pytorch) (12.4.127)\n",
            "Requirement already satisfied: nvidia-cuda-cupti-cu12==12.4.127 in /usr/local/lib/python3.11/dist-packages (from torch->efficientnet_pytorch) (12.4.127)\n",
            "Requirement already satisfied: nvidia-cudnn-cu12==9.1.0.70 in /usr/local/lib/python3.11/dist-packages (from torch->efficientnet_pytorch) (9.1.0.70)\n",
            "Requirement already satisfied: nvidia-cublas-cu12==12.4.5.8 in /usr/local/lib/python3.11/dist-packages (from torch->efficientnet_pytorch) (12.4.5.8)\n",
            "Requirement already satisfied: nvidia-cufft-cu12==11.2.1.3 in /usr/local/lib/python3.11/dist-packages (from torch->efficientnet_pytorch) (11.2.1.3)\n",
            "Requirement already satisfied: nvidia-curand-cu12==10.3.5.147 in /usr/local/lib/python3.11/dist-packages (from torch->efficientnet_pytorch) (10.3.5.147)\n",
            "Requirement already satisfied: nvidia-cusolver-cu12==11.6.1.9 in /usr/local/lib/python3.11/dist-packages (from torch->efficientnet_pytorch) (11.6.1.9)\n",
            "Requirement already satisfied: nvidia-cusparse-cu12==12.3.1.170 in /usr/local/lib/python3.11/dist-packages (from torch->efficientnet_pytorch) (12.3.1.170)\n",
            "Requirement already satisfied: nvidia-cusparselt-cu12==0.6.2 in /usr/local/lib/python3.11/dist-packages (from torch->efficientnet_pytorch) (0.6.2)\n",
            "Requirement already satisfied: nvidia-nccl-cu12==2.21.5 in /usr/local/lib/python3.11/dist-packages (from torch->efficientnet_pytorch) (2.21.5)\n",
            "Requirement already satisfied: nvidia-nvtx-cu12==12.4.127 in /usr/local/lib/python3.11/dist-packages (from torch->efficientnet_pytorch) (12.4.127)\n",
            "Requirement already satisfied: nvidia-nvjitlink-cu12==12.4.127 in /usr/local/lib/python3.11/dist-packages (from torch->efficientnet_pytorch) (12.4.127)\n",
            "Requirement already satisfied: triton==3.2.0 in /usr/local/lib/python3.11/dist-packages (from torch->efficientnet_pytorch) (3.2.0)\n",
            "Requirement already satisfied: sympy==1.13.1 in /usr/local/lib/python3.11/dist-packages (from torch->efficientnet_pytorch) (1.13.1)\n",
            "Requirement already satisfied: mpmath<1.4,>=1.1.0 in /usr/local/lib/python3.11/dist-packages (from sympy==1.13.1->torch->efficientnet_pytorch) (1.3.0)\n",
            "Requirement already satisfied: MarkupSafe>=2.0 in /usr/local/lib/python3.11/dist-packages (from jinja2->torch->efficientnet_pytorch) (3.0.2)\n"
          ]
        }
      ]
    },
    {
      "cell_type": "code",
      "source": [
        "from google.colab import drive\n",
        "drive.mount('/content/drive')\n"
      ],
      "metadata": {
        "colab": {
          "base_uri": "https://localhost:8080/"
        },
        "id": "c6gI4kKRlAfK",
        "outputId": "a0fe586a-4202-4602-e4ec-9fd0bde97dfd"
      },
      "execution_count": 3,
      "outputs": [
        {
          "output_type": "stream",
          "name": "stdout",
          "text": [
            "Drive already mounted at /content/drive; to attempt to forcibly remount, call drive.mount(\"/content/drive\", force_remount=True).\n"
          ]
        }
      ]
    },
    {
      "cell_type": "code",
      "source": [
        "import os\n",
        "from collections import Counter\n",
        "import pandas as pd\n",
        "import matplotlib.pyplot as plt\n",
        "\n",
        "# 경로 설정\n",
        "ROOT_DIR = '/content/drive/MyDrive/open'\n",
        "TRAIN_DIR = os.path.join(ROOT_DIR, 'train')\n",
        "TEST_DIR = os.path.join(ROOT_DIR, 'test')\n",
        "TEST_CSV = os.path.join(ROOT_DIR, 'test.csv')\n",
        "SUBMIT_CSV = os.path.join(ROOT_DIR, 'sample_submission.csv')\n",
        "\n",
        "# 1. 클래스 목록\n",
        "classes = sorted(os.listdir(TRAIN_DIR))\n",
        "print(f\"✅ 총 클래스 수: {len(classes)}\")\n",
        "\n",
        "# 2. 클래스별 이미지 수\n",
        "class_counts = {cls: len(os.listdir(os.path.join(TRAIN_DIR, cls))) for cls in classes}\n",
        "class_counts_df = pd.DataFrame.from_dict(class_counts, orient='index', columns=['count']).sort_values(by='count', ascending=False)\n",
        "\n",
        "# 3. 시각화\n",
        "plt.figure(figsize=(12, 6))\n",
        "class_counts_df.head(30).plot(kind='bar', legend=False)\n",
        "plt.title('💡 상위 30개 클래스별 이미지 수')\n",
        "plt.ylabel('Image Count')\n",
        "plt.xlabel('Class Name')\n",
        "plt.xticks(rotation=90)\n",
        "plt.grid(True)\n",
        "plt.tight_layout()\n",
        "plt.show()\n"
      ],
      "metadata": {
        "colab": {
          "base_uri": "https://localhost:8080/",
          "height": 1000
        },
        "id": "corVEInllPEV",
        "outputId": "698b67b8-9662-499f-f3dd-750e459686e5"
      },
      "execution_count": 4,
      "outputs": [
        {
          "output_type": "stream",
          "name": "stdout",
          "text": [
            "✅ 총 클래스 수: 397\n"
          ]
        },
        {
          "output_type": "stream",
          "name": "stderr",
          "text": [
            "<ipython-input-4-52aa0002b585>:29: UserWarning: Glyph 4369 (\\N{HANGUL CHOSEONG PHIEUPH}) missing from font(s) DejaVu Sans.\n",
            "  plt.tight_layout()\n",
            "<ipython-input-4-52aa0002b585>:29: UserWarning: Glyph 4467 (\\N{HANGUL JUNGSEONG EU}) missing from font(s) DejaVu Sans.\n",
            "  plt.tight_layout()\n",
            "<ipython-input-4-52aa0002b585>:29: UserWarning: Glyph 4357 (\\N{HANGUL CHOSEONG RIEUL}) missing from font(s) DejaVu Sans.\n",
            "  plt.tight_layout()\n",
            "<ipython-input-4-52aa0002b585>:29: UserWarning: Glyph 4469 (\\N{HANGUL JUNGSEONG I}) missing from font(s) DejaVu Sans.\n",
            "  plt.tight_layout()\n",
            "<ipython-input-4-52aa0002b585>:29: UserWarning: Glyph 4363 (\\N{HANGUL CHOSEONG IEUNG}) missing from font(s) DejaVu Sans.\n",
            "  plt.tight_layout()\n",
            "<ipython-input-4-52aa0002b585>:29: UserWarning: Glyph 4462 (\\N{HANGUL JUNGSEONG U}) missing from font(s) DejaVu Sans.\n",
            "  plt.tight_layout()\n",
            "<ipython-input-4-52aa0002b585>:29: UserWarning: Glyph 4361 (\\N{HANGUL CHOSEONG SIOS}) missing from font(s) DejaVu Sans.\n",
            "  plt.tight_layout()\n",
            "<ipython-input-4-52aa0002b585>:29: UserWarning: Glyph 4454 (\\N{HANGUL JUNGSEONG E}) missing from font(s) DejaVu Sans.\n",
            "  plt.tight_layout()\n",
            "<ipython-input-4-52aa0002b585>:29: UserWarning: Glyph 4355 (\\N{HANGUL CHOSEONG TIKEUT}) missing from font(s) DejaVu Sans.\n",
            "  plt.tight_layout()\n",
            "<ipython-input-4-52aa0002b585>:29: UserWarning: Glyph 4450 (\\N{HANGUL JUNGSEONG AE}) missing from font(s) DejaVu Sans.\n",
            "  plt.tight_layout()\n",
            "<ipython-input-4-52aa0002b585>:29: UserWarning: Glyph 4449 (\\N{HANGUL JUNGSEONG A}) missing from font(s) DejaVu Sans.\n",
            "  plt.tight_layout()\n",
            "<ipython-input-4-52aa0002b585>:29: UserWarning: Glyph 4527 (\\N{HANGUL JONGSEONG RIEUL}) missing from font(s) DejaVu Sans.\n",
            "  plt.tight_layout()\n",
            "<ipython-input-4-52aa0002b585>:29: UserWarning: Glyph 4453 (\\N{HANGUL JUNGSEONG EO}) missing from font(s) DejaVu Sans.\n",
            "  plt.tight_layout()\n",
            "<ipython-input-4-52aa0002b585>:29: UserWarning: Glyph 4538 (\\N{HANGUL JONGSEONG SIOS}) missing from font(s) DejaVu Sans.\n",
            "  plt.tight_layout()\n",
            "<ipython-input-4-52aa0002b585>:29: UserWarning: Glyph 4368 (\\N{HANGUL CHOSEONG THIEUTH}) missing from font(s) DejaVu Sans.\n",
            "  plt.tight_layout()\n",
            "<ipython-input-4-52aa0002b585>:29: UserWarning: Glyph 4520 (\\N{HANGUL JONGSEONG KIYEOK}) missing from font(s) DejaVu Sans.\n",
            "  plt.tight_layout()\n",
            "<ipython-input-4-52aa0002b585>:29: UserWarning: Glyph 4457 (\\N{HANGUL JUNGSEONG O}) missing from font(s) DejaVu Sans.\n",
            "  plt.tight_layout()\n",
            "<ipython-input-4-52aa0002b585>:29: UserWarning: Glyph 4366 (\\N{HANGUL CHOSEONG CHIEUCH}) missing from font(s) DejaVu Sans.\n",
            "  plt.tight_layout()\n",
            "<ipython-input-4-52aa0002b585>:29: UserWarning: Glyph 4367 (\\N{HANGUL CHOSEONG KHIEUKH}) missing from font(s) DejaVu Sans.\n",
            "  plt.tight_layout()\n",
            "<ipython-input-4-52aa0002b585>:29: UserWarning: Glyph 4354 (\\N{HANGUL CHOSEONG NIEUN}) missing from font(s) DejaVu Sans.\n",
            "  plt.tight_layout()\n",
            "<ipython-input-4-52aa0002b585>:29: UserWarning: Glyph 4466 (\\N{HANGUL JUNGSEONG YU}) missing from font(s) DejaVu Sans.\n",
            "  plt.tight_layout()\n",
            "<ipython-input-4-52aa0002b585>:29: UserWarning: Glyph 4358 (\\N{HANGUL CHOSEONG MIEUM}) missing from font(s) DejaVu Sans.\n",
            "  plt.tight_layout()\n",
            "<ipython-input-4-52aa0002b585>:29: UserWarning: Glyph 4540 (\\N{HANGUL JONGSEONG IEUNG}) missing from font(s) DejaVu Sans.\n",
            "  plt.tight_layout()\n",
            "<ipython-input-4-52aa0002b585>:29: UserWarning: Glyph 4523 (\\N{HANGUL JONGSEONG NIEUN}) missing from font(s) DejaVu Sans.\n",
            "  plt.tight_layout()\n",
            "<ipython-input-4-52aa0002b585>:29: UserWarning: Glyph 4370 (\\N{HANGUL CHOSEONG HIEUH}) missing from font(s) DejaVu Sans.\n",
            "  plt.tight_layout()\n",
            "<ipython-input-4-52aa0002b585>:29: UserWarning: Glyph 4455 (\\N{HANGUL JUNGSEONG YEO}) missing from font(s) DejaVu Sans.\n",
            "  plt.tight_layout()\n",
            "<ipython-input-4-52aa0002b585>:29: UserWarning: Glyph 4364 (\\N{HANGUL CHOSEONG CIEUC}) missing from font(s) DejaVu Sans.\n",
            "  plt.tight_layout()\n",
            "<ipython-input-4-52aa0002b585>:29: UserWarning: Glyph 4359 (\\N{HANGUL CHOSEONG PIEUP}) missing from font(s) DejaVu Sans.\n",
            "  plt.tight_layout()\n",
            "<ipython-input-4-52aa0002b585>:29: UserWarning: Glyph 4356 (\\N{HANGUL CHOSEONG SSANGTIKEUT}) missing from font(s) DejaVu Sans.\n",
            "  plt.tight_layout()\n",
            "<ipython-input-4-52aa0002b585>:29: UserWarning: Glyph 4362 (\\N{HANGUL CHOSEONG SSANGSIOS}) missing from font(s) DejaVu Sans.\n",
            "  plt.tight_layout()\n",
            "<ipython-input-4-52aa0002b585>:29: UserWarning: Glyph 4535 (\\N{HANGUL JONGSEONG MIEUM}) missing from font(s) DejaVu Sans.\n",
            "  plt.tight_layout()\n",
            "<ipython-input-4-52aa0002b585>:29: UserWarning: Glyph 128161 (\\N{ELECTRIC LIGHT BULB}) missing from font(s) DejaVu Sans.\n",
            "  plt.tight_layout()\n",
            "<ipython-input-4-52aa0002b585>:29: UserWarning: Glyph 49345 (\\N{HANGUL SYLLABLE SANG}) missing from font(s) DejaVu Sans.\n",
            "  plt.tight_layout()\n",
            "<ipython-input-4-52aa0002b585>:29: UserWarning: Glyph 50948 (\\N{HANGUL SYLLABLE WI}) missing from font(s) DejaVu Sans.\n",
            "  plt.tight_layout()\n",
            "<ipython-input-4-52aa0002b585>:29: UserWarning: Glyph 44060 (\\N{HANGUL SYLLABLE GAE}) missing from font(s) DejaVu Sans.\n",
            "  plt.tight_layout()\n",
            "<ipython-input-4-52aa0002b585>:29: UserWarning: Glyph 53364 (\\N{HANGUL SYLLABLE KEUL}) missing from font(s) DejaVu Sans.\n",
            "  plt.tight_layout()\n",
            "<ipython-input-4-52aa0002b585>:29: UserWarning: Glyph 47000 (\\N{HANGUL SYLLABLE RAE}) missing from font(s) DejaVu Sans.\n",
            "  plt.tight_layout()\n",
            "<ipython-input-4-52aa0002b585>:29: UserWarning: Glyph 49828 (\\N{HANGUL SYLLABLE SEU}) missing from font(s) DejaVu Sans.\n",
            "  plt.tight_layout()\n",
            "<ipython-input-4-52aa0002b585>:29: UserWarning: Glyph 48324 (\\N{HANGUL SYLLABLE BYEOL}) missing from font(s) DejaVu Sans.\n",
            "  plt.tight_layout()\n",
            "<ipython-input-4-52aa0002b585>:29: UserWarning: Glyph 51060 (\\N{HANGUL SYLLABLE I}) missing from font(s) DejaVu Sans.\n",
            "  plt.tight_layout()\n",
            "<ipython-input-4-52aa0002b585>:29: UserWarning: Glyph 48120 (\\N{HANGUL SYLLABLE MI}) missing from font(s) DejaVu Sans.\n",
            "  plt.tight_layout()\n",
            "<ipython-input-4-52aa0002b585>:29: UserWarning: Glyph 51648 (\\N{HANGUL SYLLABLE JI}) missing from font(s) DejaVu Sans.\n",
            "  plt.tight_layout()\n",
            "<ipython-input-4-52aa0002b585>:29: UserWarning: Glyph 49688 (\\N{HANGUL SYLLABLE SU}) missing from font(s) DejaVu Sans.\n",
            "  plt.tight_layout()\n"
          ]
        },
        {
          "output_type": "display_data",
          "data": {
            "text/plain": [
              "<Figure size 1200x600 with 0 Axes>"
            ]
          },
          "metadata": {}
        },
        {
          "output_type": "stream",
          "name": "stderr",
          "text": [
            "/usr/local/lib/python3.11/dist-packages/IPython/core/pylabtools.py:151: UserWarning: Glyph 128161 (\\N{ELECTRIC LIGHT BULB}) missing from font(s) DejaVu Sans.\n",
            "  fig.canvas.print_figure(bytes_io, **kw)\n",
            "/usr/local/lib/python3.11/dist-packages/IPython/core/pylabtools.py:151: UserWarning: Glyph 49345 (\\N{HANGUL SYLLABLE SANG}) missing from font(s) DejaVu Sans.\n",
            "  fig.canvas.print_figure(bytes_io, **kw)\n",
            "/usr/local/lib/python3.11/dist-packages/IPython/core/pylabtools.py:151: UserWarning: Glyph 50948 (\\N{HANGUL SYLLABLE WI}) missing from font(s) DejaVu Sans.\n",
            "  fig.canvas.print_figure(bytes_io, **kw)\n",
            "/usr/local/lib/python3.11/dist-packages/IPython/core/pylabtools.py:151: UserWarning: Glyph 44060 (\\N{HANGUL SYLLABLE GAE}) missing from font(s) DejaVu Sans.\n",
            "  fig.canvas.print_figure(bytes_io, **kw)\n",
            "/usr/local/lib/python3.11/dist-packages/IPython/core/pylabtools.py:151: UserWarning: Glyph 53364 (\\N{HANGUL SYLLABLE KEUL}) missing from font(s) DejaVu Sans.\n",
            "  fig.canvas.print_figure(bytes_io, **kw)\n",
            "/usr/local/lib/python3.11/dist-packages/IPython/core/pylabtools.py:151: UserWarning: Glyph 47000 (\\N{HANGUL SYLLABLE RAE}) missing from font(s) DejaVu Sans.\n",
            "  fig.canvas.print_figure(bytes_io, **kw)\n",
            "/usr/local/lib/python3.11/dist-packages/IPython/core/pylabtools.py:151: UserWarning: Glyph 49828 (\\N{HANGUL SYLLABLE SEU}) missing from font(s) DejaVu Sans.\n",
            "  fig.canvas.print_figure(bytes_io, **kw)\n",
            "/usr/local/lib/python3.11/dist-packages/IPython/core/pylabtools.py:151: UserWarning: Glyph 48324 (\\N{HANGUL SYLLABLE BYEOL}) missing from font(s) DejaVu Sans.\n",
            "  fig.canvas.print_figure(bytes_io, **kw)\n",
            "/usr/local/lib/python3.11/dist-packages/IPython/core/pylabtools.py:151: UserWarning: Glyph 51060 (\\N{HANGUL SYLLABLE I}) missing from font(s) DejaVu Sans.\n",
            "  fig.canvas.print_figure(bytes_io, **kw)\n",
            "/usr/local/lib/python3.11/dist-packages/IPython/core/pylabtools.py:151: UserWarning: Glyph 48120 (\\N{HANGUL SYLLABLE MI}) missing from font(s) DejaVu Sans.\n",
            "  fig.canvas.print_figure(bytes_io, **kw)\n",
            "/usr/local/lib/python3.11/dist-packages/IPython/core/pylabtools.py:151: UserWarning: Glyph 51648 (\\N{HANGUL SYLLABLE JI}) missing from font(s) DejaVu Sans.\n",
            "  fig.canvas.print_figure(bytes_io, **kw)\n",
            "/usr/local/lib/python3.11/dist-packages/IPython/core/pylabtools.py:151: UserWarning: Glyph 49688 (\\N{HANGUL SYLLABLE SU}) missing from font(s) DejaVu Sans.\n",
            "  fig.canvas.print_figure(bytes_io, **kw)\n",
            "/usr/local/lib/python3.11/dist-packages/IPython/core/pylabtools.py:151: UserWarning: Glyph 4369 (\\N{HANGUL CHOSEONG PHIEUPH}) missing from font(s) DejaVu Sans.\n",
            "  fig.canvas.print_figure(bytes_io, **kw)\n",
            "/usr/local/lib/python3.11/dist-packages/IPython/core/pylabtools.py:151: UserWarning: Glyph 4467 (\\N{HANGUL JUNGSEONG EU}) missing from font(s) DejaVu Sans.\n",
            "  fig.canvas.print_figure(bytes_io, **kw)\n",
            "/usr/local/lib/python3.11/dist-packages/IPython/core/pylabtools.py:151: UserWarning: Glyph 4357 (\\N{HANGUL CHOSEONG RIEUL}) missing from font(s) DejaVu Sans.\n",
            "  fig.canvas.print_figure(bytes_io, **kw)\n",
            "/usr/local/lib/python3.11/dist-packages/IPython/core/pylabtools.py:151: UserWarning: Glyph 4469 (\\N{HANGUL JUNGSEONG I}) missing from font(s) DejaVu Sans.\n",
            "  fig.canvas.print_figure(bytes_io, **kw)\n",
            "/usr/local/lib/python3.11/dist-packages/IPython/core/pylabtools.py:151: UserWarning: Glyph 4363 (\\N{HANGUL CHOSEONG IEUNG}) missing from font(s) DejaVu Sans.\n",
            "  fig.canvas.print_figure(bytes_io, **kw)\n",
            "/usr/local/lib/python3.11/dist-packages/IPython/core/pylabtools.py:151: UserWarning: Glyph 4462 (\\N{HANGUL JUNGSEONG U}) missing from font(s) DejaVu Sans.\n",
            "  fig.canvas.print_figure(bytes_io, **kw)\n",
            "/usr/local/lib/python3.11/dist-packages/IPython/core/pylabtools.py:151: UserWarning: Glyph 4361 (\\N{HANGUL CHOSEONG SIOS}) missing from font(s) DejaVu Sans.\n",
            "  fig.canvas.print_figure(bytes_io, **kw)\n",
            "/usr/local/lib/python3.11/dist-packages/IPython/core/pylabtools.py:151: UserWarning: Glyph 4454 (\\N{HANGUL JUNGSEONG E}) missing from font(s) DejaVu Sans.\n",
            "  fig.canvas.print_figure(bytes_io, **kw)\n",
            "/usr/local/lib/python3.11/dist-packages/IPython/core/pylabtools.py:151: UserWarning: Glyph 4355 (\\N{HANGUL CHOSEONG TIKEUT}) missing from font(s) DejaVu Sans.\n",
            "  fig.canvas.print_figure(bytes_io, **kw)\n",
            "/usr/local/lib/python3.11/dist-packages/IPython/core/pylabtools.py:151: UserWarning: Glyph 4450 (\\N{HANGUL JUNGSEONG AE}) missing from font(s) DejaVu Sans.\n",
            "  fig.canvas.print_figure(bytes_io, **kw)\n",
            "/usr/local/lib/python3.11/dist-packages/IPython/core/pylabtools.py:151: UserWarning: Glyph 4449 (\\N{HANGUL JUNGSEONG A}) missing from font(s) DejaVu Sans.\n",
            "  fig.canvas.print_figure(bytes_io, **kw)\n",
            "/usr/local/lib/python3.11/dist-packages/IPython/core/pylabtools.py:151: UserWarning: Glyph 4527 (\\N{HANGUL JONGSEONG RIEUL}) missing from font(s) DejaVu Sans.\n",
            "  fig.canvas.print_figure(bytes_io, **kw)\n",
            "/usr/local/lib/python3.11/dist-packages/IPython/core/pylabtools.py:151: UserWarning: Glyph 4453 (\\N{HANGUL JUNGSEONG EO}) missing from font(s) DejaVu Sans.\n",
            "  fig.canvas.print_figure(bytes_io, **kw)\n",
            "/usr/local/lib/python3.11/dist-packages/IPython/core/pylabtools.py:151: UserWarning: Glyph 4538 (\\N{HANGUL JONGSEONG SIOS}) missing from font(s) DejaVu Sans.\n",
            "  fig.canvas.print_figure(bytes_io, **kw)\n",
            "/usr/local/lib/python3.11/dist-packages/IPython/core/pylabtools.py:151: UserWarning: Glyph 4368 (\\N{HANGUL CHOSEONG THIEUTH}) missing from font(s) DejaVu Sans.\n",
            "  fig.canvas.print_figure(bytes_io, **kw)\n",
            "/usr/local/lib/python3.11/dist-packages/IPython/core/pylabtools.py:151: UserWarning: Glyph 4520 (\\N{HANGUL JONGSEONG KIYEOK}) missing from font(s) DejaVu Sans.\n",
            "  fig.canvas.print_figure(bytes_io, **kw)\n",
            "/usr/local/lib/python3.11/dist-packages/IPython/core/pylabtools.py:151: UserWarning: Glyph 4457 (\\N{HANGUL JUNGSEONG O}) missing from font(s) DejaVu Sans.\n",
            "  fig.canvas.print_figure(bytes_io, **kw)\n",
            "/usr/local/lib/python3.11/dist-packages/IPython/core/pylabtools.py:151: UserWarning: Glyph 4366 (\\N{HANGUL CHOSEONG CHIEUCH}) missing from font(s) DejaVu Sans.\n",
            "  fig.canvas.print_figure(bytes_io, **kw)\n",
            "/usr/local/lib/python3.11/dist-packages/IPython/core/pylabtools.py:151: UserWarning: Glyph 4367 (\\N{HANGUL CHOSEONG KHIEUKH}) missing from font(s) DejaVu Sans.\n",
            "  fig.canvas.print_figure(bytes_io, **kw)\n",
            "/usr/local/lib/python3.11/dist-packages/IPython/core/pylabtools.py:151: UserWarning: Glyph 4354 (\\N{HANGUL CHOSEONG NIEUN}) missing from font(s) DejaVu Sans.\n",
            "  fig.canvas.print_figure(bytes_io, **kw)\n",
            "/usr/local/lib/python3.11/dist-packages/IPython/core/pylabtools.py:151: UserWarning: Glyph 4466 (\\N{HANGUL JUNGSEONG YU}) missing from font(s) DejaVu Sans.\n",
            "  fig.canvas.print_figure(bytes_io, **kw)\n",
            "/usr/local/lib/python3.11/dist-packages/IPython/core/pylabtools.py:151: UserWarning: Glyph 4358 (\\N{HANGUL CHOSEONG MIEUM}) missing from font(s) DejaVu Sans.\n",
            "  fig.canvas.print_figure(bytes_io, **kw)\n",
            "/usr/local/lib/python3.11/dist-packages/IPython/core/pylabtools.py:151: UserWarning: Glyph 4540 (\\N{HANGUL JONGSEONG IEUNG}) missing from font(s) DejaVu Sans.\n",
            "  fig.canvas.print_figure(bytes_io, **kw)\n",
            "/usr/local/lib/python3.11/dist-packages/IPython/core/pylabtools.py:151: UserWarning: Glyph 4523 (\\N{HANGUL JONGSEONG NIEUN}) missing from font(s) DejaVu Sans.\n",
            "  fig.canvas.print_figure(bytes_io, **kw)\n",
            "/usr/local/lib/python3.11/dist-packages/IPython/core/pylabtools.py:151: UserWarning: Glyph 4370 (\\N{HANGUL CHOSEONG HIEUH}) missing from font(s) DejaVu Sans.\n",
            "  fig.canvas.print_figure(bytes_io, **kw)\n",
            "/usr/local/lib/python3.11/dist-packages/IPython/core/pylabtools.py:151: UserWarning: Glyph 4455 (\\N{HANGUL JUNGSEONG YEO}) missing from font(s) DejaVu Sans.\n",
            "  fig.canvas.print_figure(bytes_io, **kw)\n",
            "/usr/local/lib/python3.11/dist-packages/IPython/core/pylabtools.py:151: UserWarning: Glyph 4364 (\\N{HANGUL CHOSEONG CIEUC}) missing from font(s) DejaVu Sans.\n",
            "  fig.canvas.print_figure(bytes_io, **kw)\n",
            "/usr/local/lib/python3.11/dist-packages/IPython/core/pylabtools.py:151: UserWarning: Glyph 4359 (\\N{HANGUL CHOSEONG PIEUP}) missing from font(s) DejaVu Sans.\n",
            "  fig.canvas.print_figure(bytes_io, **kw)\n",
            "/usr/local/lib/python3.11/dist-packages/IPython/core/pylabtools.py:151: UserWarning: Glyph 4356 (\\N{HANGUL CHOSEONG SSANGTIKEUT}) missing from font(s) DejaVu Sans.\n",
            "  fig.canvas.print_figure(bytes_io, **kw)\n",
            "/usr/local/lib/python3.11/dist-packages/IPython/core/pylabtools.py:151: UserWarning: Glyph 4362 (\\N{HANGUL CHOSEONG SSANGSIOS}) missing from font(s) DejaVu Sans.\n",
            "  fig.canvas.print_figure(bytes_io, **kw)\n",
            "/usr/local/lib/python3.11/dist-packages/IPython/core/pylabtools.py:151: UserWarning: Glyph 4535 (\\N{HANGUL JONGSEONG MIEUM}) missing from font(s) DejaVu Sans.\n",
            "  fig.canvas.print_figure(bytes_io, **kw)\n"
          ]
        },
        {
          "output_type": "display_data",
          "data": {
            "text/plain": [
              "<Figure size 640x480 with 1 Axes>"
            ],
            "image/png": "[encoded data removed]"
          },
          "metadata": {}
        }
      ]
    },
    {
      "cell_type": "code",
      "source": [
        "print(\"📊 클래스 수 통계 요약\")\n",
        "print(class_counts_df.describe())"
      ],
      "metadata": {
        "colab": {
          "base_uri": "https://localhost:8080/"
        },
        "id": "JkQ-4yRJmIXz",
        "outputId": "eff2b07d-d0d8-4028-b5c1-cbcef121a53e"
      },
      "execution_count": 7,
      "outputs": [
        {
          "output_type": "stream",
          "name": "stdout",
          "text": [
            "📊 클래스 수 통계 요약\n",
            "            count\n",
            "count  397.000000\n",
            "mean    83.471033\n",
            "std      6.439485\n",
            "min      0.000000\n",
            "25%     82.000000\n",
            "50%     85.000000\n",
            "75%     87.000000\n",
            "max     90.000000\n"
          ]
        }
      ]
    },
    {
      "cell_type": "code",
      "source": [
        "# 상위 30개 클래스, 하위 30개 클래스 리스트 추출\n",
        "import os\n",
        "from collections import Counter\n",
        "\n",
        "# 클래스 통합 규칙\n",
        "merge_map = {\n",
        "    'K5_3세대_하이브리드_2020_2022': 'K5_하이브리드_3세대_2020_2023',\n",
        "    '디_올뉴니로_2022_2025': '디_올_뉴_니로_2022_2025',\n",
        "    '718_박스터_2017_2024': '박스터_718_2017_2024',\n",
        "}\n",
        "\n",
        "TRAIN_DIR = '/content/drive/MyDrive/open/train'  # 필요 시 수정\n",
        "\n",
        "# 클래스별 이미지 수 세기\n",
        "cnt = Counter([\n",
        "    merge_map.get(cls, cls)\n",
        "    for cls in os.listdir(TRAIN_DIR)\n",
        "    for _ in os.listdir(os.path.join(TRAIN_DIR, cls))\n",
        "])\n",
        "\n",
        "# 정렬 후 상위/하위 30개 클래스 추출\n",
        "sorted_cnt = dict(sorted(cnt.items(), key=lambda x: x[1], reverse=True))\n",
        "\n",
        "top_30 = list(sorted_cnt.items())[:30]\n",
        "bottom_30 = list(sorted_cnt.items())[-30:]\n",
        "\n",
        "# 출력\n",
        "print(\"🔝 상위 30개 클래스:\")\n",
        "for cls, n in top_30:\n",
        "    print(f\"{cls}: {n}장\")\n",
        "\n",
        "print(\"\\n🔻 하위 30개 클래스:\")\n",
        "for cls, n in bottom_30:\n",
        "    print(f\"{cls}: {n}장\")\n"
      ],
      "metadata": {
        "colab": {
          "base_uri": "https://localhost:8080/"
        },
        "id": "u_6ZAeXOrCaz",
        "outputId": "1ba9d524-d42a-40b9-9ef1-7380cbdf6c0b"
      },
      "execution_count": 8,
      "outputs": [
        {
          "output_type": "stream",
          "name": "stdout",
          "text": [
            "🔝 상위 30개 클래스:\n",
            "프리우스_4세대_2019_2022: 90장\n",
            "파일럿_3세대_2016_2018: 88장\n",
            "파사트_GT_B8_2018_2022: 88장\n",
            "티구안_올스페이스_2018_2023: 88장\n",
            "티볼리_에어_2016_2019: 88장\n",
            "콰트로포르테_2014_2016: 88장\n",
            "쿠퍼_클럽맨_2016_2024: 88장\n",
            "쿠퍼_컨트리맨_2012_2015: 88장\n",
            "체로키_KL_2019_2023: 88장\n",
            "일렉트리파이드_GV70_2022_2024: 88장\n",
            "익스플로러_2016_2017: 88장\n",
            "올_뉴_모닝_JA_2017_2020: 88장\n",
            "올_뉴_K7_하이브리드_2017_2019: 88장\n",
            "올_뉴_말리부_2017_2018: 88장\n",
            "엑센트_신형_2011_2019: 88장\n",
            "알티마_2017_2018: 88장\n",
            "아반떼_하이브리드_CN7_2021_2023: 88장\n",
            "아이오닉5_2022_2023: 88장\n",
            "싼타페_MX5_2024_2025: 88장\n",
            "시에나_4세대_2021_2024: 88장\n",
            "싼타페_더_프라임_2016_2018: 88장\n",
            "스팅어_2018_2020: 88장\n",
            "뷰티풀_코란도_2019_2024: 88장\n",
            "스팅어_마이스터_2021_2023: 88장\n",
            "모델_3_2024_2025: 88장\n",
            "모델_Y_2021_2025: 88장\n",
            "모델_3_2019_2022: 88장\n",
            "모닝_어반_JA_2021_2023: 88장\n",
            "머스탱_2015_2023: 88장\n",
            "르반떼_2017_2022: 88장\n",
            "\n",
            "🔻 하위 30개 클래스:\n",
            "G90_2019_2022: 77장\n",
            "4시리즈_G22_2024_2025: 77장\n",
            "렉스턴_스포츠_2018_2021: 76장\n",
            "더_뉴_맥스크루즈_2016_2018: 76장\n",
            "뉴_CC_2012_2016: 76장\n",
            "LF_쏘나타_2015_2017: 76장\n",
            "i4_2022_2024: 76장\n",
            "iX_2022_2024: 76장\n",
            "팰리세이드_LX3_2025: 75장\n",
            "스토닉_2018_2020: 75장\n",
            "더_뉴_K9_2세대_2022_2025: 75장\n",
            "스파크_2012_2015: 74장\n",
            "리얼_뉴_콜로라도_2021_2022: 74장\n",
            "말리부_2012_2016: 74장\n",
            "트랙스_크로스오버_2024_2025: 73장\n",
            "뉴_스타일_코란도_C_2017_2019: 73장\n",
            "아이오닉_하이브리드_2016_2019: 72장\n",
            "더_뉴_코란도_스포츠_2016_2018: 72장\n",
            "그랜저_GN7_2023_2025: 72장\n",
            "RAV4_2016_2018: 72장\n",
            "토레스_2023_2025: 70장\n",
            "더_뉴_K7_2013_2016: 70장\n",
            "티볼리_에어_2021_2022: 66장\n",
            "스타리아_2022_2025: 66장\n",
            "트레일블레이저_2023: 65장\n",
            "마칸_2022_2024: 65장\n",
            "2시리즈_액티브_투어러_F45_2019_2021: 64장\n",
            "디_올_뉴_스포티지_2022_2024: 60장\n",
            "뉴_QM6_2021_2023: 59장\n",
            "K5_3세대_하이브리드_2020_2022: 57장\n"
          ]
        }
      ]
    },
    {
      "cell_type": "code",
      "source": [
        "# ✅ 1. Config 설정\n",
        "import torch  # ✅ torch 먼저 import 필수!\n",
        "\n",
        "CFG = {\n",
        "    \"IMG_SIZE\": 224,\n",
        "    \"EPOCHS\": 10,\n",
        "    \"LEARNING_RATE\": 1e-4,\n",
        "    \"BATCH_SIZE\": 32,\n",
        "    \"SEED\": 42,\n",
        "    \"N_CLASSES\": 396,\n",
        "    \"LABEL_SMOOTHING\": 0.1,\n",
        "    \"DEVICE\": \"cuda\" if torch.cuda.is_available() else \"cpu\"\n",
        "}\n"
      ],
      "metadata": {
        "id": "qg4FpgbGy7Ej"
      },
      "execution_count": 9,
      "outputs": []
    },
    {
      "cell_type": "code",
      "source": [
        "# A. CustomDataset 구현 (Mixup은 later step)\n",
        "from torchvision import transforms\n",
        "from torch.utils.data import Dataset\n",
        "from PIL import Image\n",
        "import os\n",
        "\n",
        "class CustomDataset(Dataset):\n",
        "    def __init__(self, file_paths, labels, transform=None):\n",
        "        self.file_paths = file_paths\n",
        "        self.labels = labels\n",
        "        self.transform = transform\n",
        "\n",
        "    def __len__(self):\n",
        "        return len(self.file_paths)\n",
        "\n",
        "    def __getitem__(self, idx):\n",
        "        image = Image.open(self.file_paths[idx]).convert(\"RGB\")\n",
        "        if self.transform:\n",
        "            image = self.transform(image)\n",
        "        label = self.labels[idx]\n",
        "        return image, label\n",
        "\n",
        "# B. Transform 정의\n",
        "train_transform = transforms.Compose([\n",
        "    transforms.Resize((CFG['IMG_SIZE'], CFG['IMG_SIZE'])),\n",
        "    transforms.RandomHorizontalFlip(),\n",
        "    transforms.RandomRotation(15),\n",
        "    transforms.ColorJitter(brightness=0.2, contrast=0.2, saturation=0.2, hue=0.1),\n",
        "    transforms.ToTensor(),\n",
        "    transforms.Normalize(mean=[0.485, 0.456, 0.406],\n",
        "                         std=[0.229, 0.224, 0.225]),\n",
        "])\n",
        "\n",
        "# C. Label Smoothing CrossEntropyLoss 정의\n",
        "import torch.nn.functional as F\n",
        "\n",
        "class SmoothCrossEntropyLoss(torch.nn.Module):\n",
        "    def __init__(self, smoothing=0.1):\n",
        "        super(SmoothCrossEntropyLoss, self).__init__()\n",
        "        self.smoothing = smoothing\n",
        "        self.confidence = 1.0 - smoothing\n",
        "\n",
        "    def forward(self, pred, target):\n",
        "        log_probs = F.log_softmax(pred, dim=-1)\n",
        "        true_dist = torch.zeros_like(log_probs)\n",
        "        true_dist.fill_(self.smoothing / (CFG['N_CLASSES'] - 1))\n",
        "        true_dist.scatter_(1, target.data.unsqueeze(1), self.confidence)\n",
        "        return torch.mean(torch.sum(-true_dist * log_probs, dim=-1))\n"
      ],
      "metadata": {
        "id": "30MbUTHxzLLT"
      },
      "execution_count": 10,
      "outputs": []
    },
    {
      "cell_type": "code",
      "source": [
        "# A. 파일 경로 및 라벨 구성\n",
        "import glob\n",
        "import os\n",
        "\n",
        "TRAIN_DIR = \"/content/drive/MyDrive/open/train\"\n",
        "all_class_names = sorted(os.listdir(TRAIN_DIR))  # class 폴더 이름들\n",
        "class_to_idx = {cls_name: i for i, cls_name in enumerate(all_class_names)}\n",
        "\n",
        "file_paths = []\n",
        "labels = []\n",
        "\n",
        "for cls_name in all_class_names:\n",
        "    image_paths = glob.glob(os.path.join(TRAIN_DIR, cls_name, \"*.jpg\"))\n",
        "    file_paths.extend(image_paths)\n",
        "    labels.extend([class_to_idx[cls_name]] * len(image_paths))\n",
        "\n",
        "print(f\"📌 전체 이미지 수: {len(file_paths)}, 클래스 수: {len(class_to_idx)}\")\n"
      ],
      "metadata": {
        "colab": {
          "base_uri": "https://localhost:8080/"
        },
        "id": "6Tp7Vwze0_qr",
        "outputId": "47afb47e-2c6a-4def-ad0a-2a4fbdc10e99"
      },
      "execution_count": 11,
      "outputs": [
        {
          "output_type": "stream",
          "name": "stdout",
          "text": [
            "📌 전체 이미지 수: 33137, 클래스 수: 397\n"
          ]
        }
      ]
    },
    {
      "cell_type": "code",
      "source": [
        "# 각 클래스별 파일 수를 확인하여 이상 클래스 찾기\n",
        "from collections import Counter\n",
        "\n",
        "file_counts = Counter()\n",
        "for cls_name in all_class_names:\n",
        "    image_paths = glob.glob(os.path.join(TRAIN_DIR, cls_name, '*.jpg'))\n",
        "    file_counts[cls_name] = len(image_paths)\n",
        "\n",
        "# 가장 이미지 수 많은 클래스 확인\n",
        "print(\"🔍 이미지 수 많은 클래스 Top 3:\")\n",
        "print(file_counts.most_common(3))\n"
      ],
      "metadata": {
        "colab": {
          "base_uri": "https://localhost:8080/"
        },
        "id": "ctRwePie_cFl",
        "outputId": "fc4f9e56-31e0-4680-80e5-a379d1243b6b"
      },
      "execution_count": 12,
      "outputs": [
        {
          "output_type": "stream",
          "name": "stdout",
          "text": [
            "🔍 이미지 수 많은 클래스 Top 3:\n",
            "[('프리우스_4세대_2019_2022', 90), ('3시리즈_E90_2005_2012', 88), ('3시리즈_F30_2013_2018', 88)]\n"
          ]
        }
      ]
    },
    {
      "cell_type": "code",
      "source": [
        "import glob\n",
        "import os\n",
        "\n",
        "TRAIN_DIR = '/content/drive/MyDrive/open/train'\n",
        "\n",
        "# 전체 .jpg 파일 수 확인\n",
        "all_images = glob.glob(os.path.join(TRAIN_DIR, '*', '*.jpg'))\n",
        "print(f\"🔍 전체 .jpg 파일 수: {len(all_images)}\")\n"
      ],
      "metadata": {
        "colab": {
          "base_uri": "https://localhost:8080/"
        },
        "id": "xUjJ5iXf_nL7",
        "outputId": "41a4adaa-df36-453c-c31b-9458ced55cce"
      },
      "execution_count": 13,
      "outputs": [
        {
          "output_type": "stream",
          "name": "stdout",
          "text": [
            "🔍 전체 .jpg 파일 수: 33137\n"
          ]
        }
      ]
    },
    {
      "cell_type": "code",
      "source": [
        "from collections import defaultdict\n",
        "\n",
        "# 클래스별 이미지 수 확인\n",
        "class_image_count = defaultdict(int)\n",
        "total_from_folders = 0\n",
        "\n",
        "for class_folder in os.listdir(TRAIN_DIR):\n",
        "    class_path = os.path.join(TRAIN_DIR, class_folder)\n",
        "    if os.path.isdir(class_path):\n",
        "        image_paths = glob.glob(os.path.join(class_path, '*.jpg'))\n",
        "        n_images = len(image_paths)\n",
        "        class_image_count[class_folder] = n_images\n",
        "        total_from_folders += n_images\n",
        "\n",
        "print(f\"📊 클래스 폴더 내 이미지 총합: {total_from_folders}\")\n"
      ],
      "metadata": {
        "colab": {
          "base_uri": "https://localhost:8080/"
        },
        "id": "lY-qOs0A_qR7",
        "outputId": "f5bb28c3-d742-4419-d2c4-5bd83351d1b6"
      },
      "execution_count": 14,
      "outputs": [
        {
          "output_type": "stream",
          "name": "stdout",
          "text": [
            "📊 클래스 폴더 내 이미지 총합: 33137\n"
          ]
        }
      ]
    },
    {
      "cell_type": "code",
      "source": [
        "# .jpg 외 확장자 파일 확인\n",
        "non_jpg_files = []\n",
        "\n",
        "for class_folder in os.listdir(TRAIN_DIR):\n",
        "    class_path = os.path.join(TRAIN_DIR, class_folder)\n",
        "    if os.path.isdir(class_path):\n",
        "        files = os.listdir(class_path)\n",
        "        for f in files:\n",
        "            if not f.lower().endswith('.jpg'):\n",
        "                non_jpg_files.append(os.path.join(class_folder, f))\n",
        "\n",
        "if non_jpg_files:\n",
        "    print(\"⚠️ .jpg 외 예외 파일 목록:\")\n",
        "    for f in non_jpg_files:\n",
        "        print(f\"  - {f}\")\n",
        "else:\n",
        "    print(\"✅ 모든 파일이 .jpg 형식입니다.\")\n"
      ],
      "metadata": {
        "colab": {
          "base_uri": "https://localhost:8080/"
        },
        "id": "rcH2bXs__vZb",
        "outputId": "18edffa2-3930-4a44-978a-2c90b429fbe3"
      },
      "execution_count": 15,
      "outputs": [
        {
          "output_type": "stream",
          "name": "stdout",
          "text": [
            "⚠️ .jpg 외 예외 파일 목록:\n",
            "  - X7_G07_2019_2022/.ipynb_checkpoints\n"
          ]
        }
      ]
    },
    {
      "cell_type": "code",
      "source": [
        "# B. Train-Valid Split\n",
        "from sklearn.model_selection import StratifiedKFold\n",
        "import numpy as np\n",
        "\n",
        "skf = StratifiedKFold(n_splits=5, shuffle=True, random_state=CFG['SEED'])\n",
        "file_paths = np.array(file_paths)\n",
        "labels = np.array(labels)\n",
        "\n",
        "# 첫 번째 Fold만 예시로 사용\n",
        "for train_idx, val_idx in skf.split(file_paths, labels):\n",
        "    train_files, val_files = file_paths[train_idx], file_paths[val_idx]\n",
        "    train_labels, val_labels = labels[train_idx], labels[val_idx]\n",
        "    break\n",
        "\n",
        "from torch.utils.data import DataLoader\n",
        "\n",
        "train_dataset = CustomDataset(train_files, train_labels, transform=train_transform)\n",
        "val_dataset = CustomDataset(val_files, val_labels, transform=train_transform)\n",
        "\n",
        "train_loader = DataLoader(train_dataset, batch_size=CFG['BATCH_SIZE'], shuffle=True, num_workers=2)\n",
        "val_loader = DataLoader(val_dataset, batch_size=CFG['BATCH_SIZE'], shuffle=False, num_workers=2)\n"
      ],
      "metadata": {
        "id": "B89MxMqp1EWK"
      },
      "execution_count": 16,
      "outputs": []
    },
    {
      "cell_type": "code",
      "source": [
        "# EfficientNet-B5 모델 정의\n",
        "import timm\n",
        "import torch.nn as nn\n",
        "\n",
        "class EffNetB5(nn.Module):\n",
        "    def __init__(self, num_classes):\n",
        "        super(EffNetB5, self).__init__()\n",
        "        self.backbone = timm.create_model('tf_efficientnet_b5', pretrained=True)\n",
        "        in_features = self.backbone.classifier.in_features\n",
        "        self.backbone.classifier = nn.Linear(in_features, num_classes)\n",
        "\n",
        "    def forward(self, x):\n",
        "        return self.backbone(x)\n",
        "\n",
        "model = EffNetB5(num_classes=CFG[\"N_CLASSES\"])\n",
        "model = model.to(CFG[\"DEVICE\"])  # ✅ 바로 여기!\n"
      ],
      "metadata": {
        "colab": {
          "base_uri": "https://localhost:8080/"
        },
        "id": "fRzkpso41R5k",
        "outputId": "cb626096-a131-4160-d234-9173cfe84b72"
      },
      "execution_count": 17,
      "outputs": [
        {
          "output_type": "stream",
          "name": "stderr",
          "text": [
            "/usr/local/lib/python3.11/dist-packages/huggingface_hub/utils/_auth.py:94: UserWarning: \n",
            "The secret `HF_TOKEN` does not exist in your Colab secrets.\n",
            "To authenticate with the Hugging Face Hub, create a token in your settings tab (https://huggingface.co/settings/tokens), set it as secret in your Google Colab and restart your session.\n",
            "You will be able to reuse this secret in all of your notebooks.\n",
            "Please note that authentication is recommended but still optional to access public models or datasets.\n",
            "  warnings.warn(\n"
          ]
        }
      ]
    },
    {
      "cell_type": "code",
      "source": [
        "import torch.optim as optim\n",
        "import numpy as np\n",
        "import torch.nn as nn\n",
        "\n",
        "# ✅ Optimizer & Scheduler\n",
        "optimizer = optim.AdamW(model.parameters(), lr=CFG[\"LEARNING_RATE\"])\n",
        "scheduler = optim.lr_scheduler.CosineAnnealingLR(optimizer, T_max=CFG[\"EPOCHS\"], eta_min=1e-6)\n",
        "\n",
        "# ✅ Label Smoothing Loss 정의\n",
        "class SmoothCrossEntropyLoss(nn.Module):\n",
        "    def __init__(self, smoothing=0.1):\n",
        "        super(SmoothCrossEntropyLoss, self).__init__()\n",
        "        self.smoothing = smoothing\n",
        "\n",
        "    def forward(self, preds, targets):\n",
        "        n_classes = preds.size(1)\n",
        "        one_hot = torch.zeros_like(preds).scatter(1, targets.unsqueeze(1), 1)\n",
        "        smooth_labels = one_hot * (1 - self.smoothing) + self.smoothing / n_classes\n",
        "        log_probs = torch.log_softmax(preds, dim=1)\n",
        "        loss = - (smooth_labels * log_probs).sum(dim=1).mean()\n",
        "        return loss\n",
        "\n",
        "criterion = SmoothCrossEntropyLoss(smoothing=CFG[\"LABEL_SMOOTHING\"])\n",
        "\n",
        "# ✅ Mixup 함수 정의\n",
        "def mixup_data(x, y, alpha=1.0):\n",
        "    if alpha > 0:\n",
        "        lam = np.random.beta(alpha, alpha)\n",
        "    else:\n",
        "        lam = 1.0\n",
        "    batch_size = x.size(0)\n",
        "    index = torch.randperm(batch_size).to(x.device)\n",
        "\n",
        "    mixed_x = lam * x + (1 - lam) * x[index]\n",
        "    y_a, y_b = y, y[index]\n",
        "    return mixed_x, y_a, y_b, lam\n",
        "\n",
        "# ✅ 학습 함수 (Mixup 포함)\n",
        "def train_one_epoch(model, dataloader, optimizer, criterion, device):\n",
        "    model.train()\n",
        "    total_loss = 0\n",
        "\n",
        "    for imgs, labels in dataloader:\n",
        "        imgs = imgs.to(device)\n",
        "        labels = labels.to(device)\n",
        "\n",
        "        # Mixup 적용\n",
        "        mixed_imgs, labels_a, labels_b, lam = mixup_data(imgs, labels, alpha=1.0)\n",
        "\n",
        "        # Forward\n",
        "        outputs = model(mixed_imgs)\n",
        "        loss = lam * criterion(outputs, labels_a) + (1 - lam) * criterion(outputs, labels_b)\n",
        "\n",
        "        # Backward\n",
        "        optimizer.zero_grad()\n",
        "        loss.backward()\n",
        "        optimizer.step()\n",
        "\n",
        "        total_loss += loss.item()\n",
        "\n",
        "    return total_loss / len(dataloader)\n"
      ],
      "metadata": {
        "id": "VTOzymbE1Yfj"
      },
      "execution_count": 18,
      "outputs": []
    },
    {
      "cell_type": "code",
      "source": [
        "# 학습 & 검증 루프\n",
        "from tqdm import tqdm\n",
        "import os\n",
        "\n",
        "best_acc = 0.0\n",
        "os.makedirs(\"checkpoints\", exist_ok=True)\n",
        "\n",
        "def train_one_epoch(model, dataloader, optimizer, criterion, device):\n",
        "    model.train()\n",
        "    total_loss = 0\n",
        "\n",
        "    for imgs, labels in tqdm(dataloader):\n",
        "        imgs, labels = imgs.to(device), labels.to(device)\n",
        "        imgs, targets_a, targets_b, lam = mixup_data(imgs, labels, alpha=1.0)\n",
        "\n",
        "        optimizer.zero_grad()\n",
        "        outputs = model(imgs)\n",
        "        loss = lam * criterion(outputs, targets_a) + (1 - lam) * criterion(outputs, targets_b)\n",
        "\n",
        "        loss.backward()\n",
        "        optimizer.step()\n",
        "        total_loss += loss.item()\n",
        "\n",
        "    return total_loss / len(dataloader)\n",
        "\n",
        "def validate(model, dataloader, criterion, device):\n",
        "    model.eval()\n",
        "    total_loss = 0\n",
        "    correct = 0\n",
        "    total = 0\n",
        "\n",
        "    with torch.no_grad():\n",
        "        for imgs, labels in dataloader:\n",
        "            imgs, labels = imgs.to(device), labels.to(device)\n",
        "            outputs = model(imgs)\n",
        "            loss = criterion(outputs, labels)\n",
        "            total_loss += loss.item()\n",
        "\n",
        "            preds = outputs.argmax(1)\n",
        "            correct += (preds == labels).sum().item()\n",
        "            total += labels.size(0)\n",
        "\n",
        "    val_acc = correct / total\n",
        "    return total_loss / len(dataloader), val_acc\n",
        "\n",
        "# 전체 학습 루프\n",
        "for epoch in range(1, CFG[\"EPOCHS\"] + 1):\n",
        "    print(f\"\\n🔁 Epoch {epoch}/{CFG['EPOCHS']}\")\n",
        "\n",
        "    train_loss = train_one_epoch(model, train_loader, optimizer, criterion, CFG[\"DEVICE\"])\n",
        "    val_loss, val_acc = validate(model, val_loader, criterion, CFG[\"DEVICE\"])\n",
        "    scheduler.step()\n",
        "\n",
        "    print(f\"📉 Train Loss: {train_loss:.4f} | 🔎 Val Loss: {val_loss:.4f} | 🎯 Val Acc: {val_acc:.4f}\")\n",
        "\n",
        "    # 최고 모델 저장\n",
        "    if val_acc > best_acc:\n",
        "        best_acc = val_acc\n",
        "        torch.save(model.state_dict(), f\"checkpoints/best_model_epoch{epoch}_acc{val_acc:.4f}.pth\")\n",
        "        print(f\"✅ Best model saved at epoch {epoch} with acc: {val_acc:.4f}\")\n"
      ],
      "metadata": {
        "colab": {
          "base_uri": "https://localhost:8080/",
          "height": 428
        },
        "id": "6AsDyJoL1mwc",
        "outputId": "9d2a6619-08a3-4360-fa17-995d6a1671ee"
      },
      "execution_count": 19,
      "outputs": [
        {
          "output_type": "stream",
          "name": "stdout",
          "text": [
            "\n",
            "🔁 Epoch 1/10\n"
          ]
        },
        {
          "output_type": "stream",
          "name": "stderr",
          "text": [
            "  0%|          | 2/829 [00:49<5:39:39, 24.64s/it]\n"
          ]
        },
        {
          "output_type": "error",
          "ename": "RuntimeError",
          "evalue": "cuDNN error: CUDNN_STATUS_BAD_PARAM_STREAM_MISMATCH",
          "traceback": [
            "\u001b[0;31m---------------------------------------------------------------------------\u001b[0m",
            "\u001b[0;31mRuntimeError\u001b[0m                              Traceback (most recent call last)",
            "\u001b[0;32m<ipython-input-19-dddbe9ef87b7>\u001b[0m in \u001b[0;36m<cell line: 0>\u001b[0;34m()\u001b[0m\n\u001b[1;32m     48\u001b[0m     \u001b[0mprint\u001b[0m\u001b[0;34m(\u001b[0m\u001b[0;34mf\"\\n🔁 Epoch {epoch}/{CFG['EPOCHS']}\"\u001b[0m\u001b[0;34m)\u001b[0m\u001b[0;34m\u001b[0m\u001b[0;34m\u001b[0m\u001b[0m\n\u001b[1;32m     49\u001b[0m \u001b[0;34m\u001b[0m\u001b[0m\n\u001b[0;32m---> 50\u001b[0;31m     \u001b[0mtrain_loss\u001b[0m \u001b[0;34m=\u001b[0m \u001b[0mtrain_one_epoch\u001b[0m\u001b[0;34m(\u001b[0m\u001b[0mmodel\u001b[0m\u001b[0;34m,\u001b[0m \u001b[0mtrain_loader\u001b[0m\u001b[0;34m,\u001b[0m \u001b[0moptimizer\u001b[0m\u001b[0;34m,\u001b[0m \u001b[0mcriterion\u001b[0m\u001b[0;34m,\u001b[0m \u001b[0mCFG\u001b[0m\u001b[0;34m[\u001b[0m\u001b[0;34m\"DEVICE\"\u001b[0m\u001b[0;34m]\u001b[0m\u001b[0;34m)\u001b[0m\u001b[0;34m\u001b[0m\u001b[0;34m\u001b[0m\u001b[0m\n\u001b[0m\u001b[1;32m     51\u001b[0m     \u001b[0mval_loss\u001b[0m\u001b[0;34m,\u001b[0m \u001b[0mval_acc\u001b[0m \u001b[0;34m=\u001b[0m \u001b[0mvalidate\u001b[0m\u001b[0;34m(\u001b[0m\u001b[0mmodel\u001b[0m\u001b[0;34m,\u001b[0m \u001b[0mval_loader\u001b[0m\u001b[0;34m,\u001b[0m \u001b[0mcriterion\u001b[0m\u001b[0;34m,\u001b[0m \u001b[0mCFG\u001b[0m\u001b[0;34m[\u001b[0m\u001b[0;34m\"DEVICE\"\u001b[0m\u001b[0;34m]\u001b[0m\u001b[0;34m)\u001b[0m\u001b[0;34m\u001b[0m\u001b[0;34m\u001b[0m\u001b[0m\n\u001b[1;32m     52\u001b[0m     \u001b[0mscheduler\u001b[0m\u001b[0;34m.\u001b[0m\u001b[0mstep\u001b[0m\u001b[0;34m(\u001b[0m\u001b[0;34m)\u001b[0m\u001b[0;34m\u001b[0m\u001b[0;34m\u001b[0m\u001b[0m\n",
            "\u001b[0;32m<ipython-input-19-dddbe9ef87b7>\u001b[0m in \u001b[0;36mtrain_one_epoch\u001b[0;34m(model, dataloader, optimizer, criterion, device)\u001b[0m\n\u001b[1;32m     18\u001b[0m         \u001b[0mloss\u001b[0m \u001b[0;34m=\u001b[0m \u001b[0mlam\u001b[0m \u001b[0;34m*\u001b[0m \u001b[0mcriterion\u001b[0m\u001b[0;34m(\u001b[0m\u001b[0moutputs\u001b[0m\u001b[0;34m,\u001b[0m \u001b[0mtargets_a\u001b[0m\u001b[0;34m)\u001b[0m \u001b[0;34m+\u001b[0m \u001b[0;34m(\u001b[0m\u001b[0;36m1\u001b[0m \u001b[0;34m-\u001b[0m \u001b[0mlam\u001b[0m\u001b[0;34m)\u001b[0m \u001b[0;34m*\u001b[0m \u001b[0mcriterion\u001b[0m\u001b[0;34m(\u001b[0m\u001b[0moutputs\u001b[0m\u001b[0;34m,\u001b[0m \u001b[0mtargets_b\u001b[0m\u001b[0;34m)\u001b[0m\u001b[0;34m\u001b[0m\u001b[0;34m\u001b[0m\u001b[0m\n\u001b[1;32m     19\u001b[0m \u001b[0;34m\u001b[0m\u001b[0m\n\u001b[0;32m---> 20\u001b[0;31m         \u001b[0mloss\u001b[0m\u001b[0;34m.\u001b[0m\u001b[0mbackward\u001b[0m\u001b[0;34m(\u001b[0m\u001b[0;34m)\u001b[0m\u001b[0;34m\u001b[0m\u001b[0;34m\u001b[0m\u001b[0m\n\u001b[0m\u001b[1;32m     21\u001b[0m         \u001b[0moptimizer\u001b[0m\u001b[0;34m.\u001b[0m\u001b[0mstep\u001b[0m\u001b[0;34m(\u001b[0m\u001b[0;34m)\u001b[0m\u001b[0;34m\u001b[0m\u001b[0;34m\u001b[0m\u001b[0m\n\u001b[1;32m     22\u001b[0m         \u001b[0mtotal_loss\u001b[0m \u001b[0;34m+=\u001b[0m \u001b[0mloss\u001b[0m\u001b[0;34m.\u001b[0m\u001b[0mitem\u001b[0m\u001b[0;34m(\u001b[0m\u001b[0;34m)\u001b[0m\u001b[0;34m\u001b[0m\u001b[0;34m\u001b[0m\u001b[0m\n",
            "\u001b[0;32m/usr/local/lib/python3.11/dist-packages/torch/_tensor.py\u001b[0m in \u001b[0;36mbackward\u001b[0;34m(self, gradient, retain_graph, create_graph, inputs)\u001b[0m\n\u001b[1;32m    624\u001b[0m                 \u001b[0minputs\u001b[0m\u001b[0;34m=\u001b[0m\u001b[0minputs\u001b[0m\u001b[0;34m,\u001b[0m\u001b[0;34m\u001b[0m\u001b[0;34m\u001b[0m\u001b[0m\n\u001b[1;32m    625\u001b[0m             )\n\u001b[0;32m--> 626\u001b[0;31m         torch.autograd.backward(\n\u001b[0m\u001b[1;32m    627\u001b[0m             \u001b[0mself\u001b[0m\u001b[0;34m,\u001b[0m \u001b[0mgradient\u001b[0m\u001b[0;34m,\u001b[0m \u001b[0mretain_graph\u001b[0m\u001b[0;34m,\u001b[0m \u001b[0mcreate_graph\u001b[0m\u001b[0;34m,\u001b[0m \u001b[0minputs\u001b[0m\u001b[0;34m=\u001b[0m\u001b[0minputs\u001b[0m\u001b[0;34m\u001b[0m\u001b[0;34m\u001b[0m\u001b[0m\n\u001b[1;32m    628\u001b[0m         )\n",
            "\u001b[0;32m/usr/local/lib/python3.11/dist-packages/torch/autograd/__init__.py\u001b[0m in \u001b[0;36mbackward\u001b[0;34m(tensors, grad_tensors, retain_graph, create_graph, grad_variables, inputs)\u001b[0m\n\u001b[1;32m    345\u001b[0m     \u001b[0;31m# some Python versions print out the first line of a multi-line function\u001b[0m\u001b[0;34m\u001b[0m\u001b[0;34m\u001b[0m\u001b[0m\n\u001b[1;32m    346\u001b[0m     \u001b[0;31m# calls in the traceback and some print out the last line\u001b[0m\u001b[0;34m\u001b[0m\u001b[0;34m\u001b[0m\u001b[0m\n\u001b[0;32m--> 347\u001b[0;31m     _engine_run_backward(\n\u001b[0m\u001b[1;32m    348\u001b[0m         \u001b[0mtensors\u001b[0m\u001b[0;34m,\u001b[0m\u001b[0;34m\u001b[0m\u001b[0;34m\u001b[0m\u001b[0m\n\u001b[1;32m    349\u001b[0m         \u001b[0mgrad_tensors_\u001b[0m\u001b[0;34m,\u001b[0m\u001b[0;34m\u001b[0m\u001b[0;34m\u001b[0m\u001b[0m\n",
            "\u001b[0;32m/usr/local/lib/python3.11/dist-packages/torch/autograd/graph.py\u001b[0m in \u001b[0;36m_engine_run_backward\u001b[0;34m(t_outputs, *args, **kwargs)\u001b[0m\n\u001b[1;32m    821\u001b[0m         \u001b[0munregister_hooks\u001b[0m \u001b[0;34m=\u001b[0m \u001b[0m_register_logging_hooks_on_whole_graph\u001b[0m\u001b[0;34m(\u001b[0m\u001b[0mt_outputs\u001b[0m\u001b[0;34m)\u001b[0m\u001b[0;34m\u001b[0m\u001b[0;34m\u001b[0m\u001b[0m\n\u001b[1;32m    822\u001b[0m     \u001b[0;32mtry\u001b[0m\u001b[0;34m:\u001b[0m\u001b[0;34m\u001b[0m\u001b[0;34m\u001b[0m\u001b[0m\n\u001b[0;32m--> 823\u001b[0;31m         return Variable._execution_engine.run_backward(  # Calls into the C++ engine to run the backward pass\n\u001b[0m\u001b[1;32m    824\u001b[0m             \u001b[0mt_outputs\u001b[0m\u001b[0;34m,\u001b[0m \u001b[0;34m*\u001b[0m\u001b[0margs\u001b[0m\u001b[0;34m,\u001b[0m \u001b[0;34m**\u001b[0m\u001b[0mkwargs\u001b[0m\u001b[0;34m\u001b[0m\u001b[0;34m\u001b[0m\u001b[0m\n\u001b[1;32m    825\u001b[0m         )  # Calls into the C++ engine to run the backward pass\n",
            "\u001b[0;31mRuntimeError\u001b[0m: cuDNN error: CUDNN_STATUS_BAD_PARAM_STREAM_MISMATCH"
          ]
        }
      ]
    }
  ]
}