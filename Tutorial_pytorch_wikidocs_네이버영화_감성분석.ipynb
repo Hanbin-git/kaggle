{
  "metadata": {
    "kernelspec": {
      "language": "python",
      "display_name": "Python 3",
      "name": "python3"
    },
    "language_info": {
      "name": "python",
      "version": "3.10.14",
      "mimetype": "text/x-python",
      "codemirror_mode": {
        "name": "ipython",
        "version": 3
      },
      "pygments_lexer": "ipython3",
      "nbconvert_exporter": "python",
      "file_extension": ".py"
    },
    "kaggle": {
      "accelerator": "nvidiaTeslaT4",
      "dataSources": [],
      "dockerImageVersionId": 30787,
      "isInternetEnabled": true,
      "language": "python",
      "sourceType": "notebook",
      "isGpuEnabled": true
    },
    "colab": {
      "name": "Tutorial-pytorch-wikidocs-네이버영화-감성분석",
      "provenance": [],
      "include_colab_link": true
    }
  },
  "nbformat_minor": 0,
  "nbformat": 4,
  "cells": [
    {
      "cell_type": "markdown",
      "metadata": {
        "id": "view-in-github",
        "colab_type": "text"
      },
      "source": [
        "<a href=\"https://colab.research.google.com/github/Hanbin-git/kaggle/blob/main/Tutorial_pytorch_wikidocs_%EB%84%A4%EC%9D%B4%EB%B2%84%EC%98%81%ED%99%94_%EA%B0%90%EC%84%B1%EB%B6%84%EC%84%9D.ipynb\" target=\"_parent\"><img src=\"https://colab.research.google.com/assets/colab-badge.svg\" alt=\"Open In Colab\"/></a>"
      ]
    },
    {
      "cell_type": "code",
      "source": [
        "# pip install konlpy -q"
      ],
      "metadata": {
        "trusted": true,
        "execution": {
          "iopub.status.busy": "2025-05-09T05:49:13.836568Z",
          "iopub.execute_input": "2025-05-09T05:49:13.837295Z",
          "iopub.status.idle": "2025-05-09T05:49:13.840925Z",
          "shell.execute_reply.started": "2025-05-09T05:49:13.837259Z",
          "shell.execute_reply": "2025-05-09T05:49:13.83974Z"
        },
        "id": "BMz7CpTs1lfv"
      },
      "outputs": [],
      "execution_count": null
    },
    {
      "cell_type": "code",
      "source": [
        "pip install soynlp -q"
      ],
      "metadata": {
        "trusted": true,
        "execution": {
          "iopub.status.busy": "2025-05-09T05:49:13.842436Z",
          "iopub.execute_input": "2025-05-09T05:49:13.842698Z",
          "iopub.status.idle": "2025-05-09T05:49:22.115593Z",
          "shell.execute_reply.started": "2025-05-09T05:49:13.842672Z",
          "shell.execute_reply": "2025-05-09T05:49:22.114547Z"
        },
        "id": "I1gKBXzg1lf0"
      },
      "outputs": [],
      "execution_count": null
    },
    {
      "cell_type": "code",
      "source": [
        "import pickle\n",
        "import pandas as pd\n",
        "import numpy as np\n",
        "import matplotlib.pyplot as plt\n",
        "import re\n",
        "import urllib.request\n",
        "# from konlpy.tag import Okt #Mecab\n",
        "from tqdm import tqdm\n",
        "from sklearn.model_selection import train_test_split\n",
        "from collections import Counter"
      ],
      "metadata": {
        "_uuid": "8f2839f25d086af736a60e9eeb907d3b93b6e0e5",
        "_cell_guid": "b1076dfc-b9ad-4769-8c92-a6c4dae69d19",
        "trusted": true,
        "execution": {
          "iopub.status.busy": "2025-05-09T05:49:22.117881Z",
          "iopub.execute_input": "2025-05-09T05:49:22.118291Z",
          "iopub.status.idle": "2025-05-09T05:49:22.799021Z",
          "shell.execute_reply.started": "2025-05-09T05:49:22.118246Z",
          "shell.execute_reply": "2025-05-09T05:49:22.798338Z"
        },
        "id": "kczr5aLx1lf1"
      },
      "outputs": [],
      "execution_count": null
    },
    {
      "cell_type": "markdown",
      "source": [
        "## 1. 데이터 전처리"
      ],
      "metadata": {
        "id": "uJ5BTA8r1lf2"
      }
    },
    {
      "cell_type": "code",
      "source": [
        "urllib.request.urlretrieve(\"https://raw.githubusercontent.com/e9t/nsmc/master/ratings_train.txt\", filename=\"ratings_train.txt\")\n",
        "urllib.request.urlretrieve(\"https://raw.githubusercontent.com/e9t/nsmc/master/ratings_test.txt\", filename=\"ratings_test.txt\")"
      ],
      "metadata": {
        "trusted": true,
        "execution": {
          "iopub.status.busy": "2025-05-09T05:49:22.800258Z",
          "iopub.execute_input": "2025-05-09T05:49:22.800651Z",
          "iopub.status.idle": "2025-05-09T05:49:23.281237Z",
          "shell.execute_reply.started": "2025-05-09T05:49:22.800623Z",
          "shell.execute_reply": "2025-05-09T05:49:23.28038Z"
        },
        "id": "GbqbBwjQ1lf4"
      },
      "outputs": [],
      "execution_count": null
    },
    {
      "cell_type": "code",
      "source": [
        "train_data = pd.read_table('ratings_train.txt')\n",
        "test_data = pd.read_table('ratings_test.txt')"
      ],
      "metadata": {
        "trusted": true,
        "execution": {
          "iopub.status.busy": "2025-05-09T05:49:23.283943Z",
          "iopub.execute_input": "2025-05-09T05:49:23.284404Z",
          "iopub.status.idle": "2025-05-09T05:49:23.798452Z",
          "shell.execute_reply.started": "2025-05-09T05:49:23.284377Z",
          "shell.execute_reply": "2025-05-09T05:49:23.797699Z"
        },
        "id": "Cfi3D82u1lf4"
      },
      "outputs": [],
      "execution_count": null
    },
    {
      "cell_type": "code",
      "source": [
        "# document 열의 중복 제거\n",
        "train_data.drop_duplicates(subset=['document'], inplace=True)"
      ],
      "metadata": {
        "trusted": true,
        "execution": {
          "iopub.status.busy": "2025-05-09T05:49:23.799504Z",
          "iopub.execute_input": "2025-05-09T05:49:23.79984Z",
          "iopub.status.idle": "2025-05-09T05:49:23.859329Z",
          "shell.execute_reply.started": "2025-05-09T05:49:23.799805Z",
          "shell.execute_reply": "2025-05-09T05:49:23.858687Z"
        },
        "id": "WgA0nTRm1lf5"
      },
      "outputs": [],
      "execution_count": null
    },
    {
      "cell_type": "code",
      "source": [
        "print('총 샘플의 수 :',len(train_data))"
      ],
      "metadata": {
        "trusted": true,
        "execution": {
          "iopub.status.busy": "2025-05-09T05:49:23.860335Z",
          "iopub.execute_input": "2025-05-09T05:49:23.860651Z",
          "iopub.status.idle": "2025-05-09T05:49:23.86541Z",
          "shell.execute_reply.started": "2025-05-09T05:49:23.860625Z",
          "shell.execute_reply": "2025-05-09T05:49:23.864625Z"
        },
        "id": "4nSndlGH1lf6"
      },
      "outputs": [],
      "execution_count": null
    },
    {
      "cell_type": "code",
      "source": [
        "train_data['label'].value_counts().plot(kind = 'bar')"
      ],
      "metadata": {
        "trusted": true,
        "execution": {
          "iopub.status.busy": "2025-05-09T05:49:23.86654Z",
          "iopub.execute_input": "2025-05-09T05:49:23.86731Z",
          "iopub.status.idle": "2025-05-09T05:49:24.161222Z",
          "shell.execute_reply.started": "2025-05-09T05:49:23.867271Z",
          "shell.execute_reply": "2025-05-09T05:49:24.160357Z"
        },
        "id": "OxDm_42C1lf6"
      },
      "outputs": [],
      "execution_count": null
    },
    {
      "cell_type": "code",
      "source": [
        "print(train_data.groupby('label').size().reset_index(name = 'count'))"
      ],
      "metadata": {
        "trusted": true,
        "execution": {
          "iopub.status.busy": "2025-05-09T05:49:24.162144Z",
          "iopub.execute_input": "2025-05-09T05:49:24.162401Z",
          "iopub.status.idle": "2025-05-09T05:49:24.176329Z",
          "shell.execute_reply.started": "2025-05-09T05:49:24.162376Z",
          "shell.execute_reply": "2025-05-09T05:49:24.175473Z"
        },
        "id": "XszFrjO71lf7"
      },
      "outputs": [],
      "execution_count": null
    },
    {
      "cell_type": "code",
      "source": [
        "print(train_data.isnull().values.any())"
      ],
      "metadata": {
        "trusted": true,
        "execution": {
          "iopub.status.busy": "2025-05-09T05:49:24.177241Z",
          "iopub.execute_input": "2025-05-09T05:49:24.177548Z",
          "iopub.status.idle": "2025-05-09T05:49:24.190008Z",
          "shell.execute_reply.started": "2025-05-09T05:49:24.177522Z",
          "shell.execute_reply": "2025-05-09T05:49:24.189172Z"
        },
        "id": "w_Q3yZNT1lf7"
      },
      "outputs": [],
      "execution_count": null
    },
    {
      "cell_type": "code",
      "source": [
        "print(train_data.isnull().sum())"
      ],
      "metadata": {
        "trusted": true,
        "execution": {
          "iopub.status.busy": "2025-05-09T05:49:24.192608Z",
          "iopub.execute_input": "2025-05-09T05:49:24.192889Z",
          "iopub.status.idle": "2025-05-09T05:49:24.210396Z",
          "shell.execute_reply.started": "2025-05-09T05:49:24.192865Z",
          "shell.execute_reply": "2025-05-09T05:49:24.209479Z"
        },
        "id": "OXb03q881lf7"
      },
      "outputs": [],
      "execution_count": null
    },
    {
      "cell_type": "code",
      "source": [
        "condition = train_data.document.isnull()\n",
        "train_data.loc[condition]"
      ],
      "metadata": {
        "trusted": true,
        "execution": {
          "iopub.status.busy": "2025-05-09T05:49:24.211323Z",
          "iopub.execute_input": "2025-05-09T05:49:24.211558Z",
          "iopub.status.idle": "2025-05-09T05:49:24.234396Z",
          "shell.execute_reply.started": "2025-05-09T05:49:24.211535Z",
          "shell.execute_reply": "2025-05-09T05:49:24.233533Z"
        },
        "id": "txoDE6ry1lf8"
      },
      "outputs": [],
      "execution_count": null
    },
    {
      "cell_type": "code",
      "source": [
        "train_data = train_data.dropna(how = 'any') # Null 값이 존재하는 행 제거\n",
        "print(train_data.isnull().values.any()) # Null 값이 존재하는지 확인"
      ],
      "metadata": {
        "trusted": true,
        "execution": {
          "iopub.status.busy": "2025-05-09T05:49:24.235303Z",
          "iopub.execute_input": "2025-05-09T05:49:24.235534Z",
          "iopub.status.idle": "2025-05-09T05:49:24.262891Z",
          "shell.execute_reply.started": "2025-05-09T05:49:24.235512Z",
          "shell.execute_reply": "2025-05-09T05:49:24.262081Z"
        },
        "id": "v4J9bC321lf8"
      },
      "outputs": [],
      "execution_count": null
    },
    {
      "cell_type": "code",
      "source": [
        "# 한글과 공백을 제외하고 모두 제거\n",
        "train_data['document'] = train_data['document'].str.replace(\"[^ㄱ-ㅎㅏ-ㅣ가-힣 ]\",\"\", regex=True)\n",
        "train_data[:5]"
      ],
      "metadata": {
        "trusted": true,
        "execution": {
          "iopub.status.busy": "2025-05-09T05:49:24.263961Z",
          "iopub.execute_input": "2025-05-09T05:49:24.264277Z",
          "iopub.status.idle": "2025-05-09T05:49:24.491347Z",
          "shell.execute_reply.started": "2025-05-09T05:49:24.26424Z",
          "shell.execute_reply": "2025-05-09T05:49:24.490549Z"
        },
        "id": "rLrgAIT11lf8"
      },
      "outputs": [],
      "execution_count": null
    },
    {
      "cell_type": "code",
      "source": [
        "train_data['document'] = train_data['document'].str.replace('^ +', \"\", regex=True) # white space 데이터를 empty value로 변경\n",
        "train_data['document'].replace('', np.nan, inplace=True)\n",
        "print(train_data.isnull().sum())"
      ],
      "metadata": {
        "trusted": true,
        "execution": {
          "iopub.status.busy": "2025-05-09T05:49:24.492445Z",
          "iopub.execute_input": "2025-05-09T05:49:24.492715Z",
          "iopub.status.idle": "2025-05-09T05:49:24.634867Z",
          "shell.execute_reply.started": "2025-05-09T05:49:24.492691Z",
          "shell.execute_reply": "2025-05-09T05:49:24.634062Z"
        },
        "id": "2ekCCWm-1lf8"
      },
      "outputs": [],
      "execution_count": null
    },
    {
      "cell_type": "code",
      "source": [
        "train_data = train_data.dropna(how = 'any')\n",
        "print(len(train_data))"
      ],
      "metadata": {
        "trusted": true,
        "execution": {
          "iopub.status.busy": "2025-05-09T05:49:24.63605Z",
          "iopub.execute_input": "2025-05-09T05:49:24.636415Z",
          "iopub.status.idle": "2025-05-09T05:49:24.65582Z",
          "shell.execute_reply.started": "2025-05-09T05:49:24.636376Z",
          "shell.execute_reply": "2025-05-09T05:49:24.654903Z"
        },
        "id": "rNEoZnbZ1lf9"
      },
      "outputs": [],
      "execution_count": null
    },
    {
      "cell_type": "code",
      "source": [
        "test_data.drop_duplicates(subset = ['document'], inplace=True) # document 열에서 중복인 내용이 있다면 중복 제거\n",
        "test_data['document'] = test_data['document'].str.replace(\"[^ㄱ-ㅎㅏ-ㅣ가-힣 ]\",\"\", regex=True) # 정규 표현식 수행\n",
        "test_data['document'] = test_data['document'].str.replace('^ +', \"\", regex=True) # 공백은 empty 값으로 변경\n",
        "test_data['document'].replace('', np.nan, inplace=True) # 공백은 Null 값으로 변경\n",
        "test_data = test_data.dropna(how='any') # Null 값 제거\n",
        "print('전처리 후 테스트용 샘플의 개수 :',len(test_data))"
      ],
      "metadata": {
        "trusted": true,
        "execution": {
          "iopub.status.busy": "2025-05-09T05:49:24.657139Z",
          "iopub.execute_input": "2025-05-09T05:49:24.657481Z",
          "iopub.status.idle": "2025-05-09T05:49:24.800341Z",
          "shell.execute_reply.started": "2025-05-09T05:49:24.657444Z",
          "shell.execute_reply": "2025-05-09T05:49:24.799514Z"
        },
        "id": "rudjF3701lf9"
      },
      "outputs": [],
      "execution_count": null
    },
    {
      "cell_type": "code",
      "source": [
        "stopwords = ['도', '는', '다', '의', '가', '이', '은', '한', '에', '하', '고', '을', '를', '인', '듯', '과', '와', '네', '들', '듯', '지', '임', '게']"
      ],
      "metadata": {
        "trusted": true,
        "execution": {
          "iopub.status.busy": "2025-05-09T05:49:24.801998Z",
          "iopub.execute_input": "2025-05-09T05:49:24.802365Z",
          "iopub.status.idle": "2025-05-09T05:49:24.80714Z",
          "shell.execute_reply.started": "2025-05-09T05:49:24.802327Z",
          "shell.execute_reply": "2025-05-09T05:49:24.806342Z"
        },
        "id": "3OxIVTjd1lf9"
      },
      "outputs": [],
      "execution_count": null
    },
    {
      "cell_type": "code",
      "source": [
        "# okt = Okt()"
      ],
      "metadata": {
        "trusted": true,
        "execution": {
          "iopub.status.busy": "2025-05-09T05:49:24.808323Z",
          "iopub.execute_input": "2025-05-09T05:49:24.808649Z",
          "iopub.status.idle": "2025-05-09T05:49:24.823482Z",
          "shell.execute_reply.started": "2025-05-09T05:49:24.808613Z",
          "shell.execute_reply": "2025-05-09T05:49:24.822805Z"
        },
        "id": "RFOr-s3w1lf9"
      },
      "outputs": [],
      "execution_count": null
    },
    {
      "cell_type": "code",
      "source": [
        "# okt.morphs('와 이런 것도 영화라고 차라리 뮤직비디오를 만드는 게 나을 뻔')"
      ],
      "metadata": {
        "trusted": true,
        "execution": {
          "iopub.status.busy": "2025-05-09T05:49:24.824387Z",
          "iopub.execute_input": "2025-05-09T05:49:24.824619Z",
          "iopub.status.idle": "2025-05-09T05:49:24.839562Z",
          "shell.execute_reply.started": "2025-05-09T05:49:24.824596Z",
          "shell.execute_reply": "2025-05-09T05:49:24.83893Z"
        },
        "id": "9qi4XZp31lf-"
      },
      "outputs": [],
      "execution_count": null
    },
    {
      "cell_type": "code",
      "source": [
        "from soynlp.tokenizer import LTokenizer\n",
        "tokenizer = LTokenizer()"
      ],
      "metadata": {
        "trusted": true,
        "execution": {
          "iopub.status.busy": "2025-05-09T05:49:24.840521Z",
          "iopub.execute_input": "2025-05-09T05:49:24.840747Z",
          "iopub.status.idle": "2025-05-09T05:49:24.875586Z",
          "shell.execute_reply.started": "2025-05-09T05:49:24.840724Z",
          "shell.execute_reply": "2025-05-09T05:49:24.875014Z"
        },
        "id": "keP7FRKq1lf-"
      },
      "outputs": [],
      "execution_count": null
    },
    {
      "cell_type": "code",
      "source": [
        "X_train = []\n",
        "for sentence in tqdm(train_data['document']):\n",
        "    # tokenized_sentence = okt.morphs(sentence) # 토큰화\n",
        "    tokenized_sentence = tokenizer.tokenize(sentence)\n",
        "\n",
        "    stopwords_removed_sentence = [word for word in tokenized_sentence if not word in stopwords] # 불용어 제거\n",
        "    X_train.append(stopwords_removed_sentence)"
      ],
      "metadata": {
        "trusted": true,
        "execution": {
          "iopub.status.busy": "2025-05-09T05:49:24.876658Z",
          "iopub.execute_input": "2025-05-09T05:49:24.876872Z",
          "iopub.status.idle": "2025-05-09T05:49:28.315288Z",
          "shell.execute_reply.started": "2025-05-09T05:49:24.87685Z",
          "shell.execute_reply": "2025-05-09T05:49:28.314473Z"
        },
        "id": "oO1eKnwb1lf-"
      },
      "outputs": [],
      "execution_count": null
    },
    {
      "cell_type": "code",
      "source": [
        "X_test = []\n",
        "for sentence in tqdm(test_data['document']):\n",
        "    # tokenized_sentence = okt.morphs(sentence) # 토큰화\n",
        "    tokenized_sentence = tokenizer.tokenize(sentence)\n",
        "    stopwords_removed_sentence = [word for word in tokenized_sentence if not word in stopwords] # 불용어 제거\n",
        "    X_test.append(stopwords_removed_sentence)"
      ],
      "metadata": {
        "trusted": true,
        "execution": {
          "iopub.status.busy": "2025-05-09T05:49:28.316511Z",
          "iopub.execute_input": "2025-05-09T05:49:28.316793Z",
          "iopub.status.idle": "2025-05-09T05:49:29.436041Z",
          "shell.execute_reply.started": "2025-05-09T05:49:28.316766Z",
          "shell.execute_reply": "2025-05-09T05:49:29.435245Z"
        },
        "id": "L4MYIXDf1lf-"
      },
      "outputs": [],
      "execution_count": null
    },
    {
      "cell_type": "code",
      "source": [
        "y_train = np.array(train_data['label'])\n",
        "y_test = np.array(test_data['label'])\n",
        "X_train, X_valid, y_train, y_valid = train_test_split(X_train, y_train, test_size=0.2, random_state=0, stratify=y_train)"
      ],
      "metadata": {
        "trusted": true,
        "execution": {
          "iopub.status.busy": "2025-05-09T05:49:29.437199Z",
          "iopub.execute_input": "2025-05-09T05:49:29.437564Z",
          "iopub.status.idle": "2025-05-09T05:49:29.516229Z",
          "shell.execute_reply.started": "2025-05-09T05:49:29.437525Z",
          "shell.execute_reply": "2025-05-09T05:49:29.515483Z"
        },
        "id": "rP9CiKll1lf-"
      },
      "outputs": [],
      "execution_count": null
    },
    {
      "cell_type": "code",
      "source": [
        "print('--------학습 데이터의 비율-----------')\n",
        "print(f'부정 리뷰 = {round(np.sum(y_train==0)/len(y_train) * 100,3)}%')\n",
        "print(f'긍정 리뷰 = {round(np.count_nonzero(y_train)/len(y_train) * 100,3)}%')\n",
        "print('--------검증 데이터의 비율-----------')\n",
        "print(f'부정 리뷰 = {round(np.sum(y_valid==0)/len(y_valid) * 100,3)}%')\n",
        "print(f'긍정 리뷰 = {round(np.count_nonzero(y_valid)/len(y_valid) * 100,3)}%')\n",
        "print('--------테스트 데이터의 비율-----------')\n",
        "print(f'부정 리뷰 = {round(np.sum(y_test==0)/len(y_test) * 100,3)}%')\n",
        "print(f'긍정 리뷰 = {round(np.count_nonzero(y_test)/len(y_test) * 100,3)}%')"
      ],
      "metadata": {
        "trusted": true,
        "execution": {
          "iopub.status.busy": "2025-05-09T05:49:29.517173Z",
          "iopub.execute_input": "2025-05-09T05:49:29.517406Z",
          "iopub.status.idle": "2025-05-09T05:49:29.529231Z",
          "shell.execute_reply.started": "2025-05-09T05:49:29.517382Z",
          "shell.execute_reply": "2025-05-09T05:49:29.528338Z"
        },
        "id": "yaMXWpNZ1lf_"
      },
      "outputs": [],
      "execution_count": null
    },
    {
      "cell_type": "code",
      "source": [
        "word_list = []\n",
        "for sent in X_train:\n",
        "    for word in sent:\n",
        "      word_list.append(word)\n",
        "\n",
        "word_counts = Counter(word_list)\n",
        "print('총 단어수 :', len(word_counts))"
      ],
      "metadata": {
        "trusted": true,
        "execution": {
          "iopub.status.busy": "2025-05-09T05:49:29.530308Z",
          "iopub.execute_input": "2025-05-09T05:49:29.53053Z",
          "iopub.status.idle": "2025-05-09T05:49:29.943917Z",
          "shell.execute_reply.started": "2025-05-09T05:49:29.530508Z",
          "shell.execute_reply": "2025-05-09T05:49:29.943006Z"
        },
        "id": "s6XzIxM71lf_"
      },
      "outputs": [],
      "execution_count": null
    },
    {
      "cell_type": "code",
      "source": [
        "print('훈련 데이터에서의 단어 영화의 등장 횟수 :', word_counts['영화'])\n",
        "print('훈련 데이터에서의 단어 공감의 등장 횟수 :', word_counts['공감'])"
      ],
      "metadata": {
        "trusted": true,
        "execution": {
          "iopub.status.busy": "2025-05-09T05:49:29.945094Z",
          "iopub.execute_input": "2025-05-09T05:49:29.945404Z",
          "iopub.status.idle": "2025-05-09T05:49:29.950663Z",
          "shell.execute_reply.started": "2025-05-09T05:49:29.945376Z",
          "shell.execute_reply": "2025-05-09T05:49:29.949679Z"
        },
        "id": "_xFypl5p1lf_"
      },
      "outputs": [],
      "execution_count": null
    },
    {
      "cell_type": "code",
      "source": [
        "vocab = sorted(word_counts, key=word_counts.get, reverse=True)\n",
        "print('등장 빈도수 상위 10개 단어')\n",
        "print(vocab[:10])"
      ],
      "metadata": {
        "trusted": true,
        "execution": {
          "iopub.status.busy": "2025-05-09T05:49:29.951857Z",
          "iopub.execute_input": "2025-05-09T05:49:29.952223Z",
          "iopub.status.idle": "2025-05-09T05:49:30.034741Z",
          "shell.execute_reply.started": "2025-05-09T05:49:29.952184Z",
          "shell.execute_reply": "2025-05-09T05:49:30.033762Z"
        },
        "id": "xVHa5F7c1lf_"
      },
      "outputs": [],
      "execution_count": null
    },
    {
      "cell_type": "code",
      "source": [
        "threshold = 3\n",
        "total_cnt = len(word_counts) # 단어의 수\n",
        "rare_cnt = 0 # 등장 빈도수가 threshold보다 작은 단어의 개수를 카운트\n",
        "total_freq = 0 # 훈련 데이터의 전체 단어 빈도수 총 합\n",
        "rare_freq = 0 # 등장 빈도수가 threshold보다 작은 단어의 등장 빈도수의 총 합\n",
        "\n",
        "# 단어와 빈도수의 쌍(pair)을 key와 value로 받는다.\n",
        "for key, value in word_counts.items():\n",
        "    total_freq = total_freq + value\n",
        "\n",
        "    # 단어의 등장 빈도수가 threshold보다 작으면\n",
        "    if(value < threshold):\n",
        "        rare_cnt = rare_cnt + 1\n",
        "        rare_freq = rare_freq + value\n",
        "\n",
        "print('단어 집합(vocabulary)의 크기 :',total_cnt)\n",
        "print('등장 빈도가 %s번 이하인 희귀 단어의 수: %s'%(threshold - 1, rare_cnt))\n",
        "print(\"단어 집합에서 희귀 단어의 비율:\", (rare_cnt / total_cnt)*100)\n",
        "print(\"전체 등장 빈도에서 희귀 단어 등장 빈도 비율:\", (rare_freq / total_freq)*100)"
      ],
      "metadata": {
        "trusted": true,
        "execution": {
          "iopub.status.busy": "2025-05-09T05:49:30.040879Z",
          "iopub.execute_input": "2025-05-09T05:49:30.041278Z",
          "iopub.status.idle": "2025-05-09T05:49:30.156157Z",
          "shell.execute_reply.started": "2025-05-09T05:49:30.041246Z",
          "shell.execute_reply": "2025-05-09T05:49:30.155203Z"
        },
        "id": "pBuGmwX41lf_"
      },
      "outputs": [],
      "execution_count": null
    },
    {
      "cell_type": "code",
      "source": [
        "# 전체 단어 개수 중 빈도수 2이하인 단어는 제거.\n",
        "vocab_size = total_cnt - rare_cnt\n",
        "vocab = vocab[:vocab_size]\n",
        "print('단어 집합의 크기 :', len(vocab))"
      ],
      "metadata": {
        "trusted": true,
        "execution": {
          "iopub.status.busy": "2025-05-09T05:49:30.15718Z",
          "iopub.execute_input": "2025-05-09T05:49:30.157475Z",
          "iopub.status.idle": "2025-05-09T05:49:30.169924Z",
          "shell.execute_reply.started": "2025-05-09T05:49:30.157447Z",
          "shell.execute_reply": "2025-05-09T05:49:30.16899Z"
        },
        "id": "YHKCpxdc1lgA"
      },
      "outputs": [],
      "execution_count": null
    },
    {
      "cell_type": "code",
      "source": [
        "word_to_index = {}\n",
        "word_to_index['<PAD>'] = 0\n",
        "word_to_index['<UNK>'] = 1"
      ],
      "metadata": {
        "trusted": true,
        "execution": {
          "iopub.status.busy": "2025-05-09T05:49:30.171458Z",
          "iopub.execute_input": "2025-05-09T05:49:30.171824Z",
          "iopub.status.idle": "2025-05-09T05:49:30.179834Z",
          "shell.execute_reply.started": "2025-05-09T05:49:30.171794Z",
          "shell.execute_reply": "2025-05-09T05:49:30.179143Z"
        },
        "id": "SnqXXfVj1lgA"
      },
      "outputs": [],
      "execution_count": null
    },
    {
      "cell_type": "code",
      "source": [
        "for index, word in enumerate(vocab) :\n",
        "    word_to_index[word] = index + 2"
      ],
      "metadata": {
        "trusted": true,
        "execution": {
          "iopub.status.busy": "2025-05-09T05:49:30.180864Z",
          "iopub.execute_input": "2025-05-09T05:49:30.181175Z",
          "iopub.status.idle": "2025-05-09T05:49:30.204866Z",
          "shell.execute_reply.started": "2025-05-09T05:49:30.18111Z",
          "shell.execute_reply": "2025-05-09T05:49:30.20415Z"
        },
        "id": "KWAzLTaO1lgA"
      },
      "outputs": [],
      "execution_count": null
    },
    {
      "cell_type": "code",
      "source": [
        "vocab_size = len(word_to_index)\n",
        "print('패딩 토큰과 UNK 토큰을 고려한 단어 집합의 크기 :', vocab_size)"
      ],
      "metadata": {
        "trusted": true,
        "execution": {
          "iopub.status.busy": "2025-05-09T05:49:30.206194Z",
          "iopub.execute_input": "2025-05-09T05:49:30.207065Z",
          "iopub.status.idle": "2025-05-09T05:49:30.216656Z",
          "shell.execute_reply.started": "2025-05-09T05:49:30.207035Z",
          "shell.execute_reply": "2025-05-09T05:49:30.21595Z"
        },
        "id": "-VvJrQyk1lgB"
      },
      "outputs": [],
      "execution_count": null
    },
    {
      "cell_type": "code",
      "source": [
        "# 예시: word_to_index = {'이': 2, '영화': 3, '재미있다': 4, ...}\n",
        "\n",
        "with open('word_to_index.pkl', 'wb') as f:\n",
        "    pickle.dump(word_to_index, f)"
      ],
      "metadata": {
        "trusted": true,
        "execution": {
          "iopub.status.busy": "2025-05-09T05:49:30.245359Z",
          "iopub.execute_input": "2025-05-09T05:49:30.245633Z",
          "iopub.status.idle": "2025-05-09T05:49:30.260758Z",
          "shell.execute_reply.started": "2025-05-09T05:49:30.245607Z",
          "shell.execute_reply": "2025-05-09T05:49:30.26014Z"
        },
        "id": "7xtOuAtF1lgB"
      },
      "outputs": [],
      "execution_count": null
    },
    {
      "cell_type": "code",
      "source": [
        "# 6) 정수 인코딩\n",
        "def texts_to_sequences(tokenized_X_data, word_to_index):\n",
        "  encoded_X_data = []\n",
        "  for sent in tokenized_X_data:\n",
        "    index_sequences = []\n",
        "    for word in sent:\n",
        "      try:\n",
        "          index_sequences.append(word_to_index[word])\n",
        "      except KeyError:\n",
        "          index_sequences.append(word_to_index['<UNK>'])\n",
        "    encoded_X_data.append(index_sequences)\n",
        "  return encoded_X_data"
      ],
      "metadata": {
        "trusted": true,
        "execution": {
          "iopub.status.busy": "2025-05-09T05:49:30.261567Z",
          "iopub.execute_input": "2025-05-09T05:49:30.261778Z",
          "iopub.status.idle": "2025-05-09T05:49:30.273882Z",
          "shell.execute_reply.started": "2025-05-09T05:49:30.261756Z",
          "shell.execute_reply": "2025-05-09T05:49:30.273223Z"
        },
        "id": "oxk_cM-Q1lgB"
      },
      "outputs": [],
      "execution_count": null
    },
    {
      "cell_type": "code",
      "source": [
        "encoded_X_train = texts_to_sequences(X_train, word_to_index)\n",
        "encoded_X_valid = texts_to_sequences(X_valid, word_to_index)\n",
        "encoded_X_test = texts_to_sequences(X_test, word_to_index)"
      ],
      "metadata": {
        "trusted": true,
        "execution": {
          "iopub.status.busy": "2025-05-09T05:49:30.274939Z",
          "iopub.execute_input": "2025-05-09T05:49:30.275289Z",
          "iopub.status.idle": "2025-05-09T05:49:31.330278Z",
          "shell.execute_reply.started": "2025-05-09T05:49:30.275252Z",
          "shell.execute_reply": "2025-05-09T05:49:31.32959Z"
        },
        "id": "O0QvAYlx1lgB"
      },
      "outputs": [],
      "execution_count": null
    },
    {
      "cell_type": "code",
      "source": [
        "for sent in encoded_X_train[:2]:\n",
        "  print(sent)"
      ],
      "metadata": {
        "trusted": true,
        "execution": {
          "iopub.status.busy": "2025-05-09T05:49:31.331317Z",
          "iopub.execute_input": "2025-05-09T05:49:31.331662Z",
          "iopub.status.idle": "2025-05-09T05:49:31.336541Z",
          "shell.execute_reply.started": "2025-05-09T05:49:31.331626Z",
          "shell.execute_reply": "2025-05-09T05:49:31.335671Z"
        },
        "id": "zLxF9BmM1lgB"
      },
      "outputs": [],
      "execution_count": null
    },
    {
      "cell_type": "code",
      "source": [
        "# Example:\n",
        "# word_to_index = {\n",
        "#     \"나\": 54,\n",
        "#     \"는\": 40,\n",
        "#     \"행복\": 25,\n",
        "#     \"하다\": 72\n",
        "# }\n",
        "\n",
        "# index_to_word = {\n",
        "#     54: \"나\",\n",
        "#     40: \"는\",\n",
        "#     25: \"행복\",\n",
        "#     72: \"하다\"\n",
        "# }\n",
        "\n",
        "# 모델이 예측: [54, 40, 25, 72]\n",
        "# =========>  [\"나\", \"는\"]"
      ],
      "metadata": {
        "trusted": true,
        "execution": {
          "iopub.status.busy": "2025-05-09T05:49:31.337573Z",
          "iopub.execute_input": "2025-05-09T05:49:31.337818Z",
          "iopub.status.idle": "2025-05-09T05:49:31.346548Z",
          "shell.execute_reply.started": "2025-05-09T05:49:31.337794Z",
          "shell.execute_reply": "2025-05-09T05:49:31.345964Z"
        },
        "id": "9iJ8FE3X1lgC"
      },
      "outputs": [],
      "execution_count": null
    },
    {
      "cell_type": "code",
      "source": [
        "# 디코딩\n",
        "index_to_word = {}\n",
        "for key, value in word_to_index.items():\n",
        "    index_to_word[value] = key"
      ],
      "metadata": {
        "trusted": true,
        "execution": {
          "iopub.status.busy": "2025-05-09T05:49:31.347536Z",
          "iopub.execute_input": "2025-05-09T05:49:31.34785Z",
          "iopub.status.idle": "2025-05-09T05:49:31.367638Z",
          "shell.execute_reply.started": "2025-05-09T05:49:31.347814Z",
          "shell.execute_reply": "2025-05-09T05:49:31.367015Z"
        },
        "id": "ssgF8opM1lgI"
      },
      "outputs": [],
      "execution_count": null
    },
    {
      "cell_type": "code",
      "source": [
        "encoded_X_train[0]"
      ],
      "metadata": {
        "trusted": true,
        "execution": {
          "iopub.status.busy": "2025-05-09T05:49:31.368547Z",
          "iopub.execute_input": "2025-05-09T05:49:31.368771Z",
          "iopub.status.idle": "2025-05-09T05:49:31.378978Z",
          "shell.execute_reply.started": "2025-05-09T05:49:31.368748Z",
          "shell.execute_reply": "2025-05-09T05:49:31.37818Z"
        },
        "id": "hpzxJh-R1lgI"
      },
      "outputs": [],
      "execution_count": null
    },
    {
      "cell_type": "code",
      "source": [
        "decoded_sample = [index_to_word[word] for word in encoded_X_train[0]]\n",
        "print('기존의 첫번째 샘플 :', X_train[0])\n",
        "print('복원된 첫번째 샘플 :', decoded_sample)"
      ],
      "metadata": {
        "trusted": true,
        "execution": {
          "iopub.status.busy": "2025-05-09T05:49:31.379814Z",
          "iopub.execute_input": "2025-05-09T05:49:31.380044Z",
          "iopub.status.idle": "2025-05-09T05:49:31.390574Z",
          "shell.execute_reply.started": "2025-05-09T05:49:31.380021Z",
          "shell.execute_reply": "2025-05-09T05:49:31.389792Z"
        },
        "id": "dIloSrpu1lgI"
      },
      "outputs": [],
      "execution_count": null
    },
    {
      "cell_type": "code",
      "source": [
        "print('리뷰의 최대 길이 :',max(len(review) for review in encoded_X_train))\n",
        "print('리뷰의 평균 길이 :',sum(map(len, encoded_X_train))/len(encoded_X_train))\n",
        "plt.hist([len(review) for review in encoded_X_train], bins=50)\n",
        "plt.xlabel('length of samples')\n",
        "plt.ylabel('number of samples')\n",
        "plt.show()"
      ],
      "metadata": {
        "trusted": true,
        "execution": {
          "iopub.status.busy": "2025-05-09T05:49:31.391593Z",
          "iopub.execute_input": "2025-05-09T05:49:31.392081Z",
          "iopub.status.idle": "2025-05-09T05:49:31.84161Z",
          "shell.execute_reply.started": "2025-05-09T05:49:31.392043Z",
          "shell.execute_reply": "2025-05-09T05:49:31.840725Z"
        },
        "id": "x_i_QZOK1lgI"
      },
      "outputs": [],
      "execution_count": null
    },
    {
      "cell_type": "code",
      "source": [
        "def below_threshold_len(max_len, nested_list):\n",
        "  count = 0\n",
        "  for sentence in nested_list:\n",
        "    if(len(sentence) <= max_len):\n",
        "        count = count + 1\n",
        "  print('전체 샘플 중 길이가 %s 이하인 샘플의 비율: %s'%(max_len, (count / len(nested_list))*100))"
      ],
      "metadata": {
        "trusted": true,
        "execution": {
          "iopub.status.busy": "2025-05-09T05:49:31.842588Z",
          "iopub.execute_input": "2025-05-09T05:49:31.842916Z",
          "iopub.status.idle": "2025-05-09T05:49:31.84802Z",
          "shell.execute_reply.started": "2025-05-09T05:49:31.842881Z",
          "shell.execute_reply": "2025-05-09T05:49:31.847312Z"
        },
        "id": "pt1yrqy31lgJ"
      },
      "outputs": [],
      "execution_count": null
    },
    {
      "cell_type": "code",
      "source": [
        "max_len = 28\n",
        "below_threshold_len(max_len, X_train)"
      ],
      "metadata": {
        "trusted": true,
        "execution": {
          "iopub.status.busy": "2025-05-09T05:49:31.849105Z",
          "iopub.execute_input": "2025-05-09T05:49:31.849457Z",
          "iopub.status.idle": "2025-05-09T05:49:31.881748Z",
          "shell.execute_reply.started": "2025-05-09T05:49:31.849418Z",
          "shell.execute_reply": "2025-05-09T05:49:31.880966Z"
        },
        "id": "_on9gvJp1lgJ"
      },
      "outputs": [],
      "execution_count": null
    },
    {
      "cell_type": "code",
      "source": [
        "def pad_sequences(sentences, max_len):\n",
        "  features = np.zeros((len(sentences), max_len), dtype=int)\n",
        "  for index, sentence in enumerate(sentences):\n",
        "    if len(sentence) != 0:\n",
        "      features[index, :len(sentence)] = np.array(sentence)[:max_len]\n",
        "  return features"
      ],
      "metadata": {
        "trusted": true,
        "execution": {
          "iopub.status.busy": "2025-05-09T05:49:31.882673Z",
          "iopub.execute_input": "2025-05-09T05:49:31.882915Z",
          "iopub.status.idle": "2025-05-09T05:49:31.887448Z",
          "shell.execute_reply.started": "2025-05-09T05:49:31.882892Z",
          "shell.execute_reply": "2025-05-09T05:49:31.886616Z"
        },
        "id": "KorlC1s-1lgJ"
      },
      "outputs": [],
      "execution_count": null
    },
    {
      "cell_type": "code",
      "source": [
        "padded_X_train = pad_sequences(encoded_X_train, max_len=max_len)\n",
        "padded_X_valid = pad_sequences(encoded_X_valid, max_len=max_len)\n",
        "padded_X_test = pad_sequences(encoded_X_test, max_len=max_len)"
      ],
      "metadata": {
        "trusted": true,
        "execution": {
          "iopub.status.busy": "2025-05-09T05:49:31.88844Z",
          "iopub.execute_input": "2025-05-09T05:49:31.888671Z",
          "iopub.status.idle": "2025-05-09T05:49:32.222338Z",
          "shell.execute_reply.started": "2025-05-09T05:49:31.888648Z",
          "shell.execute_reply": "2025-05-09T05:49:32.221353Z"
        },
        "id": "wBoBhnsv1lgJ"
      },
      "outputs": [],
      "execution_count": null
    },
    {
      "cell_type": "code",
      "source": [
        "print('훈련 데이터의 크기 :', padded_X_train.shape)\n",
        "print('검증 데이터의 크기 :', padded_X_valid.shape)\n",
        "print('테스트 데이터의 크기 :', padded_X_test.shape)"
      ],
      "metadata": {
        "trusted": true,
        "execution": {
          "iopub.status.busy": "2025-05-09T05:49:32.223441Z",
          "iopub.execute_input": "2025-05-09T05:49:32.223702Z",
          "iopub.status.idle": "2025-05-09T05:49:32.228896Z",
          "shell.execute_reply.started": "2025-05-09T05:49:32.223678Z",
          "shell.execute_reply": "2025-05-09T05:49:32.228079Z"
        },
        "id": "9Ly6ug7y1lgK"
      },
      "outputs": [],
      "execution_count": null
    },
    {
      "cell_type": "code",
      "source": [
        "print('첫번째 샘플의 길이 :', len(padded_X_train[0]))\n",
        "print('첫번째 샘플 :', padded_X_train[0])"
      ],
      "metadata": {
        "trusted": true,
        "execution": {
          "iopub.status.busy": "2025-05-09T05:49:32.229979Z",
          "iopub.execute_input": "2025-05-09T05:49:32.230279Z",
          "iopub.status.idle": "2025-05-09T05:49:32.241778Z",
          "shell.execute_reply.started": "2025-05-09T05:49:32.230243Z",
          "shell.execute_reply": "2025-05-09T05:49:32.2411Z"
        },
        "id": "sniSMPhD1lgK"
      },
      "outputs": [],
      "execution_count": null
    },
    {
      "cell_type": "code",
      "source": [
        "import numpy as np\n",
        "\n",
        "# 데이터를 .npz 파일로 저장\n",
        "np.savez('/kaggle/working/padded_data.npz',\n",
        "         padded_X_train=padded_X_train,\n",
        "         padded_X_valid=padded_X_valid,\n",
        "         padded_X_test=padded_X_test,\n",
        "         y_train=y_train,\n",
        "         y_valid=y_valid,\n",
        "         y_test=y_test)"
      ],
      "metadata": {
        "trusted": true,
        "execution": {
          "iopub.status.busy": "2025-05-09T05:49:32.242671Z",
          "iopub.execute_input": "2025-05-09T05:49:32.242895Z",
          "iopub.status.idle": "2025-05-09T05:49:32.346537Z",
          "shell.execute_reply.started": "2025-05-09T05:49:32.242872Z",
          "shell.execute_reply": "2025-05-09T05:49:32.345822Z"
        },
        "id": "g3SYV0El1lgK"
      },
      "outputs": [],
      "execution_count": null
    },
    {
      "cell_type": "code",
      "source": [
        "%cd /kaggle/working\n",
        "from IPython.display import FileLink\n",
        "FileLink('padded_data.npz')"
      ],
      "metadata": {
        "trusted": true,
        "execution": {
          "iopub.status.busy": "2025-05-09T05:49:32.347476Z",
          "iopub.execute_input": "2025-05-09T05:49:32.347727Z",
          "iopub.status.idle": "2025-05-09T05:49:32.355373Z",
          "shell.execute_reply.started": "2025-05-09T05:49:32.347703Z",
          "shell.execute_reply": "2025-05-09T05:49:32.354458Z"
        },
        "id": "s7IjZmlT1lgK"
      },
      "outputs": [],
      "execution_count": null
    },
    {
      "cell_type": "code",
      "source": [
        "import torch\n",
        "import torch.nn as nn\n",
        "import torch.nn.functional as F"
      ],
      "metadata": {
        "trusted": true,
        "execution": {
          "iopub.status.busy": "2025-05-09T05:49:32.356269Z",
          "iopub.execute_input": "2025-05-09T05:49:32.356643Z",
          "iopub.status.idle": "2025-05-09T05:49:38.96375Z",
          "shell.execute_reply.started": "2025-05-09T05:49:32.356599Z",
          "shell.execute_reply": "2025-05-09T05:49:38.962811Z"
        },
        "id": "6WVBgvbf1lgL"
      },
      "outputs": [],
      "execution_count": null
    },
    {
      "cell_type": "code",
      "source": [
        "USE_CUDA = torch.cuda.is_available()\n",
        "device = torch.device(\"cuda\" if USE_CUDA else \"cpu\")\n",
        "print(\"cpu와 cuda 중 다음 기기로 학습함:\", device)\n"
      ],
      "metadata": {
        "trusted": true,
        "execution": {
          "iopub.status.busy": "2025-05-09T05:49:38.964945Z",
          "iopub.execute_input": "2025-05-09T05:49:38.965379Z",
          "iopub.status.idle": "2025-05-09T05:49:39.030065Z",
          "shell.execute_reply.started": "2025-05-09T05:49:38.965349Z",
          "shell.execute_reply": "2025-05-09T05:49:39.029082Z"
        },
        "id": "LRa6IVG81lgL"
      },
      "outputs": [],
      "execution_count": null
    },
    {
      "cell_type": "markdown",
      "source": [
        "## 2. LSTM을 이용한 네이버 영화 리뷰 분류 모델"
      ],
      "metadata": {
        "id": "fv3r1UPj1lgL"
      }
    },
    {
      "cell_type": "code",
      "source": [
        "train_label_tensor = torch.tensor(np.array(y_train))\n",
        "valid_label_tensor = torch.tensor(np.array(y_valid))\n",
        "test_label_tensor = torch.tensor(np.array(y_test))\n",
        "print(train_label_tensor[:5])\n"
      ],
      "metadata": {
        "trusted": true,
        "execution": {
          "iopub.status.busy": "2025-05-09T05:49:39.031157Z",
          "iopub.execute_input": "2025-05-09T05:49:39.031431Z",
          "iopub.status.idle": "2025-05-09T05:49:39.149044Z",
          "shell.execute_reply.started": "2025-05-09T05:49:39.031406Z",
          "shell.execute_reply": "2025-05-09T05:49:39.148089Z"
        },
        "id": "Ydv3chn31lgL"
      },
      "outputs": [],
      "execution_count": null
    },
    {
      "cell_type": "code",
      "source": [
        "class TextClassifier(nn.Module):\n",
        "    def __init__(self, vocab_size, embedding_dim, hidden_dim, output_dim):\n",
        "        super(TextClassifier, self).__init__()\n",
        "        self.embedding = nn.Embedding(vocab_size, embedding_dim)\n",
        "        self.lstm = nn.LSTM(embedding_dim, hidden_dim, batch_first=True)\n",
        "        self.fc = nn.Linear(hidden_dim, output_dim)\n",
        "\n",
        "    def forward(self, x):\n",
        "        # x: (batch_size, seq_length)\n",
        "        embedded = self.embedding(x)  # (batch_size, seq_length, embedding_dim)\n",
        "\n",
        "        # LSTM은 (hidden state, cell state)의 튜플을 반환합니다\n",
        "        lstm_out, (hidden, cell) = self.lstm(embedded)  # lstm_out: (batch_size, seq_length, hidden_dim), hidden: (1, batch_size, hidden_dim)\n",
        "\n",
        "        last_hidden = hidden.squeeze(0)  # (batch_size, hidden_dim)\n",
        "        logits = self.fc(last_hidden)  # (batch_size, output_dim)\n",
        "        return logits\n"
      ],
      "metadata": {
        "trusted": true,
        "execution": {
          "iopub.status.busy": "2025-05-09T05:49:39.150291Z",
          "iopub.execute_input": "2025-05-09T05:49:39.150624Z",
          "iopub.status.idle": "2025-05-09T05:49:39.156402Z",
          "shell.execute_reply.started": "2025-05-09T05:49:39.150596Z",
          "shell.execute_reply": "2025-05-09T05:49:39.155526Z"
        },
        "id": "Y9N_-QY71lgM"
      },
      "outputs": [],
      "execution_count": null
    },
    {
      "cell_type": "code",
      "source": [
        "encoded_train = torch.tensor(padded_X_train).to(torch.int64)\n",
        "train_dataset = torch.utils.data.TensorDataset(encoded_train, train_label_tensor)\n",
        "train_dataloader = torch.utils.data.DataLoader(train_dataset, shuffle=True, batch_size=32)\n",
        "\n",
        "encoded_test = torch.tensor(padded_X_test).to(torch.int64)\n",
        "test_dataset = torch.utils.data.TensorDataset(encoded_test, test_label_tensor)\n",
        "test_dataloader = torch.utils.data.DataLoader(test_dataset, shuffle=True, batch_size=1)\n",
        "\n",
        "encoded_valid = torch.tensor(padded_X_valid).to(torch.int64)\n",
        "valid_dataset = torch.utils.data.TensorDataset(encoded_valid, valid_label_tensor)\n",
        "valid_dataloader = torch.utils.data.DataLoader(valid_dataset, shuffle=True, batch_size=1)\n"
      ],
      "metadata": {
        "trusted": true,
        "execution": {
          "iopub.status.busy": "2025-05-09T05:49:39.157608Z",
          "iopub.execute_input": "2025-05-09T05:49:39.15793Z",
          "iopub.status.idle": "2025-05-09T05:49:39.19314Z",
          "shell.execute_reply.started": "2025-05-09T05:49:39.157894Z",
          "shell.execute_reply": "2025-05-09T05:49:39.192147Z"
        },
        "id": "I3HQdn5A1lgM"
      },
      "outputs": [],
      "execution_count": null
    },
    {
      "cell_type": "code",
      "source": [
        "total_batch = len(train_dataloader)\n",
        "print('총 배치의 수 : {}'.format(total_batch))\n"
      ],
      "metadata": {
        "trusted": true,
        "execution": {
          "iopub.status.busy": "2025-05-09T05:49:39.194297Z",
          "iopub.execute_input": "2025-05-09T05:49:39.194586Z",
          "iopub.status.idle": "2025-05-09T05:49:39.199822Z",
          "shell.execute_reply.started": "2025-05-09T05:49:39.194556Z",
          "shell.execute_reply": "2025-05-09T05:49:39.19895Z"
        },
        "id": "ntPD_OP71lgM"
      },
      "outputs": [],
      "execution_count": null
    },
    {
      "cell_type": "code",
      "source": [
        "embedding_dim = 100\n",
        "hidden_dim = 128\n",
        "output_dim = 2\n",
        "learning_rate = 0.01\n",
        "num_epochs = 10\n",
        "\n",
        "model = TextClassifier(vocab_size, embedding_dim, hidden_dim, output_dim)\n",
        "model.to(device)\n"
      ],
      "metadata": {
        "trusted": true,
        "execution": {
          "iopub.status.busy": "2025-05-09T05:49:39.202015Z",
          "iopub.execute_input": "2025-05-09T05:49:39.202402Z",
          "iopub.status.idle": "2025-05-09T05:49:39.666275Z",
          "shell.execute_reply.started": "2025-05-09T05:49:39.202357Z",
          "shell.execute_reply": "2025-05-09T05:49:39.665451Z"
        },
        "id": "d98K6VMG1lgM"
      },
      "outputs": [],
      "execution_count": null
    },
    {
      "cell_type": "markdown",
      "source": [
        "## 3. 평가 코드 작성"
      ],
      "metadata": {
        "id": "uwOTRONw1lgN"
      }
    },
    {
      "cell_type": "code",
      "source": [
        "def calculate_accuracy(logits, labels):\n",
        "    # _, predicted = torch.max(logits, 1)\n",
        "    predicted = torch.argmax(logits, dim=1)\n",
        "    correct = (predicted == labels).sum().item()\n",
        "    total = labels.size(0)\n",
        "    accuracy = correct / total\n",
        "    return accuracy\n"
      ],
      "metadata": {
        "trusted": true,
        "execution": {
          "iopub.status.busy": "2025-05-09T05:49:39.667457Z",
          "iopub.execute_input": "2025-05-09T05:49:39.667815Z",
          "iopub.status.idle": "2025-05-09T05:49:39.672498Z",
          "shell.execute_reply.started": "2025-05-09T05:49:39.667778Z",
          "shell.execute_reply": "2025-05-09T05:49:39.67168Z"
        },
        "id": "6SdA6CTv1lgN"
      },
      "outputs": [],
      "execution_count": null
    },
    {
      "cell_type": "code",
      "source": [
        "# n_epochs = 1000\n",
        "\n",
        "# for epoch in n_epochs:\n",
        "#     train:\n",
        "#      1) 모델_예측 = model(train_X)\n",
        "#      2) 오차(loss) = criterion(모델_예측, 정답_train)\n",
        "#      3) backpropagation: loss.backward()\n",
        "#      4) 파라미터 업데이트: optimizer.step()\n",
        "\n",
        "#     validation:\n",
        "#      1) 모델_예측 = model(valid_X)\n",
        "#      2) 80% = 정확도_구하기(모델_예측, 정답_val)\n",
        ""
      ],
      "metadata": {
        "trusted": true,
        "execution": {
          "iopub.status.busy": "2025-05-09T05:49:39.673555Z",
          "iopub.execute_input": "2025-05-09T05:49:39.673853Z",
          "iopub.status.idle": "2025-05-09T05:49:39.68786Z",
          "shell.execute_reply.started": "2025-05-09T05:49:39.673809Z",
          "shell.execute_reply": "2025-05-09T05:49:39.687267Z"
        },
        "id": "FDbK9ECm1lgN"
      },
      "outputs": [],
      "execution_count": null
    },
    {
      "cell_type": "code",
      "source": [
        "criterion = nn.CrossEntropyLoss()\n",
        "optimizer = torch.optim.Adam(model.parameters(), lr=0.001)\n"
      ],
      "metadata": {
        "trusted": true,
        "execution": {
          "iopub.status.busy": "2025-05-09T05:49:39.688764Z",
          "iopub.execute_input": "2025-05-09T05:49:39.689012Z",
          "iopub.status.idle": "2025-05-09T05:49:40.709017Z",
          "shell.execute_reply.started": "2025-05-09T05:49:39.688979Z",
          "shell.execute_reply": "2025-05-09T05:49:40.708124Z"
        },
        "id": "-R_PVie_1lgN"
      },
      "outputs": [],
      "execution_count": null
    },
    {
      "cell_type": "code",
      "source": [
        "def evaluate(model, valid_dataloader, criterion, device):\n",
        "    val_loss = 0\n",
        "    val_correct = 0\n",
        "    val_total = 0\n",
        "\n",
        "    model.eval()\n",
        "    with torch.no_grad():\n",
        "        # 데이터로더로부터 배치 크기만큼의 데이터를 연속으로 로드\n",
        "        for batch_X, batch_y in valid_dataloader:\n",
        "            batch_X, batch_y = batch_X.to(device), batch_y.to(device)\n",
        "\n",
        "            # 모델의 예측값\n",
        "            logits = model(batch_X)\n",
        "\n",
        "            # 손실을 계산\n",
        "            loss = criterion(logits, batch_y)\n",
        "\n",
        "            # 정확도와 손실을 계산함\n",
        "            val_loss += loss.item()\n",
        "            val_correct += calculate_accuracy(logits, batch_y) * batch_y.size(0)\n",
        "            val_total += batch_y.size(0)\n",
        "\n",
        "    val_accuracy = val_correct / val_total\n",
        "    val_loss /= len(valid_dataloader)\n",
        "\n",
        "    return val_loss, val_accuracy\n"
      ],
      "metadata": {
        "trusted": true,
        "execution": {
          "iopub.status.busy": "2025-05-09T05:49:40.710101Z",
          "iopub.execute_input": "2025-05-09T05:49:40.71049Z",
          "iopub.status.idle": "2025-05-09T05:49:40.715808Z",
          "shell.execute_reply.started": "2025-05-09T05:49:40.710462Z",
          "shell.execute_reply": "2025-05-09T05:49:40.715009Z"
        },
        "id": "kl-fPIts1lgO"
      },
      "outputs": [],
      "execution_count": null
    },
    {
      "cell_type": "markdown",
      "source": [
        "## 4. 학습"
      ],
      "metadata": {
        "id": "jDH8aT9M1lgO"
      }
    },
    {
      "cell_type": "code",
      "source": [
        "num_epochs = 5\n",
        "\n",
        "# Training loop\n",
        "best_val_loss = float('inf')\n",
        "\n",
        "# Training loop\n",
        "for epoch in range(num_epochs):\n",
        "    # Training\n",
        "    train_loss = 0\n",
        "    train_correct = 0\n",
        "    train_total = 0\n",
        "    model.train()\n",
        "    for batch_X, batch_y in train_dataloader:\n",
        "        # Forward pass\n",
        "        batch_X, batch_y = batch_X.to(device), batch_y.to(device)\n",
        "        # batch_X.shape == (batch_size, max_len)\n",
        "        logits = model(batch_X)\n",
        "\n",
        "        # Compute loss\n",
        "        loss = criterion(logits, batch_y)\n",
        "\n",
        "        # Backward pass and optimization\n",
        "        optimizer.zero_grad()\n",
        "        loss.backward()\n",
        "        optimizer.step()\n",
        "\n",
        "        # Calculate training accuracy and loss\n",
        "        train_loss += loss.item()\n",
        "        train_correct += calculate_accuracy(logits, batch_y) * batch_y.size(0)\n",
        "        train_total += batch_y.size(0)\n",
        "\n",
        "    train_accuracy = train_correct / train_total\n",
        "    train_loss /= len(train_dataloader)\n",
        "\n",
        "    # Validation\n",
        "    val_loss, val_accuracy = evaluate(model, valid_dataloader, criterion, device)\n",
        "\n",
        "    print(f'Epoch {epoch+1}/{num_epochs}:')\n",
        "    print(f'Train Loss: {train_loss:.4f}, Train Accuracy: {train_accuracy:.4f}')\n",
        "    print(f'Validation Loss: {val_loss:.4f}, Validation Accuracy: {val_accuracy:.4f}')\n",
        "\n",
        "    # 검증 손실이 최소일 때 체크포인트 저장\n",
        "    if val_loss < best_val_loss:\n",
        "        print(f'Validation loss improved from {best_val_loss:.4f} to {val_loss:.4f}. 체크포인트를 저장합니다.')\n",
        "        best_val_loss = val_loss\n",
        "        torch.save(model.state_dict(), 'best_model_checkpoint.pth')\n"
      ],
      "metadata": {
        "trusted": true,
        "execution": {
          "iopub.status.busy": "2025-05-09T05:49:40.716881Z",
          "iopub.execute_input": "2025-05-09T05:49:40.717235Z",
          "iopub.status.idle": "2025-05-09T05:52:28.435381Z",
          "shell.execute_reply.started": "2025-05-09T05:49:40.717199Z",
          "shell.execute_reply": "2025-05-09T05:52:28.434475Z"
        },
        "id": "opCbvG-T1lgO"
      },
      "outputs": [],
      "execution_count": null
    },
    {
      "cell_type": "markdown",
      "source": [
        "## 5. 모델 로드 및 평가"
      ],
      "metadata": {
        "id": "l1I8Kv081lgO"
      }
    },
    {
      "cell_type": "code",
      "source": [
        "# 모델 로드\n",
        "model.load_state_dict(torch.load('best_model_checkpoint.pth'))\n",
        "\n",
        "# 모델을 device에 올립니다.\n",
        "model.to(device)"
      ],
      "metadata": {
        "trusted": true,
        "execution": {
          "iopub.status.busy": "2025-05-09T05:52:28.436859Z",
          "iopub.execute_input": "2025-05-09T05:52:28.437173Z",
          "iopub.status.idle": "2025-05-09T05:52:28.45319Z",
          "shell.execute_reply.started": "2025-05-09T05:52:28.437136Z",
          "shell.execute_reply": "2025-05-09T05:52:28.452196Z"
        },
        "id": "TY8SZHI_1lgP"
      },
      "outputs": [],
      "execution_count": null
    },
    {
      "cell_type": "code",
      "source": [
        "# 검증 데이터에 대한 정확도와 손실 계산\n",
        "val_loss, val_accuracy = evaluate(model, valid_dataloader, criterion, device)\n",
        "\n",
        "print(f'Best model validation loss: {val_loss:.4f}')\n",
        "print(f'Best model validation accuracy: {val_accuracy:.4f}')\n"
      ],
      "metadata": {
        "trusted": true,
        "execution": {
          "iopub.status.busy": "2025-05-09T05:52:28.45408Z",
          "iopub.execute_input": "2025-05-09T05:52:28.454359Z",
          "iopub.status.idle": "2025-05-09T05:52:49.854599Z",
          "shell.execute_reply.started": "2025-05-09T05:52:28.454334Z",
          "shell.execute_reply": "2025-05-09T05:52:49.853759Z"
        },
        "id": "a4pEdETI1lgP"
      },
      "outputs": [],
      "execution_count": null
    },
    {
      "cell_type": "markdown",
      "source": [
        "## 6. 모델 테스트"
      ],
      "metadata": {
        "id": "sEKRW34J1lgP"
      }
    },
    {
      "cell_type": "code",
      "source": [
        "index_to_tag = {0 : '부정', 1 : '긍정'}\n",
        "\n",
        "def predict(text, model, word_to_index, index_to_tag):\n",
        "    # Set the model to evaluation mode\n",
        "    model.eval()\n",
        "\n",
        "    # Tokenize the input text\n",
        "    # tokens = okt.morphs(text) # 토큰화\n",
        "    tokens = tokenizer.tokenize(text)\n",
        "\n",
        "    tokens = [word for word in tokens if not word in stopwords] # 불용어 제거\n",
        "    token_indices = [word_to_index.get(token, 1) for token in tokens]\n",
        "\n",
        "    # Convert tokens to tensor\n",
        "    input_tensor = torch.tensor([token_indices], dtype=torch.long).to(device)  # (1, seq_length)\n",
        "\n",
        "    # Pass the input tensor through the model\n",
        "    with torch.no_grad():\n",
        "        logits = model(input_tensor)  # (1, output_dim)\n",
        "\n",
        "    # Get the predicted class index\n",
        "    predicted_index = torch.argmax(logits, dim=1)\n",
        "\n",
        "    # Convert the predicted index to its corresponding tag\n",
        "    predicted_tag = index_to_tag[predicted_index.item()]\n",
        "\n",
        "    return predicted_tag\n"
      ],
      "metadata": {
        "trusted": true,
        "execution": {
          "iopub.status.busy": "2025-05-09T05:52:49.855515Z",
          "iopub.execute_input": "2025-05-09T05:52:49.855749Z",
          "iopub.status.idle": "2025-05-09T05:52:49.861672Z",
          "shell.execute_reply.started": "2025-05-09T05:52:49.855727Z",
          "shell.execute_reply": "2025-05-09T05:52:49.860823Z"
        },
        "id": "BefinBTi1lgP"
      },
      "outputs": [],
      "execution_count": null
    },
    {
      "cell_type": "code",
      "source": [
        "test_input = \"이 영화 개꿀잼 ㅋㅋㅋ\"\n",
        "predict(test_input, model, word_to_index, index_to_tag)\n"
      ],
      "metadata": {
        "trusted": true,
        "execution": {
          "iopub.status.busy": "2025-05-09T05:52:49.862695Z",
          "iopub.execute_input": "2025-05-09T05:52:49.862933Z",
          "iopub.status.idle": "2025-05-09T05:52:49.890333Z",
          "shell.execute_reply.started": "2025-05-09T05:52:49.862909Z",
          "shell.execute_reply": "2025-05-09T05:52:49.889545Z"
        },
        "id": "nkBApkE31lgQ"
      },
      "outputs": [],
      "execution_count": null
    },
    {
      "cell_type": "code",
      "source": [
        "test_input = \"이딴게 영화냐 ㅉㅉ\"\n",
        "predict(test_input, model, word_to_index, index_to_tag)\n"
      ],
      "metadata": {
        "trusted": true,
        "execution": {
          "iopub.status.busy": "2025-05-09T05:52:49.891293Z",
          "iopub.execute_input": "2025-05-09T05:52:49.891921Z",
          "iopub.status.idle": "2025-05-09T05:52:49.90357Z",
          "shell.execute_reply.started": "2025-05-09T05:52:49.891855Z",
          "shell.execute_reply": "2025-05-09T05:52:49.902716Z"
        },
        "id": "dM-A0DKz1lgQ"
      },
      "outputs": [],
      "execution_count": null
    },
    {
      "cell_type": "code",
      "source": [
        "test_input = \"감독 뭐하는 놈이냐?\"\n",
        "predict(test_input, model, word_to_index, index_to_tag)\n"
      ],
      "metadata": {
        "trusted": true,
        "execution": {
          "iopub.status.busy": "2025-05-09T05:52:49.904537Z",
          "iopub.execute_input": "2025-05-09T05:52:49.904764Z",
          "iopub.status.idle": "2025-05-09T05:52:49.913669Z",
          "shell.execute_reply.started": "2025-05-09T05:52:49.904741Z",
          "shell.execute_reply": "2025-05-09T05:52:49.912854Z"
        },
        "id": "0v45BOWX1lgQ"
      },
      "outputs": [],
      "execution_count": null
    },
    {
      "cell_type": "code",
      "source": [
        "test_input = \"와 개쩐다 정말 세계관 최강자들의 영화다\"\n",
        "predict(test_input, model, word_to_index, index_to_tag)\n"
      ],
      "metadata": {
        "trusted": true,
        "execution": {
          "iopub.status.busy": "2025-05-09T05:52:49.91474Z",
          "iopub.execute_input": "2025-05-09T05:52:49.915287Z",
          "iopub.status.idle": "2025-05-09T05:52:49.951609Z",
          "shell.execute_reply.started": "2025-05-09T05:52:49.915249Z",
          "shell.execute_reply": "2025-05-09T05:52:49.950881Z"
        },
        "id": "q--UF2jj1lgQ"
      },
      "outputs": [],
      "execution_count": null
    },
    {
      "cell_type": "code",
      "source": [],
      "metadata": {
        "trusted": true,
        "id": "gfdhG2sI1lgR"
      },
      "outputs": [],
      "execution_count": null
    }
  ]
}