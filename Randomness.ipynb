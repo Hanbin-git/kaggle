{
  "metadata": {
    "kernelspec": {
      "language": "python",
      "display_name": "Python 3",
      "name": "python3"
    },
    "language_info": {
      "name": "python",
      "version": "3.10.12",
      "mimetype": "text/x-python",
      "codemirror_mode": {
        "name": "ipython",
        "version": 3
      },
      "pygments_lexer": "ipython3",
      "nbconvert_exporter": "python",
      "file_extension": ".py"
    },
    "kaggle": {
      "accelerator": "nvidiaTeslaT4",
      "dataSources": [
        {
          "sourceId": 87793,
          "databundleVersionId": 12276181,
          "sourceType": "competition"
        },
        {
          "sourceId": 10855324,
          "sourceType": "datasetVersion",
          "datasetId": 6742586
        },
        {
          "sourceId": 11118830,
          "sourceType": "datasetVersion",
          "datasetId": 6933267
        },
        {
          "sourceId": 224830487,
          "sourceType": "kernelVersion"
        }
      ],
      "dockerImageVersionId": 30919,
      "isInternetEnabled": true,
      "language": "python",
      "sourceType": "notebook",
      "isGpuEnabled": true
    },
    "colab": {
      "name": "Randomness",
      "provenance": [],
      "include_colab_link": true
    }
  },
  "nbformat_minor": 0,
  "nbformat": 4,
  "cells": [
    {
      "cell_type": "markdown",
      "metadata": {
        "id": "view-in-github",
        "colab_type": "text"
      },
      "source": [
        "<a href=\"https://colab.research.google.com/github/Hanbin-git/kaggle/blob/main/Randomness.ipynb\" target=\"_parent\"><img src=\"https://colab.research.google.com/assets/colab-badge.svg\" alt=\"Open In Colab\"/></a>"
      ]
    },
    {
      "source": [
        "# IMPORTANT: SOME KAGGLE DATA SOURCES ARE PRIVATE\n",
        "# RUN THIS CELL IN ORDER TO IMPORT YOUR KAGGLE DATA SOURCES.\n",
        "import kagglehub\n",
        "kagglehub.login()\n"
      ],
      "metadata": {
        "id": "BrSHQbUO0B9Q"
      },
      "cell_type": "code",
      "outputs": [],
      "execution_count": null
    },
    {
      "source": [
        "# IMPORTANT: RUN THIS CELL IN ORDER TO IMPORT YOUR KAGGLE DATA SOURCES,\n",
        "# THEN FEEL FREE TO DELETE THIS CELL.\n",
        "# NOTE: THIS NOTEBOOK ENVIRONMENT DIFFERS FROM KAGGLE'S PYTHON\n",
        "# ENVIRONMENT SO THERE MAY BE MISSING LIBRARIES USED BY YOUR\n",
        "# NOTEBOOK.\n",
        "\n",
        "stanford_rna_3d_folding_path = kagglehub.competition_download('stanford-rna-3d-folding')\n",
        "metric_usalign_path = kagglehub.dataset_download('metric/usalign')\n",
        "geraseva_protenix_checkpoints_path = kagglehub.dataset_download('geraseva/protenix-checkpoints')\n",
        "metric_ribonanza_tm_score_path = kagglehub.notebook_output_download('metric/ribonanza-tm-score')\n",
        "\n",
        "print('Data source import complete.')\n"
      ],
      "metadata": {
        "id": "EfyCy9in0B9R"
      },
      "cell_type": "code",
      "outputs": [],
      "execution_count": null
    },
    {
      "cell_type": "code",
      "source": [
        "MODEL_TYPE='protenix'\n",
        "VALIDATION=False"
      ],
      "metadata": {
        "trusted": true,
        "execution": {
          "iopub.status.busy": "2025-05-20T03:34:57.986998Z",
          "iopub.execute_input": "2025-05-20T03:34:57.987468Z",
          "iopub.status.idle": "2025-05-20T03:34:57.991828Z",
          "shell.execute_reply.started": "2025-05-20T03:34:57.987436Z",
          "shell.execute_reply": "2025-05-20T03:34:57.990779Z"
        },
        "id": "-xeTwAZK0B9S"
      },
      "outputs": [],
      "execution_count": null
    },
    {
      "cell_type": "code",
      "source": [
        "!pip uninstall -y torch torchvision torchaudio protenix"
      ],
      "metadata": {
        "trusted": true,
        "execution": {
          "iopub.status.busy": "2025-05-20T03:35:00.091861Z",
          "iopub.execute_input": "2025-05-20T03:35:00.092367Z",
          "iopub.status.idle": "2025-05-20T03:35:02.745731Z",
          "shell.execute_reply.started": "2025-05-20T03:35:00.092324Z",
          "shell.execute_reply": "2025-05-20T03:35:02.744554Z"
        },
        "id": "_vd2hSgi0B9S",
        "outputId": "e47f853b-1c16-4b36-8d22-20fc7fa357de"
      },
      "outputs": [
        {
          "name": "stdout",
          "text": "Found existing installation: torch 2.1.2+cu118\nUninstalling torch-2.1.2+cu118:\n  Successfully uninstalled torch-2.1.2+cu118\n\u001b[33mWARNING: Skipping torchvision as it is not installed.\u001b[0m\u001b[33m\n\u001b[0m\u001b[33mWARNING: Skipping torchaudio as it is not installed.\u001b[0m\u001b[33m\n\u001b[0mFound existing installation: protenix 0.4.6\nUninstalling protenix-0.4.6:\n  Successfully uninstalled protenix-0.4.6\n",
          "output_type": "stream"
        }
      ],
      "execution_count": null
    },
    {
      "cell_type": "code",
      "source": [
        "!pip install --extra-index-url https://download.pytorch.org/whl/cu118 torch==2.1.2+cu118"
      ],
      "metadata": {
        "trusted": true,
        "execution": {
          "iopub.status.busy": "2025-05-20T03:36:44.09062Z",
          "iopub.execute_input": "2025-05-20T03:36:44.091062Z",
          "iopub.status.idle": "2025-05-20T03:37:50.022288Z",
          "shell.execute_reply.started": "2025-05-20T03:36:44.091027Z",
          "shell.execute_reply": "2025-05-20T03:37:50.020914Z"
        },
        "id": "pDo-fDes0B9S",
        "outputId": "5a5723c7-7576-454c-cd62-10e131483976"
      },
      "outputs": [
        {
          "name": "stdout",
          "text": "Looking in indexes: https://pypi.org/simple, https://download.pytorch.org/whl/cu118\nCollecting torch==2.1.2+cu118\n  Using cached https://download.pytorch.org/whl/cu118/torch-2.1.2%2Bcu118-cp310-cp310-linux_x86_64.whl (2325.9 MB)\nRequirement already satisfied: filelock in /usr/local/lib/python3.10/dist-packages (from torch==2.1.2+cu118) (3.17.0)\nRequirement already satisfied: typing-extensions in /usr/local/lib/python3.10/dist-packages (from torch==2.1.2+cu118) (4.12.2)\nRequirement already satisfied: sympy in /usr/local/lib/python3.10/dist-packages (from torch==2.1.2+cu118) (1.13.1)\nRequirement already satisfied: networkx in /usr/local/lib/python3.10/dist-packages (from torch==2.1.2+cu118) (3.4.2)\nRequirement already satisfied: jinja2 in /usr/local/lib/python3.10/dist-packages (from torch==2.1.2+cu118) (3.1.4)\nRequirement already satisfied: fsspec in /usr/local/lib/python3.10/dist-packages (from torch==2.1.2+cu118) (2024.12.0)\nRequirement already satisfied: triton==2.1.0 in /usr/local/lib/python3.10/dist-packages (from torch==2.1.2+cu118) (2.1.0)\nRequirement already satisfied: MarkupSafe>=2.0 in /usr/local/lib/python3.10/dist-packages (from jinja2->torch==2.1.2+cu118) (3.0.2)\nRequirement already satisfied: mpmath<1.4,>=1.1.0 in /usr/local/lib/python3.10/dist-packages (from sympy->torch==2.1.2+cu118) (1.3.0)\nInstalling collected packages: torch\n\u001b[31mERROR: pip's dependency resolver does not currently take into account all the packages that are installed. This behaviour is the source of the following dependency conflicts.\neasyocr 1.7.2 requires torchvision>=0.5, which is not installed.\nfastai 2.7.18 requires torchvision>=0.11, which is not installed.\ntimm 1.0.12 requires torchvision, which is not installed.\u001b[0m\u001b[31m\n\u001b[0mSuccessfully installed torch-2.1.2+cu118\n",
          "output_type": "stream"
        }
      ],
      "execution_count": null
    },
    {
      "cell_type": "code",
      "source": [
        "!pip install --no-deps protenix==0.4.6 einops tqdm gemmi biotite==1.0.1"
      ],
      "metadata": {
        "trusted": true,
        "execution": {
          "iopub.status.busy": "2025-05-20T03:38:36.256514Z",
          "iopub.execute_input": "2025-05-20T03:38:36.256934Z",
          "iopub.status.idle": "2025-05-20T03:38:38.151185Z",
          "shell.execute_reply.started": "2025-05-20T03:38:36.256902Z",
          "shell.execute_reply": "2025-05-20T03:38:38.149485Z"
        },
        "id": "y3LteabE0B9T",
        "outputId": "3537903f-b76a-4019-ff6d-29ba45750692"
      },
      "outputs": [
        {
          "name": "stdout",
          "text": "Collecting protenix==0.4.6\n  Using cached protenix-0.4.6-py3-none-any.whl.metadata (1.1 kB)\nRequirement already satisfied: einops in /usr/local/lib/python3.10/dist-packages (0.8.0)\nRequirement already satisfied: tqdm in /usr/local/lib/python3.10/dist-packages (4.67.1)\nRequirement already satisfied: gemmi in /usr/local/lib/python3.10/dist-packages (0.7.1)\nRequirement already satisfied: biotite==1.0.1 in /usr/local/lib/python3.10/dist-packages (1.0.1)\nUsing cached protenix-0.4.6-py3-none-any.whl (441 kB)\nInstalling collected packages: protenix\nSuccessfully installed protenix-0.4.6\n",
          "output_type": "stream"
        }
      ],
      "execution_count": null
    },
    {
      "cell_type": "markdown",
      "source": [
        "## Install requirements"
      ],
      "metadata": {
        "id": "j33qHoNG0B9T"
      }
    },
    {
      "cell_type": "code",
      "source": [
        "if MODEL_TYPE=='protenix' and VALIDATION:\n",
        "    !pip install biopython\n",
        "    !pip install ml-collections\n",
        "    !pip install rdkit\n",
        "!export PROTENIX_DATA_ROOT_DIR=/kaggle/input/protenix-checkpoints"
      ],
      "metadata": {
        "trusted": true,
        "execution": {
          "iopub.status.busy": "2025-05-20T03:38:40.583016Z",
          "iopub.execute_input": "2025-05-20T03:38:40.583437Z",
          "iopub.status.idle": "2025-05-20T03:38:40.872399Z",
          "shell.execute_reply.started": "2025-05-20T03:38:40.583405Z",
          "shell.execute_reply": "2025-05-20T03:38:40.870903Z"
        },
        "id": "it5A3Le80B9T"
      },
      "outputs": [],
      "execution_count": null
    },
    {
      "cell_type": "code",
      "source": [
        "! mkdir /af3-dev\n",
        "! ln -s /kaggle/input/protenix-checkpoints /af3-dev/release_data\n",
        "! ls /af3-dev/release_data/"
      ],
      "metadata": {
        "trusted": true,
        "execution": {
          "iopub.status.busy": "2025-05-20T03:38:42.774482Z",
          "iopub.execute_input": "2025-05-20T03:38:42.774856Z",
          "iopub.status.idle": "2025-05-20T03:38:43.636729Z",
          "shell.execute_reply.started": "2025-05-20T03:38:42.774822Z",
          "shell.execute_reply": "2025-05-20T03:38:43.635615Z"
        },
        "id": "E0W8bWnu0B9U",
        "outputId": "a043d1ef-948d-4015-e54e-51fd4cbad1af"
      },
      "outputs": [
        {
          "name": "stdout",
          "text": "mkdir: cannot create directory ‘/af3-dev’: File exists\nln: failed to create symbolic link '/af3-dev/release_data/protenix-checkpoints': Read-only file system\ncomponents.v20240608.cif\t\tmodel_v0.2.0.pt\ncomponents.v20240608.cif.rdkit_mol.pkl\n",
          "output_type": "stream"
        }
      ],
      "execution_count": null
    },
    {
      "cell_type": "markdown",
      "source": [
        "## Helper scripts"
      ],
      "metadata": {
        "id": "huQr2hr-0B9U"
      }
    },
    {
      "cell_type": "code",
      "source": [
        "import Bio\n",
        "\n",
        "from copy import deepcopy\n",
        "\n",
        "import pandas as pd\n",
        "from Bio.PDB import Atom, Model, Chain, Residue, Structure, PDBParser\n",
        "from Bio import SeqIO\n",
        "import os, sys\n",
        "import re\n",
        "import numpy as np\n",
        "import torch\n",
        "\n",
        "import matplotlib\n",
        "import matplotlib.pyplot as plt\n",
        "from tqdm import tqdm\n",
        "import time\n",
        "time0=time.time()\n",
        "\n",
        "print('IMPORT OK !!!!')"
      ],
      "metadata": {
        "_uuid": "8f2839f25d086af736a60e9eeb907d3b93b6e0e5",
        "_cell_guid": "b1076dfc-b9ad-4769-8c92-a6c4dae69d19",
        "execution": {
          "iopub.status.busy": "2025-05-20T03:39:20.422965Z",
          "iopub.execute_input": "2025-05-20T03:39:20.423323Z",
          "iopub.status.idle": "2025-05-20T03:39:20.431127Z",
          "shell.execute_reply.started": "2025-05-20T03:39:20.423293Z",
          "shell.execute_reply": "2025-05-20T03:39:20.429954Z"
        },
        "trusted": true,
        "id": "-UB82M6t0B9U",
        "outputId": "698b00b1-7ff8-4b72-8a97-bc4d33d304ec"
      },
      "outputs": [
        {
          "name": "stdout",
          "text": "IMPORT OK !!!!\n",
          "output_type": "stream"
        }
      ],
      "execution_count": null
    },
    {
      "cell_type": "code",
      "source": [
        "\n",
        "PYTHON = sys.executable\n",
        "print('PYTHON',PYTHON)\n",
        "\n",
        "RHONET_DIR=\\\n",
        "'/kaggle/input/data-for-demo-for-rhofold-plus-with-kaggle-msa/RhoFold-main'\n",
        "#'<your downloaded rhofold repo>/RhoFold-main'\n",
        "\n",
        "USALIGN = \\\n",
        "'/kaggle/working//USalign'\n",
        "#'<your us align path>/USalign'\n",
        "\n",
        "os.system('cp /kaggle/input/usalign/USalign /kaggle/working/')\n",
        "os.system('sudo chmod u+x /kaggle/working//USalign')\n",
        "sys.path.append(RHONET_DIR)\n",
        "\n",
        "\n",
        "DATA_KAGGLE_DIR = '/kaggle/input/stanford-rna-3d-folding'\n",
        "\n",
        "\n",
        "# helper ----\n",
        "class dotdict(dict):\n",
        "\t__setattr__ = dict.__setitem__\n",
        "\t__delattr__ = dict.__delitem__\n",
        "\n",
        "\tdef __getattr__(self, name):\n",
        "\t\ttry:\n",
        "\t\t\treturn self[name]\n",
        "\t\texcept KeyError:\n",
        "\t\t\traise AttributeError(name)\n",
        "\n",
        "# visualisation helper ----\n",
        "def set_aspect_equal(ax):\n",
        "\tx_limits = ax.get_xlim()\n",
        "\ty_limits = ax.get_ylim()\n",
        "\tz_limits = ax.get_zlim()\n",
        "\n",
        "\t# Compute the mean of each axis\n",
        "\tx_middle = np.mean(x_limits)\n",
        "\ty_middle = np.mean(y_limits)\n",
        "\tz_middle = np.mean(z_limits)\n",
        "\n",
        "\t# Compute the max range across all axes\n",
        "\tmax_range = max(x_limits[1] - x_limits[0],\n",
        "\t\t\t\t\ty_limits[1] - y_limits[0],\n",
        "\t\t\t\t\tz_limits[1] - z_limits[0]) / 2.0\n",
        "\n",
        "\t# Set the new limits to ensure equal scaling\n",
        "\tax.set_xlim(x_middle - max_range, x_middle + max_range)\n",
        "\tax.set_ylim(y_middle - max_range, y_middle + max_range)\n",
        "\tax.set_zlim(z_middle - max_range, z_middle + max_range)\n"
      ],
      "metadata": {
        "trusted": true,
        "execution": {
          "iopub.status.busy": "2025-05-20T03:39:23.509956Z",
          "iopub.execute_input": "2025-05-20T03:39:23.510295Z",
          "iopub.status.idle": "2025-05-20T03:39:23.550401Z",
          "shell.execute_reply.started": "2025-05-20T03:39:23.510268Z",
          "shell.execute_reply": "2025-05-20T03:39:23.549342Z"
        },
        "id": "DSJ1Ykmo0B9V",
        "outputId": "bd06bd97-dfd1-4268-c957-acb38ce27afe"
      },
      "outputs": [
        {
          "name": "stdout",
          "text": "PYTHON /usr/bin/python3\n",
          "output_type": "stream"
        }
      ],
      "execution_count": null
    },
    {
      "cell_type": "code",
      "source": [
        "# xyz df helper --------------------\n",
        "def get_truth_df(target_id):\n",
        "    truth_df = LABEL_DF[LABEL_DF['target_id'] == target_id]\n",
        "    truth_df = truth_df.reset_index(drop=True)\n",
        "    return truth_df\n",
        "\n",
        "def parse_output_to_df(output, seq, target_id):\n",
        "    df = []\n",
        "    chain_data = []\n",
        "    for i, res in enumerate(seq):\n",
        "        d=dict(ID = target_id,\n",
        "                    resname=res,\n",
        "                    resid=i+1)\n",
        "        for n in range(len(output)):\n",
        "            d={**d, f'x_{n+1}': round(output[n,i,0].item(),3),\n",
        "                     f'y_{n+1}': round(output[n,i,1].item(),3),\n",
        "                     f'z_{n+1}': round(output[n,i,2].item(),3)}\n",
        "        chain_data.append(d)\n",
        "\n",
        "    if len(chain_data)!=0:\n",
        "        chain_df = pd.DataFrame(chain_data)\n",
        "        df.append(chain_df)\n",
        "        ##print(chain_df)\n",
        "    return df\n",
        "\n",
        "def parse_pdb_to_df(pdb_file, target_id):\n",
        "    parser = PDBParser()\n",
        "    structure = parser.get_structure('', pdb_file)\n",
        "\n",
        "    df = []\n",
        "    for model in structure:\n",
        "        for chain in model:\n",
        "            print(chain)\n",
        "            chain_data = []\n",
        "            for residue in chain:\n",
        "                # print(residue)\n",
        "                if residue.get_resname() in ['A', 'U', 'G', 'C']:\n",
        "                    # Check if the residue has a C1' atom\n",
        "                    if 'C1\\'' in residue:\n",
        "                        atom = residue['C1\\'']\n",
        "                        xyz = atom.get_coord()\n",
        "                        resname = residue.get_resname()\n",
        "                        resid = residue.get_id()[1]\n",
        "\n",
        "                        #todo detect discontinous: resid = prev_resid+1\n",
        "                        #ID\tresname\tresid\tx_1\ty_1\tz_1\n",
        "                        chain_data.append(dict(\n",
        "                            ID = target_id+'_'+str(resid),\n",
        "                            resname=resname,\n",
        "                            resid=resid,\n",
        "                            x_1=xyz[0],\n",
        "                            y_1=xyz[1],\n",
        "                            z_1=xyz[2],\n",
        "                        ))\n",
        "                        ##print(f\"Residue {resname} {resid}, Atom: {atom.get_name()}, xyz: {xyz}\")\n",
        "\n",
        "            if len(chain_data)!=0:\n",
        "                chain_df = pd.DataFrame(chain_data)\n",
        "                df.append(chain_df)\n",
        "                ##print(chain_df)\n",
        "    return df"
      ],
      "metadata": {
        "trusted": true,
        "execution": {
          "iopub.status.busy": "2025-05-20T03:39:53.763826Z",
          "iopub.execute_input": "2025-05-20T03:39:53.76421Z",
          "iopub.status.idle": "2025-05-20T03:39:53.775768Z",
          "shell.execute_reply.started": "2025-05-20T03:39:53.764176Z",
          "shell.execute_reply": "2025-05-20T03:39:53.774389Z"
        },
        "id": "ySdcWH-b0B9V"
      },
      "outputs": [],
      "execution_count": null
    },
    {
      "cell_type": "code",
      "source": [
        "\n",
        "# usalign helper --------------------\n",
        "def write_target_line(\n",
        "    atom_name, atom_serial, residue_name, chain_id, residue_num, x_coord, y_coord, z_coord, occupancy=1.0, b_factor=0.0, atom_type='P'\n",
        "):\n",
        "    \"\"\"\n",
        "    Writes a single line of PDB format based on provided atom information.\n",
        "\n",
        "    Args:\n",
        "        atom_name (str): Name of the atom (e.g., \"N\", \"CA\").\n",
        "        atom_serial (int): Atom serial number.\n",
        "        residue_name (str): Residue name (e.g., \"ALA\").\n",
        "        chain_id (str): Chain identifier.\n",
        "        residue_num (int): Residue number.\n",
        "        x_coord (float): X coordinate.\n",
        "        y_coord (float): Y coordinate.\n",
        "        z_coord (float): Z coordinate.\n",
        "        occupancy (float, optional): Occupancy value (default: 1.0).\n",
        "        b_factor (float, optional): B-factor value (default: 0.0).\n",
        "\n",
        "    Returns:\n",
        "        str: A single line of PDB string.\n",
        "    \"\"\"\n",
        "    return f'ATOM  {atom_serial:>5d}  {atom_name:<5s} {residue_name:<3s} {residue_num:>3d}    {x_coord:>8.3f}{y_coord:>8.3f}{z_coord:>8.3f}{occupancy:>6.2f}{b_factor:>6.2f}           {atom_type}\\n'\n",
        "\n",
        "def write_xyz_to_pdb(df, pdb_file, xyz_id = 1):\n",
        "    resolved_cnt = 0\n",
        "    with open(pdb_file, 'w') as target_file:\n",
        "        for _, row in df.iterrows():\n",
        "            x_coord = row[f'x_{xyz_id}']\n",
        "            y_coord = row[f'y_{xyz_id}']\n",
        "            z_coord = row[f'z_{xyz_id}']\n",
        "\n",
        "            if x_coord > -1e17 and y_coord > -1e17 and z_coord > -1e17:\n",
        "                resolved_cnt += 1\n",
        "                target_line = write_target_line(\n",
        "                    atom_name=\"C1'\",\n",
        "                    atom_serial=int(row['resid']),\n",
        "                    residue_name=row['resname'],\n",
        "                    chain_id='0',\n",
        "                    residue_num=int(row['resid']),\n",
        "                    x_coord=x_coord,\n",
        "                    y_coord=y_coord,\n",
        "                    z_coord=z_coord,\n",
        "                    atom_type='C',\n",
        "                )\n",
        "                target_file.write(target_line)\n",
        "    return resolved_cnt\n",
        "\n",
        "def parse_usalign_for_tm_score(output):\n",
        "    # Extract TM-score based on length of reference structure (second)\n",
        "    tm_score_match = re.findall(r'TM-score=\\s+([\\d.]+)', output)[1]\n",
        "    if not tm_score_match:\n",
        "        raise ValueError('No TM score found')\n",
        "    return float(tm_score_match)\n",
        "\n",
        "def parse_usalign_for_transform(output):\n",
        "    # Locate the rotation matrix section\n",
        "    matrix_lines = []\n",
        "    found_matrix = False\n",
        "\n",
        "    for line in output.splitlines():\n",
        "        if \"The rotation matrix to rotate Structure_1 to Structure_2\" in line:\n",
        "            found_matrix = True\n",
        "        elif found_matrix and re.match(r'^\\d+\\s+[-\\d.]+\\s+[-\\d.]+\\s+[-\\d.]+\\s+[-\\d.]+$', line):\n",
        "            matrix_lines.append(line)\n",
        "        elif found_matrix and not line.strip():\n",
        "            break  # Stop parsing if an empty line is encountered after the matrix\n",
        "\n",
        "    # Parse the rotation matrix values\n",
        "    rotation_matrix = []\n",
        "    for line in matrix_lines:\n",
        "        parts = line.split()\n",
        "        row_values = list(map(float, parts[1:]))  # Skip the first column (index)\n",
        "        rotation_matrix.append(row_values)\n",
        "\n",
        "    return np.array(rotation_matrix)\n",
        "\n",
        "def call_usalign(predict_df, truth_df, verbose=1):\n",
        "    truth_pdb = '~truth.pdb'\n",
        "    predict_pdb = '~predict.pdb'\n",
        "    write_xyz_to_pdb(predict_df, predict_pdb, xyz_id=1)\n",
        "    write_xyz_to_pdb(truth_df, truth_pdb, xyz_id=1)\n",
        "\n",
        "    command = f'{USALIGN} {predict_pdb} {truth_pdb} -atom \" C1\\'\" -m -'\n",
        "    output = os.popen(command).read()\n",
        "    if verbose==1:\n",
        "        print(output)\n",
        "    tm_score = parse_usalign_for_tm_score(output)\n",
        "    transform = parse_usalign_for_transform(output)\n",
        "    return tm_score, transform\n",
        "\n",
        "print('HELPER OK!!!')"
      ],
      "metadata": {
        "trusted": true,
        "execution": {
          "iopub.status.busy": "2025-05-20T03:39:56.916975Z",
          "iopub.execute_input": "2025-05-20T03:39:56.917376Z",
          "iopub.status.idle": "2025-05-20T03:39:56.93088Z",
          "shell.execute_reply.started": "2025-05-20T03:39:56.917346Z",
          "shell.execute_reply": "2025-05-20T03:39:56.929674Z"
        },
        "id": "dAKqDnOq0B9V",
        "outputId": "53640706-8ebe-4c23-9a91-1b7d835ba447"
      },
      "outputs": [
        {
          "name": "stdout",
          "text": "HELPER OK!!!\n",
          "output_type": "stream"
        }
      ],
      "execution_count": null
    },
    {
      "cell_type": "code",
      "source": [
        "\n",
        "if MODEL_TYPE=='protenix':\n",
        "\n",
        "\n",
        "    from runner.batch_inference import get_default_runner\n",
        "    from runner.inference import update_inference_configs, InferenceRunner\n",
        "\n",
        "    from protenix.data.infer_data_pipeline import InferenceDataset\n",
        "\n",
        "    np.random.seed(0)\n",
        "    torch.random.manual_seed(0)\n",
        "    torch.cuda.manual_seed_all(0)\n",
        "\n",
        "    class DictDataset(InferenceDataset):\n",
        "        def __init__(\n",
        "            self,\n",
        "            seq_list: list,\n",
        "            dump_dir: str,\n",
        "            id_list: list = None,\n",
        "            use_msa: bool = False,\n",
        "        ) -> None:\n",
        "\n",
        "            self.dump_dir = dump_dir\n",
        "            self.use_msa = use_msa\n",
        "            if isinstance(id_list,type(None)):\n",
        "                self.inputs = [{\"sequences\":\n",
        "                                [{\"rnaSequence\":\n",
        "                                  {\"sequence\": seq,\n",
        "                                   \"count\": 1}}],\n",
        "                                \"name\": \"query\"} for seq in seq_list]\n",
        "            else:\n",
        "                self.inputs = [{\"sequences\":\n",
        "                                [{\"rnaSequence\":\n",
        "                                  {\"sequence\": seq,\n",
        "                                   \"count\": 1}}],\n",
        "                                \"name\": i} for i, seq in zip(id_list,seq_list)]\n"
      ],
      "metadata": {
        "trusted": true,
        "execution": {
          "iopub.status.busy": "2025-05-20T03:40:03.731799Z",
          "iopub.execute_input": "2025-05-20T03:40:03.732198Z",
          "iopub.status.idle": "2025-05-20T03:40:03.740961Z",
          "shell.execute_reply.started": "2025-05-20T03:40:03.732164Z",
          "shell.execute_reply": "2025-05-20T03:40:03.739693Z"
        },
        "id": "5NR6ug4B0B9W"
      },
      "outputs": [],
      "execution_count": null
    },
    {
      "cell_type": "code",
      "source": [
        "def smooth_coords(coord_tensor, window=3):\n",
        "    coords = coord_tensor.squeeze().cpu().numpy()\n",
        "    smoothed = np.copy(coords)\n",
        "    for j in range(1, len(coords) - 1):\n",
        "        smoothed[j] = np.mean(coords[j - 1:j + 2], axis=0)\n",
        "    return torch.tensor(smoothed).unsqueeze(0).to(coord_tensor.device)\n",
        "\n",
        "if MODEL_TYPE == 'protenix' and not VALIDATION:\n",
        "    import warnings\n",
        "    warnings.filterwarnings(\"ignore\")\n",
        "    test_df = pd.read_csv('/kaggle/input/stanford-rna-3d-folding/test_sequences.csv')\n",
        "\n",
        "    dataset = DictDataset(test_df.sequence, dump_dir='output', id_list=test_df.target_id, use_msa=False)\n",
        "    num_data = len(dataset)\n",
        "\n",
        "    for i, seq in tqdm(enumerate(test_df.sequence), total=num_data):\n",
        "        try:\n",
        "            data, atom_array, data_error_message = dataset[i]\n",
        "            target_id = data[\"sample_name\"]\n",
        "\n",
        "            if data_error_message != '':\n",
        "                print(f\"[!] Skipped: {target_id} ▶ data error: {data_error_message}\")\n",
        "                raise ValueError(\"Invalid input features\")\n",
        "\n",
        "            # config 업데이트\n",
        "            new_configs = update_inference_configs(configs, data[\"N_token\"].item())\n",
        "            new_configs[\"eval_dtype\"] = \"float16\"\n",
        "            if \"model\" not in new_configs:\n",
        "                new_configs[\"model\"] = {}\n",
        "            new_configs[\"model\"][\"eval_dtype\"] = \"float16\"\n",
        "            runner.update_model_configs(new_configs)\n",
        "\n",
        "            prediction = runner.predict(data)\n",
        "            coords = prediction['coordinate'][:, data['input_feature_dict']['atom_to_tokatom_idx'] == 12]\n",
        "\n",
        "            if coords.shape[1] != len(seq):\n",
        "                print(f\"[!] Shape mismatch: {target_id} ▶ coords: {coords.shape[1]}, seq: {len(seq)}\")\n",
        "                raise ValueError(\"Output shape mismatch\")\n",
        "\n",
        "            # smoothing 적용\n",
        "            coords = smooth_coords(coords)\n",
        "\n",
        "            result = parse_output_to_df(coords, seq, target_id)[0]\n",
        "\n",
        "        except Exception as e:\n",
        "            print(f\"[!] Failed to predict {target_id} ▶ {e}\")\n",
        "            result = pd.DataFrame(columns=['ID', 'resname', 'resid',\n",
        "                                           'x_1', 'y_1', 'z_1',\n",
        "                                           'x_2', 'y_2', 'z_2',\n",
        "                                           'x_3', 'y_3', 'z_3',\n",
        "                                           'x_4', 'y_4', 'z_4',\n",
        "                                           'x_5', 'y_5', 'z_5'],\n",
        "                                 data=[[target_id, x, j+1] + [0.0]*15 for j, x in enumerate(seq)])\n",
        "\n",
        "        result['ID'] = result.apply(lambda x: f\"{x.ID}_{x.resid}\", axis=1)\n",
        "        result.to_csv('submission.csv', index=False, mode='a', header=(i == 0), float_format=\"%.3f\")\n",
        "        torch.cuda.empty_cache()\n",
        "\n",
        "    display(pd.read_csv('submission.csv'))\n"
      ],
      "metadata": {
        "trusted": true,
        "execution": {
          "iopub.status.busy": "2025-05-20T03:41:41.810193Z",
          "iopub.execute_input": "2025-05-20T03:41:41.810619Z",
          "iopub.status.idle": "2025-05-20T03:42:00.849659Z",
          "shell.execute_reply.started": "2025-05-20T03:41:41.810586Z",
          "shell.execute_reply": "2025-05-20T03:42:00.848543Z"
        },
        "id": "dlt_Vegx0B9W",
        "outputId": "a8c9c50a-0dc3-4bec-b03b-a3ab556d73cb"
      },
      "outputs": [
        {
          "name": "stderr",
          "text": "  8%|▊         | 1/12 [00:00<00:05,  2.09it/s]",
          "output_type": "stream"
        },
        {
          "name": "stdout",
          "text": "Failed to predict R1107\n",
          "output_type": "stream"
        },
        {
          "name": "stderr",
          "text": " 17%|█▋        | 2/12 [00:00<00:03,  2.63it/s]",
          "output_type": "stream"
        },
        {
          "name": "stdout",
          "text": "Failed to predict R1108\n",
          "output_type": "stream"
        },
        {
          "name": "stderr",
          "text": " 33%|███▎      | 4/12 [00:01<00:03,  2.47it/s]",
          "output_type": "stream"
        },
        {
          "name": "stdout",
          "text": "Failed to predict R1116\nFailed to predict R1117v2\n",
          "output_type": "stream"
        },
        {
          "name": "stderr",
          "text": " 42%|████▏     | 5/12 [00:04<00:08,  1.16s/it]",
          "output_type": "stream"
        },
        {
          "name": "stdout",
          "text": "Failed to predict R1126\n",
          "output_type": "stream"
        },
        {
          "name": "stderr",
          "text": " 50%|█████     | 6/12 [00:05<00:07,  1.21s/it]",
          "output_type": "stream"
        },
        {
          "name": "stdout",
          "text": "Failed to predict R1128\n",
          "output_type": "stream"
        },
        {
          "name": "stderr",
          "text": " 58%|█████▊    | 7/12 [00:08<00:08,  1.66s/it]",
          "output_type": "stream"
        },
        {
          "name": "stdout",
          "text": "Failed to predict R1136\n",
          "output_type": "stream"
        },
        {
          "name": "stderr",
          "text": " 67%|██████▋   | 8/12 [00:16<00:15,  3.77s/it]",
          "output_type": "stream"
        },
        {
          "name": "stdout",
          "text": "Failed to predict R1138\n",
          "output_type": "stream"
        },
        {
          "name": "stderr",
          "text": " 75%|███████▌  | 9/12 [00:17<00:08,  2.83s/it]",
          "output_type": "stream"
        },
        {
          "name": "stdout",
          "text": "Failed to predict R1149\n",
          "output_type": "stream"
        },
        {
          "name": "stderr",
          "text": " 83%|████████▎ | 10/12 [00:17<00:04,  2.15s/it]",
          "output_type": "stream"
        },
        {
          "name": "stdout",
          "text": "Failed to predict R1156\n",
          "output_type": "stream"
        },
        {
          "name": "stderr",
          "text": " 92%|█████████▏| 11/12 [00:18<00:01,  1.66s/it]",
          "output_type": "stream"
        },
        {
          "name": "stdout",
          "text": "Failed to predict R1189\n",
          "output_type": "stream"
        },
        {
          "name": "stderr",
          "text": "100%|██████████| 12/12 [00:18<00:00,  1.58s/it]",
          "output_type": "stream"
        },
        {
          "name": "stdout",
          "text": "Failed to predict R1190\n",
          "output_type": "stream"
        },
        {
          "name": "stderr",
          "text": "\n",
          "output_type": "stream"
        },
        {
          "output_type": "display_data",
          "data": {
            "text/plain": "             ID resname  resid  x_1  y_1  z_1  x_2  y_2  z_2  x_3  y_3  z_3  \\\n0       R1107_1       G      1  0.0  0.0  0.0  0.0  0.0  0.0  0.0  0.0  0.0   \n1       R1107_2       G      2  0.0  0.0  0.0  0.0  0.0  0.0  0.0  0.0  0.0   \n2       R1107_3       G      3  0.0  0.0  0.0  0.0  0.0  0.0  0.0  0.0  0.0   \n3       R1107_4       G      4  0.0  0.0  0.0  0.0  0.0  0.0  0.0  0.0  0.0   \n4       R1107_5       G      5  0.0  0.0  0.0  0.0  0.0  0.0  0.0  0.0  0.0   \n...         ...     ...    ...  ...  ...  ...  ...  ...  ...  ...  ...  ...   \n2510  R1190_114       U    114  0.0  0.0  0.0  0.0  0.0  0.0  0.0  0.0  0.0   \n2511  R1190_115       U    115  0.0  0.0  0.0  0.0  0.0  0.0  0.0  0.0  0.0   \n2512  R1190_116       U    116  0.0  0.0  0.0  0.0  0.0  0.0  0.0  0.0  0.0   \n2513  R1190_117       U    117  0.0  0.0  0.0  0.0  0.0  0.0  0.0  0.0  0.0   \n2514  R1190_118       U    118  0.0  0.0  0.0  0.0  0.0  0.0  0.0  0.0  0.0   \n\n      x_4  y_4  z_4  x_5  y_5  z_5  \n0     0.0  0.0  0.0  0.0  0.0  0.0  \n1     0.0  0.0  0.0  0.0  0.0  0.0  \n2     0.0  0.0  0.0  0.0  0.0  0.0  \n3     0.0  0.0  0.0  0.0  0.0  0.0  \n4     0.0  0.0  0.0  0.0  0.0  0.0  \n...   ...  ...  ...  ...  ...  ...  \n2510  0.0  0.0  0.0  0.0  0.0  0.0  \n2511  0.0  0.0  0.0  0.0  0.0  0.0  \n2512  0.0  0.0  0.0  0.0  0.0  0.0  \n2513  0.0  0.0  0.0  0.0  0.0  0.0  \n2514  0.0  0.0  0.0  0.0  0.0  0.0  \n\n[2515 rows x 18 columns]",
            "text/html": "<div>\n<style scoped>\n    .dataframe tbody tr th:only-of-type {\n        vertical-align: middle;\n    }\n\n    .dataframe tbody tr th {\n        vertical-align: top;\n    }\n\n    .dataframe thead th {\n        text-align: right;\n    }\n</style>\n<table border=\"1\" class=\"dataframe\">\n  <thead>\n    <tr style=\"text-align: right;\">\n      <th></th>\n      <th>ID</th>\n      <th>resname</th>\n      <th>resid</th>\n      <th>x_1</th>\n      <th>y_1</th>\n      <th>z_1</th>\n      <th>x_2</th>\n      <th>y_2</th>\n      <th>z_2</th>\n      <th>x_3</th>\n      <th>y_3</th>\n      <th>z_3</th>\n      <th>x_4</th>\n      <th>y_4</th>\n      <th>z_4</th>\n      <th>x_5</th>\n      <th>y_5</th>\n      <th>z_5</th>\n    </tr>\n  </thead>\n  <tbody>\n    <tr>\n      <th>0</th>\n      <td>R1107_1</td>\n      <td>G</td>\n      <td>1</td>\n      <td>0.0</td>\n      <td>0.0</td>\n      <td>0.0</td>\n      <td>0.0</td>\n      <td>0.0</td>\n      <td>0.0</td>\n      <td>0.0</td>\n      <td>0.0</td>\n      <td>0.0</td>\n      <td>0.0</td>\n      <td>0.0</td>\n      <td>0.0</td>\n      <td>0.0</td>\n      <td>0.0</td>\n      <td>0.0</td>\n    </tr>\n    <tr>\n      <th>1</th>\n      <td>R1107_2</td>\n      <td>G</td>\n      <td>2</td>\n      <td>0.0</td>\n      <td>0.0</td>\n      <td>0.0</td>\n      <td>0.0</td>\n      <td>0.0</td>\n      <td>0.0</td>\n      <td>0.0</td>\n      <td>0.0</td>\n      <td>0.0</td>\n      <td>0.0</td>\n      <td>0.0</td>\n      <td>0.0</td>\n      <td>0.0</td>\n      <td>0.0</td>\n      <td>0.0</td>\n    </tr>\n    <tr>\n      <th>2</th>\n      <td>R1107_3</td>\n      <td>G</td>\n      <td>3</td>\n      <td>0.0</td>\n      <td>0.0</td>\n      <td>0.0</td>\n      <td>0.0</td>\n      <td>0.0</td>\n      <td>0.0</td>\n      <td>0.0</td>\n      <td>0.0</td>\n      <td>0.0</td>\n      <td>0.0</td>\n      <td>0.0</td>\n      <td>0.0</td>\n      <td>0.0</td>\n      <td>0.0</td>\n      <td>0.0</td>\n    </tr>\n    <tr>\n      <th>3</th>\n      <td>R1107_4</td>\n      <td>G</td>\n      <td>4</td>\n      <td>0.0</td>\n      <td>0.0</td>\n      <td>0.0</td>\n      <td>0.0</td>\n      <td>0.0</td>\n      <td>0.0</td>\n      <td>0.0</td>\n      <td>0.0</td>\n      <td>0.0</td>\n      <td>0.0</td>\n      <td>0.0</td>\n      <td>0.0</td>\n      <td>0.0</td>\n      <td>0.0</td>\n      <td>0.0</td>\n    </tr>\n    <tr>\n      <th>4</th>\n      <td>R1107_5</td>\n      <td>G</td>\n      <td>5</td>\n      <td>0.0</td>\n      <td>0.0</td>\n      <td>0.0</td>\n      <td>0.0</td>\n      <td>0.0</td>\n      <td>0.0</td>\n      <td>0.0</td>\n      <td>0.0</td>\n      <td>0.0</td>\n      <td>0.0</td>\n      <td>0.0</td>\n      <td>0.0</td>\n      <td>0.0</td>\n      <td>0.0</td>\n      <td>0.0</td>\n    </tr>\n    <tr>\n      <th>...</th>\n      <td>...</td>\n      <td>...</td>\n      <td>...</td>\n      <td>...</td>\n      <td>...</td>\n      <td>...</td>\n      <td>...</td>\n      <td>...</td>\n      <td>...</td>\n      <td>...</td>\n      <td>...</td>\n      <td>...</td>\n      <td>...</td>\n      <td>...</td>\n      <td>...</td>\n      <td>...</td>\n      <td>...</td>\n      <td>...</td>\n    </tr>\n    <tr>\n      <th>2510</th>\n      <td>R1190_114</td>\n      <td>U</td>\n      <td>114</td>\n      <td>0.0</td>\n      <td>0.0</td>\n      <td>0.0</td>\n      <td>0.0</td>\n      <td>0.0</td>\n      <td>0.0</td>\n      <td>0.0</td>\n      <td>0.0</td>\n      <td>0.0</td>\n      <td>0.0</td>\n      <td>0.0</td>\n      <td>0.0</td>\n      <td>0.0</td>\n      <td>0.0</td>\n      <td>0.0</td>\n    </tr>\n    <tr>\n      <th>2511</th>\n      <td>R1190_115</td>\n      <td>U</td>\n      <td>115</td>\n      <td>0.0</td>\n      <td>0.0</td>\n      <td>0.0</td>\n      <td>0.0</td>\n      <td>0.0</td>\n      <td>0.0</td>\n      <td>0.0</td>\n      <td>0.0</td>\n      <td>0.0</td>\n      <td>0.0</td>\n      <td>0.0</td>\n      <td>0.0</td>\n      <td>0.0</td>\n      <td>0.0</td>\n      <td>0.0</td>\n    </tr>\n    <tr>\n      <th>2512</th>\n      <td>R1190_116</td>\n      <td>U</td>\n      <td>116</td>\n      <td>0.0</td>\n      <td>0.0</td>\n      <td>0.0</td>\n      <td>0.0</td>\n      <td>0.0</td>\n      <td>0.0</td>\n      <td>0.0</td>\n      <td>0.0</td>\n      <td>0.0</td>\n      <td>0.0</td>\n      <td>0.0</td>\n      <td>0.0</td>\n      <td>0.0</td>\n      <td>0.0</td>\n      <td>0.0</td>\n    </tr>\n    <tr>\n      <th>2513</th>\n      <td>R1190_117</td>\n      <td>U</td>\n      <td>117</td>\n      <td>0.0</td>\n      <td>0.0</td>\n      <td>0.0</td>\n      <td>0.0</td>\n      <td>0.0</td>\n      <td>0.0</td>\n      <td>0.0</td>\n      <td>0.0</td>\n      <td>0.0</td>\n      <td>0.0</td>\n      <td>0.0</td>\n      <td>0.0</td>\n      <td>0.0</td>\n      <td>0.0</td>\n      <td>0.0</td>\n    </tr>\n    <tr>\n      <th>2514</th>\n      <td>R1190_118</td>\n      <td>U</td>\n      <td>118</td>\n      <td>0.0</td>\n      <td>0.0</td>\n      <td>0.0</td>\n      <td>0.0</td>\n      <td>0.0</td>\n      <td>0.0</td>\n      <td>0.0</td>\n      <td>0.0</td>\n      <td>0.0</td>\n      <td>0.0</td>\n      <td>0.0</td>\n      <td>0.0</td>\n      <td>0.0</td>\n      <td>0.0</td>\n      <td>0.0</td>\n    </tr>\n  </tbody>\n</table>\n<p>2515 rows × 18 columns</p>\n</div>"
          },
          "metadata": {}
        }
      ],
      "execution_count": null
    },
    {
      "cell_type": "code",
      "source": [
        "if MODEL_TYPE == 'protenix':\n",
        "    from configs.configs_base import configs as configs_base\n",
        "    from configs.configs_data import data_configs\n",
        "    from configs.configs_inference import inference_configs\n",
        "    from protenix.config.config import parse_configs\n",
        "\n",
        "    configs_base[\"use_deepspeed_evo_attention\"] = (\n",
        "        os.environ.get(\"USE_DEEPSPEED_EVO_ATTENTION\", False) == \"true\"\n",
        "    )\n",
        "    configs_base[\"model\"][\"N_cycle\"] = 10\n",
        "    configs_base[\"sample_diffusion\"][\"N_sample\"] = (1 if VALIDATION else 5)\n",
        "    configs_base[\"sample_diffusion\"][\"N_step\"] = 200\n",
        "\n",
        "    # ✅ float16 강제 설정\n",
        "    configs_base[\"eval_dtype\"] = \"float16\"\n",
        "    configs_base[\"model\"][\"eval_dtype\"] = \"float16\"\n",
        "    inference_configs[\"eval_dtype\"] = \"float16\"\n",
        "    inference_configs[\"load_checkpoint_path\"] = \"/kaggle/input/protenix-checkpoints/model_v0.2.0.pt\"\n",
        "\n",
        "    configs = {**configs_base, **{\"data\": data_configs}, **inference_configs}\n",
        "    configs = parse_configs(configs=configs, fill_required_with_null=True)\n",
        "\n",
        "    # ✅ 다시 float16 강제 설정 (파싱 이후에도 적용)\n",
        "    configs[\"eval_dtype\"] = \"float16\"\n",
        "    configs[\"model\"][\"eval_dtype\"] = \"float16\"\n",
        "\n",
        "    runner = InferenceRunner(configs)\n",
        "\n",
        "if VALIDATION:\n",
        "    LABEL_DF = pd.read_csv('/kaggle/input/stanford-rna-3d-folding/train_labels.csv')\n",
        "    LABEL_DF['target_id'] = LABEL_DF['ID'].apply(lambda x: '_'.join(x.split('_')[:-1]))\n",
        "    train_df = pd.read_csv('/kaggle/input/stanford-rna-3d-folding/train_sequences.csv')\n",
        "\n",
        "if MODEL_TYPE == 'protenix' and VALIDATION:\n",
        "    import warnings\n",
        "    warnings.filterwarnings(\"ignore\")\n",
        "\n",
        "    train_df['protenix_tm_score'] = None\n",
        "    dataset = DictDataset(train_df.sequence, dump_dir='output', id_list=train_df.target_id, use_msa=False)\n",
        "    num_data = len(dataset)\n",
        "\n",
        "    for i, seq in tqdm(enumerate(train_df.sequence), total=num_data):\n",
        "        if train_df.loc[i, 'protenix_tm_score'] is not None:\n",
        "            continue\n",
        "        if len(seq) > 300:\n",
        "            continue\n",
        "\n",
        "        target_id = train_df.loc[i, 'target_id']\n",
        "        truth_df = get_truth_df(target_id)\n",
        "        if sum(~np.isnan(truth_df.x_1)) < 3:\n",
        "            continue\n",
        "\n",
        "        data, atom_array, data_error_message = dataset[i]\n",
        "        if data_error_message != '':\n",
        "            continue\n",
        "\n",
        "        new_configs = update_inference_configs(configs, data[\"N_token\"].item())\n",
        "        new_configs[\"eval_dtype\"] = \"float16\"\n",
        "        if \"model\" not in new_configs:\n",
        "            new_configs[\"model\"] = {}\n",
        "        new_configs[\"model\"][\"eval_dtype\"] = \"float16\"\n",
        "\n",
        "        runner.update_model_configs(new_configs)\n",
        "\n",
        "        try:\n",
        "            prediction = runner.predict(data)\n",
        "            coords = prediction['coordinate'][:, data['input_feature_dict']['atom_to_tokatom_idx'] == 12]\n",
        "            result = parse_output_to_df(coords[:1], seq, target_id)[0]\n",
        "            tm_score, transform = call_usalign(result, truth_df, verbose=0)\n",
        "            train_df.loc[i, 'protenix_tm_score'] = tm_score\n",
        "        except Exception as e:\n",
        "            print(f\"[!] Failed on: {target_id} ➜ {e}\")\n",
        "            continue\n",
        "\n",
        "        if (time.time() - time0) > (12 * 3600 - 360):\n",
        "            break\n",
        "\n",
        "    train_df.to_csv('tm_scores.csv', index=False)\n",
        "    print(\"📈 평균 TM-score:\", train_df['protenix_tm_score'].astype(float).mean())\n",
        "    display(train_df['protenix_tm_score'].astype(float).hist(bins=40))\n"
      ],
      "metadata": {
        "trusted": true,
        "execution": {
          "iopub.status.busy": "2025-05-20T03:45:57.066174Z",
          "iopub.execute_input": "2025-05-20T03:45:57.066559Z",
          "iopub.status.idle": "2025-05-20T03:46:04.611238Z",
          "shell.execute_reply.started": "2025-05-20T03:45:57.066534Z",
          "shell.execute_reply": "2025-05-20T03:46:04.610107Z"
        },
        "id": "RMxp5kmM0B9W",
        "outputId": "412f53dc-ecd4-406c-e81d-977088e823d1"
      },
      "outputs": [
        {
          "name": "stdout",
          "text": "train scheduler 16.0\ninference scheduler 16.0\nDiffusion Module has 16.0\n",
          "output_type": "stream"
        }
      ],
      "execution_count": null
    }
  ]
}